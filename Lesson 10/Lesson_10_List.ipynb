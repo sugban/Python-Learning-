{
 "cells": [
  {
   "cell_type": "markdown",
   "metadata": {
    "id": "K6CMMSnXlIQz"
   },
   "source": [
    "### List\n",
    "\n",
    "* Lists are used to store multiple items in a single variable.\n",
    "* You can store any data type in lists and can carry multiple data types in a list with comma seperator.\n",
    "* We create list by using square brackets **[]**.\n",
    "* Lists are ordered, that means they are in same order as they are specified intially. If you add new items to a list, the new items will be placed at the end of the list.\n",
    "* Lists are mutable, or changeable, that means they can have values added, removed, and changed.\n",
    "* Each item in a list corresponds to an index number, which is an integer value, starting with the index number 0.\n",
    "* Lists allow duplicate values."
   ]
  },
  {
   "cell_type": "code",
   "execution_count": 1,
   "metadata": {
    "id": "eHjKAMMzlIQ8"
   },
   "outputs": [],
   "source": [
    "nums = [10,4,25,67,34]\n",
    "strings = ['Sugandh','Bansal','Python']\n",
    "numstr = ['one',2,3,4.0]"
   ]
  },
  {
   "cell_type": "code",
   "execution_count": 2,
   "metadata": {
    "id": "aUNLlVNilIQ_"
   },
   "outputs": [
    {
     "name": "stdout",
     "output_type": "stream",
     "text": [
      "[10, 4, 25, 67, 34]\n"
     ]
    }
   ],
   "source": [
    "print(nums)"
   ]
  },
  {
   "cell_type": "code",
   "execution_count": 3,
   "metadata": {
    "id": "Zotl1tdtlIRB"
   },
   "outputs": [
    {
     "name": "stdout",
     "output_type": "stream",
     "text": [
      "['Sugandh', 'Bansal', 'Python']\n"
     ]
    }
   ],
   "source": [
    "print(strings)"
   ]
  },
  {
   "cell_type": "code",
   "execution_count": 4,
   "metadata": {
    "id": "NV_jZY7LlIRB"
   },
   "outputs": [
    {
     "name": "stdout",
     "output_type": "stream",
     "text": [
      "['one', 2, 3, 4.0]\n"
     ]
    }
   ],
   "source": [
    "print(numstr)"
   ]
  },
  {
   "cell_type": "markdown",
   "metadata": {
    "id": "sfanUSTHlIRC"
   },
   "source": [
    "## Indexing and slicing"
   ]
  },
  {
   "cell_type": "code",
   "execution_count": 5,
   "metadata": {
    "id": "t9wTEVjqlIRD"
   },
   "outputs": [
    {
     "name": "stdout",
     "output_type": "stream",
     "text": [
      "25\n"
     ]
    }
   ],
   "source": [
    "print(nums[2])"
   ]
  },
  {
   "cell_type": "code",
   "execution_count": 6,
   "metadata": {
    "id": "KwJJTW6_lIRE"
   },
   "outputs": [
    {
     "name": "stdout",
     "output_type": "stream",
     "text": [
      "['Sugandh', 'Bansal']\n"
     ]
    }
   ],
   "source": [
    "print(strings[:2])"
   ]
  },
  {
   "cell_type": "code",
   "execution_count": 7,
   "metadata": {
    "id": "I5t-cokMlIRF"
   },
   "outputs": [
    {
     "name": "stdout",
     "output_type": "stream",
     "text": [
      "4.0\n"
     ]
    }
   ],
   "source": [
    "print(numstr[-1])"
   ]
  },
  {
   "cell_type": "code",
   "execution_count": 9,
   "metadata": {
    "id": "HWETscAklIRI"
   },
   "outputs": [
    {
     "name": "stdout",
     "output_type": "stream",
     "text": [
      "Wrong item\n"
     ]
    }
   ],
   "source": [
    "# checking if item is in the list\n",
    "\n",
    "if 5.0 in numstr:\n",
    "    print('Yes I found 5.0')\n",
    "else:\n",
    "    print('Wrong item')"
   ]
  },
  {
   "cell_type": "markdown",
   "metadata": {
    "id": "ejYJ86oYlIRJ"
   },
   "source": [
    "## Changing the item"
   ]
  },
  {
   "cell_type": "code",
   "execution_count": 10,
   "metadata": {
    "id": "Ks5JC5-BlIRK"
   },
   "outputs": [
    {
     "name": "stdout",
     "output_type": "stream",
     "text": [
      "['one', 2, 3, 'three']\n"
     ]
    }
   ],
   "source": [
    "numstr[3]='three'\n",
    "print(numstr)"
   ]
  },
  {
   "cell_type": "code",
   "execution_count": 11,
   "metadata": {
    "id": "J-cwVqFglIRL"
   },
   "outputs": [
    {
     "name": "stdout",
     "output_type": "stream",
     "text": [
      "['one', 2, 3.0, 'three']\n"
     ]
    }
   ],
   "source": [
    "numstr[-2]=3.0\n",
    "print(numstr)"
   ]
  },
  {
   "cell_type": "markdown",
   "metadata": {
    "id": "TmWiAF-qlIRM"
   },
   "source": [
    "**To insert a new list item, without replacing any of the existing values, we can use the insert() method**"
   ]
  },
  {
   "cell_type": "code",
   "execution_count": 12,
   "metadata": {
    "id": "5dSwC-y-lIRN"
   },
   "outputs": [
    {
     "name": "stdout",
     "output_type": "stream",
     "text": [
      "['one', 'two', 2, 3.0, 'three']\n"
     ]
    }
   ],
   "source": [
    "numstr.insert(1,'two')\n",
    "print(numstr)"
   ]
  },
  {
   "cell_type": "markdown",
   "metadata": {
    "id": "KVKaoterlIRO"
   },
   "source": [
    "**If you insert more items than you replace, the new items will be inserted where you specified, and the remaining items will move accordingly**"
   ]
  },
  {
   "cell_type": "code",
   "execution_count": 13,
   "metadata": {
    "id": "TUZe9matlIRP"
   },
   "outputs": [
    {
     "name": "stdout",
     "output_type": "stream",
     "text": [
      "['one', 'two', 'four', 5.55, 'six', 3.0, 'three']\n"
     ]
    }
   ],
   "source": [
    "numstr[2:3]=['four',5.55,'six']\n",
    "print(numstr)"
   ]
  },
  {
   "cell_type": "markdown",
   "metadata": {
    "id": "rZU2BOMrlIRP"
   },
   "source": [
    "**To add an item to the end of the list, use the append() method**"
   ]
  },
  {
   "cell_type": "code",
   "execution_count": 14,
   "metadata": {
    "id": "NCMQifgvlIRQ"
   },
   "outputs": [
    {
     "name": "stdout",
     "output_type": "stream",
     "text": [
      "['one', 'two', 'four', 5.55, 'six', 3.0, 'three', 7.7]\n"
     ]
    }
   ],
   "source": [
    "numstr.append(7.70)\n",
    "print(numstr)"
   ]
  },
  {
   "cell_type": "markdown",
   "metadata": {
    "id": "E2qKPeGQlIRQ"
   },
   "source": [
    "**To append elements from another list to the current list, use the extend() method**"
   ]
  },
  {
   "cell_type": "code",
   "execution_count": 15,
   "metadata": {
    "id": "V1sW98AqlIRR"
   },
   "outputs": [
    {
     "name": "stdout",
     "output_type": "stream",
     "text": [
      "['one', 'two', 'four', 5.55, 'six', 3.0, 'three', 7.7, 'Sugandh', 'Bansal', 'Python']\n"
     ]
    }
   ],
   "source": [
    "numstr.extend(strings)\n",
    "print(numstr)"
   ]
  },
  {
   "cell_type": "markdown",
   "metadata": {
    "id": "fyY4Iw26lIRS"
   },
   "source": [
    "**The remove() method removes the specified item**"
   ]
  },
  {
   "cell_type": "code",
   "execution_count": 16,
   "metadata": {
    "id": "bouYV_OslIRS"
   },
   "outputs": [
    {
     "name": "stdout",
     "output_type": "stream",
     "text": [
      "['one', 'two', 'four', 5.55, 'six', 3.0, 7.7, 'Sugandh', 'Bansal', 'Python']\n"
     ]
    }
   ],
   "source": [
    "numstr.remove('three')\n",
    "print(numstr)"
   ]
  },
  {
   "cell_type": "markdown",
   "metadata": {
    "id": "ufwlDhI8lIRT"
   },
   "source": [
    "**The pop() method removes the specified index**"
   ]
  },
  {
   "cell_type": "code",
   "execution_count": 17,
   "metadata": {
    "id": "HVgBEgDRlIRU"
   },
   "outputs": [
    {
     "name": "stdout",
     "output_type": "stream",
     "text": [
      "['one', 'two', 'four', 5.55, 'six', 3.0, 7.7, 'Sugandh', 'Python']\n"
     ]
    }
   ],
   "source": [
    "numstr.pop(-2)\n",
    "print(numstr)"
   ]
  },
  {
   "cell_type": "code",
   "execution_count": 18,
   "metadata": {
    "id": "XWrIdidQlIRV"
   },
   "outputs": [
    {
     "name": "stdout",
     "output_type": "stream",
     "text": [
      "['one', 'two', 'four', 5.55, 'six', 3.0, 7.7, 'Sugandh']\n"
     ]
    }
   ],
   "source": [
    "# if you dont mention an index number pop() will remove an item from the end\n",
    "\n",
    "numstr.pop()\n",
    "print(numstr)"
   ]
  },
  {
   "cell_type": "markdown",
   "metadata": {
    "id": "qZeFIXtAlIRW"
   },
   "source": [
    "**The del keyword also removes the specified index**"
   ]
  },
  {
   "cell_type": "code",
   "execution_count": 19,
   "metadata": {
    "id": "t1TOHzeulIRW"
   },
   "outputs": [
    {
     "name": "stdout",
     "output_type": "stream",
     "text": [
      "['one', 'two', 'four', 5.55, 'six', 3.0, 7.7]\n"
     ]
    }
   ],
   "source": [
    "del numstr[-1]\n",
    "print(numstr)"
   ]
  },
  {
   "cell_type": "markdown",
   "metadata": {
    "id": "pyslewYRlIRX"
   },
   "source": [
    "**The del keyword can also delete the list completely**"
   ]
  },
  {
   "cell_type": "code",
   "execution_count": 20,
   "metadata": {
    "id": "bCH5wvXblIRX"
   },
   "outputs": [
    {
     "name": "stdout",
     "output_type": "stream",
     "text": [
      "[10, 4, 25, 67, 34]\n"
     ]
    },
    {
     "ename": "NameError",
     "evalue": "name 'nums' is not defined",
     "output_type": "error",
     "traceback": [
      "\u001b[1;31m---------------------------------------------------------------------------\u001b[0m",
      "\u001b[1;31mNameError\u001b[0m                                 Traceback (most recent call last)",
      "\u001b[1;32m<ipython-input-20-1b118d5d86a4>\u001b[0m in \u001b[0;36m<module>\u001b[1;34m\u001b[0m\n\u001b[0;32m      1\u001b[0m \u001b[0mprint\u001b[0m\u001b[1;33m(\u001b[0m\u001b[0mnums\u001b[0m\u001b[1;33m)\u001b[0m\u001b[1;33m\u001b[0m\u001b[1;33m\u001b[0m\u001b[0m\n\u001b[0;32m      2\u001b[0m \u001b[1;32mdel\u001b[0m \u001b[0mnums\u001b[0m\u001b[1;33m\u001b[0m\u001b[1;33m\u001b[0m\u001b[0m\n\u001b[1;32m----> 3\u001b[1;33m \u001b[0mprint\u001b[0m\u001b[1;33m(\u001b[0m\u001b[1;34m'Deleted'\u001b[0m\u001b[1;33m,\u001b[0m\u001b[0mnums\u001b[0m\u001b[1;33m)\u001b[0m\u001b[1;33m\u001b[0m\u001b[1;33m\u001b[0m\u001b[0m\n\u001b[0m",
      "\u001b[1;31mNameError\u001b[0m: name 'nums' is not defined"
     ]
    }
   ],
   "source": [
    "print(nums)\n",
    "del nums\n",
    "print('Deleted',nums)"
   ]
  },
  {
   "cell_type": "markdown",
   "metadata": {
    "id": "_5rFOogRlIRX"
   },
   "source": [
    "**The clear() method empties the list. The list still remains, but it has no content.**"
   ]
  },
  {
   "cell_type": "code",
   "execution_count": 21,
   "metadata": {
    "id": "oF19C2O4lIRY"
   },
   "outputs": [
    {
     "name": "stdout",
     "output_type": "stream",
     "text": [
      "[]\n"
     ]
    }
   ],
   "source": [
    "strings.clear()\n",
    "print(strings)"
   ]
  },
  {
   "cell_type": "markdown",
   "metadata": {
    "id": "I6yUXslSlIRY"
   },
   "source": [
    "### More methods for Lists\n",
    "\n",
    "| Method | Description | Example |\n",
    "|-----|-----|----|\n",
    "| append() | Adds an element at the end of the list | list.append() |\n",
    "| clear() | Removes all the elements from the list | list.clear() |\n",
    "| copy() | Returns a copy of the list | list.copy() |\n",
    "| count() | Returns the number of elements with the specified value | list.count(item) |\n",
    "| del list_name[] | removes the specific index | del list[] |\n",
    "| del list_name | remove the list completely | del list |\n",
    "| extend() | Add the elements of a list (or any iterable), to the end of the current list | list1.extend(list2) |\n",
    "| index() | Returns the index of the first element with the specified value | list.index(item) |\n",
    "| insert() | Adds an element at the specified position | list.insert(indexvalue, newitem) |\n",
    "| len() | Calculates total length of List | len(list) |\n",
    "| max() | Calculates maximum of all the elements of List | max(list) |\n",
    "| min() | Calculates minimum of all the elements of List | min(list) |\n",
    "| pop() | Removes the element at the specified position | list.pop(indexvalue) |\n",
    "| remove() | Removes the first item with the specified value | list.remove(item) |\n",
    "| reverse() | Reverses the order of the list | list.reverse() |\n",
    "| sort() | Sorts the list | list.sort() |\n",
    "| sum() | Calculates sum of all the elements of List | sum(list) |\n",
    "| count() | Calculates total occurrence of given element of List | list.count(item) |"
   ]
  }
 ],
 "metadata": {
  "colab": {
   "name": "Lesson 10 List.ipynb",
   "provenance": []
  },
  "kernelspec": {
   "display_name": "Python 3",
   "language": "python",
   "name": "python3"
  },
  "language_info": {
   "codemirror_mode": {
    "name": "ipython",
    "version": 3
   },
   "file_extension": ".py",
   "mimetype": "text/x-python",
   "name": "python",
   "nbconvert_exporter": "python",
   "pygments_lexer": "ipython3",
   "version": "3.7.6"
  }
 },
 "nbformat": 4,
 "nbformat_minor": 1
}
