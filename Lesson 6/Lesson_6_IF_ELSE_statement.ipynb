{
 "cells": [
  {
   "cell_type": "markdown",
   "metadata": {
    "id": "XtTlc_KLQz74"
   },
   "source": [
    "### IF Statement\n",
    "\n",
    "**Syntax**\n",
    "<pre>\n",
    "If expression:\n",
    "    statement(s)\n",
    "</pre>\n",
    "\n",
    "\n",
    "* If statemnet checks the given condition is true or not, if it is true then a certain statement or block of statements is executed otherwise not.\n",
    "* If expression must be closed with a semicolon.\n",
    "* There should be indentation (whitespace at the beginning of a line) in the statement after condition is defined by IF to define scope in the code\n",
    "\n",
    "<pre>\n",
    "if expression:\n",
    "   statement1\n",
    "statement2\n",
    "</pre>\n",
    "\n",
    "- Here in this block of code, if the condition is true, if condition will be applied only on statement1 to be inside its block and not on statement2 to be outside the if condition block\n",
    "\n",
    "**Flow chart**\n",
    "\n",
    "<img src=\"https://media.geeksforgeeks.org/wp-content/uploads/if-statement.jpg\" alt=\"image\" width=\"200\"/>\n",
    "\n"
   ]
  },
  {
   "cell_type": "code",
   "execution_count": 2,
   "metadata": {
    "id": "R81zKqqyQz8E"
   },
   "outputs": [
    {
     "name": "stdout",
     "output_type": "stream",
     "text": [
      "Please enter your age: 20\n",
      "You are above 18.\n"
     ]
    }
   ],
   "source": [
    "# checking user's age - if the user is above 18 or not\n",
    "\n",
    "user_age = input('Please enter your age: ')\n",
    "\n",
    "age = int(user_age)\n",
    "\n",
    "if age >= 18:\n",
    "    print('You are above 18.')\n"
   ]
  },
  {
   "cell_type": "code",
   "execution_count": 3,
   "metadata": {
    "id": "lvglbkGAQz8G"
   },
   "outputs": [
    {
     "name": "stdout",
     "output_type": "stream",
     "text": [
      "Please enter your age: 10\n",
      "You are below 18.\n"
     ]
    }
   ],
   "source": [
    "user_age = input('Please enter your age: ')\n",
    "age = int(user_age)\n",
    "\n",
    "if age >= 18:\n",
    "    print('You are above 18.')\n",
    "    \n",
    "print('You are below 18.')"
   ]
  },
  {
   "cell_type": "markdown",
   "metadata": {
    "id": "6jr_sJUWQz8H"
   },
   "source": [
    "### IF...ELSE Statement\n",
    "\n",
    "If a condition is true it will execute a block of statements and if the condition is false it won’t. But what if we want to do something else if the condition is false. Here comes the else statement.\n",
    "\n",
    "**Syntax**\n",
    "<pre>\n",
    "If expression:\n",
    "   statement(s)\n",
    "else:\n",
    "   statement(s)\n",
    "</pre>\n",
    "\n",
    "\n",
    "* If statemnet checks the given condition is true or not, if it is true then a certain statement or block of statements in If block is executed otherwise it will go on else condition statement.\n",
    "* Basically the else keyword catches anything which isn't caught by the preceding condition(s).\n",
    "* If and else must be closed with a semicolon.\n",
    "* There should be indentation (whitespace at the beginning of a line) in the statement after condition is defined, same we did before\n",
    "\n",
    "**Flow chart**\n",
    "\n",
    "<img src=\"https://www.tutorialspoint.com/python/images/if_else_statement.jpg\" alt=\"image\" width=\"200\"/>\n",
    "\n"
   ]
  },
  {
   "cell_type": "code",
   "execution_count": 4,
   "metadata": {
    "id": "5TZx9LPzQz8I"
   },
   "outputs": [
    {
     "name": "stdout",
     "output_type": "stream",
     "text": [
      "Please enter your age: 10\n",
      "You cannot vote this time, you have to wait until you become 18.\n"
     ]
    }
   ],
   "source": [
    "# checking user's age - if the user is above 18 , it will print right to vote, else you have to wait until 18\n",
    "\n",
    "user_age = input('Please enter your age: ')\n",
    "age = int(user_age)\n",
    "\n",
    "if age >= 18:\n",
    "    print('You are above 18. You have right to vote.')\n",
    "else:\n",
    "    print('You cannot vote this time, you have to wait until you become 18.')\n"
   ]
  },
  {
   "cell_type": "markdown",
   "metadata": {
    "id": "yxCgf5X5Qz8J"
   },
   "source": [
    "### IF...ELIF...ELSE Statement\n",
    "\n",
    "The elif statement allows you to check multiple conditions for TRUE or FALSE and execute a block of code as soon as one of the conditions evaluates to TRUE otherwise goes to else.\n",
    "\n",
    "**Syntax**\n",
    "<pre>\n",
    "If expression:\n",
    "   statement(s)\n",
    "elif expression:\n",
    "   statement(s)\n",
    "else:\n",
    "   statement(s)\n",
    "</pre>\n",
    "\n",
    "\n",
    "**Flow chart**\n",
    "\n",
    "<img src=\"https://media.geeksforgeeks.org/wp-content/uploads/if-elseif-ladder.jpg\" alt=\"image\" width=\"500\"/>\n",
    "\n"
   ]
  },
  {
   "cell_type": "code",
   "execution_count": 6,
   "metadata": {
    "id": "Fi7c3FncQz8J"
   },
   "outputs": [
    {
     "name": "stdout",
     "output_type": "stream",
     "text": [
      "Please enter any 2 numbers and operation you want with space: 2 6 %\n",
      "Wrong operation selection!\n",
      "Your answer is:  0\n"
     ]
    }
   ],
   "source": [
    "# lets make a calc\n",
    "\n",
    "num1,num2,op=input('Please enter any 2 numbers and operation you want with space: ').split(' ')\n",
    "\n",
    "num1 = int(num1)\n",
    "num2 = int(num2)\n",
    "ans=0\n",
    "\n",
    "if op == '+':\n",
    "    ans=num1+num2\n",
    "elif op == '-':\n",
    "    ans=num1-num2\n",
    "elif op == '*':\n",
    "    ans=num1*num2\n",
    "elif op == '/':\n",
    "    ans=num1/num2\n",
    "else:\n",
    "    print('Wrong operation selection!')\n",
    "    \n",
    "print('Your answer is: ',ans)"
   ]
  },
  {
   "cell_type": "markdown",
   "metadata": {
    "id": "qivfSWJwQz8L"
   },
   "source": [
    "### Nested IF \n",
    "\n",
    "Nested if statements mean an if statement inside another if statement.\n",
    "\n",
    "**Syntax**\n",
    "\n",
    "<pre>\n",
    "if expression1:\n",
    "   statement1\n",
    "   if expression2: \n",
    "      statement2\n",
    "   back to expression1\n",
    "Outside from If block\n",
    "</pre>\n",
    "\n",
    "* If the first If condition is TRUE only then it will go to check next IF condition. \n",
    "\n",
    "**Flow chart**\n",
    "\n",
    "<img src=\"https://media.geeksforgeeks.org/wp-content/cdn-uploads/20200710163548/Nested_if.jpg\" alt=\"image\" width=\"500\"/>"
   ]
  },
  {
   "cell_type": "code",
   "execution_count": 8,
   "metadata": {
    "id": "S2DIZnc4Qz8M"
   },
   "outputs": [
    {
     "name": "stdout",
     "output_type": "stream",
     "text": [
      "Please enter any 2 numbers and operation you want with space: 2 r *\n",
      "Numbers are not in right format!\n"
     ]
    }
   ],
   "source": [
    "# lets make a calc, with checking operator as well as numbers\n",
    "\n",
    "num1,num2,op=input('Please enter any 2 numbers and operation you want with space: ').split(' ')\n",
    "\n",
    "\n",
    "\n",
    "if num1.isdigit() and num2.isdigit():\n",
    "    num1 = int(num1)\n",
    "    num2 = int(num2)\n",
    "    ans=0\n",
    "    \n",
    "    if op == '+':\n",
    "        ans=num1+num2\n",
    "    elif op == '-':\n",
    "        ans=num1-num2\n",
    "    elif op == '*':\n",
    "        ans=num1*num2\n",
    "    elif op == '/':\n",
    "        ans=num1/num2\n",
    "    else:\n",
    "        print('Wrong operation selection!')\n",
    "        \n",
    "    print('Your answer is: ',ans)\n",
    "    \n",
    "else:\n",
    "    print('Numbers are not in right format!')\n",
    "    \n"
   ]
  },
  {
   "cell_type": "markdown",
   "metadata": {
    "id": "TXpWfyj4Qz8U"
   },
   "source": [
    "### PASS Statement\n",
    "\n",
    "* If statements cannot be empty.\n",
    "* But for some reason, if it is necessary to have an if statement with no content, put in the pass statement to avoid getting an error.\n",
    "\n",
    "**Syntax**\n",
    "\n",
    "<pre>\n",
    "if expression:\n",
    "    pass\n",
    "</pre>"
   ]
  },
  {
   "cell_type": "code",
   "execution_count": 9,
   "metadata": {
    "id": "Akwl_B9TQz8V"
   },
   "outputs": [],
   "source": [
    "num = 20\n",
    "\n",
    "if num >= 20:\n",
    "    pass"
   ]
  },
  {
   "cell_type": "code",
   "execution_count": null,
   "metadata": {},
   "outputs": [],
   "source": []
  }
 ],
 "metadata": {
  "colab": {
   "name": "Lesson_6_IF_ELSE_statement.ipynb",
   "provenance": []
  },
  "kernelspec": {
   "display_name": "Python 3",
   "language": "python",
   "name": "python3"
  },
  "language_info": {
   "codemirror_mode": {
    "name": "ipython",
    "version": 3
   },
   "file_extension": ".py",
   "mimetype": "text/x-python",
   "name": "python",
   "nbconvert_exporter": "python",
   "pygments_lexer": "ipython3",
   "version": "3.7.6"
  }
 },
 "nbformat": 4,
 "nbformat_minor": 1
}
