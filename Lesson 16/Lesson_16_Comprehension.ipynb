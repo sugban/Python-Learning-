{
 "cells": [
  {
   "cell_type": "markdown",
   "metadata": {
    "id": "DwP1yOKZrtTp"
   },
   "source": [
    "### Comrehension\n",
    "\n",
    "* Comprehension offers a shorter syntax when you want to create a new sequence from a sequence \n",
    "* Comprehension is a powerful concept and can be used to substitute for loops\n",
    " \n",
    " - We'll talk about 3 types of comprehensions here:\n",
    "\n",
    "   1. List Comprehensions\n",
    "   2. Dictionary Comprehensions\n",
    "   3. Set Comprehensions"
   ]
  },
  {
   "cell_type": "markdown",
   "metadata": {
    "id": "69L2YCp3rtTv"
   },
   "source": [
    "### 1. List Comprehension\n",
    "\n",
    "- Syntax:\n",
    " <pre>\n",
    " compre_list = [var for var in list if condition]"
   ]
  },
  {
   "cell_type": "code",
   "execution_count": 1,
   "metadata": {
    "id": "QuB-a92yrtTx"
   },
   "outputs": [
    {
     "data": {
      "text/plain": [
       "[0, 1, 2, 3, 4]"
      ]
     },
     "execution_count": 1,
     "metadata": {},
     "output_type": "execute_result"
    }
   ],
   "source": [
    "# creating a list with range function \n",
    "\n",
    "num=list(range(0,5))\n",
    "num"
   ]
  },
  {
   "cell_type": "code",
   "execution_count": 2,
   "metadata": {
    "id": "joDMWbX6rtTz"
   },
   "outputs": [
    {
     "name": "stdout",
     "output_type": "stream",
     "text": [
      "[0, 1, 4, 9, 16]\n"
     ]
    }
   ],
   "source": [
    "# calculate power of 2 with each value in the list\n",
    "\n",
    "power=[]\n",
    "\n",
    "for i in num:\n",
    "    power.append(i**2)\n",
    "print(power)"
   ]
  },
  {
   "cell_type": "code",
   "execution_count": 3,
   "metadata": {
    "id": "8DLhMmkXrtT0"
   },
   "outputs": [
    {
     "data": {
      "text/plain": [
       "[0, 1, 4, 9, 16]"
      ]
     },
     "execution_count": 3,
     "metadata": {},
     "output_type": "execute_result"
    }
   ],
   "source": [
    "# with list comprehension\n",
    "\n",
    "power = [i**2 for i in num]\n",
    "power"
   ]
  },
  {
   "cell_type": "code",
   "execution_count": 4,
   "metadata": {
    "id": "x5-jB7vVrtT0"
   },
   "outputs": [
    {
     "name": "stdout",
     "output_type": "stream",
     "text": [
      "[0, 2, 4]\n"
     ]
    }
   ],
   "source": [
    "# check each value in the given list is even \n",
    "\n",
    "even=[]\n",
    "\n",
    "for i in num:\n",
    "    if i%2 == 0:\n",
    "        even.append(i)\n",
    "\n",
    "print(even)"
   ]
  },
  {
   "cell_type": "code",
   "execution_count": 5,
   "metadata": {
    "id": "wng1R9UNrtT1"
   },
   "outputs": [
    {
     "name": "stdout",
     "output_type": "stream",
     "text": [
      "[0, 2, 4]\n"
     ]
    }
   ],
   "source": [
    "# with list comprehension\n",
    "\n",
    "even=[i for i in num if i%2 == 0]\n",
    "print(even)"
   ]
  },
  {
   "cell_type": "markdown",
   "metadata": {
    "id": "kmkubgQVrtT2"
   },
   "source": [
    "**so here the syntax makes the code smaller and also the original list doesn't change** <br>\n",
    "**Syntax -**\n",
    "<pre>\n",
    "newlist = [item for item in list if condition == True]\n",
    "</pre>"
   ]
  },
  {
   "cell_type": "markdown",
   "metadata": {
    "id": "Dp5MvX5ArtT3"
   },
   "source": [
    "### Nested list comprehension\n",
    "\n",
    "Nested List Comprehensions are nothing but a list comprehension within another list comprehension which is quite similar to nested for loops"
   ]
  },
  {
   "cell_type": "code",
   "execution_count": 7,
   "metadata": {
    "id": "ZYdpHjs3rtT4"
   },
   "outputs": [
    {
     "name": "stdout",
     "output_type": "stream",
     "text": [
      "[[0, 1, 2, 3], [0, 1, 2, 3], [0, 1, 2, 3], [0, 1, 2, 3], [0, 1, 2, 3]]\n"
     ]
    }
   ],
   "source": [
    "# creating a matrix\n",
    "\n",
    "matrix = []\n",
    "  \n",
    "for i in range(5):\n",
    "      \n",
    "    # an empty sublist inside the list\n",
    "    matrix.append([])\n",
    "      \n",
    "    for j in range(4):\n",
    "        matrix[i].append(j)\n",
    "          \n",
    "print(matrix)"
   ]
  },
  {
   "cell_type": "code",
   "execution_count": 8,
   "metadata": {
    "id": "u6KQExjkrtT4"
   },
   "outputs": [
    {
     "name": "stdout",
     "output_type": "stream",
     "text": [
      "[[0, 1, 2, 3], [0, 1, 2, 3], [0, 1, 2, 3], [0, 1, 2, 3], [0, 1, 2, 3]]\n"
     ]
    }
   ],
   "source": [
    "# Nested list comprehension\n",
    "matrix = [[x for x in range(4)] for i in range(5)]\n",
    "  \n",
    "print(matrix)"
   ]
  },
  {
   "cell_type": "markdown",
   "metadata": {
    "id": "fRqjxqqzrtT5"
   },
   "source": [
    "____________________________________________________________\n",
    "If you get a matrix like\n",
    "<pre>\n",
    "[[1,2,3,4],\n",
    " [5,6,7,8],\n",
    " [9,10,11,12]]\n",
    "</pre>\n",
    "And you need to flatten the list<br>\n",
    "[1,2,3,4,5,6,7,8,9,10,11,12]"
   ]
  },
  {
   "cell_type": "code",
   "execution_count": 9,
   "metadata": {
    "id": "HWofAOvKrtT6"
   },
   "outputs": [
    {
     "name": "stdout",
     "output_type": "stream",
     "text": [
      "[1, 2, 3, 4, 5, 6, 7, 8, 9, 10, 11, 12]\n"
     ]
    }
   ],
   "source": [
    "matrix = [[1,2,3,4], [5,6,7,8], [9,10,11,12]]\n",
    "  \n",
    "flatten_matrix = []\n",
    "  \n",
    "for sublist in matrix:\n",
    "    for item in sublist:\n",
    "        flatten_matrix.append(item)\n",
    "          \n",
    "print(flatten_matrix)"
   ]
  },
  {
   "cell_type": "code",
   "execution_count": 10,
   "metadata": {
    "id": "q2brfGz1rtT6"
   },
   "outputs": [
    {
     "name": "stdout",
     "output_type": "stream",
     "text": [
      "[1, 2, 3, 4, 5, 6, 7, 8, 9, 10, 11, 12]\n"
     ]
    }
   ],
   "source": [
    "# Nested List Comprehension to flatten a given matrix or nested list\n",
    "\n",
    "flatten_matrix = [item for sublist in matrix for item in sublist]\n",
    "  \n",
    "print(flatten_matrix)"
   ]
  },
  {
   "cell_type": "markdown",
   "metadata": {
    "id": "-dNNkHaTrtT7"
   },
   "source": [
    "### 2. Dictionary Comprehension\n",
    "\n",
    "**Syntax**\n",
    "<pre>\n",
    "compr_dict = {key:value for (key, value) in sequence}\n",
    "</pre>"
   ]
  },
  {
   "cell_type": "code",
   "execution_count": 11,
   "metadata": {
    "id": "G_GzS3BIrtT7"
   },
   "outputs": [
    {
     "name": "stdout",
     "output_type": "stream",
     "text": [
      "{0: 0, 1: 3, 2: 6, 3: 9, 4: 12}\n"
     ]
    }
   ],
   "source": [
    "# dictionary from a list\n",
    "\n",
    "num_list = [x for x in range(5)]\n",
    "\n",
    "compr_dict = {var:var * 3 for var in num_list }\n",
    "\n",
    "print(compr_dict)"
   ]
  },
  {
   "cell_type": "code",
   "execution_count": 12,
   "metadata": {
    "id": "yE-hPmFbrtT8"
   },
   "outputs": [
    {
     "name": "stdout",
     "output_type": "stream",
     "text": [
      "{0: 'Mon', 1: 'Tue', 2: 'Wed', 3: 'Thu', 4: 'Fri'}\n"
     ]
    }
   ],
   "source": [
    "# dictionary from two different lists\n",
    "\n",
    "days = ['Mon','Tue','Wed','Thu','Fri']\n",
    "\n",
    "new_dict ={key:value for (key, value) in zip(num, days)}\n",
    "\n",
    "print(new_dict)"
   ]
  },
  {
   "cell_type": "code",
   "execution_count": 13,
   "metadata": {
    "id": "BZNDLp9mrtT8"
   },
   "outputs": [
    {
     "name": "stdout",
     "output_type": "stream",
     "text": [
      "{'a': 12, 'd': 14, 'e': 5}\n"
     ]
    }
   ],
   "source": [
    "# with condition dictionary comprehension\n",
    "\n",
    "num_dict = {'a': 12, 'b': 2, 'c': 1, 'd': 14, 'e': 5}\n",
    "\n",
    "# Check for each value is greater than 2 in given dictionary\n",
    "\n",
    "output_dict = {key:value for (key,value) in num_dict.items() if value > 2}\n",
    "\n",
    "print(output_dict)"
   ]
  },
  {
   "cell_type": "markdown",
   "metadata": {
    "id": "Wzj0D1jWrtT9"
   },
   "source": [
    "### 3. Set Comprehension"
   ]
  },
  {
   "cell_type": "code",
   "execution_count": 14,
   "metadata": {
    "id": "sZs6mnbMrtT9"
   },
   "outputs": [
    {
     "name": "stdout",
     "output_type": "stream",
     "text": [
      "{0, 3, 6, 9, 12}\n"
     ]
    }
   ],
   "source": [
    "compr_set = {item*3 for item in num_list}\n",
    "print(compr_set)"
   ]
  },
  {
   "cell_type": "code",
   "execution_count": 15,
   "metadata": {
    "id": "Ch3cX3JGrtT-"
   },
   "outputs": [
    {
     "name": "stdout",
     "output_type": "stream",
     "text": [
      "The original list:  [0, 1, 2, 3, 4]\n",
      "{0, 12, 6}\n"
     ]
    }
   ],
   "source": [
    "# now if you want to check that the value in num_list is also even\n",
    "\n",
    "print('The original list: ',num_list)\n",
    "\n",
    "new_set = {item*3 for item in num_list if item % 2 == 0}\n",
    "print(new_set)"
   ]
  },
  {
   "cell_type": "code",
   "execution_count": null,
   "metadata": {},
   "outputs": [],
   "source": []
  }
 ],
 "metadata": {
  "colab": {
   "name": "Lesson 16 Comprehension.ipynb",
   "provenance": []
  },
  "kernelspec": {
   "display_name": "Python 3",
   "language": "python",
   "name": "python3"
  },
  "language_info": {
   "codemirror_mode": {
    "name": "ipython",
    "version": 3
   },
   "file_extension": ".py",
   "mimetype": "text/x-python",
   "name": "python",
   "nbconvert_exporter": "python",
   "pygments_lexer": "ipython3",
   "version": "3.7.6"
  }
 },
 "nbformat": 4,
 "nbformat_minor": 1
}
