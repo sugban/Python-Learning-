{
  "nbformat": 4,
  "nbformat_minor": 0,
  "metadata": {
    "colab": {
      "name": "Lesson 30 Plotly.ipynb",
      "provenance": [],
      "collapsed_sections": [],
      "authorship_tag": "ABX9TyOOJSzZOG1gyEtc03RcHEul",
      "include_colab_link": true
    },
    "kernelspec": {
      "name": "python3",
      "display_name": "Python 3"
    },
    "language_info": {
      "name": "python"
    }
  },
  "cells": [
    {
      "cell_type": "markdown",
      "metadata": {
        "id": "view-in-github",
        "colab_type": "text"
      },
      "source": [
        "<a href=\"https://colab.research.google.com/github/sugban/Python-Learning-/blob/main/Lesson%2030/Lesson_30_Plotly.ipynb\" target=\"_parent\"><img src=\"https://colab.research.google.com/assets/colab-badge.svg\" alt=\"Open In Colab\"/></a>"
      ]
    },
    {
      "cell_type": "markdown",
      "source": [
        "### Plotly\n",
        "* Plotly is a library, which is used to design graphs, especially interactive graphs\n",
        "* Graphs can be saved offline as well\n",
        "* Plotly is useful in the field of statistical analysis, data visualization etc.\n",
        "* **plotly.graph.objects** module contains the objects that are responsible for constructing plots (figure, layout, data, and plot definitions such as scatter plots and line charts)\n",
        "* To create easy to style and an entire figure at once, we use **plotly.express**\n",
        "* We can import plotly in different ways:\n",
        "<pre>\n",
        "import plotly\n",
        "import plotly.graph_objects as go\n",
        "import plotly.express as px\n",
        "</pre>\n"
      ],
      "metadata": {
        "id": "CYshEEcArcgt"
      }
    },
    {
      "cell_type": "code",
      "execution_count": 1,
      "metadata": {
        "id": "PIyqmuMHlcS-"
      },
      "outputs": [],
      "source": [
        "import numpy as np\n",
        "import pandas as pd\n",
        "import plotly\n",
        "import plotly.graph_objects as go\n",
        "import plotly.express as px"
      ]
    },
    {
      "cell_type": "code",
      "source": [
        "# reading csv file and creating a dataframe\n",
        "\n",
        "df = pd.read_csv('nba.csv')\n",
        "df"
      ],
      "metadata": {
        "id": "42lpSEpoJYDv",
        "colab": {
          "base_uri": "https://localhost:8080/",
          "height": 423
        },
        "outputId": "255408e0-468c-4390-883c-742607ce5268"
      },
      "execution_count": 2,
      "outputs": [
        {
          "output_type": "execute_result",
          "data": {
            "text/html": [
              "\n",
              "  <div id=\"df-6e8fd321-1879-4b97-8b0d-9dd295e42a9f\">\n",
              "    <div class=\"colab-df-container\">\n",
              "      <div>\n",
              "<style scoped>\n",
              "    .dataframe tbody tr th:only-of-type {\n",
              "        vertical-align: middle;\n",
              "    }\n",
              "\n",
              "    .dataframe tbody tr th {\n",
              "        vertical-align: top;\n",
              "    }\n",
              "\n",
              "    .dataframe thead th {\n",
              "        text-align: right;\n",
              "    }\n",
              "</style>\n",
              "<table border=\"1\" class=\"dataframe\">\n",
              "  <thead>\n",
              "    <tr style=\"text-align: right;\">\n",
              "      <th></th>\n",
              "      <th>Name</th>\n",
              "      <th>Team</th>\n",
              "      <th>Number</th>\n",
              "      <th>Position</th>\n",
              "      <th>Age</th>\n",
              "      <th>Height</th>\n",
              "      <th>Weight</th>\n",
              "      <th>College</th>\n",
              "      <th>Salary</th>\n",
              "    </tr>\n",
              "  </thead>\n",
              "  <tbody>\n",
              "    <tr>\n",
              "      <th>0</th>\n",
              "      <td>Avery Bradley</td>\n",
              "      <td>Boston Celtics</td>\n",
              "      <td>0.0</td>\n",
              "      <td>PG</td>\n",
              "      <td>25.0</td>\n",
              "      <td>6-2</td>\n",
              "      <td>180.0</td>\n",
              "      <td>Texas</td>\n",
              "      <td>7730337.0</td>\n",
              "    </tr>\n",
              "    <tr>\n",
              "      <th>1</th>\n",
              "      <td>Jae Crowder</td>\n",
              "      <td>Boston Celtics</td>\n",
              "      <td>99.0</td>\n",
              "      <td>SF</td>\n",
              "      <td>25.0</td>\n",
              "      <td>6-6</td>\n",
              "      <td>235.0</td>\n",
              "      <td>Marquette</td>\n",
              "      <td>6796117.0</td>\n",
              "    </tr>\n",
              "    <tr>\n",
              "      <th>2</th>\n",
              "      <td>John Holland</td>\n",
              "      <td>Boston Celtics</td>\n",
              "      <td>30.0</td>\n",
              "      <td>SG</td>\n",
              "      <td>27.0</td>\n",
              "      <td>6-5</td>\n",
              "      <td>205.0</td>\n",
              "      <td>Boston University</td>\n",
              "      <td>NaN</td>\n",
              "    </tr>\n",
              "    <tr>\n",
              "      <th>3</th>\n",
              "      <td>R.J. Hunter</td>\n",
              "      <td>Boston Celtics</td>\n",
              "      <td>28.0</td>\n",
              "      <td>SG</td>\n",
              "      <td>22.0</td>\n",
              "      <td>6-5</td>\n",
              "      <td>185.0</td>\n",
              "      <td>Georgia State</td>\n",
              "      <td>1148640.0</td>\n",
              "    </tr>\n",
              "    <tr>\n",
              "      <th>4</th>\n",
              "      <td>Jonas Jerebko</td>\n",
              "      <td>Boston Celtics</td>\n",
              "      <td>8.0</td>\n",
              "      <td>PF</td>\n",
              "      <td>29.0</td>\n",
              "      <td>6-10</td>\n",
              "      <td>231.0</td>\n",
              "      <td>NaN</td>\n",
              "      <td>5000000.0</td>\n",
              "    </tr>\n",
              "    <tr>\n",
              "      <th>...</th>\n",
              "      <td>...</td>\n",
              "      <td>...</td>\n",
              "      <td>...</td>\n",
              "      <td>...</td>\n",
              "      <td>...</td>\n",
              "      <td>...</td>\n",
              "      <td>...</td>\n",
              "      <td>...</td>\n",
              "      <td>...</td>\n",
              "    </tr>\n",
              "    <tr>\n",
              "      <th>453</th>\n",
              "      <td>Shelvin Mack</td>\n",
              "      <td>Utah Jazz</td>\n",
              "      <td>8.0</td>\n",
              "      <td>PG</td>\n",
              "      <td>26.0</td>\n",
              "      <td>6-3</td>\n",
              "      <td>203.0</td>\n",
              "      <td>Butler</td>\n",
              "      <td>2433333.0</td>\n",
              "    </tr>\n",
              "    <tr>\n",
              "      <th>454</th>\n",
              "      <td>Raul Neto</td>\n",
              "      <td>Utah Jazz</td>\n",
              "      <td>25.0</td>\n",
              "      <td>PG</td>\n",
              "      <td>24.0</td>\n",
              "      <td>6-1</td>\n",
              "      <td>179.0</td>\n",
              "      <td>NaN</td>\n",
              "      <td>900000.0</td>\n",
              "    </tr>\n",
              "    <tr>\n",
              "      <th>455</th>\n",
              "      <td>Tibor Pleiss</td>\n",
              "      <td>Utah Jazz</td>\n",
              "      <td>21.0</td>\n",
              "      <td>C</td>\n",
              "      <td>26.0</td>\n",
              "      <td>7-3</td>\n",
              "      <td>256.0</td>\n",
              "      <td>NaN</td>\n",
              "      <td>2900000.0</td>\n",
              "    </tr>\n",
              "    <tr>\n",
              "      <th>456</th>\n",
              "      <td>Jeff Withey</td>\n",
              "      <td>Utah Jazz</td>\n",
              "      <td>24.0</td>\n",
              "      <td>C</td>\n",
              "      <td>26.0</td>\n",
              "      <td>7-0</td>\n",
              "      <td>231.0</td>\n",
              "      <td>Kansas</td>\n",
              "      <td>947276.0</td>\n",
              "    </tr>\n",
              "    <tr>\n",
              "      <th>457</th>\n",
              "      <td>NaN</td>\n",
              "      <td>NaN</td>\n",
              "      <td>NaN</td>\n",
              "      <td>NaN</td>\n",
              "      <td>NaN</td>\n",
              "      <td>NaN</td>\n",
              "      <td>NaN</td>\n",
              "      <td>NaN</td>\n",
              "      <td>NaN</td>\n",
              "    </tr>\n",
              "  </tbody>\n",
              "</table>\n",
              "<p>458 rows × 9 columns</p>\n",
              "</div>\n",
              "      <button class=\"colab-df-convert\" onclick=\"convertToInteractive('df-6e8fd321-1879-4b97-8b0d-9dd295e42a9f')\"\n",
              "              title=\"Convert this dataframe to an interactive table.\"\n",
              "              style=\"display:none;\">\n",
              "        \n",
              "  <svg xmlns=\"http://www.w3.org/2000/svg\" height=\"24px\"viewBox=\"0 0 24 24\"\n",
              "       width=\"24px\">\n",
              "    <path d=\"M0 0h24v24H0V0z\" fill=\"none\"/>\n",
              "    <path d=\"M18.56 5.44l.94 2.06.94-2.06 2.06-.94-2.06-.94-.94-2.06-.94 2.06-2.06.94zm-11 1L8.5 8.5l.94-2.06 2.06-.94-2.06-.94L8.5 2.5l-.94 2.06-2.06.94zm10 10l.94 2.06.94-2.06 2.06-.94-2.06-.94-.94-2.06-.94 2.06-2.06.94z\"/><path d=\"M17.41 7.96l-1.37-1.37c-.4-.4-.92-.59-1.43-.59-.52 0-1.04.2-1.43.59L10.3 9.45l-7.72 7.72c-.78.78-.78 2.05 0 2.83L4 21.41c.39.39.9.59 1.41.59.51 0 1.02-.2 1.41-.59l7.78-7.78 2.81-2.81c.8-.78.8-2.07 0-2.86zM5.41 20L4 18.59l7.72-7.72 1.47 1.35L5.41 20z\"/>\n",
              "  </svg>\n",
              "      </button>\n",
              "      \n",
              "  <style>\n",
              "    .colab-df-container {\n",
              "      display:flex;\n",
              "      flex-wrap:wrap;\n",
              "      gap: 12px;\n",
              "    }\n",
              "\n",
              "    .colab-df-convert {\n",
              "      background-color: #E8F0FE;\n",
              "      border: none;\n",
              "      border-radius: 50%;\n",
              "      cursor: pointer;\n",
              "      display: none;\n",
              "      fill: #1967D2;\n",
              "      height: 32px;\n",
              "      padding: 0 0 0 0;\n",
              "      width: 32px;\n",
              "    }\n",
              "\n",
              "    .colab-df-convert:hover {\n",
              "      background-color: #E2EBFA;\n",
              "      box-shadow: 0px 1px 2px rgba(60, 64, 67, 0.3), 0px 1px 3px 1px rgba(60, 64, 67, 0.15);\n",
              "      fill: #174EA6;\n",
              "    }\n",
              "\n",
              "    [theme=dark] .colab-df-convert {\n",
              "      background-color: #3B4455;\n",
              "      fill: #D2E3FC;\n",
              "    }\n",
              "\n",
              "    [theme=dark] .colab-df-convert:hover {\n",
              "      background-color: #434B5C;\n",
              "      box-shadow: 0px 1px 3px 1px rgba(0, 0, 0, 0.15);\n",
              "      filter: drop-shadow(0px 1px 2px rgba(0, 0, 0, 0.3));\n",
              "      fill: #FFFFFF;\n",
              "    }\n",
              "  </style>\n",
              "\n",
              "      <script>\n",
              "        const buttonEl =\n",
              "          document.querySelector('#df-6e8fd321-1879-4b97-8b0d-9dd295e42a9f button.colab-df-convert');\n",
              "        buttonEl.style.display =\n",
              "          google.colab.kernel.accessAllowed ? 'block' : 'none';\n",
              "\n",
              "        async function convertToInteractive(key) {\n",
              "          const element = document.querySelector('#df-6e8fd321-1879-4b97-8b0d-9dd295e42a9f');\n",
              "          const dataTable =\n",
              "            await google.colab.kernel.invokeFunction('convertToInteractive',\n",
              "                                                     [key], {});\n",
              "          if (!dataTable) return;\n",
              "\n",
              "          const docLinkHtml = 'Like what you see? Visit the ' +\n",
              "            '<a target=\"_blank\" href=https://colab.research.google.com/notebooks/data_table.ipynb>data table notebook</a>'\n",
              "            + ' to learn more about interactive tables.';\n",
              "          element.innerHTML = '';\n",
              "          dataTable['output_type'] = 'display_data';\n",
              "          await google.colab.output.renderOutput(dataTable, element);\n",
              "          const docLink = document.createElement('div');\n",
              "          docLink.innerHTML = docLinkHtml;\n",
              "          element.appendChild(docLink);\n",
              "        }\n",
              "      </script>\n",
              "    </div>\n",
              "  </div>\n",
              "  "
            ],
            "text/plain": [
              "              Name            Team  ...            College     Salary\n",
              "0    Avery Bradley  Boston Celtics  ...              Texas  7730337.0\n",
              "1      Jae Crowder  Boston Celtics  ...          Marquette  6796117.0\n",
              "2     John Holland  Boston Celtics  ...  Boston University        NaN\n",
              "3      R.J. Hunter  Boston Celtics  ...      Georgia State  1148640.0\n",
              "4    Jonas Jerebko  Boston Celtics  ...                NaN  5000000.0\n",
              "..             ...             ...  ...                ...        ...\n",
              "453   Shelvin Mack       Utah Jazz  ...             Butler  2433333.0\n",
              "454      Raul Neto       Utah Jazz  ...                NaN   900000.0\n",
              "455   Tibor Pleiss       Utah Jazz  ...                NaN  2900000.0\n",
              "456    Jeff Withey       Utah Jazz  ...             Kansas   947276.0\n",
              "457            NaN             NaN  ...                NaN        NaN\n",
              "\n",
              "[458 rows x 9 columns]"
            ]
          },
          "metadata": {},
          "execution_count": 2
        }
      ]
    },
    {
      "cell_type": "code",
      "source": [
        "df.info()"
      ],
      "metadata": {
        "id": "MrJIaUtFKdGx",
        "colab": {
          "base_uri": "https://localhost:8080/"
        },
        "outputId": "c840899d-4707-4c16-b65c-1645763ef434"
      },
      "execution_count": 3,
      "outputs": [
        {
          "output_type": "stream",
          "name": "stdout",
          "text": [
            "<class 'pandas.core.frame.DataFrame'>\n",
            "RangeIndex: 458 entries, 0 to 457\n",
            "Data columns (total 9 columns):\n",
            " #   Column    Non-Null Count  Dtype  \n",
            "---  ------    --------------  -----  \n",
            " 0   Name      457 non-null    object \n",
            " 1   Team      457 non-null    object \n",
            " 2   Number    457 non-null    float64\n",
            " 3   Position  457 non-null    object \n",
            " 4   Age       457 non-null    float64\n",
            " 5   Height    457 non-null    object \n",
            " 6   Weight    457 non-null    float64\n",
            " 7   College   373 non-null    object \n",
            " 8   Salary    446 non-null    float64\n",
            "dtypes: float64(4), object(5)\n",
            "memory usage: 32.3+ KB\n"
          ]
        }
      ]
    },
    {
      "cell_type": "code",
      "source": [
        "# how to handle missing value in Pandas\n",
        "\n",
        "df.dropna(inplace=True)  # it will drop all the rows in which any column has missing value\n",
        "df.info()"
      ],
      "metadata": {
        "id": "WTWgF_9BPEG2",
        "colab": {
          "base_uri": "https://localhost:8080/"
        },
        "outputId": "fea43221-52ab-47a3-b592-ea1b9676abe3"
      },
      "execution_count": 4,
      "outputs": [
        {
          "output_type": "stream",
          "name": "stdout",
          "text": [
            "<class 'pandas.core.frame.DataFrame'>\n",
            "Int64Index: 364 entries, 0 to 456\n",
            "Data columns (total 9 columns):\n",
            " #   Column    Non-Null Count  Dtype  \n",
            "---  ------    --------------  -----  \n",
            " 0   Name      364 non-null    object \n",
            " 1   Team      364 non-null    object \n",
            " 2   Number    364 non-null    float64\n",
            " 3   Position  364 non-null    object \n",
            " 4   Age       364 non-null    float64\n",
            " 5   Height    364 non-null    object \n",
            " 6   Weight    364 non-null    float64\n",
            " 7   College   364 non-null    object \n",
            " 8   Salary    364 non-null    float64\n",
            "dtypes: float64(4), object(5)\n",
            "memory usage: 28.4+ KB\n"
          ]
        }
      ]
    },
    {
      "cell_type": "markdown",
      "source": [
        "1. Basic Charts"
      ],
      "metadata": {
        "id": "SGcjjT37dlZo"
      }
    },
    {
      "cell_type": "code",
      "source": [
        "# line chart\n",
        "\n",
        "fig = px.line(df, x=df['Height'].value_counts(), y=df['Height'].unique(), title='Number of participants with different height segments')\n",
        "fig.show()"
      ],
      "metadata": {
        "id": "LFFQHIy9hgeL",
        "colab": {
          "base_uri": "https://localhost:8080/",
          "height": 542
        },
        "outputId": "1e1e5478-4dca-4b6e-c520-a51806418d31"
      },
      "execution_count": 5,
      "outputs": [
        {
          "output_type": "display_data",
          "data": {
            "text/html": [
              "<html>\n",
              "<head><meta charset=\"utf-8\" /></head>\n",
              "<body>\n",
              "    <div>            <script src=\"https://cdnjs.cloudflare.com/ajax/libs/mathjax/2.7.5/MathJax.js?config=TeX-AMS-MML_SVG\"></script><script type=\"text/javascript\">if (window.MathJax) {MathJax.Hub.Config({SVG: {font: \"STIX-Web\"}});}</script>                <script type=\"text/javascript\">window.PlotlyConfig = {MathJaxConfig: 'local'};</script>\n",
              "        <script src=\"https://cdn.plot.ly/plotly-2.8.3.min.js\"></script>                <div id=\"c97df9dd-f69f-4436-b301-4547eeb65600\" class=\"plotly-graph-div\" style=\"height:525px; width:100%;\"></div>            <script type=\"text/javascript\">                                    window.PLOTLYENV=window.PLOTLYENV || {};                                    if (document.getElementById(\"c97df9dd-f69f-4436-b301-4547eeb65600\")) {                    Plotly.newPlot(                        \"c97df9dd-f69f-4436-b301-4547eeb65600\",                        [{\"hovertemplate\":\"x=%{x}<br>y=%{y}<extra></extra>\",\"legendgroup\":\"\",\"line\":{\"color\":\"#636efa\",\"dash\":\"solid\"},\"marker\":{\"symbol\":\"circle\"},\"mode\":\"lines\",\"name\":\"\",\"orientation\":\"h\",\"showlegend\":false,\"x\":[49,37,36,36,32,29,29,28,25,20,13,12,10,3,3,1,1],\"xaxis\":\"x\",\"y\":[\"6-2\",\"6-6\",\"6-5\",\"6-8\",\"7-0\",\"6-4\",\"6-9\",\"5-9\",\"6-7\",\"6-3\",\"5-11\",\"6-11\",\"6-10\",\"6-0\",\"7-2\",\"6-1\",\"7-1\"],\"yaxis\":\"y\",\"type\":\"scatter\"}],                        {\"template\":{\"data\":{\"bar\":[{\"error_x\":{\"color\":\"#2a3f5f\"},\"error_y\":{\"color\":\"#2a3f5f\"},\"marker\":{\"line\":{\"color\":\"#E5ECF6\",\"width\":0.5},\"pattern\":{\"fillmode\":\"overlay\",\"size\":10,\"solidity\":0.2}},\"type\":\"bar\"}],\"barpolar\":[{\"marker\":{\"line\":{\"color\":\"#E5ECF6\",\"width\":0.5},\"pattern\":{\"fillmode\":\"overlay\",\"size\":10,\"solidity\":0.2}},\"type\":\"barpolar\"}],\"carpet\":[{\"aaxis\":{\"endlinecolor\":\"#2a3f5f\",\"gridcolor\":\"white\",\"linecolor\":\"white\",\"minorgridcolor\":\"white\",\"startlinecolor\":\"#2a3f5f\"},\"baxis\":{\"endlinecolor\":\"#2a3f5f\",\"gridcolor\":\"white\",\"linecolor\":\"white\",\"minorgridcolor\":\"white\",\"startlinecolor\":\"#2a3f5f\"},\"type\":\"carpet\"}],\"choropleth\":[{\"colorbar\":{\"outlinewidth\":0,\"ticks\":\"\"},\"type\":\"choropleth\"}],\"contour\":[{\"colorbar\":{\"outlinewidth\":0,\"ticks\":\"\"},\"colorscale\":[[0.0,\"#0d0887\"],[0.1111111111111111,\"#46039f\"],[0.2222222222222222,\"#7201a8\"],[0.3333333333333333,\"#9c179e\"],[0.4444444444444444,\"#bd3786\"],[0.5555555555555556,\"#d8576b\"],[0.6666666666666666,\"#ed7953\"],[0.7777777777777778,\"#fb9f3a\"],[0.8888888888888888,\"#fdca26\"],[1.0,\"#f0f921\"]],\"type\":\"contour\"}],\"contourcarpet\":[{\"colorbar\":{\"outlinewidth\":0,\"ticks\":\"\"},\"type\":\"contourcarpet\"}],\"heatmap\":[{\"colorbar\":{\"outlinewidth\":0,\"ticks\":\"\"},\"colorscale\":[[0.0,\"#0d0887\"],[0.1111111111111111,\"#46039f\"],[0.2222222222222222,\"#7201a8\"],[0.3333333333333333,\"#9c179e\"],[0.4444444444444444,\"#bd3786\"],[0.5555555555555556,\"#d8576b\"],[0.6666666666666666,\"#ed7953\"],[0.7777777777777778,\"#fb9f3a\"],[0.8888888888888888,\"#fdca26\"],[1.0,\"#f0f921\"]],\"type\":\"heatmap\"}],\"heatmapgl\":[{\"colorbar\":{\"outlinewidth\":0,\"ticks\":\"\"},\"colorscale\":[[0.0,\"#0d0887\"],[0.1111111111111111,\"#46039f\"],[0.2222222222222222,\"#7201a8\"],[0.3333333333333333,\"#9c179e\"],[0.4444444444444444,\"#bd3786\"],[0.5555555555555556,\"#d8576b\"],[0.6666666666666666,\"#ed7953\"],[0.7777777777777778,\"#fb9f3a\"],[0.8888888888888888,\"#fdca26\"],[1.0,\"#f0f921\"]],\"type\":\"heatmapgl\"}],\"histogram\":[{\"marker\":{\"pattern\":{\"fillmode\":\"overlay\",\"size\":10,\"solidity\":0.2}},\"type\":\"histogram\"}],\"histogram2d\":[{\"colorbar\":{\"outlinewidth\":0,\"ticks\":\"\"},\"colorscale\":[[0.0,\"#0d0887\"],[0.1111111111111111,\"#46039f\"],[0.2222222222222222,\"#7201a8\"],[0.3333333333333333,\"#9c179e\"],[0.4444444444444444,\"#bd3786\"],[0.5555555555555556,\"#d8576b\"],[0.6666666666666666,\"#ed7953\"],[0.7777777777777778,\"#fb9f3a\"],[0.8888888888888888,\"#fdca26\"],[1.0,\"#f0f921\"]],\"type\":\"histogram2d\"}],\"histogram2dcontour\":[{\"colorbar\":{\"outlinewidth\":0,\"ticks\":\"\"},\"colorscale\":[[0.0,\"#0d0887\"],[0.1111111111111111,\"#46039f\"],[0.2222222222222222,\"#7201a8\"],[0.3333333333333333,\"#9c179e\"],[0.4444444444444444,\"#bd3786\"],[0.5555555555555556,\"#d8576b\"],[0.6666666666666666,\"#ed7953\"],[0.7777777777777778,\"#fb9f3a\"],[0.8888888888888888,\"#fdca26\"],[1.0,\"#f0f921\"]],\"type\":\"histogram2dcontour\"}],\"mesh3d\":[{\"colorbar\":{\"outlinewidth\":0,\"ticks\":\"\"},\"type\":\"mesh3d\"}],\"parcoords\":[{\"line\":{\"colorbar\":{\"outlinewidth\":0,\"ticks\":\"\"}},\"type\":\"parcoords\"}],\"pie\":[{\"automargin\":true,\"type\":\"pie\"}],\"scatter\":[{\"marker\":{\"colorbar\":{\"outlinewidth\":0,\"ticks\":\"\"}},\"type\":\"scatter\"}],\"scatter3d\":[{\"line\":{\"colorbar\":{\"outlinewidth\":0,\"ticks\":\"\"}},\"marker\":{\"colorbar\":{\"outlinewidth\":0,\"ticks\":\"\"}},\"type\":\"scatter3d\"}],\"scattercarpet\":[{\"marker\":{\"colorbar\":{\"outlinewidth\":0,\"ticks\":\"\"}},\"type\":\"scattercarpet\"}],\"scattergeo\":[{\"marker\":{\"colorbar\":{\"outlinewidth\":0,\"ticks\":\"\"}},\"type\":\"scattergeo\"}],\"scattergl\":[{\"marker\":{\"colorbar\":{\"outlinewidth\":0,\"ticks\":\"\"}},\"type\":\"scattergl\"}],\"scattermapbox\":[{\"marker\":{\"colorbar\":{\"outlinewidth\":0,\"ticks\":\"\"}},\"type\":\"scattermapbox\"}],\"scatterpolar\":[{\"marker\":{\"colorbar\":{\"outlinewidth\":0,\"ticks\":\"\"}},\"type\":\"scatterpolar\"}],\"scatterpolargl\":[{\"marker\":{\"colorbar\":{\"outlinewidth\":0,\"ticks\":\"\"}},\"type\":\"scatterpolargl\"}],\"scatterternary\":[{\"marker\":{\"colorbar\":{\"outlinewidth\":0,\"ticks\":\"\"}},\"type\":\"scatterternary\"}],\"surface\":[{\"colorbar\":{\"outlinewidth\":0,\"ticks\":\"\"},\"colorscale\":[[0.0,\"#0d0887\"],[0.1111111111111111,\"#46039f\"],[0.2222222222222222,\"#7201a8\"],[0.3333333333333333,\"#9c179e\"],[0.4444444444444444,\"#bd3786\"],[0.5555555555555556,\"#d8576b\"],[0.6666666666666666,\"#ed7953\"],[0.7777777777777778,\"#fb9f3a\"],[0.8888888888888888,\"#fdca26\"],[1.0,\"#f0f921\"]],\"type\":\"surface\"}],\"table\":[{\"cells\":{\"fill\":{\"color\":\"#EBF0F8\"},\"line\":{\"color\":\"white\"}},\"header\":{\"fill\":{\"color\":\"#C8D4E3\"},\"line\":{\"color\":\"white\"}},\"type\":\"table\"}]},\"layout\":{\"annotationdefaults\":{\"arrowcolor\":\"#2a3f5f\",\"arrowhead\":0,\"arrowwidth\":1},\"autotypenumbers\":\"strict\",\"coloraxis\":{\"colorbar\":{\"outlinewidth\":0,\"ticks\":\"\"}},\"colorscale\":{\"diverging\":[[0,\"#8e0152\"],[0.1,\"#c51b7d\"],[0.2,\"#de77ae\"],[0.3,\"#f1b6da\"],[0.4,\"#fde0ef\"],[0.5,\"#f7f7f7\"],[0.6,\"#e6f5d0\"],[0.7,\"#b8e186\"],[0.8,\"#7fbc41\"],[0.9,\"#4d9221\"],[1,\"#276419\"]],\"sequential\":[[0.0,\"#0d0887\"],[0.1111111111111111,\"#46039f\"],[0.2222222222222222,\"#7201a8\"],[0.3333333333333333,\"#9c179e\"],[0.4444444444444444,\"#bd3786\"],[0.5555555555555556,\"#d8576b\"],[0.6666666666666666,\"#ed7953\"],[0.7777777777777778,\"#fb9f3a\"],[0.8888888888888888,\"#fdca26\"],[1.0,\"#f0f921\"]],\"sequentialminus\":[[0.0,\"#0d0887\"],[0.1111111111111111,\"#46039f\"],[0.2222222222222222,\"#7201a8\"],[0.3333333333333333,\"#9c179e\"],[0.4444444444444444,\"#bd3786\"],[0.5555555555555556,\"#d8576b\"],[0.6666666666666666,\"#ed7953\"],[0.7777777777777778,\"#fb9f3a\"],[0.8888888888888888,\"#fdca26\"],[1.0,\"#f0f921\"]]},\"colorway\":[\"#636efa\",\"#EF553B\",\"#00cc96\",\"#ab63fa\",\"#FFA15A\",\"#19d3f3\",\"#FF6692\",\"#B6E880\",\"#FF97FF\",\"#FECB52\"],\"font\":{\"color\":\"#2a3f5f\"},\"geo\":{\"bgcolor\":\"white\",\"lakecolor\":\"white\",\"landcolor\":\"#E5ECF6\",\"showlakes\":true,\"showland\":true,\"subunitcolor\":\"white\"},\"hoverlabel\":{\"align\":\"left\"},\"hovermode\":\"closest\",\"mapbox\":{\"style\":\"light\"},\"paper_bgcolor\":\"white\",\"plot_bgcolor\":\"#E5ECF6\",\"polar\":{\"angularaxis\":{\"gridcolor\":\"white\",\"linecolor\":\"white\",\"ticks\":\"\"},\"bgcolor\":\"#E5ECF6\",\"radialaxis\":{\"gridcolor\":\"white\",\"linecolor\":\"white\",\"ticks\":\"\"}},\"scene\":{\"xaxis\":{\"backgroundcolor\":\"#E5ECF6\",\"gridcolor\":\"white\",\"gridwidth\":2,\"linecolor\":\"white\",\"showbackground\":true,\"ticks\":\"\",\"zerolinecolor\":\"white\"},\"yaxis\":{\"backgroundcolor\":\"#E5ECF6\",\"gridcolor\":\"white\",\"gridwidth\":2,\"linecolor\":\"white\",\"showbackground\":true,\"ticks\":\"\",\"zerolinecolor\":\"white\"},\"zaxis\":{\"backgroundcolor\":\"#E5ECF6\",\"gridcolor\":\"white\",\"gridwidth\":2,\"linecolor\":\"white\",\"showbackground\":true,\"ticks\":\"\",\"zerolinecolor\":\"white\"}},\"shapedefaults\":{\"line\":{\"color\":\"#2a3f5f\"}},\"ternary\":{\"aaxis\":{\"gridcolor\":\"white\",\"linecolor\":\"white\",\"ticks\":\"\"},\"baxis\":{\"gridcolor\":\"white\",\"linecolor\":\"white\",\"ticks\":\"\"},\"bgcolor\":\"#E5ECF6\",\"caxis\":{\"gridcolor\":\"white\",\"linecolor\":\"white\",\"ticks\":\"\"}},\"title\":{\"x\":0.05},\"xaxis\":{\"automargin\":true,\"gridcolor\":\"white\",\"linecolor\":\"white\",\"ticks\":\"\",\"title\":{\"standoff\":15},\"zerolinecolor\":\"white\",\"zerolinewidth\":2},\"yaxis\":{\"automargin\":true,\"gridcolor\":\"white\",\"linecolor\":\"white\",\"ticks\":\"\",\"title\":{\"standoff\":15},\"zerolinecolor\":\"white\",\"zerolinewidth\":2}}},\"xaxis\":{\"anchor\":\"y\",\"domain\":[0.0,1.0],\"title\":{\"text\":\"x\"}},\"yaxis\":{\"anchor\":\"x\",\"domain\":[0.0,1.0],\"title\":{\"text\":\"y\"}},\"legend\":{\"tracegroupgap\":0},\"title\":{\"text\":\"Number of participants with different height segments\"}},                        {\"responsive\": true}                    ).then(function(){\n",
              "                            \n",
              "var gd = document.getElementById('c97df9dd-f69f-4436-b301-4547eeb65600');\n",
              "var x = new MutationObserver(function (mutations, observer) {{\n",
              "        var display = window.getComputedStyle(gd).display;\n",
              "        if (!display || display === 'none') {{\n",
              "            console.log([gd, 'removed!']);\n",
              "            Plotly.purge(gd);\n",
              "            observer.disconnect();\n",
              "        }}\n",
              "}});\n",
              "\n",
              "// Listen for the removal of the full notebook cells\n",
              "var notebookContainer = gd.closest('#notebook-container');\n",
              "if (notebookContainer) {{\n",
              "    x.observe(notebookContainer, {childList: true});\n",
              "}}\n",
              "\n",
              "// Listen for the clearing of the current output cell\n",
              "var outputEl = gd.closest('.output');\n",
              "if (outputEl) {{\n",
              "    x.observe(outputEl, {childList: true});\n",
              "}}\n",
              "\n",
              "                        })                };                            </script>        </div>\n",
              "</body>\n",
              "</html>"
            ]
          },
          "metadata": {}
        }
      ]
    },
    {
      "cell_type": "markdown",
      "source": [
        "#### Labelling plot\n",
        "\n",
        "We can plot even many points with having the same number of points in both axis, so if x-axis has 4 elements, y-axis also should have 4 elements"
      ],
      "metadata": {
        "id": "kL_8h32jiYGY"
      }
    },
    {
      "cell_type": "code",
      "source": [
        "fig = px.line(df, \n",
        "              x=df['Height'].unique(), \n",
        "              y=df['Height'].value_counts(), \n",
        "              labels={\n",
        "                     'x': \"Height range\",\n",
        "                     'y': \"No of participants\"\n",
        "                 },\n",
        "              title='Number of participants with different height segments')\n",
        "\n",
        "\n",
        "fig.show()"
      ],
      "metadata": {
        "id": "zES7riHPPw-k",
        "colab": {
          "base_uri": "https://localhost:8080/",
          "height": 542
        },
        "outputId": "974e806f-cf54-43b5-d020-9e96e82c4c61"
      },
      "execution_count": 6,
      "outputs": [
        {
          "output_type": "display_data",
          "data": {
            "text/html": [
              "<html>\n",
              "<head><meta charset=\"utf-8\" /></head>\n",
              "<body>\n",
              "    <div>            <script src=\"https://cdnjs.cloudflare.com/ajax/libs/mathjax/2.7.5/MathJax.js?config=TeX-AMS-MML_SVG\"></script><script type=\"text/javascript\">if (window.MathJax) {MathJax.Hub.Config({SVG: {font: \"STIX-Web\"}});}</script>                <script type=\"text/javascript\">window.PlotlyConfig = {MathJaxConfig: 'local'};</script>\n",
              "        <script src=\"https://cdn.plot.ly/plotly-2.8.3.min.js\"></script>                <div id=\"f3f41b45-dfd5-4fa0-a2fa-61672343fdea\" class=\"plotly-graph-div\" style=\"height:525px; width:100%;\"></div>            <script type=\"text/javascript\">                                    window.PLOTLYENV=window.PLOTLYENV || {};                                    if (document.getElementById(\"f3f41b45-dfd5-4fa0-a2fa-61672343fdea\")) {                    Plotly.newPlot(                        \"f3f41b45-dfd5-4fa0-a2fa-61672343fdea\",                        [{\"hovertemplate\":\"Height range=%{x}<br>No of participants=%{y}<extra></extra>\",\"legendgroup\":\"\",\"line\":{\"color\":\"#636efa\",\"dash\":\"solid\"},\"marker\":{\"symbol\":\"circle\"},\"mode\":\"lines\",\"name\":\"\",\"orientation\":\"v\",\"showlegend\":false,\"x\":[\"6-2\",\"6-6\",\"6-5\",\"6-8\",\"7-0\",\"6-4\",\"6-9\",\"5-9\",\"6-7\",\"6-3\",\"5-11\",\"6-11\",\"6-10\",\"6-0\",\"7-2\",\"6-1\",\"7-1\"],\"xaxis\":\"x\",\"y\":[49,37,36,36,32,29,29,28,25,20,13,12,10,3,3,1,1],\"yaxis\":\"y\",\"type\":\"scatter\"}],                        {\"template\":{\"data\":{\"bar\":[{\"error_x\":{\"color\":\"#2a3f5f\"},\"error_y\":{\"color\":\"#2a3f5f\"},\"marker\":{\"line\":{\"color\":\"#E5ECF6\",\"width\":0.5},\"pattern\":{\"fillmode\":\"overlay\",\"size\":10,\"solidity\":0.2}},\"type\":\"bar\"}],\"barpolar\":[{\"marker\":{\"line\":{\"color\":\"#E5ECF6\",\"width\":0.5},\"pattern\":{\"fillmode\":\"overlay\",\"size\":10,\"solidity\":0.2}},\"type\":\"barpolar\"}],\"carpet\":[{\"aaxis\":{\"endlinecolor\":\"#2a3f5f\",\"gridcolor\":\"white\",\"linecolor\":\"white\",\"minorgridcolor\":\"white\",\"startlinecolor\":\"#2a3f5f\"},\"baxis\":{\"endlinecolor\":\"#2a3f5f\",\"gridcolor\":\"white\",\"linecolor\":\"white\",\"minorgridcolor\":\"white\",\"startlinecolor\":\"#2a3f5f\"},\"type\":\"carpet\"}],\"choropleth\":[{\"colorbar\":{\"outlinewidth\":0,\"ticks\":\"\"},\"type\":\"choropleth\"}],\"contour\":[{\"colorbar\":{\"outlinewidth\":0,\"ticks\":\"\"},\"colorscale\":[[0.0,\"#0d0887\"],[0.1111111111111111,\"#46039f\"],[0.2222222222222222,\"#7201a8\"],[0.3333333333333333,\"#9c179e\"],[0.4444444444444444,\"#bd3786\"],[0.5555555555555556,\"#d8576b\"],[0.6666666666666666,\"#ed7953\"],[0.7777777777777778,\"#fb9f3a\"],[0.8888888888888888,\"#fdca26\"],[1.0,\"#f0f921\"]],\"type\":\"contour\"}],\"contourcarpet\":[{\"colorbar\":{\"outlinewidth\":0,\"ticks\":\"\"},\"type\":\"contourcarpet\"}],\"heatmap\":[{\"colorbar\":{\"outlinewidth\":0,\"ticks\":\"\"},\"colorscale\":[[0.0,\"#0d0887\"],[0.1111111111111111,\"#46039f\"],[0.2222222222222222,\"#7201a8\"],[0.3333333333333333,\"#9c179e\"],[0.4444444444444444,\"#bd3786\"],[0.5555555555555556,\"#d8576b\"],[0.6666666666666666,\"#ed7953\"],[0.7777777777777778,\"#fb9f3a\"],[0.8888888888888888,\"#fdca26\"],[1.0,\"#f0f921\"]],\"type\":\"heatmap\"}],\"heatmapgl\":[{\"colorbar\":{\"outlinewidth\":0,\"ticks\":\"\"},\"colorscale\":[[0.0,\"#0d0887\"],[0.1111111111111111,\"#46039f\"],[0.2222222222222222,\"#7201a8\"],[0.3333333333333333,\"#9c179e\"],[0.4444444444444444,\"#bd3786\"],[0.5555555555555556,\"#d8576b\"],[0.6666666666666666,\"#ed7953\"],[0.7777777777777778,\"#fb9f3a\"],[0.8888888888888888,\"#fdca26\"],[1.0,\"#f0f921\"]],\"type\":\"heatmapgl\"}],\"histogram\":[{\"marker\":{\"pattern\":{\"fillmode\":\"overlay\",\"size\":10,\"solidity\":0.2}},\"type\":\"histogram\"}],\"histogram2d\":[{\"colorbar\":{\"outlinewidth\":0,\"ticks\":\"\"},\"colorscale\":[[0.0,\"#0d0887\"],[0.1111111111111111,\"#46039f\"],[0.2222222222222222,\"#7201a8\"],[0.3333333333333333,\"#9c179e\"],[0.4444444444444444,\"#bd3786\"],[0.5555555555555556,\"#d8576b\"],[0.6666666666666666,\"#ed7953\"],[0.7777777777777778,\"#fb9f3a\"],[0.8888888888888888,\"#fdca26\"],[1.0,\"#f0f921\"]],\"type\":\"histogram2d\"}],\"histogram2dcontour\":[{\"colorbar\":{\"outlinewidth\":0,\"ticks\":\"\"},\"colorscale\":[[0.0,\"#0d0887\"],[0.1111111111111111,\"#46039f\"],[0.2222222222222222,\"#7201a8\"],[0.3333333333333333,\"#9c179e\"],[0.4444444444444444,\"#bd3786\"],[0.5555555555555556,\"#d8576b\"],[0.6666666666666666,\"#ed7953\"],[0.7777777777777778,\"#fb9f3a\"],[0.8888888888888888,\"#fdca26\"],[1.0,\"#f0f921\"]],\"type\":\"histogram2dcontour\"}],\"mesh3d\":[{\"colorbar\":{\"outlinewidth\":0,\"ticks\":\"\"},\"type\":\"mesh3d\"}],\"parcoords\":[{\"line\":{\"colorbar\":{\"outlinewidth\":0,\"ticks\":\"\"}},\"type\":\"parcoords\"}],\"pie\":[{\"automargin\":true,\"type\":\"pie\"}],\"scatter\":[{\"marker\":{\"colorbar\":{\"outlinewidth\":0,\"ticks\":\"\"}},\"type\":\"scatter\"}],\"scatter3d\":[{\"line\":{\"colorbar\":{\"outlinewidth\":0,\"ticks\":\"\"}},\"marker\":{\"colorbar\":{\"outlinewidth\":0,\"ticks\":\"\"}},\"type\":\"scatter3d\"}],\"scattercarpet\":[{\"marker\":{\"colorbar\":{\"outlinewidth\":0,\"ticks\":\"\"}},\"type\":\"scattercarpet\"}],\"scattergeo\":[{\"marker\":{\"colorbar\":{\"outlinewidth\":0,\"ticks\":\"\"}},\"type\":\"scattergeo\"}],\"scattergl\":[{\"marker\":{\"colorbar\":{\"outlinewidth\":0,\"ticks\":\"\"}},\"type\":\"scattergl\"}],\"scattermapbox\":[{\"marker\":{\"colorbar\":{\"outlinewidth\":0,\"ticks\":\"\"}},\"type\":\"scattermapbox\"}],\"scatterpolar\":[{\"marker\":{\"colorbar\":{\"outlinewidth\":0,\"ticks\":\"\"}},\"type\":\"scatterpolar\"}],\"scatterpolargl\":[{\"marker\":{\"colorbar\":{\"outlinewidth\":0,\"ticks\":\"\"}},\"type\":\"scatterpolargl\"}],\"scatterternary\":[{\"marker\":{\"colorbar\":{\"outlinewidth\":0,\"ticks\":\"\"}},\"type\":\"scatterternary\"}],\"surface\":[{\"colorbar\":{\"outlinewidth\":0,\"ticks\":\"\"},\"colorscale\":[[0.0,\"#0d0887\"],[0.1111111111111111,\"#46039f\"],[0.2222222222222222,\"#7201a8\"],[0.3333333333333333,\"#9c179e\"],[0.4444444444444444,\"#bd3786\"],[0.5555555555555556,\"#d8576b\"],[0.6666666666666666,\"#ed7953\"],[0.7777777777777778,\"#fb9f3a\"],[0.8888888888888888,\"#fdca26\"],[1.0,\"#f0f921\"]],\"type\":\"surface\"}],\"table\":[{\"cells\":{\"fill\":{\"color\":\"#EBF0F8\"},\"line\":{\"color\":\"white\"}},\"header\":{\"fill\":{\"color\":\"#C8D4E3\"},\"line\":{\"color\":\"white\"}},\"type\":\"table\"}]},\"layout\":{\"annotationdefaults\":{\"arrowcolor\":\"#2a3f5f\",\"arrowhead\":0,\"arrowwidth\":1},\"autotypenumbers\":\"strict\",\"coloraxis\":{\"colorbar\":{\"outlinewidth\":0,\"ticks\":\"\"}},\"colorscale\":{\"diverging\":[[0,\"#8e0152\"],[0.1,\"#c51b7d\"],[0.2,\"#de77ae\"],[0.3,\"#f1b6da\"],[0.4,\"#fde0ef\"],[0.5,\"#f7f7f7\"],[0.6,\"#e6f5d0\"],[0.7,\"#b8e186\"],[0.8,\"#7fbc41\"],[0.9,\"#4d9221\"],[1,\"#276419\"]],\"sequential\":[[0.0,\"#0d0887\"],[0.1111111111111111,\"#46039f\"],[0.2222222222222222,\"#7201a8\"],[0.3333333333333333,\"#9c179e\"],[0.4444444444444444,\"#bd3786\"],[0.5555555555555556,\"#d8576b\"],[0.6666666666666666,\"#ed7953\"],[0.7777777777777778,\"#fb9f3a\"],[0.8888888888888888,\"#fdca26\"],[1.0,\"#f0f921\"]],\"sequentialminus\":[[0.0,\"#0d0887\"],[0.1111111111111111,\"#46039f\"],[0.2222222222222222,\"#7201a8\"],[0.3333333333333333,\"#9c179e\"],[0.4444444444444444,\"#bd3786\"],[0.5555555555555556,\"#d8576b\"],[0.6666666666666666,\"#ed7953\"],[0.7777777777777778,\"#fb9f3a\"],[0.8888888888888888,\"#fdca26\"],[1.0,\"#f0f921\"]]},\"colorway\":[\"#636efa\",\"#EF553B\",\"#00cc96\",\"#ab63fa\",\"#FFA15A\",\"#19d3f3\",\"#FF6692\",\"#B6E880\",\"#FF97FF\",\"#FECB52\"],\"font\":{\"color\":\"#2a3f5f\"},\"geo\":{\"bgcolor\":\"white\",\"lakecolor\":\"white\",\"landcolor\":\"#E5ECF6\",\"showlakes\":true,\"showland\":true,\"subunitcolor\":\"white\"},\"hoverlabel\":{\"align\":\"left\"},\"hovermode\":\"closest\",\"mapbox\":{\"style\":\"light\"},\"paper_bgcolor\":\"white\",\"plot_bgcolor\":\"#E5ECF6\",\"polar\":{\"angularaxis\":{\"gridcolor\":\"white\",\"linecolor\":\"white\",\"ticks\":\"\"},\"bgcolor\":\"#E5ECF6\",\"radialaxis\":{\"gridcolor\":\"white\",\"linecolor\":\"white\",\"ticks\":\"\"}},\"scene\":{\"xaxis\":{\"backgroundcolor\":\"#E5ECF6\",\"gridcolor\":\"white\",\"gridwidth\":2,\"linecolor\":\"white\",\"showbackground\":true,\"ticks\":\"\",\"zerolinecolor\":\"white\"},\"yaxis\":{\"backgroundcolor\":\"#E5ECF6\",\"gridcolor\":\"white\",\"gridwidth\":2,\"linecolor\":\"white\",\"showbackground\":true,\"ticks\":\"\",\"zerolinecolor\":\"white\"},\"zaxis\":{\"backgroundcolor\":\"#E5ECF6\",\"gridcolor\":\"white\",\"gridwidth\":2,\"linecolor\":\"white\",\"showbackground\":true,\"ticks\":\"\",\"zerolinecolor\":\"white\"}},\"shapedefaults\":{\"line\":{\"color\":\"#2a3f5f\"}},\"ternary\":{\"aaxis\":{\"gridcolor\":\"white\",\"linecolor\":\"white\",\"ticks\":\"\"},\"baxis\":{\"gridcolor\":\"white\",\"linecolor\":\"white\",\"ticks\":\"\"},\"bgcolor\":\"#E5ECF6\",\"caxis\":{\"gridcolor\":\"white\",\"linecolor\":\"white\",\"ticks\":\"\"}},\"title\":{\"x\":0.05},\"xaxis\":{\"automargin\":true,\"gridcolor\":\"white\",\"linecolor\":\"white\",\"ticks\":\"\",\"title\":{\"standoff\":15},\"zerolinecolor\":\"white\",\"zerolinewidth\":2},\"yaxis\":{\"automargin\":true,\"gridcolor\":\"white\",\"linecolor\":\"white\",\"ticks\":\"\",\"title\":{\"standoff\":15},\"zerolinecolor\":\"white\",\"zerolinewidth\":2}}},\"xaxis\":{\"anchor\":\"y\",\"domain\":[0.0,1.0],\"title\":{\"text\":\"Height range\"}},\"yaxis\":{\"anchor\":\"x\",\"domain\":[0.0,1.0],\"title\":{\"text\":\"No of participants\"}},\"legend\":{\"tracegroupgap\":0},\"title\":{\"text\":\"Number of participants with different height segments\"}},                        {\"responsive\": true}                    ).then(function(){\n",
              "                            \n",
              "var gd = document.getElementById('f3f41b45-dfd5-4fa0-a2fa-61672343fdea');\n",
              "var x = new MutationObserver(function (mutations, observer) {{\n",
              "        var display = window.getComputedStyle(gd).display;\n",
              "        if (!display || display === 'none') {{\n",
              "            console.log([gd, 'removed!']);\n",
              "            Plotly.purge(gd);\n",
              "            observer.disconnect();\n",
              "        }}\n",
              "}});\n",
              "\n",
              "// Listen for the removal of the full notebook cells\n",
              "var notebookContainer = gd.closest('#notebook-container');\n",
              "if (notebookContainer) {{\n",
              "    x.observe(notebookContainer, {childList: true});\n",
              "}}\n",
              "\n",
              "// Listen for the clearing of the current output cell\n",
              "var outputEl = gd.closest('.output');\n",
              "if (outputEl) {{\n",
              "    x.observe(outputEl, {childList: true});\n",
              "}}\n",
              "\n",
              "                        })                };                            </script>        </div>\n",
              "</body>\n",
              "</html>"
            ]
          },
          "metadata": {}
        }
      ]
    },
    {
      "cell_type": "code",
      "source": [
        "# Bar plot - bar() method to generate bar plot\n",
        "\n",
        "fig = px.bar(df,\n",
        "             x=df['Height'].unique(), \n",
        "              y=df['Height'].value_counts(), \n",
        "              labels={\n",
        "                     'x': \"Height range\",\n",
        "                     'y': \"No of participants\"\n",
        "                 },\n",
        "              title='Number of participants with different height segments')\n",
        "fig.show()"
      ],
      "metadata": {
        "id": "beiaO8mUreNd",
        "colab": {
          "base_uri": "https://localhost:8080/",
          "height": 542
        },
        "outputId": "393979e0-500a-4e69-de56-52f16df3b371"
      },
      "execution_count": 7,
      "outputs": [
        {
          "output_type": "display_data",
          "data": {
            "text/html": [
              "<html>\n",
              "<head><meta charset=\"utf-8\" /></head>\n",
              "<body>\n",
              "    <div>            <script src=\"https://cdnjs.cloudflare.com/ajax/libs/mathjax/2.7.5/MathJax.js?config=TeX-AMS-MML_SVG\"></script><script type=\"text/javascript\">if (window.MathJax) {MathJax.Hub.Config({SVG: {font: \"STIX-Web\"}});}</script>                <script type=\"text/javascript\">window.PlotlyConfig = {MathJaxConfig: 'local'};</script>\n",
              "        <script src=\"https://cdn.plot.ly/plotly-2.8.3.min.js\"></script>                <div id=\"f917019b-439a-4eaf-bb74-4ddb247f063e\" class=\"plotly-graph-div\" style=\"height:525px; width:100%;\"></div>            <script type=\"text/javascript\">                                    window.PLOTLYENV=window.PLOTLYENV || {};                                    if (document.getElementById(\"f917019b-439a-4eaf-bb74-4ddb247f063e\")) {                    Plotly.newPlot(                        \"f917019b-439a-4eaf-bb74-4ddb247f063e\",                        [{\"alignmentgroup\":\"True\",\"hovertemplate\":\"Height range=%{x}<br>No of participants=%{y}<extra></extra>\",\"legendgroup\":\"\",\"marker\":{\"color\":\"#636efa\",\"pattern\":{\"shape\":\"\"}},\"name\":\"\",\"offsetgroup\":\"\",\"orientation\":\"v\",\"showlegend\":false,\"textposition\":\"auto\",\"x\":[\"6-2\",\"6-6\",\"6-5\",\"6-8\",\"7-0\",\"6-4\",\"6-9\",\"5-9\",\"6-7\",\"6-3\",\"5-11\",\"6-11\",\"6-10\",\"6-0\",\"7-2\",\"6-1\",\"7-1\"],\"xaxis\":\"x\",\"y\":[49,37,36,36,32,29,29,28,25,20,13,12,10,3,3,1,1],\"yaxis\":\"y\",\"type\":\"bar\"}],                        {\"template\":{\"data\":{\"bar\":[{\"error_x\":{\"color\":\"#2a3f5f\"},\"error_y\":{\"color\":\"#2a3f5f\"},\"marker\":{\"line\":{\"color\":\"#E5ECF6\",\"width\":0.5},\"pattern\":{\"fillmode\":\"overlay\",\"size\":10,\"solidity\":0.2}},\"type\":\"bar\"}],\"barpolar\":[{\"marker\":{\"line\":{\"color\":\"#E5ECF6\",\"width\":0.5},\"pattern\":{\"fillmode\":\"overlay\",\"size\":10,\"solidity\":0.2}},\"type\":\"barpolar\"}],\"carpet\":[{\"aaxis\":{\"endlinecolor\":\"#2a3f5f\",\"gridcolor\":\"white\",\"linecolor\":\"white\",\"minorgridcolor\":\"white\",\"startlinecolor\":\"#2a3f5f\"},\"baxis\":{\"endlinecolor\":\"#2a3f5f\",\"gridcolor\":\"white\",\"linecolor\":\"white\",\"minorgridcolor\":\"white\",\"startlinecolor\":\"#2a3f5f\"},\"type\":\"carpet\"}],\"choropleth\":[{\"colorbar\":{\"outlinewidth\":0,\"ticks\":\"\"},\"type\":\"choropleth\"}],\"contour\":[{\"colorbar\":{\"outlinewidth\":0,\"ticks\":\"\"},\"colorscale\":[[0.0,\"#0d0887\"],[0.1111111111111111,\"#46039f\"],[0.2222222222222222,\"#7201a8\"],[0.3333333333333333,\"#9c179e\"],[0.4444444444444444,\"#bd3786\"],[0.5555555555555556,\"#d8576b\"],[0.6666666666666666,\"#ed7953\"],[0.7777777777777778,\"#fb9f3a\"],[0.8888888888888888,\"#fdca26\"],[1.0,\"#f0f921\"]],\"type\":\"contour\"}],\"contourcarpet\":[{\"colorbar\":{\"outlinewidth\":0,\"ticks\":\"\"},\"type\":\"contourcarpet\"}],\"heatmap\":[{\"colorbar\":{\"outlinewidth\":0,\"ticks\":\"\"},\"colorscale\":[[0.0,\"#0d0887\"],[0.1111111111111111,\"#46039f\"],[0.2222222222222222,\"#7201a8\"],[0.3333333333333333,\"#9c179e\"],[0.4444444444444444,\"#bd3786\"],[0.5555555555555556,\"#d8576b\"],[0.6666666666666666,\"#ed7953\"],[0.7777777777777778,\"#fb9f3a\"],[0.8888888888888888,\"#fdca26\"],[1.0,\"#f0f921\"]],\"type\":\"heatmap\"}],\"heatmapgl\":[{\"colorbar\":{\"outlinewidth\":0,\"ticks\":\"\"},\"colorscale\":[[0.0,\"#0d0887\"],[0.1111111111111111,\"#46039f\"],[0.2222222222222222,\"#7201a8\"],[0.3333333333333333,\"#9c179e\"],[0.4444444444444444,\"#bd3786\"],[0.5555555555555556,\"#d8576b\"],[0.6666666666666666,\"#ed7953\"],[0.7777777777777778,\"#fb9f3a\"],[0.8888888888888888,\"#fdca26\"],[1.0,\"#f0f921\"]],\"type\":\"heatmapgl\"}],\"histogram\":[{\"marker\":{\"pattern\":{\"fillmode\":\"overlay\",\"size\":10,\"solidity\":0.2}},\"type\":\"histogram\"}],\"histogram2d\":[{\"colorbar\":{\"outlinewidth\":0,\"ticks\":\"\"},\"colorscale\":[[0.0,\"#0d0887\"],[0.1111111111111111,\"#46039f\"],[0.2222222222222222,\"#7201a8\"],[0.3333333333333333,\"#9c179e\"],[0.4444444444444444,\"#bd3786\"],[0.5555555555555556,\"#d8576b\"],[0.6666666666666666,\"#ed7953\"],[0.7777777777777778,\"#fb9f3a\"],[0.8888888888888888,\"#fdca26\"],[1.0,\"#f0f921\"]],\"type\":\"histogram2d\"}],\"histogram2dcontour\":[{\"colorbar\":{\"outlinewidth\":0,\"ticks\":\"\"},\"colorscale\":[[0.0,\"#0d0887\"],[0.1111111111111111,\"#46039f\"],[0.2222222222222222,\"#7201a8\"],[0.3333333333333333,\"#9c179e\"],[0.4444444444444444,\"#bd3786\"],[0.5555555555555556,\"#d8576b\"],[0.6666666666666666,\"#ed7953\"],[0.7777777777777778,\"#fb9f3a\"],[0.8888888888888888,\"#fdca26\"],[1.0,\"#f0f921\"]],\"type\":\"histogram2dcontour\"}],\"mesh3d\":[{\"colorbar\":{\"outlinewidth\":0,\"ticks\":\"\"},\"type\":\"mesh3d\"}],\"parcoords\":[{\"line\":{\"colorbar\":{\"outlinewidth\":0,\"ticks\":\"\"}},\"type\":\"parcoords\"}],\"pie\":[{\"automargin\":true,\"type\":\"pie\"}],\"scatter\":[{\"marker\":{\"colorbar\":{\"outlinewidth\":0,\"ticks\":\"\"}},\"type\":\"scatter\"}],\"scatter3d\":[{\"line\":{\"colorbar\":{\"outlinewidth\":0,\"ticks\":\"\"}},\"marker\":{\"colorbar\":{\"outlinewidth\":0,\"ticks\":\"\"}},\"type\":\"scatter3d\"}],\"scattercarpet\":[{\"marker\":{\"colorbar\":{\"outlinewidth\":0,\"ticks\":\"\"}},\"type\":\"scattercarpet\"}],\"scattergeo\":[{\"marker\":{\"colorbar\":{\"outlinewidth\":0,\"ticks\":\"\"}},\"type\":\"scattergeo\"}],\"scattergl\":[{\"marker\":{\"colorbar\":{\"outlinewidth\":0,\"ticks\":\"\"}},\"type\":\"scattergl\"}],\"scattermapbox\":[{\"marker\":{\"colorbar\":{\"outlinewidth\":0,\"ticks\":\"\"}},\"type\":\"scattermapbox\"}],\"scatterpolar\":[{\"marker\":{\"colorbar\":{\"outlinewidth\":0,\"ticks\":\"\"}},\"type\":\"scatterpolar\"}],\"scatterpolargl\":[{\"marker\":{\"colorbar\":{\"outlinewidth\":0,\"ticks\":\"\"}},\"type\":\"scatterpolargl\"}],\"scatterternary\":[{\"marker\":{\"colorbar\":{\"outlinewidth\":0,\"ticks\":\"\"}},\"type\":\"scatterternary\"}],\"surface\":[{\"colorbar\":{\"outlinewidth\":0,\"ticks\":\"\"},\"colorscale\":[[0.0,\"#0d0887\"],[0.1111111111111111,\"#46039f\"],[0.2222222222222222,\"#7201a8\"],[0.3333333333333333,\"#9c179e\"],[0.4444444444444444,\"#bd3786\"],[0.5555555555555556,\"#d8576b\"],[0.6666666666666666,\"#ed7953\"],[0.7777777777777778,\"#fb9f3a\"],[0.8888888888888888,\"#fdca26\"],[1.0,\"#f0f921\"]],\"type\":\"surface\"}],\"table\":[{\"cells\":{\"fill\":{\"color\":\"#EBF0F8\"},\"line\":{\"color\":\"white\"}},\"header\":{\"fill\":{\"color\":\"#C8D4E3\"},\"line\":{\"color\":\"white\"}},\"type\":\"table\"}]},\"layout\":{\"annotationdefaults\":{\"arrowcolor\":\"#2a3f5f\",\"arrowhead\":0,\"arrowwidth\":1},\"autotypenumbers\":\"strict\",\"coloraxis\":{\"colorbar\":{\"outlinewidth\":0,\"ticks\":\"\"}},\"colorscale\":{\"diverging\":[[0,\"#8e0152\"],[0.1,\"#c51b7d\"],[0.2,\"#de77ae\"],[0.3,\"#f1b6da\"],[0.4,\"#fde0ef\"],[0.5,\"#f7f7f7\"],[0.6,\"#e6f5d0\"],[0.7,\"#b8e186\"],[0.8,\"#7fbc41\"],[0.9,\"#4d9221\"],[1,\"#276419\"]],\"sequential\":[[0.0,\"#0d0887\"],[0.1111111111111111,\"#46039f\"],[0.2222222222222222,\"#7201a8\"],[0.3333333333333333,\"#9c179e\"],[0.4444444444444444,\"#bd3786\"],[0.5555555555555556,\"#d8576b\"],[0.6666666666666666,\"#ed7953\"],[0.7777777777777778,\"#fb9f3a\"],[0.8888888888888888,\"#fdca26\"],[1.0,\"#f0f921\"]],\"sequentialminus\":[[0.0,\"#0d0887\"],[0.1111111111111111,\"#46039f\"],[0.2222222222222222,\"#7201a8\"],[0.3333333333333333,\"#9c179e\"],[0.4444444444444444,\"#bd3786\"],[0.5555555555555556,\"#d8576b\"],[0.6666666666666666,\"#ed7953\"],[0.7777777777777778,\"#fb9f3a\"],[0.8888888888888888,\"#fdca26\"],[1.0,\"#f0f921\"]]},\"colorway\":[\"#636efa\",\"#EF553B\",\"#00cc96\",\"#ab63fa\",\"#FFA15A\",\"#19d3f3\",\"#FF6692\",\"#B6E880\",\"#FF97FF\",\"#FECB52\"],\"font\":{\"color\":\"#2a3f5f\"},\"geo\":{\"bgcolor\":\"white\",\"lakecolor\":\"white\",\"landcolor\":\"#E5ECF6\",\"showlakes\":true,\"showland\":true,\"subunitcolor\":\"white\"},\"hoverlabel\":{\"align\":\"left\"},\"hovermode\":\"closest\",\"mapbox\":{\"style\":\"light\"},\"paper_bgcolor\":\"white\",\"plot_bgcolor\":\"#E5ECF6\",\"polar\":{\"angularaxis\":{\"gridcolor\":\"white\",\"linecolor\":\"white\",\"ticks\":\"\"},\"bgcolor\":\"#E5ECF6\",\"radialaxis\":{\"gridcolor\":\"white\",\"linecolor\":\"white\",\"ticks\":\"\"}},\"scene\":{\"xaxis\":{\"backgroundcolor\":\"#E5ECF6\",\"gridcolor\":\"white\",\"gridwidth\":2,\"linecolor\":\"white\",\"showbackground\":true,\"ticks\":\"\",\"zerolinecolor\":\"white\"},\"yaxis\":{\"backgroundcolor\":\"#E5ECF6\",\"gridcolor\":\"white\",\"gridwidth\":2,\"linecolor\":\"white\",\"showbackground\":true,\"ticks\":\"\",\"zerolinecolor\":\"white\"},\"zaxis\":{\"backgroundcolor\":\"#E5ECF6\",\"gridcolor\":\"white\",\"gridwidth\":2,\"linecolor\":\"white\",\"showbackground\":true,\"ticks\":\"\",\"zerolinecolor\":\"white\"}},\"shapedefaults\":{\"line\":{\"color\":\"#2a3f5f\"}},\"ternary\":{\"aaxis\":{\"gridcolor\":\"white\",\"linecolor\":\"white\",\"ticks\":\"\"},\"baxis\":{\"gridcolor\":\"white\",\"linecolor\":\"white\",\"ticks\":\"\"},\"bgcolor\":\"#E5ECF6\",\"caxis\":{\"gridcolor\":\"white\",\"linecolor\":\"white\",\"ticks\":\"\"}},\"title\":{\"x\":0.05},\"xaxis\":{\"automargin\":true,\"gridcolor\":\"white\",\"linecolor\":\"white\",\"ticks\":\"\",\"title\":{\"standoff\":15},\"zerolinecolor\":\"white\",\"zerolinewidth\":2},\"yaxis\":{\"automargin\":true,\"gridcolor\":\"white\",\"linecolor\":\"white\",\"ticks\":\"\",\"title\":{\"standoff\":15},\"zerolinecolor\":\"white\",\"zerolinewidth\":2}}},\"xaxis\":{\"anchor\":\"y\",\"domain\":[0.0,1.0],\"title\":{\"text\":\"Height range\"}},\"yaxis\":{\"anchor\":\"x\",\"domain\":[0.0,1.0],\"title\":{\"text\":\"No of participants\"}},\"legend\":{\"tracegroupgap\":0},\"title\":{\"text\":\"Number of participants with different height segments\"},\"barmode\":\"relative\"},                        {\"responsive\": true}                    ).then(function(){\n",
              "                            \n",
              "var gd = document.getElementById('f917019b-439a-4eaf-bb74-4ddb247f063e');\n",
              "var x = new MutationObserver(function (mutations, observer) {{\n",
              "        var display = window.getComputedStyle(gd).display;\n",
              "        if (!display || display === 'none') {{\n",
              "            console.log([gd, 'removed!']);\n",
              "            Plotly.purge(gd);\n",
              "            observer.disconnect();\n",
              "        }}\n",
              "}});\n",
              "\n",
              "// Listen for the removal of the full notebook cells\n",
              "var notebookContainer = gd.closest('#notebook-container');\n",
              "if (notebookContainer) {{\n",
              "    x.observe(notebookContainer, {childList: true});\n",
              "}}\n",
              "\n",
              "// Listen for the clearing of the current output cell\n",
              "var outputEl = gd.closest('.output');\n",
              "if (outputEl) {{\n",
              "    x.observe(outputEl, {childList: true});\n",
              "}}\n",
              "\n",
              "                        })                };                            </script>        </div>\n",
              "</body>\n",
              "</html>"
            ]
          },
          "metadata": {}
        }
      ]
    },
    {
      "cell_type": "code",
      "source": [
        "# Scatter plot with scatter() method\n",
        "\n",
        "fig = px.scatter(df,\n",
        "             x='Height', \n",
        "              y='Weight', \n",
        "              title='Number of participants with different height segments')\n",
        "fig.show()"
      ],
      "metadata": {
        "id": "fATinLmYq3zR",
        "colab": {
          "base_uri": "https://localhost:8080/",
          "height": 542
        },
        "outputId": "9c90e84c-669a-4f56-85c2-892edc772f27"
      },
      "execution_count": 8,
      "outputs": [
        {
          "output_type": "display_data",
          "data": {
            "text/html": [
              "<html>\n",
              "<head><meta charset=\"utf-8\" /></head>\n",
              "<body>\n",
              "    <div>            <script src=\"https://cdnjs.cloudflare.com/ajax/libs/mathjax/2.7.5/MathJax.js?config=TeX-AMS-MML_SVG\"></script><script type=\"text/javascript\">if (window.MathJax) {MathJax.Hub.Config({SVG: {font: \"STIX-Web\"}});}</script>                <script type=\"text/javascript\">window.PlotlyConfig = {MathJaxConfig: 'local'};</script>\n",
              "        <script src=\"https://cdn.plot.ly/plotly-2.8.3.min.js\"></script>                <div id=\"cf95266f-f717-487c-bbb7-1b41be8ca980\" class=\"plotly-graph-div\" style=\"height:525px; width:100%;\"></div>            <script type=\"text/javascript\">                                    window.PLOTLYENV=window.PLOTLYENV || {};                                    if (document.getElementById(\"cf95266f-f717-487c-bbb7-1b41be8ca980\")) {                    Plotly.newPlot(                        \"cf95266f-f717-487c-bbb7-1b41be8ca980\",                        [{\"hovertemplate\":\"Height=%{x}<br>Weight=%{y}<extra></extra>\",\"legendgroup\":\"\",\"marker\":{\"color\":\"#636efa\",\"symbol\":\"circle\"},\"mode\":\"markers\",\"name\":\"\",\"orientation\":\"v\",\"showlegend\":false,\"x\":[\"6-2\",\"6-6\",\"6-5\",\"6-8\",\"7-0\",\"6-2\",\"6-4\",\"6-9\",\"5-9\",\"6-7\",\"6-6\",\"7-0\",\"6-3\",\"6-4\",\"6-7\",\"6-3\",\"6-4\",\"5-11\",\"7-0\",\"6-11\",\"6-10\",\"6-10\",\"6-10\",\"6-3\",\"6-8\",\"6-5\",\"6-9\",\"6-8\",\"6-8\",\"6-2\",\"6-4\",\"7-0\",\"6-10\",\"6-8\",\"6-8\",\"6-6\",\"6-0\",\"6-9\",\"7-0\",\"6-8\",\"6-10\",\"6-9\",\"6-4\",\"6-2\",\"6-11\",\"6-11\",\"6-0\",\"6-6\",\"6-8\",\"6-11\",\"6-8\",\"6-7\",\"6-9\",\"6-3\",\"6-0\",\"6-9\",\"6-4\",\"6-7\",\"6-11\",\"6-5\",\"6-8\",\"7-0\",\"6-3\",\"6-3\",\"6-11\",\"6-7\",\"6-6\",\"6-9\",\"6-9\",\"6-6\",\"6-10\",\"6-7\",\"6-11\",\"6-9\",\"6-5\",\"6-6\",\"6-9\",\"6-10\",\"6-7\",\"6-11\",\"6-8\",\"6-0\",\"6-7\",\"6-4\",\"6-4\",\"6-5\",\"6-8\",\"6-9\",\"6-7\",\"6-5\",\"7-2\",\"6-11\",\"6-9\",\"6-9\",\"6-5\",\"7-0\",\"6-7\",\"6-7\",\"6-1\",\"6-6\",\"6-7\",\"6-5\",\"6-4\",\"6-3\",\"7-1\",\"6-10\",\"5-11\",\"6-2\",\"6-6\",\"6-8\",\"6-8\",\"6-7\",\"6-6\",\"6-7\",\"7-0\",\"6-0\",\"6-11\",\"6-2\",\"6-9\",\"6-8\",\"7-0\",\"6-5\",\"6-10\",\"6-1\",\"6-9\",\"6-0\",\"6-7\",\"6-9\",\"6-9\",\"6-6\",\"6-8\",\"6-4\",\"6-11\",\"6-11\",\"6-3\",\"6-7\",\"6-4\",\"6-11\",\"6-3\",\"6-7\",\"6-8\",\"6-11\",\"6-10\",\"6-5\",\"6-5\",\"6-9\",\"6-1\",\"6-9\",\"6-10\",\"6-3\",\"6-5\",\"6-7\",\"6-5\",\"6-6\",\"6-11\",\"6-9\",\"6-6\",\"6-3\",\"6-7\",\"6-4\",\"6-9\",\"6-8\",\"6-9\",\"6-9\",\"6-9\",\"6-3\",\"6-10\",\"6-7\",\"5-11\",\"6-7\",\"6-5\",\"6-11\",\"6-11\",\"6-2\",\"6-3\",\"6-6\",\"6-4\",\"6-3\",\"6-11\",\"6-5\",\"6-8\",\"6-11\",\"6-10\",\"6-9\",\"6-8\",\"6-11\",\"6-6\",\"6-6\",\"6-6\",\"6-0\",\"6-9\",\"6-1\",\"6-3\",\"6-9\",\"6-5\",\"7-0\",\"6-10\",\"6-11\",\"6-11\",\"6-3\",\"6-8\",\"6-10\",\"6-1\",\"6-9\",\"6-9\",\"6-3\",\"6-5\",\"6-8\",\"6-9\",\"6-6\",\"6-2\",\"6-5\",\"6-4\",\"6-10\",\"6-7\",\"6-6\",\"6-1\",\"6-1\",\"6-9\",\"6-6\",\"6-10\",\"6-9\",\"6-5\",\"6-10\",\"6-10\",\"6-9\",\"6-2\",\"6-8\",\"6-10\",\"6-6\",\"6-2\",\"6-7\",\"6-6\",\"6-1\",\"6-6\",\"6-4\",\"6-7\",\"6-4\",\"6-5\",\"6-7\",\"6-11\",\"6-9\",\"6-10\",\"6-11\",\"6-6\",\"6-7\",\"6-7\",\"6-3\",\"6-0\",\"6-6\",\"6-9\",\"6-5\",\"6-6\",\"6-4\",\"6-10\",\"6-9\",\"6-7\",\"6-8\",\"6-11\",\"6-5\",\"6-8\",\"6-2\",\"6-4\",\"6-3\",\"6-9\",\"6-6\",\"7-1\",\"7-0\",\"6-7\",\"6-5\",\"6-5\",\"6-3\",\"6-1\",\"6-9\",\"7-0\",\"6-11\",\"6-9\",\"6-8\",\"6-7\",\"6-4\",\"6-10\",\"6-6\",\"6-4\",\"7-0\",\"6-7\",\"7-0\",\"6-9\",\"6-6\",\"6-1\",\"6-9\",\"6-4\",\"6-4\",\"7-0\",\"7-0\",\"6-2\",\"6-6\",\"6-5\",\"6-7\",\"6-7\",\"6-10\",\"6-9\",\"6-10\",\"6-7\",\"6-8\",\"6-3\",\"6-6\",\"6-4\",\"6-4\",\"6-9\",\"6-0\",\"6-6\",\"6-8\",\"6-8\",\"6-4\",\"6-8\",\"6-0\",\"6-9\",\"6-11\",\"6-2\",\"6-5\",\"6-6\",\"6-10\",\"6-9\",\"7-0\",\"6-8\",\"7-0\",\"6-10\",\"6-9\",\"6-4\",\"6-7\",\"6-11\",\"6-10\",\"6-10\",\"6-5\",\"6-3\",\"6-7\",\"6-8\",\"6-4\",\"6-3\",\"6-8\",\"6-9\",\"6-5\",\"6-6\",\"6-10\",\"6-9\",\"6-5\",\"7-0\",\"7-1\",\"6-3\",\"6-4\",\"6-7\",\"6-11\",\"6-1\",\"6-9\",\"6-8\",\"6-1\",\"6-6\",\"6-10\",\"6-8\",\"6-8\",\"6-6\",\"6-10\",\"6-3\",\"7-0\"],\"xaxis\":\"x\",\"y\":[180.0,235.0,185.0,235.0,238.0,190.0,220.0,260.0,185.0,220.0,215.0,253.0,190.0,200.0,220.0,200.0,219.0,175.0,275.0,200.0,220.0,237.0,248.0,205.0,221.0,210.0,220.0,240.0,210.0,200.0,195.0,255.0,250.0,235.0,240.0,205.0,201.0,215.0,250.0,210.0,245.0,248.0,200.0,200.0,228.0,275.0,175.0,205.0,206.0,220.0,212.0,220.0,250.0,190.0,205.0,235.0,215.0,195.0,250.0,190.0,225.0,260.0,175.0,190.0,265.0,230.0,215.0,220.0,240.0,220.0,255.0,215.0,250.0,250.0,195.0,225.0,235.0,251.0,215.0,265.0,230.0,175.0,235.0,190.0,200.0,195.0,250.0,250.0,210.0,194.0,270.0,230.0,230.0,250.0,195.0,270.0,260.0,210.0,190.0,206.0,209.0,200.0,215.0,189.0,260.0,228.0,175.0,190.0,245.0,230.0,260.0,240.0,213.0,228.0,240.0,175.0,270.0,185.0,220.0,230.0,265.0,195.0,238.0,186.0,250.0,161.0,220.0,230.0,225.0,185.0,225.0,191.0,232.0,230.0,190.0,200.0,198.0,255.0,193.0,233.0,218.0,260.0,251.0,179.0,220.0,238.0,198.0,245.0,260.0,172.0,189.0,205.0,205.0,200.0,279.0,235.0,205.0,208.0,245.0,210.0,235.0,240.0,255.0,250.0,220.0,188.0,235.0,225.0,195.0,222.0,205.0,243.0,250.0,180.0,200.0,190.0,195.0,194.0,229.0,210.0,234.0,265.0,225.0,257.0,250.0,249.0,217.0,202.0,228.0,185.0,200.0,205.0,185.0,245.0,220.0,270.0,230.0,240.0,232.0,200.0,215.0,235.0,185.0,186.0,230.0,200.0,220.0,240.0,252.0,205.0,185.0,209.0,213.0,245.0,226.0,220.0,175.0,165.0,227.0,230.0,239.0,260.0,230.0,210.0,240.0,225.0,175.0,230.0,253.0,203.0,195.0,210.0,220.0,170.0,225.0,215.0,220.0,205.0,220.0,220.0,240.0,230.0,235.0,250.0,215.0,230.0,199.0,200.0,185.0,195.0,250.0,201.0,205.0,190.0,245.0,235.0,212.0,246.0,240.0,225.0,237.0,186.0,205.0,189.0,250.0,210.0,245.0,240.0,232.0,185.0,200.0,200.0,184.0,237.0,240.0,235.0,220.0,235.0,240.0,186.0,240.0,200.0,220.0,265.0,225.0,245.0,220.0,200.0,175.0,250.0,210.0,185.0,240.0,260.0,175.0,220.0,207.0,225.0,218.0,250.0,242.0,245.0,205.0,198.0,190.0,195.0,205.0,195.0,235.0,183.0,175.0,225.0,228.0,210.0,218.0,190.0,214.0,241.0,195.0,189.0,223.0,237.0,212.0,244.0,199.0,255.0,255.0,240.0,213.0,230.0,245.0,255.0,250.0,210.0,185.0,210.0,228.0,220.0,200.0,240.0,215.0,206.0,210.0,240.0,215.0,215.0,265.0,245.0,195.0,200.0,185.0,235.0,173.0,240.0,228.0,191.0,214.0,265.0,226.0,206.0,206.0,234.0,203.0,231.0],\"yaxis\":\"y\",\"type\":\"scatter\"}],                        {\"template\":{\"data\":{\"bar\":[{\"error_x\":{\"color\":\"#2a3f5f\"},\"error_y\":{\"color\":\"#2a3f5f\"},\"marker\":{\"line\":{\"color\":\"#E5ECF6\",\"width\":0.5},\"pattern\":{\"fillmode\":\"overlay\",\"size\":10,\"solidity\":0.2}},\"type\":\"bar\"}],\"barpolar\":[{\"marker\":{\"line\":{\"color\":\"#E5ECF6\",\"width\":0.5},\"pattern\":{\"fillmode\":\"overlay\",\"size\":10,\"solidity\":0.2}},\"type\":\"barpolar\"}],\"carpet\":[{\"aaxis\":{\"endlinecolor\":\"#2a3f5f\",\"gridcolor\":\"white\",\"linecolor\":\"white\",\"minorgridcolor\":\"white\",\"startlinecolor\":\"#2a3f5f\"},\"baxis\":{\"endlinecolor\":\"#2a3f5f\",\"gridcolor\":\"white\",\"linecolor\":\"white\",\"minorgridcolor\":\"white\",\"startlinecolor\":\"#2a3f5f\"},\"type\":\"carpet\"}],\"choropleth\":[{\"colorbar\":{\"outlinewidth\":0,\"ticks\":\"\"},\"type\":\"choropleth\"}],\"contour\":[{\"colorbar\":{\"outlinewidth\":0,\"ticks\":\"\"},\"colorscale\":[[0.0,\"#0d0887\"],[0.1111111111111111,\"#46039f\"],[0.2222222222222222,\"#7201a8\"],[0.3333333333333333,\"#9c179e\"],[0.4444444444444444,\"#bd3786\"],[0.5555555555555556,\"#d8576b\"],[0.6666666666666666,\"#ed7953\"],[0.7777777777777778,\"#fb9f3a\"],[0.8888888888888888,\"#fdca26\"],[1.0,\"#f0f921\"]],\"type\":\"contour\"}],\"contourcarpet\":[{\"colorbar\":{\"outlinewidth\":0,\"ticks\":\"\"},\"type\":\"contourcarpet\"}],\"heatmap\":[{\"colorbar\":{\"outlinewidth\":0,\"ticks\":\"\"},\"colorscale\":[[0.0,\"#0d0887\"],[0.1111111111111111,\"#46039f\"],[0.2222222222222222,\"#7201a8\"],[0.3333333333333333,\"#9c179e\"],[0.4444444444444444,\"#bd3786\"],[0.5555555555555556,\"#d8576b\"],[0.6666666666666666,\"#ed7953\"],[0.7777777777777778,\"#fb9f3a\"],[0.8888888888888888,\"#fdca26\"],[1.0,\"#f0f921\"]],\"type\":\"heatmap\"}],\"heatmapgl\":[{\"colorbar\":{\"outlinewidth\":0,\"ticks\":\"\"},\"colorscale\":[[0.0,\"#0d0887\"],[0.1111111111111111,\"#46039f\"],[0.2222222222222222,\"#7201a8\"],[0.3333333333333333,\"#9c179e\"],[0.4444444444444444,\"#bd3786\"],[0.5555555555555556,\"#d8576b\"],[0.6666666666666666,\"#ed7953\"],[0.7777777777777778,\"#fb9f3a\"],[0.8888888888888888,\"#fdca26\"],[1.0,\"#f0f921\"]],\"type\":\"heatmapgl\"}],\"histogram\":[{\"marker\":{\"pattern\":{\"fillmode\":\"overlay\",\"size\":10,\"solidity\":0.2}},\"type\":\"histogram\"}],\"histogram2d\":[{\"colorbar\":{\"outlinewidth\":0,\"ticks\":\"\"},\"colorscale\":[[0.0,\"#0d0887\"],[0.1111111111111111,\"#46039f\"],[0.2222222222222222,\"#7201a8\"],[0.3333333333333333,\"#9c179e\"],[0.4444444444444444,\"#bd3786\"],[0.5555555555555556,\"#d8576b\"],[0.6666666666666666,\"#ed7953\"],[0.7777777777777778,\"#fb9f3a\"],[0.8888888888888888,\"#fdca26\"],[1.0,\"#f0f921\"]],\"type\":\"histogram2d\"}],\"histogram2dcontour\":[{\"colorbar\":{\"outlinewidth\":0,\"ticks\":\"\"},\"colorscale\":[[0.0,\"#0d0887\"],[0.1111111111111111,\"#46039f\"],[0.2222222222222222,\"#7201a8\"],[0.3333333333333333,\"#9c179e\"],[0.4444444444444444,\"#bd3786\"],[0.5555555555555556,\"#d8576b\"],[0.6666666666666666,\"#ed7953\"],[0.7777777777777778,\"#fb9f3a\"],[0.8888888888888888,\"#fdca26\"],[1.0,\"#f0f921\"]],\"type\":\"histogram2dcontour\"}],\"mesh3d\":[{\"colorbar\":{\"outlinewidth\":0,\"ticks\":\"\"},\"type\":\"mesh3d\"}],\"parcoords\":[{\"line\":{\"colorbar\":{\"outlinewidth\":0,\"ticks\":\"\"}},\"type\":\"parcoords\"}],\"pie\":[{\"automargin\":true,\"type\":\"pie\"}],\"scatter\":[{\"marker\":{\"colorbar\":{\"outlinewidth\":0,\"ticks\":\"\"}},\"type\":\"scatter\"}],\"scatter3d\":[{\"line\":{\"colorbar\":{\"outlinewidth\":0,\"ticks\":\"\"}},\"marker\":{\"colorbar\":{\"outlinewidth\":0,\"ticks\":\"\"}},\"type\":\"scatter3d\"}],\"scattercarpet\":[{\"marker\":{\"colorbar\":{\"outlinewidth\":0,\"ticks\":\"\"}},\"type\":\"scattercarpet\"}],\"scattergeo\":[{\"marker\":{\"colorbar\":{\"outlinewidth\":0,\"ticks\":\"\"}},\"type\":\"scattergeo\"}],\"scattergl\":[{\"marker\":{\"colorbar\":{\"outlinewidth\":0,\"ticks\":\"\"}},\"type\":\"scattergl\"}],\"scattermapbox\":[{\"marker\":{\"colorbar\":{\"outlinewidth\":0,\"ticks\":\"\"}},\"type\":\"scattermapbox\"}],\"scatterpolar\":[{\"marker\":{\"colorbar\":{\"outlinewidth\":0,\"ticks\":\"\"}},\"type\":\"scatterpolar\"}],\"scatterpolargl\":[{\"marker\":{\"colorbar\":{\"outlinewidth\":0,\"ticks\":\"\"}},\"type\":\"scatterpolargl\"}],\"scatterternary\":[{\"marker\":{\"colorbar\":{\"outlinewidth\":0,\"ticks\":\"\"}},\"type\":\"scatterternary\"}],\"surface\":[{\"colorbar\":{\"outlinewidth\":0,\"ticks\":\"\"},\"colorscale\":[[0.0,\"#0d0887\"],[0.1111111111111111,\"#46039f\"],[0.2222222222222222,\"#7201a8\"],[0.3333333333333333,\"#9c179e\"],[0.4444444444444444,\"#bd3786\"],[0.5555555555555556,\"#d8576b\"],[0.6666666666666666,\"#ed7953\"],[0.7777777777777778,\"#fb9f3a\"],[0.8888888888888888,\"#fdca26\"],[1.0,\"#f0f921\"]],\"type\":\"surface\"}],\"table\":[{\"cells\":{\"fill\":{\"color\":\"#EBF0F8\"},\"line\":{\"color\":\"white\"}},\"header\":{\"fill\":{\"color\":\"#C8D4E3\"},\"line\":{\"color\":\"white\"}},\"type\":\"table\"}]},\"layout\":{\"annotationdefaults\":{\"arrowcolor\":\"#2a3f5f\",\"arrowhead\":0,\"arrowwidth\":1},\"autotypenumbers\":\"strict\",\"coloraxis\":{\"colorbar\":{\"outlinewidth\":0,\"ticks\":\"\"}},\"colorscale\":{\"diverging\":[[0,\"#8e0152\"],[0.1,\"#c51b7d\"],[0.2,\"#de77ae\"],[0.3,\"#f1b6da\"],[0.4,\"#fde0ef\"],[0.5,\"#f7f7f7\"],[0.6,\"#e6f5d0\"],[0.7,\"#b8e186\"],[0.8,\"#7fbc41\"],[0.9,\"#4d9221\"],[1,\"#276419\"]],\"sequential\":[[0.0,\"#0d0887\"],[0.1111111111111111,\"#46039f\"],[0.2222222222222222,\"#7201a8\"],[0.3333333333333333,\"#9c179e\"],[0.4444444444444444,\"#bd3786\"],[0.5555555555555556,\"#d8576b\"],[0.6666666666666666,\"#ed7953\"],[0.7777777777777778,\"#fb9f3a\"],[0.8888888888888888,\"#fdca26\"],[1.0,\"#f0f921\"]],\"sequentialminus\":[[0.0,\"#0d0887\"],[0.1111111111111111,\"#46039f\"],[0.2222222222222222,\"#7201a8\"],[0.3333333333333333,\"#9c179e\"],[0.4444444444444444,\"#bd3786\"],[0.5555555555555556,\"#d8576b\"],[0.6666666666666666,\"#ed7953\"],[0.7777777777777778,\"#fb9f3a\"],[0.8888888888888888,\"#fdca26\"],[1.0,\"#f0f921\"]]},\"colorway\":[\"#636efa\",\"#EF553B\",\"#00cc96\",\"#ab63fa\",\"#FFA15A\",\"#19d3f3\",\"#FF6692\",\"#B6E880\",\"#FF97FF\",\"#FECB52\"],\"font\":{\"color\":\"#2a3f5f\"},\"geo\":{\"bgcolor\":\"white\",\"lakecolor\":\"white\",\"landcolor\":\"#E5ECF6\",\"showlakes\":true,\"showland\":true,\"subunitcolor\":\"white\"},\"hoverlabel\":{\"align\":\"left\"},\"hovermode\":\"closest\",\"mapbox\":{\"style\":\"light\"},\"paper_bgcolor\":\"white\",\"plot_bgcolor\":\"#E5ECF6\",\"polar\":{\"angularaxis\":{\"gridcolor\":\"white\",\"linecolor\":\"white\",\"ticks\":\"\"},\"bgcolor\":\"#E5ECF6\",\"radialaxis\":{\"gridcolor\":\"white\",\"linecolor\":\"white\",\"ticks\":\"\"}},\"scene\":{\"xaxis\":{\"backgroundcolor\":\"#E5ECF6\",\"gridcolor\":\"white\",\"gridwidth\":2,\"linecolor\":\"white\",\"showbackground\":true,\"ticks\":\"\",\"zerolinecolor\":\"white\"},\"yaxis\":{\"backgroundcolor\":\"#E5ECF6\",\"gridcolor\":\"white\",\"gridwidth\":2,\"linecolor\":\"white\",\"showbackground\":true,\"ticks\":\"\",\"zerolinecolor\":\"white\"},\"zaxis\":{\"backgroundcolor\":\"#E5ECF6\",\"gridcolor\":\"white\",\"gridwidth\":2,\"linecolor\":\"white\",\"showbackground\":true,\"ticks\":\"\",\"zerolinecolor\":\"white\"}},\"shapedefaults\":{\"line\":{\"color\":\"#2a3f5f\"}},\"ternary\":{\"aaxis\":{\"gridcolor\":\"white\",\"linecolor\":\"white\",\"ticks\":\"\"},\"baxis\":{\"gridcolor\":\"white\",\"linecolor\":\"white\",\"ticks\":\"\"},\"bgcolor\":\"#E5ECF6\",\"caxis\":{\"gridcolor\":\"white\",\"linecolor\":\"white\",\"ticks\":\"\"}},\"title\":{\"x\":0.05},\"xaxis\":{\"automargin\":true,\"gridcolor\":\"white\",\"linecolor\":\"white\",\"ticks\":\"\",\"title\":{\"standoff\":15},\"zerolinecolor\":\"white\",\"zerolinewidth\":2},\"yaxis\":{\"automargin\":true,\"gridcolor\":\"white\",\"linecolor\":\"white\",\"ticks\":\"\",\"title\":{\"standoff\":15},\"zerolinecolor\":\"white\",\"zerolinewidth\":2}}},\"xaxis\":{\"anchor\":\"y\",\"domain\":[0.0,1.0],\"title\":{\"text\":\"Height\"}},\"yaxis\":{\"anchor\":\"x\",\"domain\":[0.0,1.0],\"title\":{\"text\":\"Weight\"}},\"legend\":{\"tracegroupgap\":0},\"title\":{\"text\":\"Number of participants with different height segments\"}},                        {\"responsive\": true}                    ).then(function(){\n",
              "                            \n",
              "var gd = document.getElementById('cf95266f-f717-487c-bbb7-1b41be8ca980');\n",
              "var x = new MutationObserver(function (mutations, observer) {{\n",
              "        var display = window.getComputedStyle(gd).display;\n",
              "        if (!display || display === 'none') {{\n",
              "            console.log([gd, 'removed!']);\n",
              "            Plotly.purge(gd);\n",
              "            observer.disconnect();\n",
              "        }}\n",
              "}});\n",
              "\n",
              "// Listen for the removal of the full notebook cells\n",
              "var notebookContainer = gd.closest('#notebook-container');\n",
              "if (notebookContainer) {{\n",
              "    x.observe(notebookContainer, {childList: true});\n",
              "}}\n",
              "\n",
              "// Listen for the clearing of the current output cell\n",
              "var outputEl = gd.closest('.output');\n",
              "if (outputEl) {{\n",
              "    x.observe(outputEl, {childList: true});\n",
              "}}\n",
              "\n",
              "                        })                };                            </script>        </div>\n",
              "</body>\n",
              "</html>"
            ]
          },
          "metadata": {}
        }
      ]
    },
    {
      "cell_type": "code",
      "source": [
        "df1=pd.read_csv('data.csv')\n",
        "df1"
      ],
      "metadata": {
        "id": "b8Di8rv0r2N0",
        "colab": {
          "base_uri": "https://localhost:8080/",
          "height": 423
        },
        "outputId": "df105bd8-4905-475d-c436-59e58ec29d64"
      },
      "execution_count": 9,
      "outputs": [
        {
          "output_type": "execute_result",
          "data": {
            "text/html": [
              "\n",
              "  <div id=\"df-b74e7bbd-fd39-453f-8be1-36560524b38e\">\n",
              "    <div class=\"colab-df-container\">\n",
              "      <div>\n",
              "<style scoped>\n",
              "    .dataframe tbody tr th:only-of-type {\n",
              "        vertical-align: middle;\n",
              "    }\n",
              "\n",
              "    .dataframe tbody tr th {\n",
              "        vertical-align: top;\n",
              "    }\n",
              "\n",
              "    .dataframe thead th {\n",
              "        text-align: right;\n",
              "    }\n",
              "</style>\n",
              "<table border=\"1\" class=\"dataframe\">\n",
              "  <thead>\n",
              "    <tr style=\"text-align: right;\">\n",
              "      <th></th>\n",
              "      <th>Duration</th>\n",
              "      <th>Pulse</th>\n",
              "      <th>Maxpulse</th>\n",
              "      <th>Calories</th>\n",
              "    </tr>\n",
              "  </thead>\n",
              "  <tbody>\n",
              "    <tr>\n",
              "      <th>0</th>\n",
              "      <td>60</td>\n",
              "      <td>110</td>\n",
              "      <td>130</td>\n",
              "      <td>409.1</td>\n",
              "    </tr>\n",
              "    <tr>\n",
              "      <th>1</th>\n",
              "      <td>60</td>\n",
              "      <td>117</td>\n",
              "      <td>145</td>\n",
              "      <td>479.0</td>\n",
              "    </tr>\n",
              "    <tr>\n",
              "      <th>2</th>\n",
              "      <td>60</td>\n",
              "      <td>103</td>\n",
              "      <td>135</td>\n",
              "      <td>340.0</td>\n",
              "    </tr>\n",
              "    <tr>\n",
              "      <th>3</th>\n",
              "      <td>45</td>\n",
              "      <td>109</td>\n",
              "      <td>175</td>\n",
              "      <td>282.4</td>\n",
              "    </tr>\n",
              "    <tr>\n",
              "      <th>4</th>\n",
              "      <td>45</td>\n",
              "      <td>117</td>\n",
              "      <td>148</td>\n",
              "      <td>406.0</td>\n",
              "    </tr>\n",
              "    <tr>\n",
              "      <th>...</th>\n",
              "      <td>...</td>\n",
              "      <td>...</td>\n",
              "      <td>...</td>\n",
              "      <td>...</td>\n",
              "    </tr>\n",
              "    <tr>\n",
              "      <th>164</th>\n",
              "      <td>60</td>\n",
              "      <td>105</td>\n",
              "      <td>140</td>\n",
              "      <td>290.8</td>\n",
              "    </tr>\n",
              "    <tr>\n",
              "      <th>165</th>\n",
              "      <td>60</td>\n",
              "      <td>110</td>\n",
              "      <td>145</td>\n",
              "      <td>300.0</td>\n",
              "    </tr>\n",
              "    <tr>\n",
              "      <th>166</th>\n",
              "      <td>60</td>\n",
              "      <td>115</td>\n",
              "      <td>145</td>\n",
              "      <td>310.2</td>\n",
              "    </tr>\n",
              "    <tr>\n",
              "      <th>167</th>\n",
              "      <td>75</td>\n",
              "      <td>120</td>\n",
              "      <td>150</td>\n",
              "      <td>320.4</td>\n",
              "    </tr>\n",
              "    <tr>\n",
              "      <th>168</th>\n",
              "      <td>75</td>\n",
              "      <td>125</td>\n",
              "      <td>150</td>\n",
              "      <td>330.4</td>\n",
              "    </tr>\n",
              "  </tbody>\n",
              "</table>\n",
              "<p>169 rows × 4 columns</p>\n",
              "</div>\n",
              "      <button class=\"colab-df-convert\" onclick=\"convertToInteractive('df-b74e7bbd-fd39-453f-8be1-36560524b38e')\"\n",
              "              title=\"Convert this dataframe to an interactive table.\"\n",
              "              style=\"display:none;\">\n",
              "        \n",
              "  <svg xmlns=\"http://www.w3.org/2000/svg\" height=\"24px\"viewBox=\"0 0 24 24\"\n",
              "       width=\"24px\">\n",
              "    <path d=\"M0 0h24v24H0V0z\" fill=\"none\"/>\n",
              "    <path d=\"M18.56 5.44l.94 2.06.94-2.06 2.06-.94-2.06-.94-.94-2.06-.94 2.06-2.06.94zm-11 1L8.5 8.5l.94-2.06 2.06-.94-2.06-.94L8.5 2.5l-.94 2.06-2.06.94zm10 10l.94 2.06.94-2.06 2.06-.94-2.06-.94-.94-2.06-.94 2.06-2.06.94z\"/><path d=\"M17.41 7.96l-1.37-1.37c-.4-.4-.92-.59-1.43-.59-.52 0-1.04.2-1.43.59L10.3 9.45l-7.72 7.72c-.78.78-.78 2.05 0 2.83L4 21.41c.39.39.9.59 1.41.59.51 0 1.02-.2 1.41-.59l7.78-7.78 2.81-2.81c.8-.78.8-2.07 0-2.86zM5.41 20L4 18.59l7.72-7.72 1.47 1.35L5.41 20z\"/>\n",
              "  </svg>\n",
              "      </button>\n",
              "      \n",
              "  <style>\n",
              "    .colab-df-container {\n",
              "      display:flex;\n",
              "      flex-wrap:wrap;\n",
              "      gap: 12px;\n",
              "    }\n",
              "\n",
              "    .colab-df-convert {\n",
              "      background-color: #E8F0FE;\n",
              "      border: none;\n",
              "      border-radius: 50%;\n",
              "      cursor: pointer;\n",
              "      display: none;\n",
              "      fill: #1967D2;\n",
              "      height: 32px;\n",
              "      padding: 0 0 0 0;\n",
              "      width: 32px;\n",
              "    }\n",
              "\n",
              "    .colab-df-convert:hover {\n",
              "      background-color: #E2EBFA;\n",
              "      box-shadow: 0px 1px 2px rgba(60, 64, 67, 0.3), 0px 1px 3px 1px rgba(60, 64, 67, 0.15);\n",
              "      fill: #174EA6;\n",
              "    }\n",
              "\n",
              "    [theme=dark] .colab-df-convert {\n",
              "      background-color: #3B4455;\n",
              "      fill: #D2E3FC;\n",
              "    }\n",
              "\n",
              "    [theme=dark] .colab-df-convert:hover {\n",
              "      background-color: #434B5C;\n",
              "      box-shadow: 0px 1px 3px 1px rgba(0, 0, 0, 0.15);\n",
              "      filter: drop-shadow(0px 1px 2px rgba(0, 0, 0, 0.3));\n",
              "      fill: #FFFFFF;\n",
              "    }\n",
              "  </style>\n",
              "\n",
              "      <script>\n",
              "        const buttonEl =\n",
              "          document.querySelector('#df-b74e7bbd-fd39-453f-8be1-36560524b38e button.colab-df-convert');\n",
              "        buttonEl.style.display =\n",
              "          google.colab.kernel.accessAllowed ? 'block' : 'none';\n",
              "\n",
              "        async function convertToInteractive(key) {\n",
              "          const element = document.querySelector('#df-b74e7bbd-fd39-453f-8be1-36560524b38e');\n",
              "          const dataTable =\n",
              "            await google.colab.kernel.invokeFunction('convertToInteractive',\n",
              "                                                     [key], {});\n",
              "          if (!dataTable) return;\n",
              "\n",
              "          const docLinkHtml = 'Like what you see? Visit the ' +\n",
              "            '<a target=\"_blank\" href=https://colab.research.google.com/notebooks/data_table.ipynb>data table notebook</a>'\n",
              "            + ' to learn more about interactive tables.';\n",
              "          element.innerHTML = '';\n",
              "          dataTable['output_type'] = 'display_data';\n",
              "          await google.colab.output.renderOutput(dataTable, element);\n",
              "          const docLink = document.createElement('div');\n",
              "          docLink.innerHTML = docLinkHtml;\n",
              "          element.appendChild(docLink);\n",
              "        }\n",
              "      </script>\n",
              "    </div>\n",
              "  </div>\n",
              "  "
            ],
            "text/plain": [
              "     Duration  Pulse  Maxpulse  Calories\n",
              "0          60    110       130     409.1\n",
              "1          60    117       145     479.0\n",
              "2          60    103       135     340.0\n",
              "3          45    109       175     282.4\n",
              "4          45    117       148     406.0\n",
              "..        ...    ...       ...       ...\n",
              "164        60    105       140     290.8\n",
              "165        60    110       145     300.0\n",
              "166        60    115       145     310.2\n",
              "167        75    120       150     320.4\n",
              "168        75    125       150     330.4\n",
              "\n",
              "[169 rows x 4 columns]"
            ]
          },
          "metadata": {},
          "execution_count": 9
        }
      ]
    },
    {
      "cell_type": "code",
      "source": [
        "# If you want to plot multiple lines in one chart, you can call the plot() function multiple times\n",
        "\n",
        "fig= px.scatter(df1,'Calories',['Pulse','Maxpulse'])\n",
        "\n",
        "fig.show()"
      ],
      "metadata": {
        "id": "o80Bc1H4sgTO",
        "colab": {
          "base_uri": "https://localhost:8080/",
          "height": 542
        },
        "outputId": "041a9b54-6993-4823-f993-3475abbbe331"
      },
      "execution_count": 10,
      "outputs": [
        {
          "output_type": "display_data",
          "data": {
            "text/html": [
              "<html>\n",
              "<head><meta charset=\"utf-8\" /></head>\n",
              "<body>\n",
              "    <div>            <script src=\"https://cdnjs.cloudflare.com/ajax/libs/mathjax/2.7.5/MathJax.js?config=TeX-AMS-MML_SVG\"></script><script type=\"text/javascript\">if (window.MathJax) {MathJax.Hub.Config({SVG: {font: \"STIX-Web\"}});}</script>                <script type=\"text/javascript\">window.PlotlyConfig = {MathJaxConfig: 'local'};</script>\n",
              "        <script src=\"https://cdn.plot.ly/plotly-2.8.3.min.js\"></script>                <div id=\"87538408-09a1-4f58-bbfb-2e039e389380\" class=\"plotly-graph-div\" style=\"height:525px; width:100%;\"></div>            <script type=\"text/javascript\">                                    window.PLOTLYENV=window.PLOTLYENV || {};                                    if (document.getElementById(\"87538408-09a1-4f58-bbfb-2e039e389380\")) {                    Plotly.newPlot(                        \"87538408-09a1-4f58-bbfb-2e039e389380\",                        [{\"hovertemplate\":\"variable=Pulse<br>Calories=%{x}<br>value=%{y}<extra></extra>\",\"legendgroup\":\"Pulse\",\"marker\":{\"color\":\"#636efa\",\"symbol\":\"circle\"},\"mode\":\"markers\",\"name\":\"Pulse\",\"orientation\":\"v\",\"showlegend\":true,\"x\":[409.1,479.0,340.0,282.4,406.0,300.0,374.0,253.3,195.1,269.0,329.3,250.7,345.3,379.3,275.0,215.2,300.0,null,323.0,243.0,364.2,282.0,300.0,246.0,334.5,250.0,241.0,null,280.0,380.3,243.0,180.1,299.0,223.0,361.0,415.0,300.0,300.0,300.0,266.0,180.1,286.0,329.4,400.0,397.0,273.0,387.6,300.0,298.0,397.6,380.2,643.1,263.0,486.0,238.0,450.7,413.0,305.0,226.4,321.0,1376.0,1034.4,853.0,341.0,131.4,800.4,873.4,816.0,110.4,1500.2,1115.0,387.6,700.0,953.2,304.0,563.2,251.0,300.0,500.4,1729.0,319.2,344.0,151.1,500.0,225.3,300.0,234.0,1000.1,242.0,50.3,600.1,null,105.3,50.5,127.4,229.4,128.2,244.2,188.2,604.1,77.7,500.0,500.0,500.4,92.7,124.0,800.3,86.2,500.3,1860.4,325.2,275.0,124.2,225.3,367.6,351.7,443.0,277.4,null,332.7,193.9,100.7,336.7,344.9,368.5,271.0,275.3,382.0,466.4,384.0,342.5,357.5,335.0,327.5,339.0,189.0,317.7,318.0,308.0,222.4,390.0,null,250.4,335.4,470.2,270.8,400.0,361.9,185.0,409.4,343.0,353.2,374.0,275.8,328.0,368.5,270.4,270.4,382.8,240.9,250.4,260.4,270.0,280.9,290.8,300.0,310.2,320.4,330.4],\"xaxis\":\"x\",\"y\":[110,117,103,109,117,102,110,104,109,98,103,100,106,104,98,98,100,90,103,97,108,100,130,105,102,100,92,103,100,102,92,90,101,93,107,114,102,100,100,104,90,98,100,111,111,99,109,111,108,111,107,123,106,118,136,121,118,115,153,123,108,110,109,118,110,90,105,107,106,108,97,109,100,97,114,98,105,110,100,100,159,149,103,100,100,151,102,100,129,83,101,107,90,80,150,151,95,152,109,93,95,90,90,90,92,93,90,90,90,137,102,107,124,100,108,108,116,97,105,103,112,100,119,107,111,98,97,109,99,114,104,107,103,106,103,136,117,115,113,141,108,97,100,122,136,106,107,112,103,110,106,109,109,150,105,111,97,100,114,80,85,90,95,100,105,110,115,120,125],\"yaxis\":\"y\",\"type\":\"scatter\"},{\"hovertemplate\":\"variable=Maxpulse<br>Calories=%{x}<br>value=%{y}<extra></extra>\",\"legendgroup\":\"Maxpulse\",\"marker\":{\"color\":\"#EF553B\",\"symbol\":\"circle\"},\"mode\":\"markers\",\"name\":\"Maxpulse\",\"orientation\":\"v\",\"showlegend\":true,\"x\":[409.1,479.0,340.0,282.4,406.0,300.0,374.0,253.3,195.1,269.0,329.3,250.7,345.3,379.3,275.0,215.2,300.0,null,323.0,243.0,364.2,282.0,300.0,246.0,334.5,250.0,241.0,null,280.0,380.3,243.0,180.1,299.0,223.0,361.0,415.0,300.0,300.0,300.0,266.0,180.1,286.0,329.4,400.0,397.0,273.0,387.6,300.0,298.0,397.6,380.2,643.1,263.0,486.0,238.0,450.7,413.0,305.0,226.4,321.0,1376.0,1034.4,853.0,341.0,131.4,800.4,873.4,816.0,110.4,1500.2,1115.0,387.6,700.0,953.2,304.0,563.2,251.0,300.0,500.4,1729.0,319.2,344.0,151.1,500.0,225.3,300.0,234.0,1000.1,242.0,50.3,600.1,null,105.3,50.5,127.4,229.4,128.2,244.2,188.2,604.1,77.7,500.0,500.0,500.4,92.7,124.0,800.3,86.2,500.3,1860.4,325.2,275.0,124.2,225.3,367.6,351.7,443.0,277.4,null,332.7,193.9,100.7,336.7,344.9,368.5,271.0,275.3,382.0,466.4,384.0,342.5,357.5,335.0,327.5,339.0,189.0,317.7,318.0,308.0,222.4,390.0,null,250.4,335.4,470.2,270.8,400.0,361.9,185.0,409.4,343.0,353.2,374.0,275.8,328.0,368.5,270.4,270.4,382.8,240.9,250.4,260.4,270.0,280.9,290.8,300.0,310.2,320.4,330.4],\"xaxis\":\"x\",\"y\":[130,145,135,175,148,127,136,134,133,124,147,120,128,132,123,120,120,112,123,125,131,119,101,132,126,120,118,132,132,129,115,112,124,113,136,140,127,120,120,129,112,126,122,138,131,119,153,136,129,139,136,146,130,151,175,146,121,144,172,152,160,137,135,141,130,130,135,130,136,143,129,153,127,127,146,125,134,141,130,131,182,169,139,130,120,170,136,157,103,107,127,137,107,100,171,168,128,168,131,124,112,110,100,100,108,128,120,120,120,184,124,124,139,120,131,151,141,122,125,124,137,120,169,127,151,122,124,127,125,151,134,138,133,132,136,156,143,137,138,162,135,127,120,149,170,126,136,146,127,150,134,129,138,167,128,151,131,120,150,120,120,130,130,140,140,145,145,150,150],\"yaxis\":\"y\",\"type\":\"scatter\"}],                        {\"template\":{\"data\":{\"bar\":[{\"error_x\":{\"color\":\"#2a3f5f\"},\"error_y\":{\"color\":\"#2a3f5f\"},\"marker\":{\"line\":{\"color\":\"#E5ECF6\",\"width\":0.5},\"pattern\":{\"fillmode\":\"overlay\",\"size\":10,\"solidity\":0.2}},\"type\":\"bar\"}],\"barpolar\":[{\"marker\":{\"line\":{\"color\":\"#E5ECF6\",\"width\":0.5},\"pattern\":{\"fillmode\":\"overlay\",\"size\":10,\"solidity\":0.2}},\"type\":\"barpolar\"}],\"carpet\":[{\"aaxis\":{\"endlinecolor\":\"#2a3f5f\",\"gridcolor\":\"white\",\"linecolor\":\"white\",\"minorgridcolor\":\"white\",\"startlinecolor\":\"#2a3f5f\"},\"baxis\":{\"endlinecolor\":\"#2a3f5f\",\"gridcolor\":\"white\",\"linecolor\":\"white\",\"minorgridcolor\":\"white\",\"startlinecolor\":\"#2a3f5f\"},\"type\":\"carpet\"}],\"choropleth\":[{\"colorbar\":{\"outlinewidth\":0,\"ticks\":\"\"},\"type\":\"choropleth\"}],\"contour\":[{\"colorbar\":{\"outlinewidth\":0,\"ticks\":\"\"},\"colorscale\":[[0.0,\"#0d0887\"],[0.1111111111111111,\"#46039f\"],[0.2222222222222222,\"#7201a8\"],[0.3333333333333333,\"#9c179e\"],[0.4444444444444444,\"#bd3786\"],[0.5555555555555556,\"#d8576b\"],[0.6666666666666666,\"#ed7953\"],[0.7777777777777778,\"#fb9f3a\"],[0.8888888888888888,\"#fdca26\"],[1.0,\"#f0f921\"]],\"type\":\"contour\"}],\"contourcarpet\":[{\"colorbar\":{\"outlinewidth\":0,\"ticks\":\"\"},\"type\":\"contourcarpet\"}],\"heatmap\":[{\"colorbar\":{\"outlinewidth\":0,\"ticks\":\"\"},\"colorscale\":[[0.0,\"#0d0887\"],[0.1111111111111111,\"#46039f\"],[0.2222222222222222,\"#7201a8\"],[0.3333333333333333,\"#9c179e\"],[0.4444444444444444,\"#bd3786\"],[0.5555555555555556,\"#d8576b\"],[0.6666666666666666,\"#ed7953\"],[0.7777777777777778,\"#fb9f3a\"],[0.8888888888888888,\"#fdca26\"],[1.0,\"#f0f921\"]],\"type\":\"heatmap\"}],\"heatmapgl\":[{\"colorbar\":{\"outlinewidth\":0,\"ticks\":\"\"},\"colorscale\":[[0.0,\"#0d0887\"],[0.1111111111111111,\"#46039f\"],[0.2222222222222222,\"#7201a8\"],[0.3333333333333333,\"#9c179e\"],[0.4444444444444444,\"#bd3786\"],[0.5555555555555556,\"#d8576b\"],[0.6666666666666666,\"#ed7953\"],[0.7777777777777778,\"#fb9f3a\"],[0.8888888888888888,\"#fdca26\"],[1.0,\"#f0f921\"]],\"type\":\"heatmapgl\"}],\"histogram\":[{\"marker\":{\"pattern\":{\"fillmode\":\"overlay\",\"size\":10,\"solidity\":0.2}},\"type\":\"histogram\"}],\"histogram2d\":[{\"colorbar\":{\"outlinewidth\":0,\"ticks\":\"\"},\"colorscale\":[[0.0,\"#0d0887\"],[0.1111111111111111,\"#46039f\"],[0.2222222222222222,\"#7201a8\"],[0.3333333333333333,\"#9c179e\"],[0.4444444444444444,\"#bd3786\"],[0.5555555555555556,\"#d8576b\"],[0.6666666666666666,\"#ed7953\"],[0.7777777777777778,\"#fb9f3a\"],[0.8888888888888888,\"#fdca26\"],[1.0,\"#f0f921\"]],\"type\":\"histogram2d\"}],\"histogram2dcontour\":[{\"colorbar\":{\"outlinewidth\":0,\"ticks\":\"\"},\"colorscale\":[[0.0,\"#0d0887\"],[0.1111111111111111,\"#46039f\"],[0.2222222222222222,\"#7201a8\"],[0.3333333333333333,\"#9c179e\"],[0.4444444444444444,\"#bd3786\"],[0.5555555555555556,\"#d8576b\"],[0.6666666666666666,\"#ed7953\"],[0.7777777777777778,\"#fb9f3a\"],[0.8888888888888888,\"#fdca26\"],[1.0,\"#f0f921\"]],\"type\":\"histogram2dcontour\"}],\"mesh3d\":[{\"colorbar\":{\"outlinewidth\":0,\"ticks\":\"\"},\"type\":\"mesh3d\"}],\"parcoords\":[{\"line\":{\"colorbar\":{\"outlinewidth\":0,\"ticks\":\"\"}},\"type\":\"parcoords\"}],\"pie\":[{\"automargin\":true,\"type\":\"pie\"}],\"scatter\":[{\"marker\":{\"colorbar\":{\"outlinewidth\":0,\"ticks\":\"\"}},\"type\":\"scatter\"}],\"scatter3d\":[{\"line\":{\"colorbar\":{\"outlinewidth\":0,\"ticks\":\"\"}},\"marker\":{\"colorbar\":{\"outlinewidth\":0,\"ticks\":\"\"}},\"type\":\"scatter3d\"}],\"scattercarpet\":[{\"marker\":{\"colorbar\":{\"outlinewidth\":0,\"ticks\":\"\"}},\"type\":\"scattercarpet\"}],\"scattergeo\":[{\"marker\":{\"colorbar\":{\"outlinewidth\":0,\"ticks\":\"\"}},\"type\":\"scattergeo\"}],\"scattergl\":[{\"marker\":{\"colorbar\":{\"outlinewidth\":0,\"ticks\":\"\"}},\"type\":\"scattergl\"}],\"scattermapbox\":[{\"marker\":{\"colorbar\":{\"outlinewidth\":0,\"ticks\":\"\"}},\"type\":\"scattermapbox\"}],\"scatterpolar\":[{\"marker\":{\"colorbar\":{\"outlinewidth\":0,\"ticks\":\"\"}},\"type\":\"scatterpolar\"}],\"scatterpolargl\":[{\"marker\":{\"colorbar\":{\"outlinewidth\":0,\"ticks\":\"\"}},\"type\":\"scatterpolargl\"}],\"scatterternary\":[{\"marker\":{\"colorbar\":{\"outlinewidth\":0,\"ticks\":\"\"}},\"type\":\"scatterternary\"}],\"surface\":[{\"colorbar\":{\"outlinewidth\":0,\"ticks\":\"\"},\"colorscale\":[[0.0,\"#0d0887\"],[0.1111111111111111,\"#46039f\"],[0.2222222222222222,\"#7201a8\"],[0.3333333333333333,\"#9c179e\"],[0.4444444444444444,\"#bd3786\"],[0.5555555555555556,\"#d8576b\"],[0.6666666666666666,\"#ed7953\"],[0.7777777777777778,\"#fb9f3a\"],[0.8888888888888888,\"#fdca26\"],[1.0,\"#f0f921\"]],\"type\":\"surface\"}],\"table\":[{\"cells\":{\"fill\":{\"color\":\"#EBF0F8\"},\"line\":{\"color\":\"white\"}},\"header\":{\"fill\":{\"color\":\"#C8D4E3\"},\"line\":{\"color\":\"white\"}},\"type\":\"table\"}]},\"layout\":{\"annotationdefaults\":{\"arrowcolor\":\"#2a3f5f\",\"arrowhead\":0,\"arrowwidth\":1},\"autotypenumbers\":\"strict\",\"coloraxis\":{\"colorbar\":{\"outlinewidth\":0,\"ticks\":\"\"}},\"colorscale\":{\"diverging\":[[0,\"#8e0152\"],[0.1,\"#c51b7d\"],[0.2,\"#de77ae\"],[0.3,\"#f1b6da\"],[0.4,\"#fde0ef\"],[0.5,\"#f7f7f7\"],[0.6,\"#e6f5d0\"],[0.7,\"#b8e186\"],[0.8,\"#7fbc41\"],[0.9,\"#4d9221\"],[1,\"#276419\"]],\"sequential\":[[0.0,\"#0d0887\"],[0.1111111111111111,\"#46039f\"],[0.2222222222222222,\"#7201a8\"],[0.3333333333333333,\"#9c179e\"],[0.4444444444444444,\"#bd3786\"],[0.5555555555555556,\"#d8576b\"],[0.6666666666666666,\"#ed7953\"],[0.7777777777777778,\"#fb9f3a\"],[0.8888888888888888,\"#fdca26\"],[1.0,\"#f0f921\"]],\"sequentialminus\":[[0.0,\"#0d0887\"],[0.1111111111111111,\"#46039f\"],[0.2222222222222222,\"#7201a8\"],[0.3333333333333333,\"#9c179e\"],[0.4444444444444444,\"#bd3786\"],[0.5555555555555556,\"#d8576b\"],[0.6666666666666666,\"#ed7953\"],[0.7777777777777778,\"#fb9f3a\"],[0.8888888888888888,\"#fdca26\"],[1.0,\"#f0f921\"]]},\"colorway\":[\"#636efa\",\"#EF553B\",\"#00cc96\",\"#ab63fa\",\"#FFA15A\",\"#19d3f3\",\"#FF6692\",\"#B6E880\",\"#FF97FF\",\"#FECB52\"],\"font\":{\"color\":\"#2a3f5f\"},\"geo\":{\"bgcolor\":\"white\",\"lakecolor\":\"white\",\"landcolor\":\"#E5ECF6\",\"showlakes\":true,\"showland\":true,\"subunitcolor\":\"white\"},\"hoverlabel\":{\"align\":\"left\"},\"hovermode\":\"closest\",\"mapbox\":{\"style\":\"light\"},\"paper_bgcolor\":\"white\",\"plot_bgcolor\":\"#E5ECF6\",\"polar\":{\"angularaxis\":{\"gridcolor\":\"white\",\"linecolor\":\"white\",\"ticks\":\"\"},\"bgcolor\":\"#E5ECF6\",\"radialaxis\":{\"gridcolor\":\"white\",\"linecolor\":\"white\",\"ticks\":\"\"}},\"scene\":{\"xaxis\":{\"backgroundcolor\":\"#E5ECF6\",\"gridcolor\":\"white\",\"gridwidth\":2,\"linecolor\":\"white\",\"showbackground\":true,\"ticks\":\"\",\"zerolinecolor\":\"white\"},\"yaxis\":{\"backgroundcolor\":\"#E5ECF6\",\"gridcolor\":\"white\",\"gridwidth\":2,\"linecolor\":\"white\",\"showbackground\":true,\"ticks\":\"\",\"zerolinecolor\":\"white\"},\"zaxis\":{\"backgroundcolor\":\"#E5ECF6\",\"gridcolor\":\"white\",\"gridwidth\":2,\"linecolor\":\"white\",\"showbackground\":true,\"ticks\":\"\",\"zerolinecolor\":\"white\"}},\"shapedefaults\":{\"line\":{\"color\":\"#2a3f5f\"}},\"ternary\":{\"aaxis\":{\"gridcolor\":\"white\",\"linecolor\":\"white\",\"ticks\":\"\"},\"baxis\":{\"gridcolor\":\"white\",\"linecolor\":\"white\",\"ticks\":\"\"},\"bgcolor\":\"#E5ECF6\",\"caxis\":{\"gridcolor\":\"white\",\"linecolor\":\"white\",\"ticks\":\"\"}},\"title\":{\"x\":0.05},\"xaxis\":{\"automargin\":true,\"gridcolor\":\"white\",\"linecolor\":\"white\",\"ticks\":\"\",\"title\":{\"standoff\":15},\"zerolinecolor\":\"white\",\"zerolinewidth\":2},\"yaxis\":{\"automargin\":true,\"gridcolor\":\"white\",\"linecolor\":\"white\",\"ticks\":\"\",\"title\":{\"standoff\":15},\"zerolinecolor\":\"white\",\"zerolinewidth\":2}}},\"xaxis\":{\"anchor\":\"y\",\"domain\":[0.0,1.0],\"title\":{\"text\":\"Calories\"}},\"yaxis\":{\"anchor\":\"x\",\"domain\":[0.0,1.0],\"title\":{\"text\":\"value\"}},\"legend\":{\"title\":{\"text\":\"variable\"},\"tracegroupgap\":0},\"margin\":{\"t\":60}},                        {\"responsive\": true}                    ).then(function(){\n",
              "                            \n",
              "var gd = document.getElementById('87538408-09a1-4f58-bbfb-2e039e389380');\n",
              "var x = new MutationObserver(function (mutations, observer) {{\n",
              "        var display = window.getComputedStyle(gd).display;\n",
              "        if (!display || display === 'none') {{\n",
              "            console.log([gd, 'removed!']);\n",
              "            Plotly.purge(gd);\n",
              "            observer.disconnect();\n",
              "        }}\n",
              "}});\n",
              "\n",
              "// Listen for the removal of the full notebook cells\n",
              "var notebookContainer = gd.closest('#notebook-container');\n",
              "if (notebookContainer) {{\n",
              "    x.observe(notebookContainer, {childList: true});\n",
              "}}\n",
              "\n",
              "// Listen for the clearing of the current output cell\n",
              "var outputEl = gd.closest('.output');\n",
              "if (outputEl) {{\n",
              "    x.observe(outputEl, {childList: true});\n",
              "}}\n",
              "\n",
              "                        })                };                            </script>        </div>\n",
              "</body>\n",
              "</html>"
            ]
          },
          "metadata": {}
        }
      ]
    },
    {
      "cell_type": "code",
      "source": [
        "# pie chart\n",
        "\n",
        "y = df['Age'].value_counts()\n",
        "\n",
        "fig = px.pie(df, values=y, names=y.index)\n",
        "fig.show()"
      ],
      "metadata": {
        "id": "g64gqZIqwiv9",
        "colab": {
          "base_uri": "https://localhost:8080/",
          "height": 542
        },
        "outputId": "abcef16f-97e2-4cb2-ed2c-8c9a8ac68030"
      },
      "execution_count": 11,
      "outputs": [
        {
          "output_type": "display_data",
          "data": {
            "text/html": [
              "<html>\n",
              "<head><meta charset=\"utf-8\" /></head>\n",
              "<body>\n",
              "    <div>            <script src=\"https://cdnjs.cloudflare.com/ajax/libs/mathjax/2.7.5/MathJax.js?config=TeX-AMS-MML_SVG\"></script><script type=\"text/javascript\">if (window.MathJax) {MathJax.Hub.Config({SVG: {font: \"STIX-Web\"}});}</script>                <script type=\"text/javascript\">window.PlotlyConfig = {MathJaxConfig: 'local'};</script>\n",
              "        <script src=\"https://cdn.plot.ly/plotly-2.8.3.min.js\"></script>                <div id=\"c0390691-3661-405a-b807-2a86fbac1b3b\" class=\"plotly-graph-div\" style=\"height:525px; width:100%;\"></div>            <script type=\"text/javascript\">                                    window.PLOTLYENV=window.PLOTLYENV || {};                                    if (document.getElementById(\"c0390691-3661-405a-b807-2a86fbac1b3b\")) {                    Plotly.newPlot(                        \"c0390691-3661-405a-b807-2a86fbac1b3b\",                        [{\"domain\":{\"x\":[0.0,1.0],\"y\":[0.0,1.0]},\"hovertemplate\":\"label=%{label}<br>value=%{value}<extra></extra>\",\"labels\":[25.0,24.0,27.0,23.0,26.0,28.0,22.0,30.0,29.0,31.0,20.0,21.0,36.0,32.0,33.0,35.0,34.0,38.0,19.0,40.0,37.0,39.0],\"legendgroup\":\"\",\"name\":\"\",\"showlegend\":true,\"values\":[41,41,35,33,32,27,23,20,17,17,15,14,9,9,8,7,7,3,2,2,1,1],\"type\":\"pie\"}],                        {\"template\":{\"data\":{\"bar\":[{\"error_x\":{\"color\":\"#2a3f5f\"},\"error_y\":{\"color\":\"#2a3f5f\"},\"marker\":{\"line\":{\"color\":\"#E5ECF6\",\"width\":0.5},\"pattern\":{\"fillmode\":\"overlay\",\"size\":10,\"solidity\":0.2}},\"type\":\"bar\"}],\"barpolar\":[{\"marker\":{\"line\":{\"color\":\"#E5ECF6\",\"width\":0.5},\"pattern\":{\"fillmode\":\"overlay\",\"size\":10,\"solidity\":0.2}},\"type\":\"barpolar\"}],\"carpet\":[{\"aaxis\":{\"endlinecolor\":\"#2a3f5f\",\"gridcolor\":\"white\",\"linecolor\":\"white\",\"minorgridcolor\":\"white\",\"startlinecolor\":\"#2a3f5f\"},\"baxis\":{\"endlinecolor\":\"#2a3f5f\",\"gridcolor\":\"white\",\"linecolor\":\"white\",\"minorgridcolor\":\"white\",\"startlinecolor\":\"#2a3f5f\"},\"type\":\"carpet\"}],\"choropleth\":[{\"colorbar\":{\"outlinewidth\":0,\"ticks\":\"\"},\"type\":\"choropleth\"}],\"contour\":[{\"colorbar\":{\"outlinewidth\":0,\"ticks\":\"\"},\"colorscale\":[[0.0,\"#0d0887\"],[0.1111111111111111,\"#46039f\"],[0.2222222222222222,\"#7201a8\"],[0.3333333333333333,\"#9c179e\"],[0.4444444444444444,\"#bd3786\"],[0.5555555555555556,\"#d8576b\"],[0.6666666666666666,\"#ed7953\"],[0.7777777777777778,\"#fb9f3a\"],[0.8888888888888888,\"#fdca26\"],[1.0,\"#f0f921\"]],\"type\":\"contour\"}],\"contourcarpet\":[{\"colorbar\":{\"outlinewidth\":0,\"ticks\":\"\"},\"type\":\"contourcarpet\"}],\"heatmap\":[{\"colorbar\":{\"outlinewidth\":0,\"ticks\":\"\"},\"colorscale\":[[0.0,\"#0d0887\"],[0.1111111111111111,\"#46039f\"],[0.2222222222222222,\"#7201a8\"],[0.3333333333333333,\"#9c179e\"],[0.4444444444444444,\"#bd3786\"],[0.5555555555555556,\"#d8576b\"],[0.6666666666666666,\"#ed7953\"],[0.7777777777777778,\"#fb9f3a\"],[0.8888888888888888,\"#fdca26\"],[1.0,\"#f0f921\"]],\"type\":\"heatmap\"}],\"heatmapgl\":[{\"colorbar\":{\"outlinewidth\":0,\"ticks\":\"\"},\"colorscale\":[[0.0,\"#0d0887\"],[0.1111111111111111,\"#46039f\"],[0.2222222222222222,\"#7201a8\"],[0.3333333333333333,\"#9c179e\"],[0.4444444444444444,\"#bd3786\"],[0.5555555555555556,\"#d8576b\"],[0.6666666666666666,\"#ed7953\"],[0.7777777777777778,\"#fb9f3a\"],[0.8888888888888888,\"#fdca26\"],[1.0,\"#f0f921\"]],\"type\":\"heatmapgl\"}],\"histogram\":[{\"marker\":{\"pattern\":{\"fillmode\":\"overlay\",\"size\":10,\"solidity\":0.2}},\"type\":\"histogram\"}],\"histogram2d\":[{\"colorbar\":{\"outlinewidth\":0,\"ticks\":\"\"},\"colorscale\":[[0.0,\"#0d0887\"],[0.1111111111111111,\"#46039f\"],[0.2222222222222222,\"#7201a8\"],[0.3333333333333333,\"#9c179e\"],[0.4444444444444444,\"#bd3786\"],[0.5555555555555556,\"#d8576b\"],[0.6666666666666666,\"#ed7953\"],[0.7777777777777778,\"#fb9f3a\"],[0.8888888888888888,\"#fdca26\"],[1.0,\"#f0f921\"]],\"type\":\"histogram2d\"}],\"histogram2dcontour\":[{\"colorbar\":{\"outlinewidth\":0,\"ticks\":\"\"},\"colorscale\":[[0.0,\"#0d0887\"],[0.1111111111111111,\"#46039f\"],[0.2222222222222222,\"#7201a8\"],[0.3333333333333333,\"#9c179e\"],[0.4444444444444444,\"#bd3786\"],[0.5555555555555556,\"#d8576b\"],[0.6666666666666666,\"#ed7953\"],[0.7777777777777778,\"#fb9f3a\"],[0.8888888888888888,\"#fdca26\"],[1.0,\"#f0f921\"]],\"type\":\"histogram2dcontour\"}],\"mesh3d\":[{\"colorbar\":{\"outlinewidth\":0,\"ticks\":\"\"},\"type\":\"mesh3d\"}],\"parcoords\":[{\"line\":{\"colorbar\":{\"outlinewidth\":0,\"ticks\":\"\"}},\"type\":\"parcoords\"}],\"pie\":[{\"automargin\":true,\"type\":\"pie\"}],\"scatter\":[{\"marker\":{\"colorbar\":{\"outlinewidth\":0,\"ticks\":\"\"}},\"type\":\"scatter\"}],\"scatter3d\":[{\"line\":{\"colorbar\":{\"outlinewidth\":0,\"ticks\":\"\"}},\"marker\":{\"colorbar\":{\"outlinewidth\":0,\"ticks\":\"\"}},\"type\":\"scatter3d\"}],\"scattercarpet\":[{\"marker\":{\"colorbar\":{\"outlinewidth\":0,\"ticks\":\"\"}},\"type\":\"scattercarpet\"}],\"scattergeo\":[{\"marker\":{\"colorbar\":{\"outlinewidth\":0,\"ticks\":\"\"}},\"type\":\"scattergeo\"}],\"scattergl\":[{\"marker\":{\"colorbar\":{\"outlinewidth\":0,\"ticks\":\"\"}},\"type\":\"scattergl\"}],\"scattermapbox\":[{\"marker\":{\"colorbar\":{\"outlinewidth\":0,\"ticks\":\"\"}},\"type\":\"scattermapbox\"}],\"scatterpolar\":[{\"marker\":{\"colorbar\":{\"outlinewidth\":0,\"ticks\":\"\"}},\"type\":\"scatterpolar\"}],\"scatterpolargl\":[{\"marker\":{\"colorbar\":{\"outlinewidth\":0,\"ticks\":\"\"}},\"type\":\"scatterpolargl\"}],\"scatterternary\":[{\"marker\":{\"colorbar\":{\"outlinewidth\":0,\"ticks\":\"\"}},\"type\":\"scatterternary\"}],\"surface\":[{\"colorbar\":{\"outlinewidth\":0,\"ticks\":\"\"},\"colorscale\":[[0.0,\"#0d0887\"],[0.1111111111111111,\"#46039f\"],[0.2222222222222222,\"#7201a8\"],[0.3333333333333333,\"#9c179e\"],[0.4444444444444444,\"#bd3786\"],[0.5555555555555556,\"#d8576b\"],[0.6666666666666666,\"#ed7953\"],[0.7777777777777778,\"#fb9f3a\"],[0.8888888888888888,\"#fdca26\"],[1.0,\"#f0f921\"]],\"type\":\"surface\"}],\"table\":[{\"cells\":{\"fill\":{\"color\":\"#EBF0F8\"},\"line\":{\"color\":\"white\"}},\"header\":{\"fill\":{\"color\":\"#C8D4E3\"},\"line\":{\"color\":\"white\"}},\"type\":\"table\"}]},\"layout\":{\"annotationdefaults\":{\"arrowcolor\":\"#2a3f5f\",\"arrowhead\":0,\"arrowwidth\":1},\"autotypenumbers\":\"strict\",\"coloraxis\":{\"colorbar\":{\"outlinewidth\":0,\"ticks\":\"\"}},\"colorscale\":{\"diverging\":[[0,\"#8e0152\"],[0.1,\"#c51b7d\"],[0.2,\"#de77ae\"],[0.3,\"#f1b6da\"],[0.4,\"#fde0ef\"],[0.5,\"#f7f7f7\"],[0.6,\"#e6f5d0\"],[0.7,\"#b8e186\"],[0.8,\"#7fbc41\"],[0.9,\"#4d9221\"],[1,\"#276419\"]],\"sequential\":[[0.0,\"#0d0887\"],[0.1111111111111111,\"#46039f\"],[0.2222222222222222,\"#7201a8\"],[0.3333333333333333,\"#9c179e\"],[0.4444444444444444,\"#bd3786\"],[0.5555555555555556,\"#d8576b\"],[0.6666666666666666,\"#ed7953\"],[0.7777777777777778,\"#fb9f3a\"],[0.8888888888888888,\"#fdca26\"],[1.0,\"#f0f921\"]],\"sequentialminus\":[[0.0,\"#0d0887\"],[0.1111111111111111,\"#46039f\"],[0.2222222222222222,\"#7201a8\"],[0.3333333333333333,\"#9c179e\"],[0.4444444444444444,\"#bd3786\"],[0.5555555555555556,\"#d8576b\"],[0.6666666666666666,\"#ed7953\"],[0.7777777777777778,\"#fb9f3a\"],[0.8888888888888888,\"#fdca26\"],[1.0,\"#f0f921\"]]},\"colorway\":[\"#636efa\",\"#EF553B\",\"#00cc96\",\"#ab63fa\",\"#FFA15A\",\"#19d3f3\",\"#FF6692\",\"#B6E880\",\"#FF97FF\",\"#FECB52\"],\"font\":{\"color\":\"#2a3f5f\"},\"geo\":{\"bgcolor\":\"white\",\"lakecolor\":\"white\",\"landcolor\":\"#E5ECF6\",\"showlakes\":true,\"showland\":true,\"subunitcolor\":\"white\"},\"hoverlabel\":{\"align\":\"left\"},\"hovermode\":\"closest\",\"mapbox\":{\"style\":\"light\"},\"paper_bgcolor\":\"white\",\"plot_bgcolor\":\"#E5ECF6\",\"polar\":{\"angularaxis\":{\"gridcolor\":\"white\",\"linecolor\":\"white\",\"ticks\":\"\"},\"bgcolor\":\"#E5ECF6\",\"radialaxis\":{\"gridcolor\":\"white\",\"linecolor\":\"white\",\"ticks\":\"\"}},\"scene\":{\"xaxis\":{\"backgroundcolor\":\"#E5ECF6\",\"gridcolor\":\"white\",\"gridwidth\":2,\"linecolor\":\"white\",\"showbackground\":true,\"ticks\":\"\",\"zerolinecolor\":\"white\"},\"yaxis\":{\"backgroundcolor\":\"#E5ECF6\",\"gridcolor\":\"white\",\"gridwidth\":2,\"linecolor\":\"white\",\"showbackground\":true,\"ticks\":\"\",\"zerolinecolor\":\"white\"},\"zaxis\":{\"backgroundcolor\":\"#E5ECF6\",\"gridcolor\":\"white\",\"gridwidth\":2,\"linecolor\":\"white\",\"showbackground\":true,\"ticks\":\"\",\"zerolinecolor\":\"white\"}},\"shapedefaults\":{\"line\":{\"color\":\"#2a3f5f\"}},\"ternary\":{\"aaxis\":{\"gridcolor\":\"white\",\"linecolor\":\"white\",\"ticks\":\"\"},\"baxis\":{\"gridcolor\":\"white\",\"linecolor\":\"white\",\"ticks\":\"\"},\"bgcolor\":\"#E5ECF6\",\"caxis\":{\"gridcolor\":\"white\",\"linecolor\":\"white\",\"ticks\":\"\"}},\"title\":{\"x\":0.05},\"xaxis\":{\"automargin\":true,\"gridcolor\":\"white\",\"linecolor\":\"white\",\"ticks\":\"\",\"title\":{\"standoff\":15},\"zerolinecolor\":\"white\",\"zerolinewidth\":2},\"yaxis\":{\"automargin\":true,\"gridcolor\":\"white\",\"linecolor\":\"white\",\"ticks\":\"\",\"title\":{\"standoff\":15},\"zerolinecolor\":\"white\",\"zerolinewidth\":2}}},\"legend\":{\"tracegroupgap\":0},\"margin\":{\"t\":60}},                        {\"responsive\": true}                    ).then(function(){\n",
              "                            \n",
              "var gd = document.getElementById('c0390691-3661-405a-b807-2a86fbac1b3b');\n",
              "var x = new MutationObserver(function (mutations, observer) {{\n",
              "        var display = window.getComputedStyle(gd).display;\n",
              "        if (!display || display === 'none') {{\n",
              "            console.log([gd, 'removed!']);\n",
              "            Plotly.purge(gd);\n",
              "            observer.disconnect();\n",
              "        }}\n",
              "}});\n",
              "\n",
              "// Listen for the removal of the full notebook cells\n",
              "var notebookContainer = gd.closest('#notebook-container');\n",
              "if (notebookContainer) {{\n",
              "    x.observe(notebookContainer, {childList: true});\n",
              "}}\n",
              "\n",
              "// Listen for the clearing of the current output cell\n",
              "var outputEl = gd.closest('.output');\n",
              "if (outputEl) {{\n",
              "    x.observe(outputEl, {childList: true});\n",
              "}}\n",
              "\n",
              "                        })                };                            </script>        </div>\n",
              "</body>\n",
              "</html>"
            ]
          },
          "metadata": {}
        }
      ]
    },
    {
      "cell_type": "markdown",
      "source": [
        "2. Statistical chart\n",
        "\n",
        "such as box plots, histograms, and distrubution plots\n",
        "\n",
        "\n",
        "---\n",
        "\n",
        "BOX PLOT\n",
        "\n",
        "It is a chart that depicts a group of numerical data through their quartiles. It is a simple way to visualize the shape of our data. It makes comparing characteristics of data between categories very easy.\n",
        "\n",
        "A box plot gives a five-number summary of a set of data which is-\n",
        "\n",
        "1. Minimum – It is the minimum value in the dataset excluding the outliers\n",
        "2. First Quartile (Q1) – 25% of the data lies below the First (lower) Quartile.\n",
        "3. Median (Q2) – It is the mid-point of the dataset. Half of the values lie below it and half above.\n",
        "4. Third Quartile (Q3) – 75% of the data lies below the Third (Upper) Quartile.\n",
        "5. Maximum – It is the maximum value in the dataset excluding the outliers.\n",
        "![image.png](data:image/png;base64,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)\n",
        "\n",
        "The plots can have skewness and the median might not be at the center of the box. Box Plots shows Skewness of the data-\n",
        "\n",
        "* If the Median is at the center of the Box and the whiskers are almost the same on both the ends, then the data is Normally Distributed.\n",
        "* If the Median lies closer to the First Quartile and if the whisker at the lower end is shorter, then it has a Positive Skew (Right Skew).\n",
        "* If the Median lies closer to the Third Quartile and if the whisker at the upper end is shorter then it has a Negative Skew (Left Skew)."
      ],
      "metadata": {
        "id": "vTqNk-LKJHca"
      }
    },
    {
      "cell_type": "code",
      "source": [
        "fig = px.box(df, y=\"Salary\")\n",
        "fig.show()"
      ],
      "metadata": {
        "id": "Z6uTt92SngJ7",
        "colab": {
          "base_uri": "https://localhost:8080/",
          "height": 542
        },
        "outputId": "8f342be5-1b61-4296-965c-a639e158885d"
      },
      "execution_count": 12,
      "outputs": [
        {
          "output_type": "display_data",
          "data": {
            "text/html": [
              "<html>\n",
              "<head><meta charset=\"utf-8\" /></head>\n",
              "<body>\n",
              "    <div>            <script src=\"https://cdnjs.cloudflare.com/ajax/libs/mathjax/2.7.5/MathJax.js?config=TeX-AMS-MML_SVG\"></script><script type=\"text/javascript\">if (window.MathJax) {MathJax.Hub.Config({SVG: {font: \"STIX-Web\"}});}</script>                <script type=\"text/javascript\">window.PlotlyConfig = {MathJaxConfig: 'local'};</script>\n",
              "        <script src=\"https://cdn.plot.ly/plotly-2.8.3.min.js\"></script>                <div id=\"9d5d9c57-9fb4-4079-905f-0d1d23254308\" class=\"plotly-graph-div\" style=\"height:525px; width:100%;\"></div>            <script type=\"text/javascript\">                                    window.PLOTLYENV=window.PLOTLYENV || {};                                    if (document.getElementById(\"9d5d9c57-9fb4-4079-905f-0d1d23254308\")) {                    Plotly.newPlot(                        \"9d5d9c57-9fb4-4079-905f-0d1d23254308\",                        [{\"alignmentgroup\":\"True\",\"hovertemplate\":\"Salary=%{y}<extra></extra>\",\"legendgroup\":\"\",\"marker\":{\"color\":\"#636efa\"},\"name\":\"\",\"notched\":false,\"offsetgroup\":\"\",\"orientation\":\"v\",\"showlegend\":false,\"x0\":\" \",\"xaxis\":\"x\",\"y\":[7730337.0,6796117.0,1148640.0,1170960.0,2165160.0,1824360.0,3431040.0,2569260.0,6912869.0,3425510.0,1749840.0,2616975.0,845059.0,1500000.0,1335480.0,6300000.0,134215.0,1500000.0,19689000.0,1140240.0,947276.0,981348.0,947276.0,947276.0,11235955.0,8000000.0,1635476.0,22875000.0,845059.0,845059.0,1572360.0,12650000.0,3750000.0,1636842.0,4000000.0,167406.0,947276.0,1000000.0,4626960.0,845059.0,1074169.0,6500000.0,2144772.0,525093.0,3457800.0,4582680.0,947276.0,2869440.0,947276.0,525093.0,13600000.0,10050000.0,2500000.0,7000000.0,12000000.0,6268675.0,650000.0,3553917.0,245177.0,1509360.0,3873398.0,13800000.0,947276.0,11370786.0,2008748.0,14260870.0,11710456.0,1131960.0,845059.0,1270964.0,3815000.0,15501000.0,1100602.0,111444.0,5675000.0,525093.0,9650000.0,18907726.0,1100602.0,19689000.0,947276.0,21468695.0,3376000.0,7085000.0,3110796.0,1159680.0,3000000.0,845059.0,700000.0,845059.0,15592217.0,1724250.0,1155600.0,3132240.0,5103120.0,981348.0,947276.0,5219169.0,13500000.0,2127840.0,206192.0,1160160.0,981348.0,13500000.0,3807120.0,1035000.0,55722.0,947276.0,5500000.0,2041080.0,83397.0,981348.0,1015421.0,1449187.0,3398280.0,5013559.0,15851950.0,947276.0,525093.0,12403101.0,7700000.0,3156600.0,845059.0,9500000.0,845059.0,2250000.0,16407500.0,4500000.0,8500000.0,947276.0,2380440.0,1015421.0,13400000.0,1391160.0,20093064.0,1535880.0,1147276.0,8193029.0,16407501.0,947276.0,947276.0,1276000.0,19689000.0,111196.0,8988765.0,14260870.0,2100000.0,2500000.0,6500000.0,2170465.0,111444.0,1252440.0,2891760.0,845059.0,3272091.0,16000000.0,600000.0,13913044.0,2841960.0,6270000.0,5000000.0,3000000.0,4050000.0,1007026.0,17120106.0,8000000.0,4000000.0,1358880.0,211744.0,1100000.0,7000000.0,2357760.0,845059.0,1007026.0,3000000.0,2399040.0,947276.0,1662360.0,2943221.0,8000000.0,14700000.0,16407500.0,295327.0,845059.0,5152440.0,2109294.0,6600000.0,1733040.0,1449000.0,4290000.0,1100602.0,3950313.0,4053446.0,2085671.0,16407500.0,1270964.0,15361500.0,845059.0,947276.0,5378974.0,8193030.0,306527.0,6486486.0,8229375.0,1646400.0,200600.0,15756438.0,1000000.0,2489530.0,3189794.0,947276.0,1404600.0,5158539.0,5000000.0,3542500.0,4088019.0,9588426.0,700902.0,845059.0,1201440.0,1230840.0,9638555.0,9000000.0,5464000.0,8500000.0,1100602.0,3036927.0,2850000.0,7070730.0,169883.0,1164858.0,845059.0,10734586.0,845059.0,1320000.0,15514031.0,1015421.0,10595507.0,55722.0,3382023.0,19689000.0,1142880.0,947276.0,5250000.0,10000000.0,16407500.0,200600.0,250750.0,3578947.0,525093.0,1499187.0,2000000.0,1304520.0,2854940.0,12000000.0,1000000.0,5746479.0,18671659.0,947276.0,525093.0,3333333.0,8000000.0,947276.0,189455.0,947276.0,525093.0,6110034.0,2612520.0,6331404.0,3034356.0,5675000.0,2139000.0,12000000.0,7000000.0,4204200.0,22192730.0,10151612.0,2854940.0,261894.0,845059.0,5543725.0,525093.0,20000000.0,981348.0,2481720.0,947276.0,4171680.0,845059.0,1294440.0,2380593.0,5192520.0,2505720.0,4300000.0,11250000.0,5000000.0,4000000.0,5694674.0,4375000.0,561716.0,3300000.0,273038.0,8000000.0,1920240.0,4662960.0,2170465.0,1100602.0,200600.0,15851950.0,2814000.0,3000000.0,3533333.0,10449438.0,11235955.0,1584480.0,947276.0,4345000.0,258489.0,1474440.0,1282080.0,2148360.0,2056920.0,1938840.0,947276.0,5703600.0,5758680.0,2279040.0,3750000.0,20158622.0,3135000.0,1140240.0,16407500.0,1463040.0,222888.0,3344000.0,2021520.0,1210800.0,4500000.0,5138430.0,16744218.0,525093.0,8042895.0,625093.0,947276.0,6980802.0,2894059.0,6000000.0,5016000.0,3075880.0,4236287.0,2525160.0,525093.0,1415520.0,2854940.0,2637720.0,4775000.0,2658240.0,9463484.0,12000000.0,15409570.0,1348440.0,981348.0,2239800.0,2433333.0,947276.0],\"y0\":\" \",\"yaxis\":\"y\",\"type\":\"box\"}],                        {\"template\":{\"data\":{\"bar\":[{\"error_x\":{\"color\":\"#2a3f5f\"},\"error_y\":{\"color\":\"#2a3f5f\"},\"marker\":{\"line\":{\"color\":\"#E5ECF6\",\"width\":0.5},\"pattern\":{\"fillmode\":\"overlay\",\"size\":10,\"solidity\":0.2}},\"type\":\"bar\"}],\"barpolar\":[{\"marker\":{\"line\":{\"color\":\"#E5ECF6\",\"width\":0.5},\"pattern\":{\"fillmode\":\"overlay\",\"size\":10,\"solidity\":0.2}},\"type\":\"barpolar\"}],\"carpet\":[{\"aaxis\":{\"endlinecolor\":\"#2a3f5f\",\"gridcolor\":\"white\",\"linecolor\":\"white\",\"minorgridcolor\":\"white\",\"startlinecolor\":\"#2a3f5f\"},\"baxis\":{\"endlinecolor\":\"#2a3f5f\",\"gridcolor\":\"white\",\"linecolor\":\"white\",\"minorgridcolor\":\"white\",\"startlinecolor\":\"#2a3f5f\"},\"type\":\"carpet\"}],\"choropleth\":[{\"colorbar\":{\"outlinewidth\":0,\"ticks\":\"\"},\"type\":\"choropleth\"}],\"contour\":[{\"colorbar\":{\"outlinewidth\":0,\"ticks\":\"\"},\"colorscale\":[[0.0,\"#0d0887\"],[0.1111111111111111,\"#46039f\"],[0.2222222222222222,\"#7201a8\"],[0.3333333333333333,\"#9c179e\"],[0.4444444444444444,\"#bd3786\"],[0.5555555555555556,\"#d8576b\"],[0.6666666666666666,\"#ed7953\"],[0.7777777777777778,\"#fb9f3a\"],[0.8888888888888888,\"#fdca26\"],[1.0,\"#f0f921\"]],\"type\":\"contour\"}],\"contourcarpet\":[{\"colorbar\":{\"outlinewidth\":0,\"ticks\":\"\"},\"type\":\"contourcarpet\"}],\"heatmap\":[{\"colorbar\":{\"outlinewidth\":0,\"ticks\":\"\"},\"colorscale\":[[0.0,\"#0d0887\"],[0.1111111111111111,\"#46039f\"],[0.2222222222222222,\"#7201a8\"],[0.3333333333333333,\"#9c179e\"],[0.4444444444444444,\"#bd3786\"],[0.5555555555555556,\"#d8576b\"],[0.6666666666666666,\"#ed7953\"],[0.7777777777777778,\"#fb9f3a\"],[0.8888888888888888,\"#fdca26\"],[1.0,\"#f0f921\"]],\"type\":\"heatmap\"}],\"heatmapgl\":[{\"colorbar\":{\"outlinewidth\":0,\"ticks\":\"\"},\"colorscale\":[[0.0,\"#0d0887\"],[0.1111111111111111,\"#46039f\"],[0.2222222222222222,\"#7201a8\"],[0.3333333333333333,\"#9c179e\"],[0.4444444444444444,\"#bd3786\"],[0.5555555555555556,\"#d8576b\"],[0.6666666666666666,\"#ed7953\"],[0.7777777777777778,\"#fb9f3a\"],[0.8888888888888888,\"#fdca26\"],[1.0,\"#f0f921\"]],\"type\":\"heatmapgl\"}],\"histogram\":[{\"marker\":{\"pattern\":{\"fillmode\":\"overlay\",\"size\":10,\"solidity\":0.2}},\"type\":\"histogram\"}],\"histogram2d\":[{\"colorbar\":{\"outlinewidth\":0,\"ticks\":\"\"},\"colorscale\":[[0.0,\"#0d0887\"],[0.1111111111111111,\"#46039f\"],[0.2222222222222222,\"#7201a8\"],[0.3333333333333333,\"#9c179e\"],[0.4444444444444444,\"#bd3786\"],[0.5555555555555556,\"#d8576b\"],[0.6666666666666666,\"#ed7953\"],[0.7777777777777778,\"#fb9f3a\"],[0.8888888888888888,\"#fdca26\"],[1.0,\"#f0f921\"]],\"type\":\"histogram2d\"}],\"histogram2dcontour\":[{\"colorbar\":{\"outlinewidth\":0,\"ticks\":\"\"},\"colorscale\":[[0.0,\"#0d0887\"],[0.1111111111111111,\"#46039f\"],[0.2222222222222222,\"#7201a8\"],[0.3333333333333333,\"#9c179e\"],[0.4444444444444444,\"#bd3786\"],[0.5555555555555556,\"#d8576b\"],[0.6666666666666666,\"#ed7953\"],[0.7777777777777778,\"#fb9f3a\"],[0.8888888888888888,\"#fdca26\"],[1.0,\"#f0f921\"]],\"type\":\"histogram2dcontour\"}],\"mesh3d\":[{\"colorbar\":{\"outlinewidth\":0,\"ticks\":\"\"},\"type\":\"mesh3d\"}],\"parcoords\":[{\"line\":{\"colorbar\":{\"outlinewidth\":0,\"ticks\":\"\"}},\"type\":\"parcoords\"}],\"pie\":[{\"automargin\":true,\"type\":\"pie\"}],\"scatter\":[{\"marker\":{\"colorbar\":{\"outlinewidth\":0,\"ticks\":\"\"}},\"type\":\"scatter\"}],\"scatter3d\":[{\"line\":{\"colorbar\":{\"outlinewidth\":0,\"ticks\":\"\"}},\"marker\":{\"colorbar\":{\"outlinewidth\":0,\"ticks\":\"\"}},\"type\":\"scatter3d\"}],\"scattercarpet\":[{\"marker\":{\"colorbar\":{\"outlinewidth\":0,\"ticks\":\"\"}},\"type\":\"scattercarpet\"}],\"scattergeo\":[{\"marker\":{\"colorbar\":{\"outlinewidth\":0,\"ticks\":\"\"}},\"type\":\"scattergeo\"}],\"scattergl\":[{\"marker\":{\"colorbar\":{\"outlinewidth\":0,\"ticks\":\"\"}},\"type\":\"scattergl\"}],\"scattermapbox\":[{\"marker\":{\"colorbar\":{\"outlinewidth\":0,\"ticks\":\"\"}},\"type\":\"scattermapbox\"}],\"scatterpolar\":[{\"marker\":{\"colorbar\":{\"outlinewidth\":0,\"ticks\":\"\"}},\"type\":\"scatterpolar\"}],\"scatterpolargl\":[{\"marker\":{\"colorbar\":{\"outlinewidth\":0,\"ticks\":\"\"}},\"type\":\"scatterpolargl\"}],\"scatterternary\":[{\"marker\":{\"colorbar\":{\"outlinewidth\":0,\"ticks\":\"\"}},\"type\":\"scatterternary\"}],\"surface\":[{\"colorbar\":{\"outlinewidth\":0,\"ticks\":\"\"},\"colorscale\":[[0.0,\"#0d0887\"],[0.1111111111111111,\"#46039f\"],[0.2222222222222222,\"#7201a8\"],[0.3333333333333333,\"#9c179e\"],[0.4444444444444444,\"#bd3786\"],[0.5555555555555556,\"#d8576b\"],[0.6666666666666666,\"#ed7953\"],[0.7777777777777778,\"#fb9f3a\"],[0.8888888888888888,\"#fdca26\"],[1.0,\"#f0f921\"]],\"type\":\"surface\"}],\"table\":[{\"cells\":{\"fill\":{\"color\":\"#EBF0F8\"},\"line\":{\"color\":\"white\"}},\"header\":{\"fill\":{\"color\":\"#C8D4E3\"},\"line\":{\"color\":\"white\"}},\"type\":\"table\"}]},\"layout\":{\"annotationdefaults\":{\"arrowcolor\":\"#2a3f5f\",\"arrowhead\":0,\"arrowwidth\":1},\"autotypenumbers\":\"strict\",\"coloraxis\":{\"colorbar\":{\"outlinewidth\":0,\"ticks\":\"\"}},\"colorscale\":{\"diverging\":[[0,\"#8e0152\"],[0.1,\"#c51b7d\"],[0.2,\"#de77ae\"],[0.3,\"#f1b6da\"],[0.4,\"#fde0ef\"],[0.5,\"#f7f7f7\"],[0.6,\"#e6f5d0\"],[0.7,\"#b8e186\"],[0.8,\"#7fbc41\"],[0.9,\"#4d9221\"],[1,\"#276419\"]],\"sequential\":[[0.0,\"#0d0887\"],[0.1111111111111111,\"#46039f\"],[0.2222222222222222,\"#7201a8\"],[0.3333333333333333,\"#9c179e\"],[0.4444444444444444,\"#bd3786\"],[0.5555555555555556,\"#d8576b\"],[0.6666666666666666,\"#ed7953\"],[0.7777777777777778,\"#fb9f3a\"],[0.8888888888888888,\"#fdca26\"],[1.0,\"#f0f921\"]],\"sequentialminus\":[[0.0,\"#0d0887\"],[0.1111111111111111,\"#46039f\"],[0.2222222222222222,\"#7201a8\"],[0.3333333333333333,\"#9c179e\"],[0.4444444444444444,\"#bd3786\"],[0.5555555555555556,\"#d8576b\"],[0.6666666666666666,\"#ed7953\"],[0.7777777777777778,\"#fb9f3a\"],[0.8888888888888888,\"#fdca26\"],[1.0,\"#f0f921\"]]},\"colorway\":[\"#636efa\",\"#EF553B\",\"#00cc96\",\"#ab63fa\",\"#FFA15A\",\"#19d3f3\",\"#FF6692\",\"#B6E880\",\"#FF97FF\",\"#FECB52\"],\"font\":{\"color\":\"#2a3f5f\"},\"geo\":{\"bgcolor\":\"white\",\"lakecolor\":\"white\",\"landcolor\":\"#E5ECF6\",\"showlakes\":true,\"showland\":true,\"subunitcolor\":\"white\"},\"hoverlabel\":{\"align\":\"left\"},\"hovermode\":\"closest\",\"mapbox\":{\"style\":\"light\"},\"paper_bgcolor\":\"white\",\"plot_bgcolor\":\"#E5ECF6\",\"polar\":{\"angularaxis\":{\"gridcolor\":\"white\",\"linecolor\":\"white\",\"ticks\":\"\"},\"bgcolor\":\"#E5ECF6\",\"radialaxis\":{\"gridcolor\":\"white\",\"linecolor\":\"white\",\"ticks\":\"\"}},\"scene\":{\"xaxis\":{\"backgroundcolor\":\"#E5ECF6\",\"gridcolor\":\"white\",\"gridwidth\":2,\"linecolor\":\"white\",\"showbackground\":true,\"ticks\":\"\",\"zerolinecolor\":\"white\"},\"yaxis\":{\"backgroundcolor\":\"#E5ECF6\",\"gridcolor\":\"white\",\"gridwidth\":2,\"linecolor\":\"white\",\"showbackground\":true,\"ticks\":\"\",\"zerolinecolor\":\"white\"},\"zaxis\":{\"backgroundcolor\":\"#E5ECF6\",\"gridcolor\":\"white\",\"gridwidth\":2,\"linecolor\":\"white\",\"showbackground\":true,\"ticks\":\"\",\"zerolinecolor\":\"white\"}},\"shapedefaults\":{\"line\":{\"color\":\"#2a3f5f\"}},\"ternary\":{\"aaxis\":{\"gridcolor\":\"white\",\"linecolor\":\"white\",\"ticks\":\"\"},\"baxis\":{\"gridcolor\":\"white\",\"linecolor\":\"white\",\"ticks\":\"\"},\"bgcolor\":\"#E5ECF6\",\"caxis\":{\"gridcolor\":\"white\",\"linecolor\":\"white\",\"ticks\":\"\"}},\"title\":{\"x\":0.05},\"xaxis\":{\"automargin\":true,\"gridcolor\":\"white\",\"linecolor\":\"white\",\"ticks\":\"\",\"title\":{\"standoff\":15},\"zerolinecolor\":\"white\",\"zerolinewidth\":2},\"yaxis\":{\"automargin\":true,\"gridcolor\":\"white\",\"linecolor\":\"white\",\"ticks\":\"\",\"title\":{\"standoff\":15},\"zerolinecolor\":\"white\",\"zerolinewidth\":2}}},\"xaxis\":{\"anchor\":\"y\",\"domain\":[0.0,1.0]},\"yaxis\":{\"anchor\":\"x\",\"domain\":[0.0,1.0],\"title\":{\"text\":\"Salary\"}},\"legend\":{\"tracegroupgap\":0},\"margin\":{\"t\":60},\"boxmode\":\"group\"},                        {\"responsive\": true}                    ).then(function(){\n",
              "                            \n",
              "var gd = document.getElementById('9d5d9c57-9fb4-4079-905f-0d1d23254308');\n",
              "var x = new MutationObserver(function (mutations, observer) {{\n",
              "        var display = window.getComputedStyle(gd).display;\n",
              "        if (!display || display === 'none') {{\n",
              "            console.log([gd, 'removed!']);\n",
              "            Plotly.purge(gd);\n",
              "            observer.disconnect();\n",
              "        }}\n",
              "}});\n",
              "\n",
              "// Listen for the removal of the full notebook cells\n",
              "var notebookContainer = gd.closest('#notebook-container');\n",
              "if (notebookContainer) {{\n",
              "    x.observe(notebookContainer, {childList: true});\n",
              "}}\n",
              "\n",
              "// Listen for the clearing of the current output cell\n",
              "var outputEl = gd.closest('.output');\n",
              "if (outputEl) {{\n",
              "    x.observe(outputEl, {childList: true});\n",
              "}}\n",
              "\n",
              "                        })                };                            </script>        </div>\n",
              "</body>\n",
              "</html>"
            ]
          },
          "metadata": {}
        }
      ]
    },
    {
      "cell_type": "code",
      "source": [
        "fig=px.histogram(df['Age'])\n",
        "fig.show()"
      ],
      "metadata": {
        "id": "Hc4uM4SXHk3o",
        "colab": {
          "base_uri": "https://localhost:8080/",
          "height": 542
        },
        "outputId": "61f4786c-1494-4c73-da16-1da55b3e016f"
      },
      "execution_count": 13,
      "outputs": [
        {
          "output_type": "display_data",
          "data": {
            "text/html": [
              "<html>\n",
              "<head><meta charset=\"utf-8\" /></head>\n",
              "<body>\n",
              "    <div>            <script src=\"https://cdnjs.cloudflare.com/ajax/libs/mathjax/2.7.5/MathJax.js?config=TeX-AMS-MML_SVG\"></script><script type=\"text/javascript\">if (window.MathJax) {MathJax.Hub.Config({SVG: {font: \"STIX-Web\"}});}</script>                <script type=\"text/javascript\">window.PlotlyConfig = {MathJaxConfig: 'local'};</script>\n",
              "        <script src=\"https://cdn.plot.ly/plotly-2.8.3.min.js\"></script>                <div id=\"f9aca800-2de3-479b-ab69-f346c5fd3052\" class=\"plotly-graph-div\" style=\"height:525px; width:100%;\"></div>            <script type=\"text/javascript\">                                    window.PLOTLYENV=window.PLOTLYENV || {};                                    if (document.getElementById(\"f9aca800-2de3-479b-ab69-f346c5fd3052\")) {                    Plotly.newPlot(                        \"f9aca800-2de3-479b-ab69-f346c5fd3052\",                        [{\"alignmentgroup\":\"True\",\"bingroup\":\"x\",\"hovertemplate\":\"variable=Age<br>value=%{x}<br>count=%{y}<extra></extra>\",\"legendgroup\":\"Age\",\"marker\":{\"color\":\"#636efa\",\"pattern\":{\"shape\":\"\"}},\"name\":\"Age\",\"offsetgroup\":\"Age\",\"orientation\":\"v\",\"showlegend\":true,\"x\":[25.0,25.0,22.0,21.0,25.0,22.0,22.0,24.0,27.0,27.0,20.0,26.0,24.0,28.0,21.0,32.0,26.0,23.0,28.0,21.0,26.0,25.0,26.0,28.0,27.0,30.0,33.0,32.0,25.0,24.0,23.0,28.0,26.0,28.0,25.0,23.0,25.0,25.0,22.0,22.0,22.0,32.0,24.0,24.0,22.0,20.0,27.0,22.0,25.0,20.0,29.0,26.0,29.0,24.0,30.0,27.0,23.0,25.0,29.0,24.0,24.0,31.0,25.0,28.0,26.0,26.0,32.0,20.0,23.0,30.0,28.0,26.0,27.0,29.0,36.0,23.0,29.0,27.0,28.0,27.0,29.0,31.0,38.0,31.0,23.0,25.0,31.0,24.0,23.0,24.0,29.0,25.0,23.0,21.0,20.0,27.0,36.0,31.0,26.0,19.0,28.0,21.0,25.0,24.0,22.0,27.0,25.0,32.0,31.0,22.0,23.0,25.0,27.0,36.0,22.0,28.0,25.0,25.0,24.0,29.0,27.0,23.0,24.0,30.0,25.0,31.0,26.0,35.0,30.0,27.0,24.0,27.0,31.0,21.0,27.0,24.0,25.0,33.0,24.0,35.0,35.0,31.0,27.0,25.0,25.0,25.0,33.0,33.0,29.0,36.0,25.0,25.0,23.0,23.0,22.0,23.0,23.0,26.0,20.0,28.0,26.0,31.0,27.0,24.0,26.0,30.0,28.0,25.0,28.0,22.0,30.0,20.0,25.0,23.0,27.0,24.0,25.0,21.0,25.0,28.0,24.0,26.0,32.0,23.0,21.0,27.0,29.0,19.0,22.0,31.0,28.0,31.0,33.0,33.0,29.0,28.0,27.0,24.0,31.0,31.0,30.0,27.0,27.0,30.0,22.0,27.0,26.0,22.0,24.0,23.0,38.0,21.0,34.0,37.0,36.0,39.0,28.0,23.0,25.0,23.0,22.0,34.0,25.0,28.0,28.0,26.0,27.0,29.0,23.0,23.0,30.0,25.0,26.0,25.0,29.0,27.0,25.0,25.0,27.0,28.0,30.0,22.0,36.0,40.0,28.0,24.0,33.0,40.0,27.0,26.0,35.0,26.0,24.0,35.0,30.0,31.0,35.0,31.0,24.0,24.0,27.0,27.0,24.0,27.0,30.0,21.0,28.0,23.0,22.0,24.0,30.0,27.0,26.0,29.0,23.0,32.0,31.0,36.0,34.0,24.0,29.0,22.0,34.0,26.0,20.0,26.0,20.0,23.0,24.0,26.0,24.0,22.0,30.0,25.0,32.0,33.0,22.0,30.0,24.0,34.0,27.0,26.0,20.0,23.0,30.0,30.0,29.0,25.0,28.0,28.0,25.0,29.0,26.0,21.0,36.0,34.0,23.0,26.0,20.0,21.0,23.0,25.0,36.0,20.0,21.0,22.0,35.0,27.0,32.0,24.0,24.0,24.0,38.0,30.0,21.0,24.0,28.0,24.0,27.0,20.0,25.0,23.0,24.0,27.0,23.0,28.0,34.0,24.0,25.0,24.0,23.0,26.0,30.0,20.0,28.0,23.0,24.0,24.0,26.0,23.0,26.0,20.0,26.0,26.0],\"xaxis\":\"x\",\"yaxis\":\"y\",\"type\":\"histogram\"}],                        {\"template\":{\"data\":{\"bar\":[{\"error_x\":{\"color\":\"#2a3f5f\"},\"error_y\":{\"color\":\"#2a3f5f\"},\"marker\":{\"line\":{\"color\":\"#E5ECF6\",\"width\":0.5},\"pattern\":{\"fillmode\":\"overlay\",\"size\":10,\"solidity\":0.2}},\"type\":\"bar\"}],\"barpolar\":[{\"marker\":{\"line\":{\"color\":\"#E5ECF6\",\"width\":0.5},\"pattern\":{\"fillmode\":\"overlay\",\"size\":10,\"solidity\":0.2}},\"type\":\"barpolar\"}],\"carpet\":[{\"aaxis\":{\"endlinecolor\":\"#2a3f5f\",\"gridcolor\":\"white\",\"linecolor\":\"white\",\"minorgridcolor\":\"white\",\"startlinecolor\":\"#2a3f5f\"},\"baxis\":{\"endlinecolor\":\"#2a3f5f\",\"gridcolor\":\"white\",\"linecolor\":\"white\",\"minorgridcolor\":\"white\",\"startlinecolor\":\"#2a3f5f\"},\"type\":\"carpet\"}],\"choropleth\":[{\"colorbar\":{\"outlinewidth\":0,\"ticks\":\"\"},\"type\":\"choropleth\"}],\"contour\":[{\"colorbar\":{\"outlinewidth\":0,\"ticks\":\"\"},\"colorscale\":[[0.0,\"#0d0887\"],[0.1111111111111111,\"#46039f\"],[0.2222222222222222,\"#7201a8\"],[0.3333333333333333,\"#9c179e\"],[0.4444444444444444,\"#bd3786\"],[0.5555555555555556,\"#d8576b\"],[0.6666666666666666,\"#ed7953\"],[0.7777777777777778,\"#fb9f3a\"],[0.8888888888888888,\"#fdca26\"],[1.0,\"#f0f921\"]],\"type\":\"contour\"}],\"contourcarpet\":[{\"colorbar\":{\"outlinewidth\":0,\"ticks\":\"\"},\"type\":\"contourcarpet\"}],\"heatmap\":[{\"colorbar\":{\"outlinewidth\":0,\"ticks\":\"\"},\"colorscale\":[[0.0,\"#0d0887\"],[0.1111111111111111,\"#46039f\"],[0.2222222222222222,\"#7201a8\"],[0.3333333333333333,\"#9c179e\"],[0.4444444444444444,\"#bd3786\"],[0.5555555555555556,\"#d8576b\"],[0.6666666666666666,\"#ed7953\"],[0.7777777777777778,\"#fb9f3a\"],[0.8888888888888888,\"#fdca26\"],[1.0,\"#f0f921\"]],\"type\":\"heatmap\"}],\"heatmapgl\":[{\"colorbar\":{\"outlinewidth\":0,\"ticks\":\"\"},\"colorscale\":[[0.0,\"#0d0887\"],[0.1111111111111111,\"#46039f\"],[0.2222222222222222,\"#7201a8\"],[0.3333333333333333,\"#9c179e\"],[0.4444444444444444,\"#bd3786\"],[0.5555555555555556,\"#d8576b\"],[0.6666666666666666,\"#ed7953\"],[0.7777777777777778,\"#fb9f3a\"],[0.8888888888888888,\"#fdca26\"],[1.0,\"#f0f921\"]],\"type\":\"heatmapgl\"}],\"histogram\":[{\"marker\":{\"pattern\":{\"fillmode\":\"overlay\",\"size\":10,\"solidity\":0.2}},\"type\":\"histogram\"}],\"histogram2d\":[{\"colorbar\":{\"outlinewidth\":0,\"ticks\":\"\"},\"colorscale\":[[0.0,\"#0d0887\"],[0.1111111111111111,\"#46039f\"],[0.2222222222222222,\"#7201a8\"],[0.3333333333333333,\"#9c179e\"],[0.4444444444444444,\"#bd3786\"],[0.5555555555555556,\"#d8576b\"],[0.6666666666666666,\"#ed7953\"],[0.7777777777777778,\"#fb9f3a\"],[0.8888888888888888,\"#fdca26\"],[1.0,\"#f0f921\"]],\"type\":\"histogram2d\"}],\"histogram2dcontour\":[{\"colorbar\":{\"outlinewidth\":0,\"ticks\":\"\"},\"colorscale\":[[0.0,\"#0d0887\"],[0.1111111111111111,\"#46039f\"],[0.2222222222222222,\"#7201a8\"],[0.3333333333333333,\"#9c179e\"],[0.4444444444444444,\"#bd3786\"],[0.5555555555555556,\"#d8576b\"],[0.6666666666666666,\"#ed7953\"],[0.7777777777777778,\"#fb9f3a\"],[0.8888888888888888,\"#fdca26\"],[1.0,\"#f0f921\"]],\"type\":\"histogram2dcontour\"}],\"mesh3d\":[{\"colorbar\":{\"outlinewidth\":0,\"ticks\":\"\"},\"type\":\"mesh3d\"}],\"parcoords\":[{\"line\":{\"colorbar\":{\"outlinewidth\":0,\"ticks\":\"\"}},\"type\":\"parcoords\"}],\"pie\":[{\"automargin\":true,\"type\":\"pie\"}],\"scatter\":[{\"marker\":{\"colorbar\":{\"outlinewidth\":0,\"ticks\":\"\"}},\"type\":\"scatter\"}],\"scatter3d\":[{\"line\":{\"colorbar\":{\"outlinewidth\":0,\"ticks\":\"\"}},\"marker\":{\"colorbar\":{\"outlinewidth\":0,\"ticks\":\"\"}},\"type\":\"scatter3d\"}],\"scattercarpet\":[{\"marker\":{\"colorbar\":{\"outlinewidth\":0,\"ticks\":\"\"}},\"type\":\"scattercarpet\"}],\"scattergeo\":[{\"marker\":{\"colorbar\":{\"outlinewidth\":0,\"ticks\":\"\"}},\"type\":\"scattergeo\"}],\"scattergl\":[{\"marker\":{\"colorbar\":{\"outlinewidth\":0,\"ticks\":\"\"}},\"type\":\"scattergl\"}],\"scattermapbox\":[{\"marker\":{\"colorbar\":{\"outlinewidth\":0,\"ticks\":\"\"}},\"type\":\"scattermapbox\"}],\"scatterpolar\":[{\"marker\":{\"colorbar\":{\"outlinewidth\":0,\"ticks\":\"\"}},\"type\":\"scatterpolar\"}],\"scatterpolargl\":[{\"marker\":{\"colorbar\":{\"outlinewidth\":0,\"ticks\":\"\"}},\"type\":\"scatterpolargl\"}],\"scatterternary\":[{\"marker\":{\"colorbar\":{\"outlinewidth\":0,\"ticks\":\"\"}},\"type\":\"scatterternary\"}],\"surface\":[{\"colorbar\":{\"outlinewidth\":0,\"ticks\":\"\"},\"colorscale\":[[0.0,\"#0d0887\"],[0.1111111111111111,\"#46039f\"],[0.2222222222222222,\"#7201a8\"],[0.3333333333333333,\"#9c179e\"],[0.4444444444444444,\"#bd3786\"],[0.5555555555555556,\"#d8576b\"],[0.6666666666666666,\"#ed7953\"],[0.7777777777777778,\"#fb9f3a\"],[0.8888888888888888,\"#fdca26\"],[1.0,\"#f0f921\"]],\"type\":\"surface\"}],\"table\":[{\"cells\":{\"fill\":{\"color\":\"#EBF0F8\"},\"line\":{\"color\":\"white\"}},\"header\":{\"fill\":{\"color\":\"#C8D4E3\"},\"line\":{\"color\":\"white\"}},\"type\":\"table\"}]},\"layout\":{\"annotationdefaults\":{\"arrowcolor\":\"#2a3f5f\",\"arrowhead\":0,\"arrowwidth\":1},\"autotypenumbers\":\"strict\",\"coloraxis\":{\"colorbar\":{\"outlinewidth\":0,\"ticks\":\"\"}},\"colorscale\":{\"diverging\":[[0,\"#8e0152\"],[0.1,\"#c51b7d\"],[0.2,\"#de77ae\"],[0.3,\"#f1b6da\"],[0.4,\"#fde0ef\"],[0.5,\"#f7f7f7\"],[0.6,\"#e6f5d0\"],[0.7,\"#b8e186\"],[0.8,\"#7fbc41\"],[0.9,\"#4d9221\"],[1,\"#276419\"]],\"sequential\":[[0.0,\"#0d0887\"],[0.1111111111111111,\"#46039f\"],[0.2222222222222222,\"#7201a8\"],[0.3333333333333333,\"#9c179e\"],[0.4444444444444444,\"#bd3786\"],[0.5555555555555556,\"#d8576b\"],[0.6666666666666666,\"#ed7953\"],[0.7777777777777778,\"#fb9f3a\"],[0.8888888888888888,\"#fdca26\"],[1.0,\"#f0f921\"]],\"sequentialminus\":[[0.0,\"#0d0887\"],[0.1111111111111111,\"#46039f\"],[0.2222222222222222,\"#7201a8\"],[0.3333333333333333,\"#9c179e\"],[0.4444444444444444,\"#bd3786\"],[0.5555555555555556,\"#d8576b\"],[0.6666666666666666,\"#ed7953\"],[0.7777777777777778,\"#fb9f3a\"],[0.8888888888888888,\"#fdca26\"],[1.0,\"#f0f921\"]]},\"colorway\":[\"#636efa\",\"#EF553B\",\"#00cc96\",\"#ab63fa\",\"#FFA15A\",\"#19d3f3\",\"#FF6692\",\"#B6E880\",\"#FF97FF\",\"#FECB52\"],\"font\":{\"color\":\"#2a3f5f\"},\"geo\":{\"bgcolor\":\"white\",\"lakecolor\":\"white\",\"landcolor\":\"#E5ECF6\",\"showlakes\":true,\"showland\":true,\"subunitcolor\":\"white\"},\"hoverlabel\":{\"align\":\"left\"},\"hovermode\":\"closest\",\"mapbox\":{\"style\":\"light\"},\"paper_bgcolor\":\"white\",\"plot_bgcolor\":\"#E5ECF6\",\"polar\":{\"angularaxis\":{\"gridcolor\":\"white\",\"linecolor\":\"white\",\"ticks\":\"\"},\"bgcolor\":\"#E5ECF6\",\"radialaxis\":{\"gridcolor\":\"white\",\"linecolor\":\"white\",\"ticks\":\"\"}},\"scene\":{\"xaxis\":{\"backgroundcolor\":\"#E5ECF6\",\"gridcolor\":\"white\",\"gridwidth\":2,\"linecolor\":\"white\",\"showbackground\":true,\"ticks\":\"\",\"zerolinecolor\":\"white\"},\"yaxis\":{\"backgroundcolor\":\"#E5ECF6\",\"gridcolor\":\"white\",\"gridwidth\":2,\"linecolor\":\"white\",\"showbackground\":true,\"ticks\":\"\",\"zerolinecolor\":\"white\"},\"zaxis\":{\"backgroundcolor\":\"#E5ECF6\",\"gridcolor\":\"white\",\"gridwidth\":2,\"linecolor\":\"white\",\"showbackground\":true,\"ticks\":\"\",\"zerolinecolor\":\"white\"}},\"shapedefaults\":{\"line\":{\"color\":\"#2a3f5f\"}},\"ternary\":{\"aaxis\":{\"gridcolor\":\"white\",\"linecolor\":\"white\",\"ticks\":\"\"},\"baxis\":{\"gridcolor\":\"white\",\"linecolor\":\"white\",\"ticks\":\"\"},\"bgcolor\":\"#E5ECF6\",\"caxis\":{\"gridcolor\":\"white\",\"linecolor\":\"white\",\"ticks\":\"\"}},\"title\":{\"x\":0.05},\"xaxis\":{\"automargin\":true,\"gridcolor\":\"white\",\"linecolor\":\"white\",\"ticks\":\"\",\"title\":{\"standoff\":15},\"zerolinecolor\":\"white\",\"zerolinewidth\":2},\"yaxis\":{\"automargin\":true,\"gridcolor\":\"white\",\"linecolor\":\"white\",\"ticks\":\"\",\"title\":{\"standoff\":15},\"zerolinecolor\":\"white\",\"zerolinewidth\":2}}},\"xaxis\":{\"anchor\":\"y\",\"domain\":[0.0,1.0],\"title\":{\"text\":\"value\"}},\"yaxis\":{\"anchor\":\"x\",\"domain\":[0.0,1.0],\"title\":{\"text\":\"count\"}},\"legend\":{\"title\":{\"text\":\"variable\"},\"tracegroupgap\":0},\"margin\":{\"t\":60},\"barmode\":\"relative\"},                        {\"responsive\": true}                    ).then(function(){\n",
              "                            \n",
              "var gd = document.getElementById('f9aca800-2de3-479b-ab69-f346c5fd3052');\n",
              "var x = new MutationObserver(function (mutations, observer) {{\n",
              "        var display = window.getComputedStyle(gd).display;\n",
              "        if (!display || display === 'none') {{\n",
              "            console.log([gd, 'removed!']);\n",
              "            Plotly.purge(gd);\n",
              "            observer.disconnect();\n",
              "        }}\n",
              "}});\n",
              "\n",
              "// Listen for the removal of the full notebook cells\n",
              "var notebookContainer = gd.closest('#notebook-container');\n",
              "if (notebookContainer) {{\n",
              "    x.observe(notebookContainer, {childList: true});\n",
              "}}\n",
              "\n",
              "// Listen for the clearing of the current output cell\n",
              "var outputEl = gd.closest('.output');\n",
              "if (outputEl) {{\n",
              "    x.observe(outputEl, {childList: true});\n",
              "}}\n",
              "\n",
              "                        })                };                            </script>        </div>\n",
              "</body>\n",
              "</html>"
            ]
          },
          "metadata": {}
        }
      ]
    },
    {
      "cell_type": "markdown",
      "source": [
        "By default, the number of bins is chosen so that this number is comparable to the typical number of samples in a bin. This number can be customized, as well as the range of values."
      ],
      "metadata": {
        "id": "LxXMcm4-rFkw"
      }
    },
    {
      "cell_type": "code",
      "source": [
        "fig=px.histogram(df['Age'], nbins=10)\n",
        "fig.show()"
      ],
      "metadata": {
        "id": "IS53OAC_rEsQ",
        "colab": {
          "base_uri": "https://localhost:8080/",
          "height": 542
        },
        "outputId": "d802625a-4ff2-46bf-f035-1cddd9d3b14e"
      },
      "execution_count": 14,
      "outputs": [
        {
          "output_type": "display_data",
          "data": {
            "text/html": [
              "<html>\n",
              "<head><meta charset=\"utf-8\" /></head>\n",
              "<body>\n",
              "    <div>            <script src=\"https://cdnjs.cloudflare.com/ajax/libs/mathjax/2.7.5/MathJax.js?config=TeX-AMS-MML_SVG\"></script><script type=\"text/javascript\">if (window.MathJax) {MathJax.Hub.Config({SVG: {font: \"STIX-Web\"}});}</script>                <script type=\"text/javascript\">window.PlotlyConfig = {MathJaxConfig: 'local'};</script>\n",
              "        <script src=\"https://cdn.plot.ly/plotly-2.8.3.min.js\"></script>                <div id=\"13c49c17-37c4-45c8-aaf7-c11bbdf92e67\" class=\"plotly-graph-div\" style=\"height:525px; width:100%;\"></div>            <script type=\"text/javascript\">                                    window.PLOTLYENV=window.PLOTLYENV || {};                                    if (document.getElementById(\"13c49c17-37c4-45c8-aaf7-c11bbdf92e67\")) {                    Plotly.newPlot(                        \"13c49c17-37c4-45c8-aaf7-c11bbdf92e67\",                        [{\"alignmentgroup\":\"True\",\"bingroup\":\"x\",\"hovertemplate\":\"variable=Age<br>value=%{x}<br>count=%{y}<extra></extra>\",\"legendgroup\":\"Age\",\"marker\":{\"color\":\"#636efa\",\"pattern\":{\"shape\":\"\"}},\"name\":\"Age\",\"nbinsx\":10,\"offsetgroup\":\"Age\",\"orientation\":\"v\",\"showlegend\":true,\"x\":[25.0,25.0,22.0,21.0,25.0,22.0,22.0,24.0,27.0,27.0,20.0,26.0,24.0,28.0,21.0,32.0,26.0,23.0,28.0,21.0,26.0,25.0,26.0,28.0,27.0,30.0,33.0,32.0,25.0,24.0,23.0,28.0,26.0,28.0,25.0,23.0,25.0,25.0,22.0,22.0,22.0,32.0,24.0,24.0,22.0,20.0,27.0,22.0,25.0,20.0,29.0,26.0,29.0,24.0,30.0,27.0,23.0,25.0,29.0,24.0,24.0,31.0,25.0,28.0,26.0,26.0,32.0,20.0,23.0,30.0,28.0,26.0,27.0,29.0,36.0,23.0,29.0,27.0,28.0,27.0,29.0,31.0,38.0,31.0,23.0,25.0,31.0,24.0,23.0,24.0,29.0,25.0,23.0,21.0,20.0,27.0,36.0,31.0,26.0,19.0,28.0,21.0,25.0,24.0,22.0,27.0,25.0,32.0,31.0,22.0,23.0,25.0,27.0,36.0,22.0,28.0,25.0,25.0,24.0,29.0,27.0,23.0,24.0,30.0,25.0,31.0,26.0,35.0,30.0,27.0,24.0,27.0,31.0,21.0,27.0,24.0,25.0,33.0,24.0,35.0,35.0,31.0,27.0,25.0,25.0,25.0,33.0,33.0,29.0,36.0,25.0,25.0,23.0,23.0,22.0,23.0,23.0,26.0,20.0,28.0,26.0,31.0,27.0,24.0,26.0,30.0,28.0,25.0,28.0,22.0,30.0,20.0,25.0,23.0,27.0,24.0,25.0,21.0,25.0,28.0,24.0,26.0,32.0,23.0,21.0,27.0,29.0,19.0,22.0,31.0,28.0,31.0,33.0,33.0,29.0,28.0,27.0,24.0,31.0,31.0,30.0,27.0,27.0,30.0,22.0,27.0,26.0,22.0,24.0,23.0,38.0,21.0,34.0,37.0,36.0,39.0,28.0,23.0,25.0,23.0,22.0,34.0,25.0,28.0,28.0,26.0,27.0,29.0,23.0,23.0,30.0,25.0,26.0,25.0,29.0,27.0,25.0,25.0,27.0,28.0,30.0,22.0,36.0,40.0,28.0,24.0,33.0,40.0,27.0,26.0,35.0,26.0,24.0,35.0,30.0,31.0,35.0,31.0,24.0,24.0,27.0,27.0,24.0,27.0,30.0,21.0,28.0,23.0,22.0,24.0,30.0,27.0,26.0,29.0,23.0,32.0,31.0,36.0,34.0,24.0,29.0,22.0,34.0,26.0,20.0,26.0,20.0,23.0,24.0,26.0,24.0,22.0,30.0,25.0,32.0,33.0,22.0,30.0,24.0,34.0,27.0,26.0,20.0,23.0,30.0,30.0,29.0,25.0,28.0,28.0,25.0,29.0,26.0,21.0,36.0,34.0,23.0,26.0,20.0,21.0,23.0,25.0,36.0,20.0,21.0,22.0,35.0,27.0,32.0,24.0,24.0,24.0,38.0,30.0,21.0,24.0,28.0,24.0,27.0,20.0,25.0,23.0,24.0,27.0,23.0,28.0,34.0,24.0,25.0,24.0,23.0,26.0,30.0,20.0,28.0,23.0,24.0,24.0,26.0,23.0,26.0,20.0,26.0,26.0],\"xaxis\":\"x\",\"yaxis\":\"y\",\"type\":\"histogram\"}],                        {\"template\":{\"data\":{\"bar\":[{\"error_x\":{\"color\":\"#2a3f5f\"},\"error_y\":{\"color\":\"#2a3f5f\"},\"marker\":{\"line\":{\"color\":\"#E5ECF6\",\"width\":0.5},\"pattern\":{\"fillmode\":\"overlay\",\"size\":10,\"solidity\":0.2}},\"type\":\"bar\"}],\"barpolar\":[{\"marker\":{\"line\":{\"color\":\"#E5ECF6\",\"width\":0.5},\"pattern\":{\"fillmode\":\"overlay\",\"size\":10,\"solidity\":0.2}},\"type\":\"barpolar\"}],\"carpet\":[{\"aaxis\":{\"endlinecolor\":\"#2a3f5f\",\"gridcolor\":\"white\",\"linecolor\":\"white\",\"minorgridcolor\":\"white\",\"startlinecolor\":\"#2a3f5f\"},\"baxis\":{\"endlinecolor\":\"#2a3f5f\",\"gridcolor\":\"white\",\"linecolor\":\"white\",\"minorgridcolor\":\"white\",\"startlinecolor\":\"#2a3f5f\"},\"type\":\"carpet\"}],\"choropleth\":[{\"colorbar\":{\"outlinewidth\":0,\"ticks\":\"\"},\"type\":\"choropleth\"}],\"contour\":[{\"colorbar\":{\"outlinewidth\":0,\"ticks\":\"\"},\"colorscale\":[[0.0,\"#0d0887\"],[0.1111111111111111,\"#46039f\"],[0.2222222222222222,\"#7201a8\"],[0.3333333333333333,\"#9c179e\"],[0.4444444444444444,\"#bd3786\"],[0.5555555555555556,\"#d8576b\"],[0.6666666666666666,\"#ed7953\"],[0.7777777777777778,\"#fb9f3a\"],[0.8888888888888888,\"#fdca26\"],[1.0,\"#f0f921\"]],\"type\":\"contour\"}],\"contourcarpet\":[{\"colorbar\":{\"outlinewidth\":0,\"ticks\":\"\"},\"type\":\"contourcarpet\"}],\"heatmap\":[{\"colorbar\":{\"outlinewidth\":0,\"ticks\":\"\"},\"colorscale\":[[0.0,\"#0d0887\"],[0.1111111111111111,\"#46039f\"],[0.2222222222222222,\"#7201a8\"],[0.3333333333333333,\"#9c179e\"],[0.4444444444444444,\"#bd3786\"],[0.5555555555555556,\"#d8576b\"],[0.6666666666666666,\"#ed7953\"],[0.7777777777777778,\"#fb9f3a\"],[0.8888888888888888,\"#fdca26\"],[1.0,\"#f0f921\"]],\"type\":\"heatmap\"}],\"heatmapgl\":[{\"colorbar\":{\"outlinewidth\":0,\"ticks\":\"\"},\"colorscale\":[[0.0,\"#0d0887\"],[0.1111111111111111,\"#46039f\"],[0.2222222222222222,\"#7201a8\"],[0.3333333333333333,\"#9c179e\"],[0.4444444444444444,\"#bd3786\"],[0.5555555555555556,\"#d8576b\"],[0.6666666666666666,\"#ed7953\"],[0.7777777777777778,\"#fb9f3a\"],[0.8888888888888888,\"#fdca26\"],[1.0,\"#f0f921\"]],\"type\":\"heatmapgl\"}],\"histogram\":[{\"marker\":{\"pattern\":{\"fillmode\":\"overlay\",\"size\":10,\"solidity\":0.2}},\"type\":\"histogram\"}],\"histogram2d\":[{\"colorbar\":{\"outlinewidth\":0,\"ticks\":\"\"},\"colorscale\":[[0.0,\"#0d0887\"],[0.1111111111111111,\"#46039f\"],[0.2222222222222222,\"#7201a8\"],[0.3333333333333333,\"#9c179e\"],[0.4444444444444444,\"#bd3786\"],[0.5555555555555556,\"#d8576b\"],[0.6666666666666666,\"#ed7953\"],[0.7777777777777778,\"#fb9f3a\"],[0.8888888888888888,\"#fdca26\"],[1.0,\"#f0f921\"]],\"type\":\"histogram2d\"}],\"histogram2dcontour\":[{\"colorbar\":{\"outlinewidth\":0,\"ticks\":\"\"},\"colorscale\":[[0.0,\"#0d0887\"],[0.1111111111111111,\"#46039f\"],[0.2222222222222222,\"#7201a8\"],[0.3333333333333333,\"#9c179e\"],[0.4444444444444444,\"#bd3786\"],[0.5555555555555556,\"#d8576b\"],[0.6666666666666666,\"#ed7953\"],[0.7777777777777778,\"#fb9f3a\"],[0.8888888888888888,\"#fdca26\"],[1.0,\"#f0f921\"]],\"type\":\"histogram2dcontour\"}],\"mesh3d\":[{\"colorbar\":{\"outlinewidth\":0,\"ticks\":\"\"},\"type\":\"mesh3d\"}],\"parcoords\":[{\"line\":{\"colorbar\":{\"outlinewidth\":0,\"ticks\":\"\"}},\"type\":\"parcoords\"}],\"pie\":[{\"automargin\":true,\"type\":\"pie\"}],\"scatter\":[{\"marker\":{\"colorbar\":{\"outlinewidth\":0,\"ticks\":\"\"}},\"type\":\"scatter\"}],\"scatter3d\":[{\"line\":{\"colorbar\":{\"outlinewidth\":0,\"ticks\":\"\"}},\"marker\":{\"colorbar\":{\"outlinewidth\":0,\"ticks\":\"\"}},\"type\":\"scatter3d\"}],\"scattercarpet\":[{\"marker\":{\"colorbar\":{\"outlinewidth\":0,\"ticks\":\"\"}},\"type\":\"scattercarpet\"}],\"scattergeo\":[{\"marker\":{\"colorbar\":{\"outlinewidth\":0,\"ticks\":\"\"}},\"type\":\"scattergeo\"}],\"scattergl\":[{\"marker\":{\"colorbar\":{\"outlinewidth\":0,\"ticks\":\"\"}},\"type\":\"scattergl\"}],\"scattermapbox\":[{\"marker\":{\"colorbar\":{\"outlinewidth\":0,\"ticks\":\"\"}},\"type\":\"scattermapbox\"}],\"scatterpolar\":[{\"marker\":{\"colorbar\":{\"outlinewidth\":0,\"ticks\":\"\"}},\"type\":\"scatterpolar\"}],\"scatterpolargl\":[{\"marker\":{\"colorbar\":{\"outlinewidth\":0,\"ticks\":\"\"}},\"type\":\"scatterpolargl\"}],\"scatterternary\":[{\"marker\":{\"colorbar\":{\"outlinewidth\":0,\"ticks\":\"\"}},\"type\":\"scatterternary\"}],\"surface\":[{\"colorbar\":{\"outlinewidth\":0,\"ticks\":\"\"},\"colorscale\":[[0.0,\"#0d0887\"],[0.1111111111111111,\"#46039f\"],[0.2222222222222222,\"#7201a8\"],[0.3333333333333333,\"#9c179e\"],[0.4444444444444444,\"#bd3786\"],[0.5555555555555556,\"#d8576b\"],[0.6666666666666666,\"#ed7953\"],[0.7777777777777778,\"#fb9f3a\"],[0.8888888888888888,\"#fdca26\"],[1.0,\"#f0f921\"]],\"type\":\"surface\"}],\"table\":[{\"cells\":{\"fill\":{\"color\":\"#EBF0F8\"},\"line\":{\"color\":\"white\"}},\"header\":{\"fill\":{\"color\":\"#C8D4E3\"},\"line\":{\"color\":\"white\"}},\"type\":\"table\"}]},\"layout\":{\"annotationdefaults\":{\"arrowcolor\":\"#2a3f5f\",\"arrowhead\":0,\"arrowwidth\":1},\"autotypenumbers\":\"strict\",\"coloraxis\":{\"colorbar\":{\"outlinewidth\":0,\"ticks\":\"\"}},\"colorscale\":{\"diverging\":[[0,\"#8e0152\"],[0.1,\"#c51b7d\"],[0.2,\"#de77ae\"],[0.3,\"#f1b6da\"],[0.4,\"#fde0ef\"],[0.5,\"#f7f7f7\"],[0.6,\"#e6f5d0\"],[0.7,\"#b8e186\"],[0.8,\"#7fbc41\"],[0.9,\"#4d9221\"],[1,\"#276419\"]],\"sequential\":[[0.0,\"#0d0887\"],[0.1111111111111111,\"#46039f\"],[0.2222222222222222,\"#7201a8\"],[0.3333333333333333,\"#9c179e\"],[0.4444444444444444,\"#bd3786\"],[0.5555555555555556,\"#d8576b\"],[0.6666666666666666,\"#ed7953\"],[0.7777777777777778,\"#fb9f3a\"],[0.8888888888888888,\"#fdca26\"],[1.0,\"#f0f921\"]],\"sequentialminus\":[[0.0,\"#0d0887\"],[0.1111111111111111,\"#46039f\"],[0.2222222222222222,\"#7201a8\"],[0.3333333333333333,\"#9c179e\"],[0.4444444444444444,\"#bd3786\"],[0.5555555555555556,\"#d8576b\"],[0.6666666666666666,\"#ed7953\"],[0.7777777777777778,\"#fb9f3a\"],[0.8888888888888888,\"#fdca26\"],[1.0,\"#f0f921\"]]},\"colorway\":[\"#636efa\",\"#EF553B\",\"#00cc96\",\"#ab63fa\",\"#FFA15A\",\"#19d3f3\",\"#FF6692\",\"#B6E880\",\"#FF97FF\",\"#FECB52\"],\"font\":{\"color\":\"#2a3f5f\"},\"geo\":{\"bgcolor\":\"white\",\"lakecolor\":\"white\",\"landcolor\":\"#E5ECF6\",\"showlakes\":true,\"showland\":true,\"subunitcolor\":\"white\"},\"hoverlabel\":{\"align\":\"left\"},\"hovermode\":\"closest\",\"mapbox\":{\"style\":\"light\"},\"paper_bgcolor\":\"white\",\"plot_bgcolor\":\"#E5ECF6\",\"polar\":{\"angularaxis\":{\"gridcolor\":\"white\",\"linecolor\":\"white\",\"ticks\":\"\"},\"bgcolor\":\"#E5ECF6\",\"radialaxis\":{\"gridcolor\":\"white\",\"linecolor\":\"white\",\"ticks\":\"\"}},\"scene\":{\"xaxis\":{\"backgroundcolor\":\"#E5ECF6\",\"gridcolor\":\"white\",\"gridwidth\":2,\"linecolor\":\"white\",\"showbackground\":true,\"ticks\":\"\",\"zerolinecolor\":\"white\"},\"yaxis\":{\"backgroundcolor\":\"#E5ECF6\",\"gridcolor\":\"white\",\"gridwidth\":2,\"linecolor\":\"white\",\"showbackground\":true,\"ticks\":\"\",\"zerolinecolor\":\"white\"},\"zaxis\":{\"backgroundcolor\":\"#E5ECF6\",\"gridcolor\":\"white\",\"gridwidth\":2,\"linecolor\":\"white\",\"showbackground\":true,\"ticks\":\"\",\"zerolinecolor\":\"white\"}},\"shapedefaults\":{\"line\":{\"color\":\"#2a3f5f\"}},\"ternary\":{\"aaxis\":{\"gridcolor\":\"white\",\"linecolor\":\"white\",\"ticks\":\"\"},\"baxis\":{\"gridcolor\":\"white\",\"linecolor\":\"white\",\"ticks\":\"\"},\"bgcolor\":\"#E5ECF6\",\"caxis\":{\"gridcolor\":\"white\",\"linecolor\":\"white\",\"ticks\":\"\"}},\"title\":{\"x\":0.05},\"xaxis\":{\"automargin\":true,\"gridcolor\":\"white\",\"linecolor\":\"white\",\"ticks\":\"\",\"title\":{\"standoff\":15},\"zerolinecolor\":\"white\",\"zerolinewidth\":2},\"yaxis\":{\"automargin\":true,\"gridcolor\":\"white\",\"linecolor\":\"white\",\"ticks\":\"\",\"title\":{\"standoff\":15},\"zerolinecolor\":\"white\",\"zerolinewidth\":2}}},\"xaxis\":{\"anchor\":\"y\",\"domain\":[0.0,1.0],\"title\":{\"text\":\"value\"}},\"yaxis\":{\"anchor\":\"x\",\"domain\":[0.0,1.0],\"title\":{\"text\":\"count\"}},\"legend\":{\"title\":{\"text\":\"variable\"},\"tracegroupgap\":0},\"margin\":{\"t\":60},\"barmode\":\"relative\"},                        {\"responsive\": true}                    ).then(function(){\n",
              "                            \n",
              "var gd = document.getElementById('13c49c17-37c4-45c8-aaf7-c11bbdf92e67');\n",
              "var x = new MutationObserver(function (mutations, observer) {{\n",
              "        var display = window.getComputedStyle(gd).display;\n",
              "        if (!display || display === 'none') {{\n",
              "            console.log([gd, 'removed!']);\n",
              "            Plotly.purge(gd);\n",
              "            observer.disconnect();\n",
              "        }}\n",
              "}});\n",
              "\n",
              "// Listen for the removal of the full notebook cells\n",
              "var notebookContainer = gd.closest('#notebook-container');\n",
              "if (notebookContainer) {{\n",
              "    x.observe(notebookContainer, {childList: true});\n",
              "}}\n",
              "\n",
              "// Listen for the clearing of the current output cell\n",
              "var outputEl = gd.closest('.output');\n",
              "if (outputEl) {{\n",
              "    x.observe(outputEl, {childList: true});\n",
              "}}\n",
              "\n",
              "                        })                };                            </script>        </div>\n",
              "</body>\n",
              "</html>"
            ]
          },
          "metadata": {}
        }
      ]
    },
    {
      "cell_type": "code",
      "source": [
        "# Here we use a column with categorical data\n",
        "fig = px.histogram(df, x='Team')\n",
        "fig.show()"
      ],
      "metadata": {
        "id": "i5SlrzdNqjEM",
        "colab": {
          "base_uri": "https://localhost:8080/",
          "height": 542
        },
        "outputId": "79cb7cd1-1ba7-4aa3-db9e-ecbd8324059d"
      },
      "execution_count": 15,
      "outputs": [
        {
          "output_type": "display_data",
          "data": {
            "text/html": [
              "<html>\n",
              "<head><meta charset=\"utf-8\" /></head>\n",
              "<body>\n",
              "    <div>            <script src=\"https://cdnjs.cloudflare.com/ajax/libs/mathjax/2.7.5/MathJax.js?config=TeX-AMS-MML_SVG\"></script><script type=\"text/javascript\">if (window.MathJax) {MathJax.Hub.Config({SVG: {font: \"STIX-Web\"}});}</script>                <script type=\"text/javascript\">window.PlotlyConfig = {MathJaxConfig: 'local'};</script>\n",
              "        <script src=\"https://cdn.plot.ly/plotly-2.8.3.min.js\"></script>                <div id=\"f7866e8b-c953-486f-9b6d-cd64d091a4ec\" class=\"plotly-graph-div\" style=\"height:525px; width:100%;\"></div>            <script type=\"text/javascript\">                                    window.PLOTLYENV=window.PLOTLYENV || {};                                    if (document.getElementById(\"f7866e8b-c953-486f-9b6d-cd64d091a4ec\")) {                    Plotly.newPlot(                        \"f7866e8b-c953-486f-9b6d-cd64d091a4ec\",                        [{\"alignmentgroup\":\"True\",\"bingroup\":\"x\",\"hovertemplate\":\"Team=%{x}<br>count=%{y}<extra></extra>\",\"legendgroup\":\"\",\"marker\":{\"color\":\"#636efa\",\"pattern\":{\"shape\":\"\"}},\"name\":\"\",\"offsetgroup\":\"\",\"orientation\":\"v\",\"showlegend\":false,\"x\":[\"Boston Celtics\",\"Boston Celtics\",\"Boston Celtics\",\"Boston Celtics\",\"Boston Celtics\",\"Boston Celtics\",\"Boston Celtics\",\"Boston Celtics\",\"Boston Celtics\",\"Boston Celtics\",\"Boston Celtics\",\"Boston Celtics\",\"Brooklyn Nets\",\"Brooklyn Nets\",\"Brooklyn Nets\",\"Brooklyn Nets\",\"Brooklyn Nets\",\"Brooklyn Nets\",\"Brooklyn Nets\",\"Brooklyn Nets\",\"Brooklyn Nets\",\"Brooklyn Nets\",\"Brooklyn Nets\",\"Brooklyn Nets\",\"Brooklyn Nets\",\"New York Knicks\",\"New York Knicks\",\"New York Knicks\",\"New York Knicks\",\"New York Knicks\",\"New York Knicks\",\"New York Knicks\",\"New York Knicks\",\"New York Knicks\",\"New York Knicks\",\"New York Knicks\",\"Philadelphia 76ers\",\"Philadelphia 76ers\",\"Philadelphia 76ers\",\"Philadelphia 76ers\",\"Philadelphia 76ers\",\"Philadelphia 76ers\",\"Philadelphia 76ers\",\"Philadelphia 76ers\",\"Philadelphia 76ers\",\"Philadelphia 76ers\",\"Philadelphia 76ers\",\"Philadelphia 76ers\",\"Philadelphia 76ers\",\"Philadelphia 76ers\",\"Toronto Raptors\",\"Toronto Raptors\",\"Toronto Raptors\",\"Toronto Raptors\",\"Toronto Raptors\",\"Toronto Raptors\",\"Toronto Raptors\",\"Toronto Raptors\",\"Toronto Raptors\",\"Toronto Raptors\",\"Golden State Warriors\",\"Golden State Warriors\",\"Golden State Warriors\",\"Golden State Warriors\",\"Golden State Warriors\",\"Golden State Warriors\",\"Golden State Warriors\",\"Golden State Warriors\",\"Golden State Warriors\",\"Golden State Warriors\",\"Golden State Warriors\",\"Golden State Warriors\",\"Los Angeles Clippers\",\"Los Angeles Clippers\",\"Los Angeles Clippers\",\"Los Angeles Clippers\",\"Los Angeles Clippers\",\"Los Angeles Clippers\",\"Los Angeles Clippers\",\"Los Angeles Clippers\",\"Los Angeles Clippers\",\"Los Angeles Clippers\",\"Los Angeles Clippers\",\"Los Angeles Clippers\",\"Los Angeles Clippers\",\"Los Angeles Clippers\",\"Los Angeles Lakers\",\"Los Angeles Lakers\",\"Los Angeles Lakers\",\"Los Angeles Lakers\",\"Los Angeles Lakers\",\"Los Angeles Lakers\",\"Los Angeles Lakers\",\"Los Angeles Lakers\",\"Los Angeles Lakers\",\"Los Angeles Lakers\",\"Los Angeles Lakers\",\"Los Angeles Lakers\",\"Phoenix Suns\",\"Phoenix Suns\",\"Phoenix Suns\",\"Phoenix Suns\",\"Phoenix Suns\",\"Phoenix Suns\",\"Phoenix Suns\",\"Phoenix Suns\",\"Phoenix Suns\",\"Phoenix Suns\",\"Phoenix Suns\",\"Phoenix Suns\",\"Phoenix Suns\",\"Sacramento Kings\",\"Sacramento Kings\",\"Sacramento Kings\",\"Sacramento Kings\",\"Sacramento Kings\",\"Sacramento Kings\",\"Sacramento Kings\",\"Sacramento Kings\",\"Sacramento Kings\",\"Sacramento Kings\",\"Sacramento Kings\",\"Sacramento Kings\",\"Sacramento Kings\",\"Chicago Bulls\",\"Chicago Bulls\",\"Chicago Bulls\",\"Chicago Bulls\",\"Chicago Bulls\",\"Chicago Bulls\",\"Chicago Bulls\",\"Chicago Bulls\",\"Chicago Bulls\",\"Chicago Bulls\",\"Chicago Bulls\",\"Chicago Bulls\",\"Cleveland Cavaliers\",\"Cleveland Cavaliers\",\"Cleveland Cavaliers\",\"Cleveland Cavaliers\",\"Cleveland Cavaliers\",\"Cleveland Cavaliers\",\"Cleveland Cavaliers\",\"Cleveland Cavaliers\",\"Cleveland Cavaliers\",\"Cleveland Cavaliers\",\"Cleveland Cavaliers\",\"Detroit Pistons\",\"Detroit Pistons\",\"Detroit Pistons\",\"Detroit Pistons\",\"Detroit Pistons\",\"Detroit Pistons\",\"Detroit Pistons\",\"Detroit Pistons\",\"Detroit Pistons\",\"Detroit Pistons\",\"Detroit Pistons\",\"Detroit Pistons\",\"Detroit Pistons\",\"Detroit Pistons\",\"Detroit Pistons\",\"Indiana Pacers\",\"Indiana Pacers\",\"Indiana Pacers\",\"Indiana Pacers\",\"Indiana Pacers\",\"Indiana Pacers\",\"Indiana Pacers\",\"Indiana Pacers\",\"Indiana Pacers\",\"Indiana Pacers\",\"Indiana Pacers\",\"Indiana Pacers\",\"Milwaukee Bucks\",\"Milwaukee Bucks\",\"Milwaukee Bucks\",\"Milwaukee Bucks\",\"Milwaukee Bucks\",\"Milwaukee Bucks\",\"Milwaukee Bucks\",\"Milwaukee Bucks\",\"Milwaukee Bucks\",\"Milwaukee Bucks\",\"Milwaukee Bucks\",\"Milwaukee Bucks\",\"Milwaukee Bucks\",\"Milwaukee Bucks\",\"Dallas Mavericks\",\"Dallas Mavericks\",\"Dallas Mavericks\",\"Dallas Mavericks\",\"Dallas Mavericks\",\"Dallas Mavericks\",\"Dallas Mavericks\",\"Dallas Mavericks\",\"Dallas Mavericks\",\"Dallas Mavericks\",\"Dallas Mavericks\",\"Dallas Mavericks\",\"Houston Rockets\",\"Houston Rockets\",\"Houston Rockets\",\"Houston Rockets\",\"Houston Rockets\",\"Houston Rockets\",\"Houston Rockets\",\"Houston Rockets\",\"Houston Rockets\",\"Houston Rockets\",\"Houston Rockets\",\"Memphis Grizzlies\",\"Memphis Grizzlies\",\"Memphis Grizzlies\",\"Memphis Grizzlies\",\"Memphis Grizzlies\",\"Memphis Grizzlies\",\"Memphis Grizzlies\",\"Memphis Grizzlies\",\"Memphis Grizzlies\",\"Memphis Grizzlies\",\"Memphis Grizzlies\",\"Memphis Grizzlies\",\"Memphis Grizzlies\",\"New Orleans Pelicans\",\"New Orleans Pelicans\",\"New Orleans Pelicans\",\"New Orleans Pelicans\",\"New Orleans Pelicans\",\"New Orleans Pelicans\",\"New Orleans Pelicans\",\"New Orleans Pelicans\",\"New Orleans Pelicans\",\"New Orleans Pelicans\",\"New Orleans Pelicans\",\"New Orleans Pelicans\",\"New Orleans Pelicans\",\"New Orleans Pelicans\",\"New Orleans Pelicans\",\"New Orleans Pelicans\",\"San Antonio Spurs\",\"San Antonio Spurs\",\"San Antonio Spurs\",\"San Antonio Spurs\",\"San Antonio Spurs\",\"San Antonio Spurs\",\"San Antonio Spurs\",\"San Antonio Spurs\",\"San Antonio Spurs\",\"San Antonio Spurs\",\"San Antonio Spurs\",\"Atlanta Hawks\",\"Atlanta Hawks\",\"Atlanta Hawks\",\"Atlanta Hawks\",\"Atlanta Hawks\",\"Atlanta Hawks\",\"Atlanta Hawks\",\"Atlanta Hawks\",\"Atlanta Hawks\",\"Atlanta Hawks\",\"Atlanta Hawks\",\"Charlotte Hornets\",\"Charlotte Hornets\",\"Charlotte Hornets\",\"Charlotte Hornets\",\"Charlotte Hornets\",\"Charlotte Hornets\",\"Charlotte Hornets\",\"Charlotte Hornets\",\"Charlotte Hornets\",\"Charlotte Hornets\",\"Charlotte Hornets\",\"Charlotte Hornets\",\"Charlotte Hornets\",\"Miami Heat\",\"Miami Heat\",\"Miami Heat\",\"Miami Heat\",\"Miami Heat\",\"Miami Heat\",\"Miami Heat\",\"Miami Heat\",\"Miami Heat\",\"Miami Heat\",\"Orlando Magic\",\"Orlando Magic\",\"Orlando Magic\",\"Orlando Magic\",\"Orlando Magic\",\"Orlando Magic\",\"Orlando Magic\",\"Orlando Magic\",\"Orlando Magic\",\"Orlando Magic\",\"Washington Wizards\",\"Washington Wizards\",\"Washington Wizards\",\"Washington Wizards\",\"Washington Wizards\",\"Washington Wizards\",\"Washington Wizards\",\"Washington Wizards\",\"Washington Wizards\",\"Washington Wizards\",\"Washington Wizards\",\"Washington Wizards\",\"Washington Wizards\",\"Denver Nuggets\",\"Denver Nuggets\",\"Denver Nuggets\",\"Denver Nuggets\",\"Denver Nuggets\",\"Denver Nuggets\",\"Denver Nuggets\",\"Denver Nuggets\",\"Denver Nuggets\",\"Minnesota Timberwolves\",\"Minnesota Timberwolves\",\"Minnesota Timberwolves\",\"Minnesota Timberwolves\",\"Minnesota Timberwolves\",\"Minnesota Timberwolves\",\"Minnesota Timberwolves\",\"Minnesota Timberwolves\",\"Oklahoma City Thunder\",\"Oklahoma City Thunder\",\"Oklahoma City Thunder\",\"Oklahoma City Thunder\",\"Oklahoma City Thunder\",\"Oklahoma City Thunder\",\"Oklahoma City Thunder\",\"Oklahoma City Thunder\",\"Oklahoma City Thunder\",\"Oklahoma City Thunder\",\"Oklahoma City Thunder\",\"Oklahoma City Thunder\",\"Oklahoma City Thunder\",\"Oklahoma City Thunder\",\"Portland Trail Blazers\",\"Portland Trail Blazers\",\"Portland Trail Blazers\",\"Portland Trail Blazers\",\"Portland Trail Blazers\",\"Portland Trail Blazers\",\"Portland Trail Blazers\",\"Portland Trail Blazers\",\"Portland Trail Blazers\",\"Portland Trail Blazers\",\"Portland Trail Blazers\",\"Portland Trail Blazers\",\"Portland Trail Blazers\",\"Portland Trail Blazers\",\"Portland Trail Blazers\",\"Utah Jazz\",\"Utah Jazz\",\"Utah Jazz\",\"Utah Jazz\",\"Utah Jazz\",\"Utah Jazz\",\"Utah Jazz\",\"Utah Jazz\",\"Utah Jazz\",\"Utah Jazz\"],\"xaxis\":\"x\",\"yaxis\":\"y\",\"type\":\"histogram\"}],                        {\"template\":{\"data\":{\"bar\":[{\"error_x\":{\"color\":\"#2a3f5f\"},\"error_y\":{\"color\":\"#2a3f5f\"},\"marker\":{\"line\":{\"color\":\"#E5ECF6\",\"width\":0.5},\"pattern\":{\"fillmode\":\"overlay\",\"size\":10,\"solidity\":0.2}},\"type\":\"bar\"}],\"barpolar\":[{\"marker\":{\"line\":{\"color\":\"#E5ECF6\",\"width\":0.5},\"pattern\":{\"fillmode\":\"overlay\",\"size\":10,\"solidity\":0.2}},\"type\":\"barpolar\"}],\"carpet\":[{\"aaxis\":{\"endlinecolor\":\"#2a3f5f\",\"gridcolor\":\"white\",\"linecolor\":\"white\",\"minorgridcolor\":\"white\",\"startlinecolor\":\"#2a3f5f\"},\"baxis\":{\"endlinecolor\":\"#2a3f5f\",\"gridcolor\":\"white\",\"linecolor\":\"white\",\"minorgridcolor\":\"white\",\"startlinecolor\":\"#2a3f5f\"},\"type\":\"carpet\"}],\"choropleth\":[{\"colorbar\":{\"outlinewidth\":0,\"ticks\":\"\"},\"type\":\"choropleth\"}],\"contour\":[{\"colorbar\":{\"outlinewidth\":0,\"ticks\":\"\"},\"colorscale\":[[0.0,\"#0d0887\"],[0.1111111111111111,\"#46039f\"],[0.2222222222222222,\"#7201a8\"],[0.3333333333333333,\"#9c179e\"],[0.4444444444444444,\"#bd3786\"],[0.5555555555555556,\"#d8576b\"],[0.6666666666666666,\"#ed7953\"],[0.7777777777777778,\"#fb9f3a\"],[0.8888888888888888,\"#fdca26\"],[1.0,\"#f0f921\"]],\"type\":\"contour\"}],\"contourcarpet\":[{\"colorbar\":{\"outlinewidth\":0,\"ticks\":\"\"},\"type\":\"contourcarpet\"}],\"heatmap\":[{\"colorbar\":{\"outlinewidth\":0,\"ticks\":\"\"},\"colorscale\":[[0.0,\"#0d0887\"],[0.1111111111111111,\"#46039f\"],[0.2222222222222222,\"#7201a8\"],[0.3333333333333333,\"#9c179e\"],[0.4444444444444444,\"#bd3786\"],[0.5555555555555556,\"#d8576b\"],[0.6666666666666666,\"#ed7953\"],[0.7777777777777778,\"#fb9f3a\"],[0.8888888888888888,\"#fdca26\"],[1.0,\"#f0f921\"]],\"type\":\"heatmap\"}],\"heatmapgl\":[{\"colorbar\":{\"outlinewidth\":0,\"ticks\":\"\"},\"colorscale\":[[0.0,\"#0d0887\"],[0.1111111111111111,\"#46039f\"],[0.2222222222222222,\"#7201a8\"],[0.3333333333333333,\"#9c179e\"],[0.4444444444444444,\"#bd3786\"],[0.5555555555555556,\"#d8576b\"],[0.6666666666666666,\"#ed7953\"],[0.7777777777777778,\"#fb9f3a\"],[0.8888888888888888,\"#fdca26\"],[1.0,\"#f0f921\"]],\"type\":\"heatmapgl\"}],\"histogram\":[{\"marker\":{\"pattern\":{\"fillmode\":\"overlay\",\"size\":10,\"solidity\":0.2}},\"type\":\"histogram\"}],\"histogram2d\":[{\"colorbar\":{\"outlinewidth\":0,\"ticks\":\"\"},\"colorscale\":[[0.0,\"#0d0887\"],[0.1111111111111111,\"#46039f\"],[0.2222222222222222,\"#7201a8\"],[0.3333333333333333,\"#9c179e\"],[0.4444444444444444,\"#bd3786\"],[0.5555555555555556,\"#d8576b\"],[0.6666666666666666,\"#ed7953\"],[0.7777777777777778,\"#fb9f3a\"],[0.8888888888888888,\"#fdca26\"],[1.0,\"#f0f921\"]],\"type\":\"histogram2d\"}],\"histogram2dcontour\":[{\"colorbar\":{\"outlinewidth\":0,\"ticks\":\"\"},\"colorscale\":[[0.0,\"#0d0887\"],[0.1111111111111111,\"#46039f\"],[0.2222222222222222,\"#7201a8\"],[0.3333333333333333,\"#9c179e\"],[0.4444444444444444,\"#bd3786\"],[0.5555555555555556,\"#d8576b\"],[0.6666666666666666,\"#ed7953\"],[0.7777777777777778,\"#fb9f3a\"],[0.8888888888888888,\"#fdca26\"],[1.0,\"#f0f921\"]],\"type\":\"histogram2dcontour\"}],\"mesh3d\":[{\"colorbar\":{\"outlinewidth\":0,\"ticks\":\"\"},\"type\":\"mesh3d\"}],\"parcoords\":[{\"line\":{\"colorbar\":{\"outlinewidth\":0,\"ticks\":\"\"}},\"type\":\"parcoords\"}],\"pie\":[{\"automargin\":true,\"type\":\"pie\"}],\"scatter\":[{\"marker\":{\"colorbar\":{\"outlinewidth\":0,\"ticks\":\"\"}},\"type\":\"scatter\"}],\"scatter3d\":[{\"line\":{\"colorbar\":{\"outlinewidth\":0,\"ticks\":\"\"}},\"marker\":{\"colorbar\":{\"outlinewidth\":0,\"ticks\":\"\"}},\"type\":\"scatter3d\"}],\"scattercarpet\":[{\"marker\":{\"colorbar\":{\"outlinewidth\":0,\"ticks\":\"\"}},\"type\":\"scattercarpet\"}],\"scattergeo\":[{\"marker\":{\"colorbar\":{\"outlinewidth\":0,\"ticks\":\"\"}},\"type\":\"scattergeo\"}],\"scattergl\":[{\"marker\":{\"colorbar\":{\"outlinewidth\":0,\"ticks\":\"\"}},\"type\":\"scattergl\"}],\"scattermapbox\":[{\"marker\":{\"colorbar\":{\"outlinewidth\":0,\"ticks\":\"\"}},\"type\":\"scattermapbox\"}],\"scatterpolar\":[{\"marker\":{\"colorbar\":{\"outlinewidth\":0,\"ticks\":\"\"}},\"type\":\"scatterpolar\"}],\"scatterpolargl\":[{\"marker\":{\"colorbar\":{\"outlinewidth\":0,\"ticks\":\"\"}},\"type\":\"scatterpolargl\"}],\"scatterternary\":[{\"marker\":{\"colorbar\":{\"outlinewidth\":0,\"ticks\":\"\"}},\"type\":\"scatterternary\"}],\"surface\":[{\"colorbar\":{\"outlinewidth\":0,\"ticks\":\"\"},\"colorscale\":[[0.0,\"#0d0887\"],[0.1111111111111111,\"#46039f\"],[0.2222222222222222,\"#7201a8\"],[0.3333333333333333,\"#9c179e\"],[0.4444444444444444,\"#bd3786\"],[0.5555555555555556,\"#d8576b\"],[0.6666666666666666,\"#ed7953\"],[0.7777777777777778,\"#fb9f3a\"],[0.8888888888888888,\"#fdca26\"],[1.0,\"#f0f921\"]],\"type\":\"surface\"}],\"table\":[{\"cells\":{\"fill\":{\"color\":\"#EBF0F8\"},\"line\":{\"color\":\"white\"}},\"header\":{\"fill\":{\"color\":\"#C8D4E3\"},\"line\":{\"color\":\"white\"}},\"type\":\"table\"}]},\"layout\":{\"annotationdefaults\":{\"arrowcolor\":\"#2a3f5f\",\"arrowhead\":0,\"arrowwidth\":1},\"autotypenumbers\":\"strict\",\"coloraxis\":{\"colorbar\":{\"outlinewidth\":0,\"ticks\":\"\"}},\"colorscale\":{\"diverging\":[[0,\"#8e0152\"],[0.1,\"#c51b7d\"],[0.2,\"#de77ae\"],[0.3,\"#f1b6da\"],[0.4,\"#fde0ef\"],[0.5,\"#f7f7f7\"],[0.6,\"#e6f5d0\"],[0.7,\"#b8e186\"],[0.8,\"#7fbc41\"],[0.9,\"#4d9221\"],[1,\"#276419\"]],\"sequential\":[[0.0,\"#0d0887\"],[0.1111111111111111,\"#46039f\"],[0.2222222222222222,\"#7201a8\"],[0.3333333333333333,\"#9c179e\"],[0.4444444444444444,\"#bd3786\"],[0.5555555555555556,\"#d8576b\"],[0.6666666666666666,\"#ed7953\"],[0.7777777777777778,\"#fb9f3a\"],[0.8888888888888888,\"#fdca26\"],[1.0,\"#f0f921\"]],\"sequentialminus\":[[0.0,\"#0d0887\"],[0.1111111111111111,\"#46039f\"],[0.2222222222222222,\"#7201a8\"],[0.3333333333333333,\"#9c179e\"],[0.4444444444444444,\"#bd3786\"],[0.5555555555555556,\"#d8576b\"],[0.6666666666666666,\"#ed7953\"],[0.7777777777777778,\"#fb9f3a\"],[0.8888888888888888,\"#fdca26\"],[1.0,\"#f0f921\"]]},\"colorway\":[\"#636efa\",\"#EF553B\",\"#00cc96\",\"#ab63fa\",\"#FFA15A\",\"#19d3f3\",\"#FF6692\",\"#B6E880\",\"#FF97FF\",\"#FECB52\"],\"font\":{\"color\":\"#2a3f5f\"},\"geo\":{\"bgcolor\":\"white\",\"lakecolor\":\"white\",\"landcolor\":\"#E5ECF6\",\"showlakes\":true,\"showland\":true,\"subunitcolor\":\"white\"},\"hoverlabel\":{\"align\":\"left\"},\"hovermode\":\"closest\",\"mapbox\":{\"style\":\"light\"},\"paper_bgcolor\":\"white\",\"plot_bgcolor\":\"#E5ECF6\",\"polar\":{\"angularaxis\":{\"gridcolor\":\"white\",\"linecolor\":\"white\",\"ticks\":\"\"},\"bgcolor\":\"#E5ECF6\",\"radialaxis\":{\"gridcolor\":\"white\",\"linecolor\":\"white\",\"ticks\":\"\"}},\"scene\":{\"xaxis\":{\"backgroundcolor\":\"#E5ECF6\",\"gridcolor\":\"white\",\"gridwidth\":2,\"linecolor\":\"white\",\"showbackground\":true,\"ticks\":\"\",\"zerolinecolor\":\"white\"},\"yaxis\":{\"backgroundcolor\":\"#E5ECF6\",\"gridcolor\":\"white\",\"gridwidth\":2,\"linecolor\":\"white\",\"showbackground\":true,\"ticks\":\"\",\"zerolinecolor\":\"white\"},\"zaxis\":{\"backgroundcolor\":\"#E5ECF6\",\"gridcolor\":\"white\",\"gridwidth\":2,\"linecolor\":\"white\",\"showbackground\":true,\"ticks\":\"\",\"zerolinecolor\":\"white\"}},\"shapedefaults\":{\"line\":{\"color\":\"#2a3f5f\"}},\"ternary\":{\"aaxis\":{\"gridcolor\":\"white\",\"linecolor\":\"white\",\"ticks\":\"\"},\"baxis\":{\"gridcolor\":\"white\",\"linecolor\":\"white\",\"ticks\":\"\"},\"bgcolor\":\"#E5ECF6\",\"caxis\":{\"gridcolor\":\"white\",\"linecolor\":\"white\",\"ticks\":\"\"}},\"title\":{\"x\":0.05},\"xaxis\":{\"automargin\":true,\"gridcolor\":\"white\",\"linecolor\":\"white\",\"ticks\":\"\",\"title\":{\"standoff\":15},\"zerolinecolor\":\"white\",\"zerolinewidth\":2},\"yaxis\":{\"automargin\":true,\"gridcolor\":\"white\",\"linecolor\":\"white\",\"ticks\":\"\",\"title\":{\"standoff\":15},\"zerolinecolor\":\"white\",\"zerolinewidth\":2}}},\"xaxis\":{\"anchor\":\"y\",\"domain\":[0.0,1.0],\"title\":{\"text\":\"Team\"}},\"yaxis\":{\"anchor\":\"x\",\"domain\":[0.0,1.0],\"title\":{\"text\":\"count\"}},\"legend\":{\"tracegroupgap\":0},\"margin\":{\"t\":60},\"barmode\":\"relative\"},                        {\"responsive\": true}                    ).then(function(){\n",
              "                            \n",
              "var gd = document.getElementById('f7866e8b-c953-486f-9b6d-cd64d091a4ec');\n",
              "var x = new MutationObserver(function (mutations, observer) {{\n",
              "        var display = window.getComputedStyle(gd).display;\n",
              "        if (!display || display === 'none') {{\n",
              "            console.log([gd, 'removed!']);\n",
              "            Plotly.purge(gd);\n",
              "            observer.disconnect();\n",
              "        }}\n",
              "}});\n",
              "\n",
              "// Listen for the removal of the full notebook cells\n",
              "var notebookContainer = gd.closest('#notebook-container');\n",
              "if (notebookContainer) {{\n",
              "    x.observe(notebookContainer, {childList: true});\n",
              "}}\n",
              "\n",
              "// Listen for the clearing of the current output cell\n",
              "var outputEl = gd.closest('.output');\n",
              "if (outputEl) {{\n",
              "    x.observe(outputEl, {childList: true});\n",
              "}}\n",
              "\n",
              "                        })                };                            </script>        </div>\n",
              "</body>\n",
              "</html>"
            ]
          },
          "metadata": {}
        }
      ]
    }
  ]
}