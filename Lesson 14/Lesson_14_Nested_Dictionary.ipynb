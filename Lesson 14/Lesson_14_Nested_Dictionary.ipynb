{
 "cells": [
  {
   "cell_type": "markdown",
   "metadata": {
    "id": "cDBpt9IaehTi"
   },
   "source": [
    "### Nested Dictionary\n",
    "\n",
    "* A dictionary can contain dictionaries, this is called nested dictionaries"
   ]
  },
  {
   "cell_type": "code",
   "execution_count": 1,
   "metadata": {
    "id": "9Xr4HiZwehTp"
   },
   "outputs": [
    {
     "name": "stdout",
     "output_type": "stream",
     "text": [
      "{'student1': {'name': 'Sugandh', 'class': 'Python', 'Level': 'Intermediate', 'year': 2021}, 'student2': {'name': 'Sunaina', 'class': 'Python', 'Level': 'Beginner', 'year': 2021}, 'student3': {'name': 'James', 'class': 'SQL', 'Level': 'Advance', 'year': 2020}, 'student4': {'name': 'Sonia', 'class': 'Java', 'Level': 'Intermediate', 'year': 2019}}\n"
     ]
    }
   ],
   "source": [
    "student ={\n",
    "    'student1':\n",
    "        {'name': 'Sugandh', 'class':'Python','Level':'Intermediate','year':2021},\n",
    "    'student2':\n",
    "        {'name': 'Sunaina', 'class':'Python','Level':'Beginner','year':2021},\n",
    "    'student3':\n",
    "        {'name': 'James', 'class':'SQL','Level':'Advance','year':2020},\n",
    "    'student4':\n",
    "        {'name': 'Sonia', 'class':'Java','Level':'Intermediate','year':2019}\n",
    "}\n",
    "\n",
    "print(student)"
   ]
  },
  {
   "cell_type": "code",
   "execution_count": 2,
   "metadata": {
    "id": "hxxZ2XxuehTr"
   },
   "outputs": [
    {
     "name": "stdout",
     "output_type": "stream",
     "text": [
      "{'name': 'Sunaina', 'class': 'Python', 'Level': 'Beginner', 'year': 2021}\n"
     ]
    }
   ],
   "source": [
    "print(student['student2'])"
   ]
  },
  {
   "cell_type": "code",
   "execution_count": 3,
   "metadata": {
    "id": "JoKKoURwehTs"
   },
   "outputs": [
    {
     "name": "stdout",
     "output_type": "stream",
     "text": [
      "James\n"
     ]
    }
   ],
   "source": [
    "print(student['student3']['name'])"
   ]
  },
  {
   "cell_type": "code",
   "execution_count": 4,
   "metadata": {
    "id": "iJAL3skGehTt"
   },
   "outputs": [
    {
     "name": "stdout",
     "output_type": "stream",
     "text": [
      "{'name': 'Alice', 'class': 'Python', 'Level': 'Beginner', 'year': 2019}\n"
     ]
    }
   ],
   "source": [
    "student4={'name': 'Alice', 'class':'Python','Level':'Beginner','year':2019}\n",
    "print(student4)"
   ]
  },
  {
   "cell_type": "code",
   "execution_count": 5,
   "metadata": {
    "id": "ogSKic2rehTt"
   },
   "outputs": [
    {
     "name": "stdout",
     "output_type": "stream",
     "text": [
      "{'student1': {'name': 'Sugandh', 'class': 'Python', 'Level': 'Intermediate', 'year': 2021}, 'student2': {'name': 'Sunaina', 'class': 'Python', 'Level': 'Beginner', 'year': 2021}, 'student3': {'name': 'James', 'class': 'SQL', 'Level': 'Advance', 'year': 2020}, 'student4': {'name': 'Alice', 'class': 'Python', 'Level': 'Beginner', 'year': 2019}}\n"
     ]
    }
   ],
   "source": [
    "# to add new value in nested dictionary\n",
    "\n",
    "student['student4']=student4\n",
    "\n",
    "print(student)"
   ]
  },
  {
   "cell_type": "code",
   "execution_count": 6,
   "metadata": {
    "id": "xN4JEBGXehTu"
   },
   "outputs": [
    {
     "name": "stdout",
     "output_type": "stream",
     "text": [
      "{'student1': {'name': 'Sugandh', 'class': 'Python', 'Level': 'Intermediate', 'year': 2021}, 'student2': {'name': 'Sunaina', 'class': 'Python', 'Level': 'Beginner', 'year': 2021}, 'student3': {'name': 'James', 'class': 'SQL', 'Level': 'Advance', 'year': 2020}, 'student4': {'name': 'Alice', 'class': 'Python', 'Level': 'Beginner', 'year': 2019, 'status': 'married'}}\n"
     ]
    }
   ],
   "source": [
    "# to add values\n",
    "\n",
    "student['student4']['status']='married'\n",
    "print(student)"
   ]
  },
  {
   "cell_type": "code",
   "execution_count": 7,
   "metadata": {
    "id": "wi9E6jfEehTv"
   },
   "outputs": [
    {
     "name": "stdout",
     "output_type": "stream",
     "text": [
      "{'student1': {'name': 'Sugandh', 'class': 'Python', 'Level': 'Intermediate', 'year': 2021}, 'student2': {'name': 'Sunaina', 'class': 'Python', 'Level': 'Beginner', 'year': 2021}, 'student3': {'name': 'James', 'class': 'SQL', 'Level': 'Advance', 'year': 2020}, 'student4': {'name': 'Alice', 'class': 'Python', 'Level': 'Beginner', 'year': 2019}}\n"
     ]
    }
   ],
   "source": [
    "# to remove value(s)\n",
    "\n",
    "del student['student4']['status']\n",
    "print(student)"
   ]
  },
  {
   "cell_type": "code",
   "execution_count": 8,
   "metadata": {
    "id": "jacPirLdehTw"
   },
   "outputs": [
    {
     "name": "stdout",
     "output_type": "stream",
     "text": [
      "{'name': 'Alice', 'class': 'Python', 'Level': 'Beginner', 'year': 2019}\n"
     ]
    }
   ],
   "source": [
    "print(student.pop('student4'))"
   ]
  },
  {
   "cell_type": "code",
   "execution_count": 9,
   "metadata": {
    "id": "BGQbe4V-ehTx"
   },
   "outputs": [
    {
     "name": "stdout",
     "output_type": "stream",
     "text": [
      "{'student1': {'name': 'Sugandh', 'class': 'Python', 'Level': 'Intermediate', 'year': 2021}, 'student2': {'name': 'Sunaina', 'class': 'Python', 'Level': 'Beginner', 'year': 2021}, 'student3': {'name': 'James', 'class': 'SQL', 'Level': 'Advance', 'year': 2020}}\n"
     ]
    }
   ],
   "source": [
    "print(student)"
   ]
  },
  {
   "cell_type": "markdown",
   "metadata": {
    "id": "5t5lOAiFehTy"
   },
   "source": [
    "### Loops in dictionary\n",
    "\n",
    "* You can loop through a dictionary by using a for loop.\n",
    "* When looping through a dictionary, the return value are the keys of the dictionary\n",
    "* to return the values, there are methods"
   ]
  },
  {
   "cell_type": "code",
   "execution_count": 10,
   "metadata": {
    "id": "k2RncLqDehTy"
   },
   "outputs": [
    {
     "name": "stdout",
     "output_type": "stream",
     "text": [
      "name\n",
      "class\n",
      "Level\n",
      "year\n"
     ]
    }
   ],
   "source": [
    "# to print ail keys\n",
    "\n",
    "for key in student4:\n",
    "    print(key)"
   ]
  },
  {
   "cell_type": "code",
   "execution_count": 11,
   "metadata": {
    "id": "zc6TV_1ZehTz"
   },
   "outputs": [
    {
     "name": "stdout",
     "output_type": "stream",
     "text": [
      "Alice\n",
      "Python\n",
      "Beginner\n",
      "2019\n"
     ]
    }
   ],
   "source": [
    "# to print all values\n",
    "\n",
    "for key in student4:\n",
    "    print(student4[key])"
   ]
  },
  {
   "cell_type": "code",
   "execution_count": 12,
   "metadata": {
    "id": "e2ipNoVpehT0"
   },
   "outputs": [
    {
     "name": "stdout",
     "output_type": "stream",
     "text": [
      "Alice\n",
      "Python\n",
      "Beginner\n",
      "2019\n"
     ]
    }
   ],
   "source": [
    "# we can also use values() method to return values of a dictionary\n",
    "\n",
    "for key in student4.values():\n",
    "    print(key)"
   ]
  },
  {
   "cell_type": "code",
   "execution_count": 13,
   "metadata": {
    "id": "pIz-29KjehT1"
   },
   "outputs": [
    {
     "name": "stdout",
     "output_type": "stream",
     "text": [
      "name\n",
      "class\n",
      "Level\n",
      "year\n"
     ]
    }
   ],
   "source": [
    "# key() method to print keys\n",
    "\n",
    "for key in student4.keys():\n",
    "    print(key)"
   ]
  },
  {
   "cell_type": "code",
   "execution_count": 14,
   "metadata": {
    "id": "A4tIIFYuehT1"
   },
   "outputs": [
    {
     "name": "stdout",
     "output_type": "stream",
     "text": [
      "name Alice\n",
      "class Python\n",
      "Level Beginner\n",
      "year 2019\n"
     ]
    }
   ],
   "source": [
    "#  items() method will return key and value both as result\n",
    "\n",
    "for key,val in student4.items():\n",
    "    print(key,val)"
   ]
  },
  {
   "cell_type": "markdown",
   "metadata": {
    "id": "EZX4ibP1ehT1"
   },
   "source": [
    "**You cannot copy a dictionary simply by typing dict2 = dict1, because: dict2 will only be a reference to dict1, and changes made in dict1 will automatically also be made in dict2**\n",
    "\n"
   ]
  },
  {
   "cell_type": "code",
   "execution_count": 15,
   "metadata": {
    "id": "Vcq3xZ9jehT2"
   },
   "outputs": [
    {
     "name": "stdout",
     "output_type": "stream",
     "text": [
      "{'student1': {'name': 'Sugandh', 'class': 'Python', 'Level': 'Intermediate', 'year': 2021}, 'student2': {'name': 'Sunaina', 'class': 'Python', 'Level': 'Beginner', 'year': 2021}, 'student3': {'name': 'James', 'class': 'SQL', 'Level': 'Advance', 'year': 2020}}\n"
     ]
    }
   ],
   "source": [
    "# copy() allows you to make a copy of a dictionary\n",
    "\n",
    "student_info = student.copy()\n",
    "print(student_info)"
   ]
  },
  {
   "cell_type": "code",
   "execution_count": 16,
   "metadata": {
    "id": "WyyQ_CapehT3"
   },
   "outputs": [
    {
     "name": "stdout",
     "output_type": "stream",
     "text": [
      "\n",
      "Student No.: student1\n",
      "name : Sugandh\n",
      "class : Python\n",
      "Level : Intermediate\n",
      "year : 2021\n",
      "\n",
      "Student No.: student2\n",
      "name : Sunaina\n",
      "class : Python\n",
      "Level : Beginner\n",
      "year : 2021\n",
      "\n",
      "Student No.: student3\n",
      "name : James\n",
      "class : SQL\n",
      "Level : Advance\n",
      "year : 2020\n"
     ]
    }
   ],
   "source": [
    "# loop through nested dictionary\n",
    "\n",
    "for key,val in student_info.items():\n",
    "    print(\"\\nStudent No.:\", key)\n",
    "    \n",
    "    for item in val:\n",
    "        print(item, ':',val[item] )"
   ]
  },
  {
   "cell_type": "code",
   "execution_count": null,
   "metadata": {
    "id": "G03PY19OehT4"
   },
   "outputs": [],
   "source": []
  }
 ],
 "metadata": {
  "colab": {
   "name": "Lesson 14 Nested Dictionary.ipynb",
   "provenance": []
  },
  "kernelspec": {
   "display_name": "Python 3",
   "language": "python",
   "name": "python3"
  },
  "language_info": {
   "codemirror_mode": {
    "name": "ipython",
    "version": 3
   },
   "file_extension": ".py",
   "mimetype": "text/x-python",
   "name": "python",
   "nbconvert_exporter": "python",
   "pygments_lexer": "ipython3",
   "version": "3.7.6"
  }
 },
 "nbformat": 4,
 "nbformat_minor": 1
}
