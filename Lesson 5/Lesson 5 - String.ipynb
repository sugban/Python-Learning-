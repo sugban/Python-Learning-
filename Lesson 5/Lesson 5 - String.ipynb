{
 "cells": [
  {
   "cell_type": "markdown",
   "metadata": {},
   "source": [
    "### String:\n",
    "\n",
    "* Strings are surrounded by either single quotation marks, or double quotation marks **'Python' or \"Python\"**\n",
    "* You can assign a multiline string to a variable by using three quotes, again it can be single or double quote<br> \n",
    "**''' Hello Python**<br>**This is my 5th Lesson of**<br>**Begginer's class'''**"
   ]
  },
  {
   "cell_type": "code",
   "execution_count": 1,
   "metadata": {},
   "outputs": [
    {
     "name": "stdout",
     "output_type": "stream",
     "text": [
      "Sugandh Bansal\n"
     ]
    }
   ],
   "source": [
    "first_name = 'Sugandh'\n",
    "\n",
    "last_name = \"Bansal\"\n",
    "\n",
    "print(first_name, last_name)"
   ]
  },
  {
   "cell_type": "code",
   "execution_count": 2,
   "metadata": {},
   "outputs": [
    {
     "name": "stdout",
     "output_type": "stream",
     "text": [
      "God helps those, \n",
      "who help themselves\n"
     ]
    }
   ],
   "source": [
    "line = '''God helps those, \n",
    "who help themselves'''\n",
    "\n",
    "print(line)"
   ]
  },
  {
   "cell_type": "markdown",
   "metadata": {},
   "source": [
    "### Indexing and Slicing\n",
    "\n",
    "* We can access individual characters using indexing and a range of characters using slicing. \n",
    "* Index starts from 0 and if you try to access a character out of index range, it will raise an IndexError. \n",
    "* The index must be an integer. If we use floats or other types, this will result into TypeError.\n",
    "* 0-N numbers are forward indexing and -1 to N number is backward indexing or reverse indexing.\n",
    "\n",
    "| P | Y | T | H | O | N |\n",
    "|--|--|--|--|--|--|\n",
    "| 0 | 1 | 2 | 3 | 4 | 5 |\n",
    "| -6 | -5 | -4 | -3 | -2 | -1 |\n",
    "\n",
    "\n",
    "* We can access a range of items in a string by using the slicing operator **:** (colon) enclosed with **[ ]** (square brackets)\n",
    "\n",
    "* SYNTAX - **string[start argument : stop argument : step]**\n"
   ]
  },
  {
   "cell_type": "code",
   "execution_count": 4,
   "metadata": {},
   "outputs": [
    {
     "name": "stdout",
     "output_type": "stream",
     "text": [
      "Name =  Sugandh\n",
      "Name[0] =  S\n",
      "Name[-1] =  h\n",
      "Name[1:5] =  ugan\n",
      "Name[3:-2] =  an\n",
      "Name[::2] =  Sgnh\n",
      "Name[::-1] =  hdnaguS\n"
     ]
    }
   ],
   "source": [
    "#Accessing string characters in Python\n",
    "\n",
    "name = 'Sugandh'\n",
    "print('Name = ', name)\n",
    "\n",
    "#first character\n",
    "print('Name[0] = ', name[0])\n",
    "\n",
    "#last character\n",
    "print('Name[-1] = ', name[-1])\n",
    "\n",
    "#slicing 2nd to 5th character\n",
    "print('Name[1:5] = ', name[1:5])\n",
    "\n",
    "#slicing 3rd to 2nd last character\n",
    "print('Name[3:-2] = ', name[3:-2])\n",
    "\n",
    "#slicing all character with step - printing every alternate character from string\n",
    "print('Name[::2] = ', name[::2])\n",
    "\n",
    "# to print reverse order of characters in string\n",
    "print('Name[::-1] = ', name[::-1])"
   ]
  },
  {
   "cell_type": "code",
   "execution_count": 6,
   "metadata": {
    "scrolled": true
   },
   "outputs": [
    {
     "ename": "IndexError",
     "evalue": "string index out of range",
     "output_type": "error",
     "traceback": [
      "\u001b[1;31m---------------------------------------------------------------------------\u001b[0m",
      "\u001b[1;31mIndexError\u001b[0m                                Traceback (most recent call last)",
      "\u001b[1;32m<ipython-input-6-6311d38abf90>\u001b[0m in \u001b[0;36m<module>\u001b[1;34m\u001b[0m\n\u001b[0;32m      1\u001b[0m \u001b[1;31m# index must be in range - Index error\u001b[0m\u001b[1;33m\u001b[0m\u001b[1;33m\u001b[0m\u001b[1;33m\u001b[0m\u001b[0m\n\u001b[1;32m----> 2\u001b[1;33m \u001b[0mprint\u001b[0m\u001b[1;33m(\u001b[0m\u001b[0mname\u001b[0m\u001b[1;33m[\u001b[0m\u001b[1;36m10\u001b[0m\u001b[1;33m]\u001b[0m\u001b[1;33m)\u001b[0m\u001b[1;33m\u001b[0m\u001b[1;33m\u001b[0m\u001b[0m\n\u001b[0m",
      "\u001b[1;31mIndexError\u001b[0m: string index out of range"
     ]
    }
   ],
   "source": [
    "# index must be in range - Index error\n",
    "print(name[10])  "
   ]
  },
  {
   "cell_type": "code",
   "execution_count": 7,
   "metadata": {},
   "outputs": [
    {
     "ename": "TypeError",
     "evalue": "string indices must be integers",
     "output_type": "error",
     "traceback": [
      "\u001b[1;31m---------------------------------------------------------------------------\u001b[0m",
      "\u001b[1;31mTypeError\u001b[0m                                 Traceback (most recent call last)",
      "\u001b[1;32m<ipython-input-7-83d43e63e689>\u001b[0m in \u001b[0;36m<module>\u001b[1;34m\u001b[0m\n\u001b[0;32m      1\u001b[0m \u001b[1;31m# index must be an integer - Type error\u001b[0m\u001b[1;33m\u001b[0m\u001b[1;33m\u001b[0m\u001b[1;33m\u001b[0m\u001b[0m\n\u001b[1;32m----> 2\u001b[1;33m \u001b[0mprint\u001b[0m\u001b[1;33m(\u001b[0m\u001b[0mname\u001b[0m\u001b[1;33m[\u001b[0m\u001b[1;36m1.5\u001b[0m\u001b[1;33m]\u001b[0m\u001b[1;33m)\u001b[0m\u001b[1;33m\u001b[0m\u001b[1;33m\u001b[0m\u001b[0m\n\u001b[0m",
      "\u001b[1;31mTypeError\u001b[0m: string indices must be integers"
     ]
    }
   ],
   "source": [
    "# index must be an integer - Type error\n",
    "print(name[1.5])"
   ]
  },
  {
   "cell_type": "markdown",
   "metadata": {},
   "source": [
    "*Strings are immutable. This means that elements of a string cannot be changed once they have been assigned. We can simply reassign different strings to the same name.*"
   ]
  },
  {
   "cell_type": "code",
   "execution_count": 8,
   "metadata": {},
   "outputs": [
    {
     "ename": "TypeError",
     "evalue": "'str' object does not support item assignment",
     "output_type": "error",
     "traceback": [
      "\u001b[1;31m---------------------------------------------------------------------------\u001b[0m",
      "\u001b[1;31mTypeError\u001b[0m                                 Traceback (most recent call last)",
      "\u001b[1;32m<ipython-input-8-44e2c8aed3ec>\u001b[0m in \u001b[0;36m<module>\u001b[1;34m\u001b[0m\n\u001b[1;32m----> 1\u001b[1;33m \u001b[0mname\u001b[0m\u001b[1;33m[\u001b[0m\u001b[1;36m4\u001b[0m\u001b[1;33m]\u001b[0m\u001b[1;33m=\u001b[0m\u001b[1;34m'o'\u001b[0m\u001b[1;33m\u001b[0m\u001b[1;33m\u001b[0m\u001b[0m\n\u001b[0m\u001b[0;32m      2\u001b[0m \u001b[0mprint\u001b[0m\u001b[1;33m(\u001b[0m\u001b[0mname\u001b[0m\u001b[1;33m)\u001b[0m\u001b[1;33m\u001b[0m\u001b[1;33m\u001b[0m\u001b[0m\n",
      "\u001b[1;31mTypeError\u001b[0m: 'str' object does not support item assignment"
     ]
    }
   ],
   "source": [
    "name[4]='o'\n",
    "print(name)"
   ]
  },
  {
   "cell_type": "code",
   "execution_count": 9,
   "metadata": {},
   "outputs": [
    {
     "name": "stdout",
     "output_type": "stream",
     "text": [
      "Python\n"
     ]
    }
   ],
   "source": [
    "name='Python'\n",
    "print(name)"
   ]
  },
  {
   "cell_type": "markdown",
   "metadata": {},
   "source": [
    "### String Concatenation\n",
    "\n",
    "* Joining of two or more strings into a single one is called concatenation.\n",
    "\n",
    "* The **+** operator concatenates two strings together.\n",
    "\n",
    "* The ***** operator can be used to repeat the string for a given number of times.\n",
    "\n",
    "* You cannot add an integer in the string, only string can be concatnate with string."
   ]
  },
  {
   "cell_type": "code",
   "execution_count": 10,
   "metadata": {},
   "outputs": [
    {
     "name": "stdout",
     "output_type": "stream",
     "text": [
      "SugandhBansal\n"
     ]
    }
   ],
   "source": [
    "# using + to join\n",
    "\n",
    "print(first_name + last_name)"
   ]
  },
  {
   "cell_type": "code",
   "execution_count": 11,
   "metadata": {},
   "outputs": [
    {
     "name": "stdout",
     "output_type": "stream",
     "text": [
      "Sugandh Bansal\n"
     ]
    }
   ],
   "source": [
    "print(first_name + ' ' + last_name)"
   ]
  },
  {
   "cell_type": "code",
   "execution_count": 14,
   "metadata": {},
   "outputs": [
    {
     "ename": "TypeError",
     "evalue": "can only concatenate str (not \"int\") to str",
     "output_type": "error",
     "traceback": [
      "\u001b[1;31m---------------------------------------------------------------------------\u001b[0m",
      "\u001b[1;31mTypeError\u001b[0m                                 Traceback (most recent call last)",
      "\u001b[1;32m<ipython-input-14-eeb5ebbbb09a>\u001b[0m in \u001b[0;36m<module>\u001b[1;34m\u001b[0m\n\u001b[1;32m----> 1\u001b[1;33m \u001b[0mprint\u001b[0m\u001b[1;33m(\u001b[0m\u001b[0mname\u001b[0m \u001b[1;33m+\u001b[0m \u001b[1;36m5\u001b[0m\u001b[1;33m)\u001b[0m\u001b[1;33m\u001b[0m\u001b[1;33m\u001b[0m\u001b[0m\n\u001b[0m",
      "\u001b[1;31mTypeError\u001b[0m: can only concatenate str (not \"int\") to str"
     ]
    }
   ],
   "source": [
    "print(name + 5)"
   ]
  },
  {
   "cell_type": "code",
   "execution_count": 15,
   "metadata": {},
   "outputs": [
    {
     "name": "stdout",
     "output_type": "stream",
     "text": [
      "Python5\n"
     ]
    }
   ],
   "source": [
    "print(name + '5')"
   ]
  },
  {
   "cell_type": "code",
   "execution_count": 16,
   "metadata": {},
   "outputs": [
    {
     "name": "stdout",
     "output_type": "stream",
     "text": [
      "Python5\n"
     ]
    }
   ],
   "source": [
    "print(name + str(5))"
   ]
  },
  {
   "cell_type": "code",
   "execution_count": 17,
   "metadata": {},
   "outputs": [
    {
     "name": "stdout",
     "output_type": "stream",
     "text": [
      "name * 3 = PythonPythonPython\n"
     ]
    }
   ],
   "source": [
    "# using * to repeat\n",
    "\n",
    "print('name * 3 =', name * 3)"
   ]
  },
  {
   "cell_type": "markdown",
   "metadata": {},
   "source": [
    "### User Input\n",
    "\n",
    "In this you ask user to add info and input function always gets the data in string data type."
   ]
  },
  {
   "cell_type": "code",
   "execution_count": 18,
   "metadata": {},
   "outputs": [
    {
     "name": "stdout",
     "output_type": "stream",
     "text": [
      "Please write your name: Sugandh\n"
     ]
    }
   ],
   "source": [
    "user_name = input('Please write your name: ')"
   ]
  },
  {
   "cell_type": "code",
   "execution_count": 19,
   "metadata": {},
   "outputs": [
    {
     "name": "stdout",
     "output_type": "stream",
     "text": [
      "<class 'str'>\n"
     ]
    }
   ],
   "source": [
    "print(type(user_name))"
   ]
  },
  {
   "cell_type": "code",
   "execution_count": 20,
   "metadata": {},
   "outputs": [
    {
     "name": "stdout",
     "output_type": "stream",
     "text": [
      "Please add a number: 2\n"
     ]
    }
   ],
   "source": [
    "user_age = input('Please add a number: ')"
   ]
  },
  {
   "cell_type": "code",
   "execution_count": 23,
   "metadata": {},
   "outputs": [],
   "source": [
    "user_age=int(user_age)"
   ]
  },
  {
   "cell_type": "code",
   "execution_count": 24,
   "metadata": {},
   "outputs": [
    {
     "name": "stdout",
     "output_type": "stream",
     "text": [
      "<class 'int'>\n"
     ]
    }
   ],
   "source": [
    "print(type(user_age))"
   ]
  },
  {
   "cell_type": "markdown",
   "metadata": {},
   "source": [
    "### String with the use of Membership operator\n",
    "\n",
    "We can test if a substring exists within a string or not, using the keyword in"
   ]
  },
  {
   "cell_type": "code",
   "execution_count": 25,
   "metadata": {},
   "outputs": [
    {
     "name": "stdout",
     "output_type": "stream",
     "text": [
      "True\n"
     ]
    }
   ],
   "source": [
    "print('a' in user_name)"
   ]
  },
  {
   "cell_type": "code",
   "execution_count": 26,
   "metadata": {},
   "outputs": [
    {
     "name": "stdout",
     "output_type": "stream",
     "text": [
      "False\n"
     ]
    }
   ],
   "source": [
    "print('h' not in user_name)"
   ]
  },
  {
   "cell_type": "markdown",
   "metadata": {},
   "source": [
    "### String Methods\n",
    "\n",
    "* len() - to count the length of the string\n",
    "* lower() - returns the string in lower case\n",
    "* upper() - returns the string in upper case\n",
    "* title() - to make initial letter in upper case and rest in lower case\n",
    "* count() - to count a particular character repetation in the string\n",
    "* strip() - removes any whitespace from the beginning or the end\n",
    "* replace() - replaces a string with another string\n",
    "* split() - splits the string into substrings if it finds instances of the separator"
   ]
  },
  {
   "cell_type": "code",
   "execution_count": 27,
   "metadata": {},
   "outputs": [
    {
     "name": "stdout",
     "output_type": "stream",
     "text": [
      "Length of user name:  7\n",
      "All in upper case:  SUGANDH\n",
      "In right format:  Sugandh\n",
      "Count A in the string:  1\n",
      "Replace H with I: Sugandi\n"
     ]
    }
   ],
   "source": [
    "print('Length of user name: ',len(user_name))\n",
    "print('All in upper case: ',user_name.upper())\n",
    "print('In right format: ', user_name.title())\n",
    "print('Count A in the string: ', user_name.count('a'))\n",
    "print('Replace H with I:', user_name.replace(\"h\", \"i\"))"
   ]
  },
  {
   "cell_type": "markdown",
   "metadata": {},
   "source": [
    "| Method | Description |\n",
    "|----|----|\n",
    "|capitalize() | Converts the first character to upper case|\n",
    "| casefold() | Converts string into lower case |\n",
    "| center() | Returns a centered string |\n",
    "| count() | Returns the number of times a specified value occurs in a string |\n",
    "| encode() | Returns an encoded version of the string |\n",
    "| endswith() | Returns true if the string ends with the specified value |\n",
    "| expandtabs() | Sets the tab size of the string |\n",
    "| find() | Searches the string for a specified value and returns the position of where it was found |\n",
    "| format() | Formats specified values in a string |\n",
    "| format_map() | Formats specified values in a string |\n",
    "| index() | Searches the string for a specified value and returns the position of where it was found |\n",
    "| isalnum() | Returns True if all characters in the string are alphanumeric |\n",
    "| isalpha() | Returns True if all characters in the string are in the alphabet |\n",
    "| isdecimal() | Returns True if all characters in the string are decimals |\n",
    "| isdigit() | Returns True if all characters in the string are digits |\n",
    "| isidentifier() | Returns True if the string is an identifier |\n",
    "| islower() | Returns True if all characters in the string are lower case |\n",
    "| isnumeric() | Returns True if all characters in the string are numeric |\n",
    "| isprintable() | Returns True if all characters in the string are printable |\n",
    "| isspace() | Returns True if all characters in the string are whitespaces |\n",
    "| istitle() | Returns True if the string follows the rules of a title |\n",
    "| isupper() | Returns True if all characters in the string are upper case |\n",
    "| join() | Joins the elements of an iterable to the end of the string |\n",
    "| ljust() | Returns a left justified version of the string |\n",
    "| lower() | Converts a string into lower case |\n",
    "| lstrip() | Returns a left trim version of the string |\n",
    "| maketrans() | Returns a translation table to be used in translations |\n",
    "| partition() | Returns a tuple where the string is parted into three parts |\n",
    "| replace() | Returns a string where a specified value is replaced with a specified value |\n",
    "| rfind() | Searches the string for a specified value and returns the last position of where it was found |\n",
    "| rindex() | Searches the string for a specified value and returns the last position of where it was found |\n",
    "| rjust() | Returns a right justified version of the string |\n",
    "| rpartition() | Returns a tuple where the string is parted into three parts |\n",
    "| rsplit() | Splits the string at the specified separator, and returns a list |\n",
    "| rstrip() | Returns a right trim version of the string |\n",
    "| split() | Splits the string at the specified separator, and returns a list |\n",
    "| splitlines() | Splits the string at line breaks and returns a list |\n",
    "| startswith() | Returns true if the string starts with the specified value |\n",
    "| strip() | Returns a trimmed version of the string |\n",
    "| swapcase() | Swaps cases, lower case becomes upper case and vice versa |\n",
    "| title() | Converts the first character of each word to upper case |\n",
    "| translate() | Returns a translated string |\n",
    "| upper() | Converts a string into upper case |\n",
    "| zfill() | Fills the string with a specified number of 0 values at the beginning |\n"
   ]
  }
 ],
 "metadata": {
  "kernelspec": {
   "display_name": "Python 3",
   "language": "python",
   "name": "python3"
  },
  "language_info": {
   "codemirror_mode": {
    "name": "ipython",
    "version": 3
   },
   "file_extension": ".py",
   "mimetype": "text/x-python",
   "name": "python",
   "nbconvert_exporter": "python",
   "pygments_lexer": "ipython3",
   "version": "3.7.6"
  }
 },
 "nbformat": 4,
 "nbformat_minor": 4
}
