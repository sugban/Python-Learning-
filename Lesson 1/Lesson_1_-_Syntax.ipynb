{
 "cells": [
  {
   "cell_type": "markdown",
   "metadata": {},
   "source": [
    "### Installation/Setup\n",
    "\n",
    "I recommend to work with Anaconda distribution of Python. You can download it [here](https://www.anaconda.com/products/individual) and find installation instructions for Windows, MacOS and Linux [here](https://docs.anaconda.com/anaconda/install/). <br>\n",
    "If you already have Python on your computer, that's great! "
   ]
  },
  {
   "cell_type": "markdown",
   "metadata": {},
   "source": [
    "## Lesson plan:\n",
    "\n",
    "\n",
    "| Lesson | Topic |\n",
    "|--------|---------------------------------------------------------------------------|\n",
    "|  1  | Syntax |\n",
    "|  2  | Escape sequence  |\n",
    "|  3  | Operators    |\n",
    "|  4  | Variables |\n",
    "|  5  | Strings (indexing, slicing and methods)  |\n",
    "|  6  | If, else statement  |\n",
    "|  7  | For and While loops |\n",
    "|  8  | Use of Random library  |\n",
    "|  9  | Defining and calling fuction |\n",
    "| 10  | Function inside function (Nested function)  |\n",
    "| 11  | List  |\n",
    "| 12  | Looping in list  | \n",
    "| 13  | Nested list   |\n",
    "| 14  | Tuples |\n",
    "| 15  | Dictionaries |\n",
    "| 16  | Sets  |\n",
    "| 17  | List, Dictionary and Set comprehension |\n",
    "| 18  | Regular expression |\n",
    "| 19  | Lambda expression  |\n",
    "| 20  | File handling |\n",
    "| 21  | csv file handling |\n",
    "| 22 | html file handling |\n",
    "| 23 | excel file handling |\n",
    "| 24 | Creating and handling arrays using NumPy |\n",
    "| 25 | Data analysis using Pandas |\n",
    "| 26 | Data visualization using Matplotlib |\n",
    "| 27 | Data visualization using Seaborn |\n",
    "| 28 | Data visualization using Plotly |\n",
    "| 29 | Data Visualization Project 1 |\n",
    "| 30 | Data Visualization Project 2 |"
   ]
  },
  {
   "cell_type": "markdown",
   "metadata": {},
   "source": [
    "# LESSON 1\n",
    "\n",
    "## Syntax "
   ]
  },
  {
   "cell_type": "markdown",
   "metadata": {},
   "source": [
    "### Exercise:  \n",
    "1. write a short text"
   ]
  },
  {
   "cell_type": "markdown",
   "metadata": {},
   "source": [
    "Hello everyone and welcome"
   ]
  },
  {
   "cell_type": "markdown",
   "metadata": {},
   "source": [
    "2. Create a section with a heading"
   ]
  },
  {
   "cell_type": "markdown",
   "metadata": {},
   "source": [
    "# Heading 1\n",
    "## Heading 2\n",
    "### Heading 3"
   ]
  },
  {
   "cell_type": "markdown",
   "metadata": {},
   "source": [
    "3. Write words in bold and italics"
   ]
  },
  {
   "cell_type": "markdown",
   "metadata": {},
   "source": [
    "**This line is in bold**"
   ]
  },
  {
   "cell_type": "markdown",
   "metadata": {},
   "source": [
    "*This line is in italics*"
   ]
  },
  {
   "cell_type": "markdown",
   "metadata": {},
   "source": [
    "4. Establish a hyperlink"
   ]
  },
  {
   "cell_type": "markdown",
   "metadata": {},
   "source": [
    "Here is the [link](http://localhost:8888/notebooks/Sugandh%20Python/Python%20Learning/Lesson%201%20-%20Syntax.ipynb)"
   ]
  },
  {
   "cell_type": "markdown",
   "metadata": {},
   "source": [
    "5. Make a comment"
   ]
  },
  {
   "cell_type": "code",
   "execution_count": 2,
   "metadata": {},
   "outputs": [],
   "source": [
    "# This video is to explain the syntax of Python"
   ]
  },
  {
   "cell_type": "markdown",
   "metadata": {},
   "source": [
    "6. Define a variable"
   ]
  },
  {
   "cell_type": "code",
   "execution_count": null,
   "metadata": {},
   "outputs": [],
   "source": [
    "var = 10\n",
    "var1 = \"car\""
   ]
  },
  {
   "cell_type": "markdown",
   "metadata": {},
   "source": [
    "7. Make a multi-line comment "
   ]
  },
  {
   "cell_type": "code",
   "execution_count": 3,
   "metadata": {},
   "outputs": [
    {
     "data": {
      "text/plain": [
       "' this is \\nmulti line\\ncomment '"
      ]
     },
     "execution_count": 3,
     "metadata": {},
     "output_type": "execute_result"
    }
   ],
   "source": [
    "\"\"\" this is \n",
    "multi line\n",
    "comment \"\"\""
   ]
  },
  {
   "cell_type": "markdown",
   "metadata": {},
   "source": [
    "8. Continuance"
   ]
  },
  {
   "cell_type": "code",
   "execution_count": 4,
   "metadata": {},
   "outputs": [],
   "source": [
    "num1 = 1 ; num2 = 2"
   ]
  },
  {
   "cell_type": "markdown",
   "metadata": {},
   "source": [
    "9. Remember indentation"
   ]
  },
  {
   "cell_type": "code",
   "execution_count": 7,
   "metadata": {},
   "outputs": [
    {
     "name": "stdout",
     "output_type": "stream",
     "text": [
      "True\n"
     ]
    }
   ],
   "source": [
    "if True:\n",
    "    print('True')"
   ]
  },
  {
   "cell_type": "markdown",
   "metadata": {},
   "source": [
    "10. Print statement"
   ]
  },
  {
   "cell_type": "code",
   "execution_count": 8,
   "metadata": {},
   "outputs": [
    {
     "name": "stdout",
     "output_type": "stream",
     "text": [
      "hello python!\n"
     ]
    }
   ],
   "source": [
    "print('hello python!')"
   ]
  },
  {
   "cell_type": "code",
   "execution_count": 9,
   "metadata": {},
   "outputs": [
    {
     "name": "stdout",
     "output_type": "stream",
     "text": [
      "23\n"
     ]
    }
   ],
   "source": [
    "print(23)"
   ]
  },
  {
   "cell_type": "code",
   "execution_count": 10,
   "metadata": {},
   "outputs": [
    {
     "name": "stdout",
     "output_type": "stream",
     "text": [
      "5\n"
     ]
    }
   ],
   "source": [
    "print(2+3)"
   ]
  },
  {
   "cell_type": "code",
   "execution_count": null,
   "metadata": {},
   "outputs": [],
   "source": []
  }
 ],
 "metadata": {
  "kernelspec": {
   "display_name": "Python 3",
   "language": "python",
   "name": "python3"
  },
  "language_info": {
   "codemirror_mode": {
    "name": "ipython",
    "version": 3
   },
   "file_extension": ".py",
   "mimetype": "text/x-python",
   "name": "python",
   "nbconvert_exporter": "python",
   "pygments_lexer": "ipython3",
   "version": "3.7.6"
  }
 },
 "nbformat": 4,
 "nbformat_minor": 4
}
