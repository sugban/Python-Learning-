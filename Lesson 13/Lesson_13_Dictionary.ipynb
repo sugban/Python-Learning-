{
 "cells": [
  {
   "cell_type": "markdown",
   "metadata": {
    "id": "LH37jw7yFMg1"
   },
   "source": [
    "### Dictionary\n",
    "\n",
    "* A dictionary is a collection which is ordered (3.7 version, in Python 3.6 and earlier, dictionaries are unordered)\n",
    "* Dictionaries are written with curly brackets, and have keys and values\n",
    "* Each key is separated from its value by a colon (:), the items are separated by commas, and the whole thing is enclosed in curly braces {}\n",
    "* The values in a dictionary can be of any data type and can be duplicated \n",
    "* but the keys must be of an immutable data type such as strings, numbers, or tuples\n",
    "* also do not allow duplicates, it cannot have two items with the same key\n",
    "* Dictionary keys are case sensitive, the same name but different cases of Key will be treated distinctly\n",
    "* Dictionary is changeable and you can add or remove items after the dictionary has been created"
   ]
  },
  {
   "cell_type": "code",
   "execution_count": 1,
   "metadata": {
    "id": "TbeAjTazFMg7"
   },
   "outputs": [
    {
     "name": "stdout",
     "output_type": "stream",
     "text": [
      "{'name': 'Sugandh', 'class': 'Python', 'fav_color': ['Red', 'Blue', 'White', 'Orange', 'Purple'], 'age': 32}\n"
     ]
    }
   ],
   "source": [
    "user ={'name': 'Sugandh', 'class':'Python','fav_color':['Red','Blue','White','Orange','Purple'],'age':32}\n",
    "print(user)"
   ]
  },
  {
   "cell_type": "code",
   "execution_count": 2,
   "metadata": {
    "id": "zXy-q5WrFMg-"
   },
   "outputs": [
    {
     "name": "stdout",
     "output_type": "stream",
     "text": [
      "['Sugandh', 'Python', ['Red', 'Blue', 'White', 'Orange', 'Purple'], 32]\n"
     ]
    }
   ],
   "source": [
    "user_list = ['Sugandh','Python',['Red','Blue','White','Orange','Purple'],32]\n",
    "print(user_list)"
   ]
  },
  {
   "cell_type": "markdown",
   "metadata": {
    "id": "kx_7K3tDFMg_"
   },
   "source": [
    "* One more differnce between list and dictionary is that -\n",
    "    - List elements are accessed by their position in the list, via indexing and dictionary elements are accessed via keys "
   ]
  },
  {
   "cell_type": "code",
   "execution_count": 3,
   "metadata": {
    "id": "9avXIcZbFMhA"
   },
   "outputs": [
    {
     "name": "stdout",
     "output_type": "stream",
     "text": [
      "['Red', 'Blue', 'White', 'Orange', 'Purple']\n"
     ]
    }
   ],
   "source": [
    "print(user['fav_color'])"
   ]
  },
  {
   "cell_type": "code",
   "execution_count": 4,
   "metadata": {
    "id": "4f4rZf75FMhB"
   },
   "outputs": [
    {
     "name": "stdout",
     "output_type": "stream",
     "text": [
      "['Red', 'Blue', 'White', 'Orange', 'Purple']\n"
     ]
    }
   ],
   "source": [
    "print(user_list[2])"
   ]
  },
  {
   "cell_type": "code",
   "execution_count": 5,
   "metadata": {
    "id": "pitC3OITFMhC"
   },
   "outputs": [
    {
     "name": "stdout",
     "output_type": "stream",
     "text": [
      "{'name': 'Sugandh', 'class': 'Python', 'fav_color': ['Red', 'Blue', 'White', 'Orange', 'Purple'], 'age': 35}\n"
     ]
    }
   ],
   "source": [
    "# to change value in dictionary also you access the index by keys\n",
    "\n",
    "user['age']=35\n",
    "print(user)"
   ]
  },
  {
   "cell_type": "code",
   "execution_count": 6,
   "metadata": {
    "id": "iOCK_E5VFMhD"
   },
   "outputs": [
    {
     "name": "stdout",
     "output_type": "stream",
     "text": [
      "{'name': 'Sugandh', 'class': 'Python', 'fav_color': ['Red', 'Blue', 'White', 'Orange', 'Purple'], 'age': 35, 'year': 2022}\n"
     ]
    }
   ],
   "source": [
    "# to add values\n",
    "\n",
    "user['year']=2022\n",
    "print(user)"
   ]
  },
  {
   "cell_type": "code",
   "execution_count": 7,
   "metadata": {
    "id": "iwP_Q2GBFMhE"
   },
   "outputs": [
    {
     "name": "stdout",
     "output_type": "stream",
     "text": [
      "{'name': 'Ashish', 'class': 'Python', 'fav_color': ['Blue', 'Black', 'Orange', 'White'], 'age': 35, 'year': 2021}\n"
     ]
    }
   ],
   "source": [
    "# dictionary cannot have duplicate keys (same keys repitition)\n",
    "# duplicate values will overwrite existing values\n",
    "\n",
    "user_two = {\n",
    "            'name': 'Ashish', 'class': 'Python', \n",
    "            'fav_color': ['Blue', 'Black', 'Orange', 'White'], \n",
    "            'age': 35, 'year': 2022,'year':2021\n",
    "           }\n",
    "\n",
    "print(user_two)\n"
   ]
  },
  {
   "cell_type": "code",
   "execution_count": 8,
   "metadata": {
    "id": "bTZYLSqNFMhF"
   },
   "outputs": [
    {
     "name": "stdout",
     "output_type": "stream",
     "text": [
      "<class 'dict'>\n"
     ]
    }
   ],
   "source": [
    "print(type(user_two))"
   ]
  },
  {
   "cell_type": "code",
   "execution_count": 9,
   "metadata": {
    "id": "nkBsLp20FMhF"
   },
   "outputs": [
    {
     "name": "stdout",
     "output_type": "stream",
     "text": [
      "5\n"
     ]
    }
   ],
   "source": [
    "print(len(user_two))"
   ]
  },
  {
   "cell_type": "code",
   "execution_count": 10,
   "metadata": {
    "id": "do0BDz_SFMhG"
   },
   "outputs": [
    {
     "name": "stdout",
     "output_type": "stream",
     "text": [
      "['Blue', 'Black', 'Orange', 'White']\n"
     ]
    }
   ],
   "source": [
    "# get() method will also give values, when define keys inside it \n",
    "\n",
    "val = user_two.get('fav_color')\n",
    "print(val)"
   ]
  },
  {
   "cell_type": "code",
   "execution_count": 11,
   "metadata": {
    "id": "g-iKXpLVFMhH"
   },
   "outputs": [
    {
     "name": "stdout",
     "output_type": "stream",
     "text": [
      "dict_keys(['name', 'class', 'fav_color', 'age', 'year'])\n"
     ]
    }
   ],
   "source": [
    "# keys() method will return a list of all the keys in the dictionary\n",
    "\n",
    "print(user_two.keys())"
   ]
  },
  {
   "cell_type": "code",
   "execution_count": 12,
   "metadata": {
    "id": "CJHyWeJBFMhH"
   },
   "outputs": [
    {
     "name": "stdout",
     "output_type": "stream",
     "text": [
      "dict_values(['Ashish', 'Python', ['Blue', 'Black', 'Orange', 'White'], 35, 2021])\n"
     ]
    }
   ],
   "source": [
    "# values() method will return a list of all the values in the dictionary\n",
    "\n",
    "print(user_two.values())"
   ]
  },
  {
   "cell_type": "code",
   "execution_count": 13,
   "metadata": {
    "id": "3sI5ey-CFMhI"
   },
   "outputs": [
    {
     "name": "stdout",
     "output_type": "stream",
     "text": [
      "dict_items([('name', 'Ashish'), ('class', 'Python'), ('fav_color', ['Blue', 'Black', 'Orange', 'White']), ('age', 35), ('year', 2021)])\n"
     ]
    }
   ],
   "source": [
    "# items() method will return each item (key and value) as tuples in a list from dictionary\n",
    "\n",
    "print(user_two.items())"
   ]
  },
  {
   "cell_type": "code",
   "execution_count": 14,
   "metadata": {
    "id": "tjg4oXJsFMhI"
   },
   "outputs": [
    {
     "name": "stdout",
     "output_type": "stream",
     "text": [
      "{'name': 'Ashish', 'class': 'Python', 'fav_color': ['Blue', 'Black', 'Orange', 'White'], 'age': 29, 'year': 2021}\n"
     ]
    }
   ],
   "source": [
    "# update() method will update the dictionary value\n",
    "# The argument must be in curly braces with key:value pairs\n",
    "\n",
    "user_two.update({'age':29})\n",
    "print(user_two)"
   ]
  },
  {
   "cell_type": "code",
   "execution_count": 15,
   "metadata": {
    "id": "kS19XW4qFMhJ"
   },
   "outputs": [
    {
     "name": "stdout",
     "output_type": "stream",
     "text": [
      "{'name': 'Ashish', 'class': 'Python', 'fav_color': ['Blue', 'Black', 'Orange', 'White'], 'age': 29, 'year': 2021, 'designation': 'Data Analyst'}\n"
     ]
    }
   ],
   "source": [
    "#  with update() method we can add value too, if the item does not exist, the item will be added \n",
    "\n",
    "user_two.update({'designation':'Data Analyst'})\n",
    "print(user_two)"
   ]
  },
  {
   "cell_type": "code",
   "execution_count": 16,
   "metadata": {
    "id": "MV_pTox7FMhJ"
   },
   "outputs": [
    {
     "name": "stdout",
     "output_type": "stream",
     "text": [
      "{'name': 'Ashish', 'class': 'Python', 'fav_color': ['Blue', 'Black', 'Orange', 'White'], 'age': 29, 'designation': 'Data Analyst'}\n"
     ]
    }
   ],
   "source": [
    "# pop() method removes the item with the specified key name\n",
    "\n",
    "user_two.pop('year')\n",
    "print(user_two)"
   ]
  },
  {
   "cell_type": "code",
   "execution_count": 18,
   "metadata": {
    "id": "ypb7RsHPFMhK"
   },
   "outputs": [
    {
     "name": "stdout",
     "output_type": "stream",
     "text": [
      "{'name': 'Ashish', 'class': 'Python', 'fav_color': ['Blue', 'Black', 'Orange', 'White']}\n"
     ]
    }
   ],
   "source": [
    "# popitem() method delete the last key value pair\n",
    "\n",
    "user_two.popitem()\n",
    "print(user_two)"
   ]
  },
  {
   "cell_type": "markdown",
   "metadata": {
    "id": "zpovZ5N1FMhK"
   },
   "source": [
    "### Methods for dictionary\n",
    "| Method | Description |\n",
    "|----|----|\n",
    "| clear() | Removes all the elements from the dictionary |\n",
    "| copy() | Returns a copy of the dictionary |\n",
    "| fromkeys() | Returns a dictionary with the specified keys and value |\n",
    "| get() | Returns the value of the specified key |\n",
    "| items() | Returns a list containing a tuple for each key value pair |\n",
    "| keys() | Returns a list containing the dictionary's keys |\n",
    "| pop() | Removes the element with the specified key |\n",
    "| popitem() | Removes the last inserted key-value pair |\n",
    "| setdefault() | Returns the value of the specified key. If the key does not exist: insert the key, with the specified value |\n",
    "| update() | Updates the dictionary with the specified key-value pairs |\n",
    "| values() | Returns a list of all the values in the dictionary |"
   ]
  },
  {
   "cell_type": "code",
   "execution_count": null,
   "metadata": {
    "id": "EbECz7lIFMhL"
   },
   "outputs": [],
   "source": []
  }
 ],
 "metadata": {
  "colab": {
   "name": "Lesson 13 Dictionary.ipynb",
   "provenance": []
  },
  "kernelspec": {
   "display_name": "Python 3",
   "language": "python",
   "name": "python3"
  },
  "language_info": {
   "codemirror_mode": {
    "name": "ipython",
    "version": 3
   },
   "file_extension": ".py",
   "mimetype": "text/x-python",
   "name": "python",
   "nbconvert_exporter": "python",
   "pygments_lexer": "ipython3",
   "version": "3.7.6"
  }
 },
 "nbformat": 4,
 "nbformat_minor": 1
}
