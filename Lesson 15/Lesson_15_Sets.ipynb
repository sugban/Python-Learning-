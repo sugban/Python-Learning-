{
 "cells": [
  {
   "cell_type": "markdown",
   "metadata": {
    "id": "2BsiC5xOPyUx"
   },
   "source": [
    "### SET\n",
    "\n",
    "* Set is also one of the sequence and are used to store multiple items in a single variable, like, list and tuple\n",
    "* It holds value within the curly braces {}, values seperated by comma\n",
    "* Set is an unordered collection of unique items, that means it can't hold duplicate values\n",
    "* Sets are unchangeable, but you can remove and add items\n",
    "* Unchangeable means, that we cannot change the items after the set has been created\n",
    "* Sets are unordered, so you cannot be sure in which order the items will appear, that's why it cannot be indexed as well\n",
    "* Sets cannot have two items with the same value"
   ]
  },
  {
   "cell_type": "code",
   "execution_count": 1,
   "metadata": {
    "id": "wuD4hgXKPyU2"
   },
   "outputs": [
    {
     "name": "stdout",
     "output_type": "stream",
     "text": [
      "{1, 3.33, 5, 'two', 'four'}\n"
     ]
    }
   ],
   "source": [
    "set1={1,'two',3.33,'four',5}\n",
    "print(set1)"
   ]
  },
  {
   "cell_type": "code",
   "execution_count": 3,
   "metadata": {
    "id": "fRZ_QvryPyU4"
   },
   "outputs": [
    {
     "name": "stdout",
     "output_type": "stream",
     "text": [
      "['red', 'blue', 'yellow', 'red', 'green', 'blue', 'red', 'blue']\n"
     ]
    }
   ],
   "source": [
    "list1= ['red','blue','yellow','red','green','blue','red','blue']\n",
    "print(list1)"
   ]
  },
  {
   "cell_type": "code",
   "execution_count": 4,
   "metadata": {
    "id": "JMmD-JchPyU5"
   },
   "outputs": [
    {
     "name": "stdout",
     "output_type": "stream",
     "text": [
      "{'yellow', 'red', 'green', 'blue'}\n"
     ]
    }
   ],
   "source": [
    "# convert a datatype to set by set method\n",
    "\n",
    "set2 = set(list1)\n",
    "print(set2)"
   ]
  },
  {
   "cell_type": "markdown",
   "metadata": {
    "id": "TXtCIRcoPyU6"
   },
   "source": [
    "**List contained many values with duplicate items as well but set can't hold duplicate items so it carried only unique values**"
   ]
  },
  {
   "cell_type": "code",
   "execution_count": 5,
   "metadata": {
    "id": "0hpupnB7PyU6"
   },
   "outputs": [
    {
     "name": "stdout",
     "output_type": "stream",
     "text": [
      "4\n"
     ]
    }
   ],
   "source": [
    "print(len(set2))"
   ]
  },
  {
   "cell_type": "code",
   "execution_count": 6,
   "metadata": {
    "id": "H0lxskv5PyU7"
   },
   "outputs": [
    {
     "name": "stdout",
     "output_type": "stream",
     "text": [
      "<class 'set'>\n"
     ]
    }
   ],
   "source": [
    "print(type(set2))"
   ]
  },
  {
   "cell_type": "markdown",
   "metadata": {
    "id": "YgwHY7-zPyU8"
   },
   "source": [
    "### Add items in set"
   ]
  },
  {
   "cell_type": "code",
   "execution_count": 7,
   "metadata": {
    "id": "Wm6GTM3yPyU8"
   },
   "outputs": [
    {
     "name": "stdout",
     "output_type": "stream",
     "text": [
      "{'red', 'green', 'orange', 'yellow', 'blue'}\n"
     ]
    }
   ],
   "source": [
    "# Once a set is created, you cannot change its items, but you can add new items by using add() method\n",
    "\n",
    "set2.add('orange')\n",
    "print(set2)"
   ]
  },
  {
   "cell_type": "code",
   "execution_count": 8,
   "metadata": {
    "id": "nfsAzWsOPyU-"
   },
   "outputs": [
    {
     "name": "stdout",
     "output_type": "stream",
     "text": [
      "{1, 3.33, 'red', 5, 'green', 'two', 'orange', 'yellow', 'four', 'blue'}\n"
     ]
    }
   ],
   "source": [
    "# set 1 items can be added from another set or set2 by using update() method\n",
    "\n",
    "set2.update(set1)\n",
    "print(set2)"
   ]
  },
  {
   "cell_type": "code",
   "execution_count": 9,
   "metadata": {
    "id": "vDm3ETlePyU_"
   },
   "outputs": [
    {
     "name": "stdout",
     "output_type": "stream",
     "text": [
      "{1, 3.33, 100, 5, 200, 300, 400, 'two', 'four'}\n"
     ]
    }
   ],
   "source": [
    "# values in the update() method does not have to be a set, it can be any iterable object like - tuples, lists, dictionaries etc.)\n",
    "\n",
    "list2 = [100,200,300,400]\n",
    "\n",
    "set1.update(list2)\n",
    "\n",
    "print(set1)"
   ]
  },
  {
   "cell_type": "code",
   "execution_count": 10,
   "metadata": {
    "id": "60XZOlM9PyVA"
   },
   "outputs": [
    {
     "name": "stdout",
     "output_type": "stream",
     "text": [
      "{'red', 'green'}\n"
     ]
    }
   ],
   "source": [
    "# intersection_update() method will keep only the items of one set that are present in both sets\n",
    "# it will keep only duplicates\n",
    "\n",
    "x = {'orange','red','yellow','green'}\n",
    "y = {'blue','white','red','green'}\n",
    "\n",
    "x.intersection_update(y)\n",
    "\n",
    "print(x)"
   ]
  },
  {
   "cell_type": "code",
   "execution_count": 11,
   "metadata": {
    "id": "2vq8ZhoxPyVA"
   },
   "outputs": [
    {
     "name": "stdout",
     "output_type": "stream",
     "text": [
      "{'white', 'blue'}\n"
     ]
    }
   ],
   "source": [
    "# symmetric_difference_update() method will keep only the elements of one set that are NOT present in both sets\n",
    "\n",
    "x.symmetric_difference_update(y)\n",
    "\n",
    "print(x)"
   ]
  },
  {
   "cell_type": "markdown",
   "metadata": {
    "id": "_M6e12_MPyVB"
   },
   "source": [
    "### Join Sets"
   ]
  },
  {
   "cell_type": "code",
   "execution_count": 12,
   "metadata": {
    "id": "0qpd-TyGPyVC"
   },
   "outputs": [
    {
     "name": "stdout",
     "output_type": "stream",
     "text": [
      "{1, 3.33, 5, 200, 400, 'green', 'blue', 'yellow', 100, 'red', 300, 'two', 'orange', 'four'}\n"
     ]
    }
   ],
   "source": [
    "# update() method that inserts all the items from one set into another\n",
    "\n",
    "set1.update(set2)\n",
    "print(set1)"
   ]
  },
  {
   "cell_type": "code",
   "execution_count": 13,
   "metadata": {
    "id": "_DJKiNiaPyVC"
   },
   "outputs": [
    {
     "name": "stdout",
     "output_type": "stream",
     "text": [
      "{1, 3.33, 5, 200, 400, 'green', 'four', 'blue', 100, 'red', 300, 'two', 'orange', 'yellow'}\n"
     ]
    }
   ],
   "source": [
    "# union() method that returns a new set containing all items from both sets\n",
    "\n",
    "set3 = set1.union(set2)\n",
    "print(set3)"
   ]
  },
  {
   "cell_type": "markdown",
   "metadata": {
    "id": "1f9LWYFKPyVC"
   },
   "source": [
    "### Remove items from set\n",
    "\n",
    "* To remove an item in a set, we use remove(), or discard() method\n",
    "* The only difference between remove and discard method ius that\n",
    " - If the item to remove does not exist, remove() will raise an error\n",
    " - If the item to remove does not exist, discard() will NOT raise an error"
   ]
  },
  {
   "cell_type": "code",
   "execution_count": 14,
   "metadata": {
    "id": "WSevn8ZBPyVD"
   },
   "outputs": [],
   "source": [
    "set1.remove('blue')"
   ]
  },
  {
   "cell_type": "code",
   "execution_count": 15,
   "metadata": {},
   "outputs": [
    {
     "ename": "KeyError",
     "evalue": "'blue'",
     "output_type": "error",
     "traceback": [
      "\u001b[1;31m---------------------------------------------------------------------------\u001b[0m",
      "\u001b[1;31mKeyError\u001b[0m                                  Traceback (most recent call last)",
      "\u001b[1;32m<ipython-input-15-e30f5445a083>\u001b[0m in \u001b[0;36m<module>\u001b[1;34m\u001b[0m\n\u001b[1;32m----> 1\u001b[1;33m \u001b[0mset1\u001b[0m\u001b[1;33m.\u001b[0m\u001b[0mremove\u001b[0m\u001b[1;33m(\u001b[0m\u001b[1;34m'blue'\u001b[0m\u001b[1;33m)\u001b[0m\u001b[1;33m\u001b[0m\u001b[1;33m\u001b[0m\u001b[0m\n\u001b[0m",
      "\u001b[1;31mKeyError\u001b[0m: 'blue'"
     ]
    }
   ],
   "source": [
    "set1.remove('blue')"
   ]
  },
  {
   "cell_type": "code",
   "execution_count": 16,
   "metadata": {
    "id": "8rlhRL64PyVD"
   },
   "outputs": [
    {
     "name": "stdout",
     "output_type": "stream",
     "text": [
      "{1, 3.33, 5, 200, 400, 'green', 'yellow', 100, 'red', 300, 'two', 'orange', 'four'}\n"
     ]
    }
   ],
   "source": [
    "set1.discard('blue')\n",
    "print(set1)"
   ]
  },
  {
   "cell_type": "code",
   "execution_count": 17,
   "metadata": {
    "id": "QQkcOiibPyVD"
   },
   "outputs": [
    {
     "name": "stdout",
     "output_type": "stream",
     "text": [
      "{1, 3.33, 'red', 5, 'green', 'two', 'orange', 'yellow', 'four'}\n"
     ]
    }
   ],
   "source": [
    "set2.remove('blue')\n",
    "print(set2)"
   ]
  },
  {
   "cell_type": "code",
   "execution_count": 18,
   "metadata": {
    "id": "3oiziSSrPyVE"
   },
   "outputs": [
    {
     "name": "stdout",
     "output_type": "stream",
     "text": [
      "{1, 3.33, 5, 'green', 'two', 'orange', 'yellow', 'four'}\n"
     ]
    }
   ],
   "source": [
    "set2.discard('red')\n",
    "print(set2)"
   ]
  },
  {
   "cell_type": "markdown",
   "metadata": {
    "id": "M9qc_0BKPyVE"
   },
   "source": [
    "An item can also be removed by using the pop() method. <br>\n",
    "Remember that sets are unordered, so you will not know what item that gets removed."
   ]
  },
  {
   "cell_type": "code",
   "execution_count": 19,
   "metadata": {
    "id": "AdR9qIh0PyVE"
   },
   "outputs": [
    {
     "name": "stdout",
     "output_type": "stream",
     "text": [
      "Removed item:  1\n",
      "{3.33, 5, 'green', 'two', 'orange', 'yellow', 'four'}\n"
     ]
    }
   ],
   "source": [
    "x = set2.pop()\n",
    "\n",
    "print('Removed item: ',x)\n",
    "\n",
    "print(set2)"
   ]
  },
  {
   "cell_type": "markdown",
   "metadata": {
    "id": "l8oJ1isLPyVF"
   },
   "source": [
    "You cannot access items in a set by referring to an index or a key<br>\n",
    "But you can loop through the set items using a for loop"
   ]
  },
  {
   "cell_type": "markdown",
   "metadata": {
    "id": "r2cM5KTQPyVF"
   },
   "source": [
    "### Loop through Set"
   ]
  },
  {
   "cell_type": "code",
   "execution_count": 20,
   "metadata": {
    "id": "VlHDF_JCPyVF"
   },
   "outputs": [
    {
     "name": "stdout",
     "output_type": "stream",
     "text": [
      "3.33\n",
      "5\n",
      "green\n",
      "two\n",
      "orange\n",
      "yellow\n",
      "four\n"
     ]
    }
   ],
   "source": [
    "for i in set2:\n",
    "    print(i)"
   ]
  },
  {
   "cell_type": "code",
   "execution_count": 21,
   "metadata": {
    "id": "ziYFW5_BPyVG"
   },
   "outputs": [
    {
     "name": "stdout",
     "output_type": "stream",
     "text": [
      "True\n"
     ]
    }
   ],
   "source": [
    "# You can check if the value is present in the set\n",
    "\n",
    "print('orange' in set2)"
   ]
  },
  {
   "cell_type": "markdown",
   "metadata": {
    "id": "A-RjgGRKPyVG"
   },
   "source": [
    "### Set Methods\n",
    "\n",
    "| Method | Description |\n",
    "|----|----|\n",
    "| add()\t| Adds an element to the set | \n",
    "| clear() | Removes all the elements from the set | \n",
    "| copy() | Returns a copy of the set | \n",
    "| difference()\t| Returns a set containing the difference between two or more sets | \n",
    "| difference_update() | Removes the items in this set that are also included in another, specified set | \n",
    "| discard()\t| Remove the specified item | \n",
    "| intersection()\t| Returns a set, that is the intersection of two other sets | \n",
    "| intersection_update()\t| Removes the items in this set that are not present in other, specified set(s) | \n",
    "| isdisjoint()\t| Returns whether two sets have a intersection or not | \n",
    "| issubset()\t| Returns whether another set contains this set or not | \n",
    "| issuperset()\t| Returns whether this set contains another set or not | \n",
    "| pop()\t| Removes an element from the set | \n",
    "| remove()\t| Removes the specified element | \n",
    "| symmetric_difference()\t| Returns a set with the symmetric differences of two sets | \n",
    "| symmetric_difference_update()\t| inserts the symmetric differences from this set and another | \n",
    "| union()\t| Return a set containing the union of sets | \n",
    "| update()\t| Update the set with the union of this set and others | "
   ]
  }
 ],
 "metadata": {
  "colab": {
   "name": "Lesson 15 Sets.ipynb",
   "provenance": []
  },
  "kernelspec": {
   "display_name": "Python 3",
   "language": "python",
   "name": "python3"
  },
  "language_info": {
   "codemirror_mode": {
    "name": "ipython",
    "version": 3
   },
   "file_extension": ".py",
   "mimetype": "text/x-python",
   "name": "python",
   "nbconvert_exporter": "python",
   "pygments_lexer": "ipython3",
   "version": "3.7.6"
  }
 },
 "nbformat": 4,
 "nbformat_minor": 1
}
