{
  "cells": [
    {
      "cell_type": "markdown",
      "metadata": {
        "id": "view-in-github",
        "colab_type": "text"
      },
      "source": [
        "<a href=\"https://colab.research.google.com/github/sugban/Python-Learning-/blob/main/Lesson%2021/Lesson_21_html_File_Handling.ipynb\" target=\"_parent\"><img src=\"https://colab.research.google.com/assets/colab-badge.svg\" alt=\"Open In Colab\"/></a>"
      ]
    },
    {
      "cell_type": "markdown",
      "source": [
        "### HTML - File handling\n",
        "\n",
        "* HTML is the standard markup language for Web pages\n",
        "* With HTML you can create your own Website\n",
        "* To create html file, syntax is the same\n",
        "<pre>\n",
        "FileObject = open('filename','mode')\n",
        "</pre>\n",
        "\n",
        "* Adding input data in HTML format into the file\n",
        "<pre>\n",
        "FileObject.write(\"Adding_Input_data_using_HTML_Synatx_separted_by_/n\")\n",
        "</pre>\n",
        "* to save and close file\n",
        "<pre>\n",
        "FileObject.close()\n",
        "</pre>"
      ],
      "metadata": {
        "id": "-EsOUnqOMY3Z"
      }
    },
    {
      "cell_type": "code",
      "source": [
        "# Creating an HTML file\n",
        "file = open(\"intro.html\",\"w\")\n",
        "   \n",
        "# Adding input data to the HTML file\n",
        "file.write(\"<html>\\n<head>\\n<title> \\nTest HTML file \\\n",
        "           </title>\\n</head> <body><h1>Welcome to HTML file intro</h1>\\\n",
        "           \\n<h2>for learners</h2> \\n</body></html>\")\n",
        "              \n",
        "# Saving the data into the HTML file\n",
        "file.close()"
      ],
      "metadata": {
        "id": "Z1PHNVoMRUCK"
      },
      "execution_count": 1,
      "outputs": []
    },
    {
      "cell_type": "code",
      "source": [
        "# read html file\n",
        "\n",
        "f = open('intro.html','r')\n",
        "print(f.read())\n",
        "f.close()"
      ],
      "metadata": {
        "id": "xEBZMNUmrUQC",
        "colab": {
          "base_uri": "https://localhost:8080/"
        },
        "outputId": "450e186f-c037-4d7b-ddf5-de1386809ad8"
      },
      "execution_count": 2,
      "outputs": [
        {
          "output_type": "stream",
          "name": "stdout",
          "text": [
            "<html>\n",
            "<head>\n",
            "<title> \n",
            "Test HTML file            </title>\n",
            "</head> <body><h1>Welcome to HTML file intro</h1>           \n",
            "<h2>for learners</h2> \n",
            "</body></html>\n"
          ]
        }
      ]
    },
    {
      "cell_type": "code",
      "source": [
        "# append values in html file\n",
        "\n",
        "with open('intro.html','a') as file:\n",
        "  file.write('<body>\\n<h3>This is a Heading</h3>\\\n",
        "              <p>This is a paragraph.</p>\\\n",
        "              </body>')"
      ],
      "metadata": {
        "id": "p9w3iX6yRpgH"
      },
      "execution_count": 3,
      "outputs": []
    },
    {
      "cell_type": "code",
      "source": [
        "# read html file\n",
        "\n",
        "f = open('intro.html','r')\n",
        "print(f.read())\n",
        "f.close()"
      ],
      "metadata": {
        "id": "tHZIlFucrjhn",
        "colab": {
          "base_uri": "https://localhost:8080/"
        },
        "outputId": "ffce9593-0d46-4663-ca9d-f4b0fa3f0785"
      },
      "execution_count": 4,
      "outputs": [
        {
          "output_type": "stream",
          "name": "stdout",
          "text": [
            "<html>\n",
            "<head>\n",
            "<title> \n",
            "Test HTML file            </title>\n",
            "</head> <body><h1>Welcome to HTML file intro</h1>           \n",
            "<h2>for learners</h2> \n",
            "</body></html><body>\n",
            "<h3>This is a Heading</h3>              <p>This is a paragraph.</p>              </body>\n"
          ]
        }
      ]
    },
    {
      "cell_type": "code",
      "source": [
        "# read a html file and extract urls from it\n",
        "\n",
        "with open('python.html','r') as read_file:\n",
        "  with open('link_file.txt','w') as write_file:\n",
        "    for lines in read_file.readlines():\n",
        "      if 'href' in lines:\n",
        "        position = lines.find('href')\n",
        "        first = lines.find('\\\"',position)\n",
        "        second = lines.find('\\\"',first+1)\n",
        "        url =lines[first+1:second]\n",
        "        write_file.write(url+'\\n')"
      ],
      "metadata": {
        "id": "aJcbIglnURvo"
      },
      "execution_count": 5,
      "outputs": []
    },
    {
      "cell_type": "code",
      "source": [
        "with open('link_file.txt','r') as text_file:\n",
        "  print(text_file.read())"
      ],
      "metadata": {
        "id": "XVjw_9DKbQHa",
        "colab": {
          "base_uri": "https://localhost:8080/"
        },
        "outputId": "13e9237f-92b5-4552-cf56-5ffa431184e9"
      },
      "execution_count": 6,
      "outputs": [
        {
          "output_type": "stream",
          "name": "stdout",
          "text": [
            "https://www.pythontutorial.com/\n",
            "/html/index.htm\n",
            "/html/index.htm\n",
            "/html/index.htm\n",
            "/html/index.htm\n",
            "\n"
          ]
        }
      ]
    },
    {
      "cell_type": "code",
      "source": [
        ""
      ],
      "metadata": {
        "id": "PnX8Wm7SbZ-7"
      },
      "execution_count": null,
      "outputs": []
    }
  ],
  "metadata": {
    "kernelspec": {
      "display_name": "Python 3",
      "language": "python",
      "name": "python3"
    },
    "language_info": {
      "codemirror_mode": {
        "name": "ipython",
        "version": 3
      },
      "file_extension": ".py",
      "mimetype": "text/x-python",
      "name": "python",
      "nbconvert_exporter": "python",
      "pygments_lexer": "ipython3",
      "version": "3.7.6"
    },
    "colab": {
      "name": "Lesson 21 html - File Handling",
      "provenance": [],
      "collapsed_sections": [],
      "include_colab_link": true
    }
  },
  "nbformat": 4,
  "nbformat_minor": 0
}