{
  "cells": [
    {
      "cell_type": "markdown",
      "metadata": {
        "id": "view-in-github",
        "colab_type": "text"
      },
      "source": [
        "<a href=\"https://colab.research.google.com/github/sugban/Python-Learning-/blob/main/Lesson%2019/Lesson_19_File_Handling.ipynb\" target=\"_parent\"><img src=\"https://colab.research.google.com/assets/colab-badge.svg\" alt=\"Open In Colab\"/></a>"
      ]
    },
    {
      "cell_type": "markdown",
      "source": [
        "### File handling\n",
        "\n",
        "* File handling is an important part of a web application\n",
        "* We can create, read, update, and delete files in Python\n",
        "* text file, csv file, html file and excel file\n",
        "\n",
        "-------------------------------------------------------------------------------\n",
        "\n",
        "#### Functions for file handling\n",
        "\n",
        "| Function | description | Syntax |\n",
        "|----|----|----|\n",
        "| open() | to open a file | open('filename',mode) |\n",
        "| close() | to close a file | FileObject.close() |\n",
        "| read() | to read the content of the file | FileObject.read([count]) |\n",
        "| write() | to write file | FileObject.write(data) |\n",
        "| tell() | tells you the current position within the file | FileObject.tell() |\n",
        "| seek() | reposition pointer at the beginning once again | FileObject.seek() |\n",
        "| os.remove() | to delete a file | os.remove(filename) |\n",
        "\n",
        "------------------------------------------------------------------------------\n",
        "\n",
        "#### Mode for file handling\n",
        "\n",
        "| Mode | Description |\n",
        "|----|----|\n",
        "| r | Opens a file for reading only. This is the default mode |\n",
        "| r+ | Opens a file for both reading and writing |\n",
        "| rb+ | Opens a file for both reading and writing in binary format |\n",
        "| w | Opens a file for writing only. Overwrites the file if the file exists. If the file does not exist, creates a new file for writing |\n",
        "| w+ | Opens a file for both writing and reading. Overwrites the existing file. If the file doesn't exist, creates a new for reading and writing |\n",
        "| a | Opens a file for appending |\n",
        "| a+ | Opens a file for both appending and reading |\n",
        "\n",
        "------------------------------------------------------------------------------\n",
        "<br>\n",
        "<br>\n",
        "\n",
        "### 1. Open and Close a text file\n",
        "\n",
        "open() method to open a file. It takes two parameters (filename and mode)\n",
        "\n",
        "FileObject.close() to close the file"
      ],
      "metadata": {
        "id": "-EsOUnqOMY3Z"
      }
    },
    {
      "cell_type": "code",
      "source": [
        "# open() will open a file with 'r' mode to read the content of the file and returns a file object, named 'file' \n",
        "\n",
        "file = open('demo.txt','r') # created a FileObject 'file'\n",
        "\n",
        "# to read the content of the file\n",
        "line = file.read()\n",
        "print(line)\n",
        "\n",
        "# closing file with FileObject\n",
        "\n",
        "file.close() # make sure the file exists, or else you will get an error"
      ],
      "metadata": {
        "id": "_njov-6QQ3iS",
        "colab": {
          "base_uri": "https://localhost:8080/"
        },
        "outputId": "903629a5-b9bb-4aa7-8eb7-4eba8ee6bf71"
      },
      "execution_count": null,
      "outputs": [
        {
          "output_type": "stream",
          "name": "stdout",
          "text": [
            "Hello! Welcome to the demo file.\n",
            "This file is for learning file handling in Python.\n",
            "We’ll try to open, read and then append in this file.\n",
            "So be tuned and Good Luck!\n"
          ]
        }
      ]
    },
    {
      "cell_type": "code",
      "source": [
        "# to read only parts of the file - few character or content\n",
        "\n",
        "file = open('demo.txt','r')\n",
        "\n",
        "line = file.read(15) # Return the first 15 characters of the file\n",
        "print(line)\n",
        "\n",
        "\n",
        "file.close() "
      ],
      "metadata": {
        "id": "8WJ_W7NDYk4X",
        "colab": {
          "base_uri": "https://localhost:8080/"
        },
        "outputId": "d3413fa2-2ee0-4aa0-e678-b161a25d600f"
      },
      "execution_count": null,
      "outputs": [
        {
          "output_type": "stream",
          "name": "stdout",
          "text": [
            "Hello! Welcome \n"
          ]
        }
      ]
    },
    {
      "cell_type": "code",
      "source": [
        "# one line can be read by using the readline() method\n",
        "\n",
        "file = open('demo.txt','r')\n",
        "\n",
        "line = file.readline()\n",
        "print(line)\n",
        "line = file.readline() # Return only first or one line from the file\n",
        "print(line)\n",
        "\n",
        "\n",
        "file.close()"
      ],
      "metadata": {
        "id": "rHNSzHgfas2b",
        "colab": {
          "base_uri": "https://localhost:8080/"
        },
        "outputId": "4c6855d8-1570-4a05-c725-a52bad552e85"
      },
      "execution_count": null,
      "outputs": [
        {
          "output_type": "stream",
          "name": "stdout",
          "text": [
            "Hello! Welcome to the demo file.\n",
            "\n",
            "This file is for learning file handling in Python.\n",
            "\n"
          ]
        }
      ]
    },
    {
      "cell_type": "code",
      "source": [
        "file = open('demo.txt','r')\n",
        "\n",
        "line = file.readlines() # Return all the lines from the file\n",
        "print(line)"
      ],
      "metadata": {
        "id": "gRxo9AWobSBl",
        "colab": {
          "base_uri": "https://localhost:8080/"
        },
        "outputId": "19ef418d-8aa1-4860-87df-ff3ab10d29da"
      },
      "execution_count": null,
      "outputs": [
        {
          "output_type": "stream",
          "name": "stdout",
          "text": [
            "['Hello! Welcome to the demo file.\\n', 'This file is for learning file handling in Python.\\n', 'We’ll try to open, read and then append in this file.\\n', 'So be tuned and Good Luck!']\n"
          ]
        }
      ]
    },
    {
      "cell_type": "code",
      "source": [
        "# to check the number of lines the file has\n",
        "\n",
        "print(len(line))"
      ],
      "metadata": {
        "id": "VjrVsGd_cQ3I",
        "colab": {
          "base_uri": "https://localhost:8080/"
        },
        "outputId": "865bbe25-32cb-4df6-9193-3195e6a52fb3"
      },
      "execution_count": null,
      "outputs": [
        {
          "output_type": "stream",
          "name": "stdout",
          "text": [
            "4\n"
          ]
        }
      ]
    },
    {
      "cell_type": "code",
      "source": [
        "# to print file name\n",
        "\n",
        "print(file.name)"
      ],
      "metadata": {
        "id": "74vgpDTfcRtY",
        "colab": {
          "base_uri": "https://localhost:8080/"
        },
        "outputId": "4c0b0c19-fa66-4e0a-edef-78d1c2cc4f9b"
      },
      "execution_count": null,
      "outputs": [
        {
          "output_type": "stream",
          "name": "stdout",
          "text": [
            "demo.txt\n"
          ]
        }
      ]
    },
    {
      "cell_type": "code",
      "source": [
        "# to find the position of the cursor\n",
        "\n",
        "print(f'cursor position - {file.tell()}')"
      ],
      "metadata": {
        "id": "DrdJFbFKcsmo",
        "colab": {
          "base_uri": "https://localhost:8080/"
        },
        "outputId": "295cbb3a-4346-4b8f-8108-86aa025fbf8b"
      },
      "execution_count": null,
      "outputs": [
        {
          "output_type": "stream",
          "name": "stdout",
          "text": [
            "cursor position - 169\n"
          ]
        }
      ]
    },
    {
      "cell_type": "code",
      "source": [
        "# to define the cursor position\n",
        "\n",
        "file.seek(0)"
      ],
      "metadata": {
        "id": "hGjQBI0Fcsww",
        "colab": {
          "base_uri": "https://localhost:8080/"
        },
        "outputId": "12c69f77-12af-437e-d0df-68ab36210318"
      },
      "execution_count": null,
      "outputs": [
        {
          "output_type": "execute_result",
          "data": {
            "text/plain": [
              "0"
            ]
          },
          "metadata": {},
          "execution_count": 13
        }
      ]
    },
    {
      "cell_type": "code",
      "source": [
        "# we should always close file in th end, otherwise it can be damaged\n",
        "\n",
        "file.close()"
      ],
      "metadata": {
        "id": "xgiJFOFQcSYu"
      },
      "execution_count": null,
      "outputs": []
    },
    {
      "cell_type": "code",
      "source": [
        "# to check if the file has closed or not\n",
        "\n",
        "print(file.closed)"
      ],
      "metadata": {
        "id": "D4mmHk6lcSf9",
        "colab": {
          "base_uri": "https://localhost:8080/"
        },
        "outputId": "6f68ba50-b26d-412c-8885-73d7534a6891"
      },
      "execution_count": null,
      "outputs": [
        {
          "output_type": "stream",
          "name": "stdout",
          "text": [
            "True\n"
          ]
        }
      ]
    },
    {
      "cell_type": "code",
      "source": [
        "# Loop through the file line by line\n",
        "\n",
        "file = open('demo.txt','r')\n",
        "\n",
        "for line in file:\n",
        "  print(line)\n",
        "\n",
        "file.close()"
      ],
      "metadata": {
        "id": "Tl-qWkxabdxZ",
        "colab": {
          "base_uri": "https://localhost:8080/"
        },
        "outputId": "0a90105d-053f-4014-c105-5d45d5bd0f95"
      },
      "execution_count": null,
      "outputs": [
        {
          "output_type": "stream",
          "name": "stdout",
          "text": [
            "Hello! Welcome to the demo file.\n",
            "\n",
            "This file is for learning file handling in Python.\n",
            "\n",
            "We’ll try to open, read and then append in this file.\n",
            "\n",
            "So be tuned and Good Luck!\n"
          ]
        }
      ]
    },
    {
      "cell_type": "markdown",
      "source": [
        "**You should always close your files, in some cases, due to buffering, changes made to a file may not show until you close the file.**"
      ],
      "metadata": {
        "id": "Q3RZLzZacApB"
      }
    },
    {
      "cell_type": "code",
      "source": [
        "# open file with 'with open' method\n",
        "# in this you don't need to add the close function as it always closes file itself in the end\n",
        "\n",
        "with open('demo.txt') as file:\n",
        "    line = file.read()\n",
        "    print(line)"
      ],
      "metadata": {
        "id": "w37Stz3yb0E7",
        "colab": {
          "base_uri": "https://localhost:8080/"
        },
        "outputId": "e2bc267e-08d2-4b85-cdca-6fe01e1446d6"
      },
      "execution_count": null,
      "outputs": [
        {
          "output_type": "stream",
          "name": "stdout",
          "text": [
            "Hello! Welcome to the demo file.\n",
            "This file is for learning file handling in Python.\n",
            "We’ll try to open, read and then append in this file.\n",
            "So be tuned and Good Luck!\n"
          ]
        }
      ]
    },
    {
      "cell_type": "code",
      "source": [
        "print(file.closed)"
      ],
      "metadata": {
        "id": "1UwQ7M3JdZdY",
        "colab": {
          "base_uri": "https://localhost:8080/"
        },
        "outputId": "a250a01a-04dd-4192-97b6-6fa32d90206e"
      },
      "execution_count": null,
      "outputs": [
        {
          "output_type": "stream",
          "name": "stdout",
          "text": [
            "True\n"
          ]
        }
      ]
    },
    {
      "cell_type": "markdown",
      "source": [
        "### 2. Write to an existing file\n",
        "\n",
        "To write to an existing file, you must add a parameter, either 'a' or 'w' to the open() method, while opening a file:\n",
        "\n",
        "* \"a\" - Append - will append to the end of the file\n",
        "\n",
        "* \"w\" - Write - will overwrite any existing content"
      ],
      "metadata": {
        "id": "zYGE0922hekS"
      }
    },
    {
      "cell_type": "code",
      "source": [
        "file = open('demo.txt', 'a')\n",
        "\n",
        "file.write(\"\\nNow the file has more content!\") # it will append the line in the existing file name 'demo'\n",
        "\n",
        "file.close()"
      ],
      "metadata": {
        "id": "DWtdbPukdgEC"
      },
      "execution_count": null,
      "outputs": []
    },
    {
      "cell_type": "code",
      "source": [
        "#open and read the file after the appending to check if the new line has been added\n",
        "\n",
        "with open('demo.txt') as file:\n",
        "    line = file.read()\n",
        "    print(line)"
      ],
      "metadata": {
        "id": "GYqNKFcPicey",
        "colab": {
          "base_uri": "https://localhost:8080/"
        },
        "outputId": "3f3b7f5f-f0eb-45f7-ac8b-ced0faca694b"
      },
      "execution_count": null,
      "outputs": [
        {
          "output_type": "stream",
          "name": "stdout",
          "text": [
            "Hello! Welcome to the demo file.\n",
            "This file is for learning file handling in Python.\n",
            "We’ll try to open, read and then append in this file.\n",
            "So be tuned and Good Luck!\n",
            "Now the file has more content!\n"
          ]
        }
      ]
    },
    {
      "cell_type": "code",
      "source": [
        "# to create a new file with append mode\n",
        "\n",
        "file = open('democopy.txt', 'a')\n",
        "\n",
        "file.write(\"Welcome to a new file, if the file not exist!\") # it will append the line in the existing file name 'demo'\n",
        "\n",
        "file.close()"
      ],
      "metadata": {
        "id": "uewhTLQUjOYi"
      },
      "execution_count": null,
      "outputs": []
    },
    {
      "cell_type": "code",
      "source": [
        "with open('democopy.txt') as file:\n",
        "    line = file.read()\n",
        "    print(line)"
      ],
      "metadata": {
        "id": "jG58vzQQjOhQ",
        "colab": {
          "base_uri": "https://localhost:8080/"
        },
        "outputId": "04b41ca6-252a-40e1-e470-ecb099fc5722"
      },
      "execution_count": null,
      "outputs": [
        {
          "output_type": "stream",
          "name": "stdout",
          "text": [
            "Welcome to a new file, if the file not exist!\n"
          ]
        }
      ]
    },
    {
      "cell_type": "code",
      "source": [
        "# Open the file \"democopy.txt\" and overwrite the content with 'w' mode\n",
        "\n",
        "with open('democopy.txt','w') as file1: \n",
        "    file1.write('Hello! The content has overwritten.')"
      ],
      "metadata": {
        "id": "-tIVyVONiqwk"
      },
      "execution_count": null,
      "outputs": []
    },
    {
      "cell_type": "code",
      "source": [
        "with open('democopy.txt') as file:\n",
        "    line = file.read()\n",
        "    print(line)"
      ],
      "metadata": {
        "id": "gDJHosaikAR5",
        "colab": {
          "base_uri": "https://localhost:8080/"
        },
        "outputId": "aae5b871-3aff-4c32-b143-629c6d443d77"
      },
      "execution_count": null,
      "outputs": [
        {
          "output_type": "stream",
          "name": "stdout",
          "text": [
            "Hello! The content has overwritten.\n"
          ]
        }
      ]
    },
    {
      "cell_type": "code",
      "source": [
        "# to create a new file with write mode\n",
        "\n",
        "with open('democopy1.txt','w') as file1: \n",
        "    file1.write('Welcome back!\\nNew file has been created with new content.')"
      ],
      "metadata": {
        "id": "rVOBfGTlkBRa"
      },
      "execution_count": null,
      "outputs": []
    },
    {
      "cell_type": "code",
      "source": [
        "with open('democopy1.txt') as file:\n",
        "    line = file.read()\n",
        "    print(line)"
      ],
      "metadata": {
        "id": "DxdkX2utkV7h",
        "colab": {
          "base_uri": "https://localhost:8080/"
        },
        "outputId": "aa78e143-0de7-44d5-853e-891d4c36dc89"
      },
      "execution_count": null,
      "outputs": [
        {
          "output_type": "stream",
          "name": "stdout",
          "text": [
            "Welcome back!\n",
            "New file has been created with new content.\n"
          ]
        }
      ]
    },
    {
      "cell_type": "markdown",
      "source": [
        "#### 3.Read and write file"
      ],
      "metadata": {
        "id": "AOtV2V26lgf5"
      }
    },
    {
      "cell_type": "code",
      "source": [
        "# we can read and write file together also\n",
        "\n",
        "with open('democopy1.txt','r+') as file:\n",
        "  file.read()\n",
        "  file.write('\\nWe can manipulate files with using different modes')"
      ],
      "metadata": {
        "id": "7cFST0dVkXcR"
      },
      "execution_count": null,
      "outputs": []
    },
    {
      "cell_type": "code",
      "source": [
        "with open('democopy1.txt') as file:\n",
        "    line = file.read()\n",
        "    print(line)"
      ],
      "metadata": {
        "id": "Y_LHVth7k-dz",
        "colab": {
          "base_uri": "https://localhost:8080/"
        },
        "outputId": "94f9a8a0-6f25-427f-add3-71b8b2f409e8"
      },
      "execution_count": null,
      "outputs": [
        {
          "output_type": "stream",
          "name": "stdout",
          "text": [
            "Welcome back!\n",
            "New file has been created with new content.\n",
            "We can manipulate files with using different modes\n"
          ]
        }
      ]
    },
    {
      "cell_type": "code",
      "source": [
        "# read from one file and write into another file\n",
        "\n",
        "with open('demo.txt','r') as read_file:\n",
        "    with open('new.txt','a') as new_file:\n",
        "        for line in read_file.readlines():\n",
        "            new_file.write(line)"
      ],
      "metadata": {
        "id": "Ri69KU-_lGeL"
      },
      "execution_count": null,
      "outputs": []
    },
    {
      "cell_type": "code",
      "source": [
        "with open('new.txt') as file:\n",
        "    line = file.read()\n",
        "    print(line)"
      ],
      "metadata": {
        "id": "pWREoeXsl4dE",
        "colab": {
          "base_uri": "https://localhost:8080/"
        },
        "outputId": "e84b4a25-f2e9-4e6f-d29d-4e309293fb77"
      },
      "execution_count": null,
      "outputs": [
        {
          "output_type": "stream",
          "name": "stdout",
          "text": [
            "Hello! Welcome to the demo file.\n",
            "This file is for learning file handling in Python.\n",
            "We’ll try to open, read and then append in this file.\n",
            "So be tuned and Good Luck!\n",
            "Now the file has more content!\n"
          ]
        }
      ]
    },
    {
      "cell_type": "code",
      "source": [
        "# to add demo1 file also in new\n",
        "\n",
        "with open('democopy1.txt','r') as read_file:\n",
        "    with open('new.txt','a') as new_file:\n",
        "        for line in read_file.readlines():\n",
        "            new_file.write(line)"
      ],
      "metadata": {
        "id": "F3YU-Fd5lzDT"
      },
      "execution_count": null,
      "outputs": []
    },
    {
      "cell_type": "code",
      "source": [
        "with open('new.txt') as file:\n",
        "    line = file.read()\n",
        "    print(line)"
      ],
      "metadata": {
        "id": "4VbUejP3l-TG",
        "colab": {
          "base_uri": "https://localhost:8080/"
        },
        "outputId": "0a0431d2-20b9-4081-c788-f5e938d8f72c"
      },
      "execution_count": null,
      "outputs": [
        {
          "output_type": "stream",
          "name": "stdout",
          "text": [
            "Hello! Welcome to the demo file.\n",
            "This file is for learning file handling in Python.\n",
            "We’ll try to open, read and then append in this file.\n",
            "So be tuned and Good Luck!\n",
            "Now the file has more content!Welcome back!\n",
            "New file has been created with new content.\n",
            "We can manipulate files with using different modes\n"
          ]
        }
      ]
    },
    {
      "cell_type": "markdown",
      "source": [
        "### 4. Delete a File\n",
        "\n",
        "To delete a file, you must import the OS module, and run its os.remove() method\n",
        "\n",
        "os.remove('filename')"
      ],
      "metadata": {
        "id": "91vB5AfDmetK"
      }
    },
    {
      "cell_type": "code",
      "source": [
        "import os\n",
        "\n",
        "os.remove('democopy.txt')"
      ],
      "metadata": {
        "id": "UWmmi7HLmANW"
      },
      "execution_count": null,
      "outputs": []
    },
    {
      "cell_type": "code",
      "source": [
        ""
      ],
      "metadata": {
        "id": "vCxjqiaJ8D0b"
      },
      "execution_count": null,
      "outputs": []
    }
  ],
  "metadata": {
    "kernelspec": {
      "display_name": "Python 3",
      "language": "python",
      "name": "python3"
    },
    "language_info": {
      "codemirror_mode": {
        "name": "ipython",
        "version": 3
      },
      "file_extension": ".py",
      "mimetype": "text/x-python",
      "name": "python",
      "nbconvert_exporter": "python",
      "pygments_lexer": "ipython3",
      "version": "3.7.6"
    },
    "colab": {
      "name": "Lesson 19 File Handling",
      "provenance": [],
      "collapsed_sections": [],
      "include_colab_link": true
    }
  },
  "nbformat": 4,
  "nbformat_minor": 0
}