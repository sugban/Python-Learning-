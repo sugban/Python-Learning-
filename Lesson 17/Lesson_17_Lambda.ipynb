{
 "cells": [
  {
   "cell_type": "markdown",
   "metadata": {
    "id": "DwP1yOKZrtTp"
   },
   "source": [
    "### Lambda\n",
    "\n",
    "* we already know that def keyword is used to define the normal functions and the lambda keyword is used to create anonymous functions. \n",
    "* A lambda function can take any number of arguments, but can only have one expression\n",
    " \n",
    " - for example:\n",
    "\n",
    "    <pre>\n",
    "    def identity(x):\n",
    "      return x\n",
    "    _____________________\n",
    "\n",
    "    lambda x: x\n",
    "\n",
    "    </pre>"
   ]
  },
  {
   "cell_type": "code",
   "execution_count": 5,
   "metadata": {
    "id": "QuB-a92yrtTx"
   },
   "outputs": [
    {
     "name": "stdout",
     "output_type": "stream",
     "text": [
      "10\n"
     ]
    }
   ],
   "source": [
    "# creating a function \n",
    "\n",
    "def double(x):\n",
    "    return x*2\n",
    "\n",
    "print(double(5))"
   ]
  },
  {
   "cell_type": "code",
   "execution_count": 6,
   "metadata": {
    "id": "joDMWbX6rtTz"
   },
   "outputs": [
    {
     "name": "stdout",
     "output_type": "stream",
     "text": [
      "10\n"
     ]
    }
   ],
   "source": [
    "# with lambda function\n",
    "\n",
    "ans = lambda x:x*2\n",
    "\n",
    "print(ans(5))"
   ]
  },
  {
   "cell_type": "code",
   "execution_count": 7,
   "metadata": {
    "id": "P8C_orbdvZjx"
   },
   "outputs": [
    {
     "name": "stdout",
     "output_type": "stream",
     "text": [
      "24\n"
     ]
    }
   ],
   "source": [
    "def calc(a,b,c):\n",
    "    ans= a*b*c\n",
    "    return ans\n",
    "\n",
    "print(calc(2,3,4))"
   ]
  },
  {
   "cell_type": "code",
   "execution_count": 8,
   "metadata": {
    "id": "8DLhMmkXrtT0"
   },
   "outputs": [
    {
     "name": "stdout",
     "output_type": "stream",
     "text": [
      "24\n"
     ]
    }
   ],
   "source": [
    "# with more than one argument\n",
    "\n",
    "x = lambda a,b,c: a*b*c\n",
    "\n",
    "print(x(2,3,4))"
   ]
  },
  {
   "cell_type": "code",
   "execution_count": 9,
   "metadata": {},
   "outputs": [
    {
     "name": "stdout",
     "output_type": "stream",
     "text": [
      "False\n",
      "True\n"
     ]
    }
   ],
   "source": [
    "# function with if and else condition \n",
    "\n",
    "def fun_length(word):\n",
    "    if len(word)>5:\n",
    "        return True\n",
    "    else:\n",
    "        return False\n",
    "    \n",
    "print(fun_length('one'))\n",
    "print(fun_length('Python'))"
   ]
  },
  {
   "cell_type": "code",
   "execution_count": 10,
   "metadata": {},
   "outputs": [
    {
     "name": "stdout",
     "output_type": "stream",
     "text": [
      "False\n",
      "True\n"
     ]
    }
   ],
   "source": [
    "# lambda with if and else condition\n",
    "\n",
    "length = lambda word: True if len(word)>5 else False\n",
    "\n",
    "print(length('one'))\n",
    "print(length('Python'))"
   ]
  },
  {
   "cell_type": "code",
   "execution_count": 11,
   "metadata": {
    "id": "x5-jB7vVrtT0"
   },
   "outputs": [
    {
     "name": "stdout",
     "output_type": "stream",
     "text": [
      "4 powerof 2 =  16\n"
     ]
    }
   ],
   "source": [
    "# The lambda function gets more helpful when used inside a function.\n",
    "\n",
    "def power(n):\n",
    "    return lambda a : a ** n\n",
    "\n",
    "\n",
    "base = power(2)   # base = lambda a : a**2 get returned to base\n",
    "\n",
    "# when calling base it gets executed with already set with 2\n",
    "\n",
    "print(\"4 powerof 2 = \", base(4))\n"
   ]
  },
  {
   "cell_type": "markdown",
   "metadata": {
    "id": "hK2tHDCOxSkz"
   },
   "source": [
    "**Lambda functions are a compact way to write functions if your function includes only one small expression.**"
   ]
  }
 ],
 "metadata": {
  "colab": {
   "name": "Lesson 17 Lambda.ipynb",
   "provenance": []
  },
  "kernelspec": {
   "display_name": "Python 3",
   "language": "python",
   "name": "python3"
  },
  "language_info": {
   "codemirror_mode": {
    "name": "ipython",
    "version": 3
   },
   "file_extension": ".py",
   "mimetype": "text/x-python",
   "name": "python",
   "nbconvert_exporter": "python",
   "pygments_lexer": "ipython3",
   "version": "3.7.6"
  }
 },
 "nbformat": 4,
 "nbformat_minor": 1
}
