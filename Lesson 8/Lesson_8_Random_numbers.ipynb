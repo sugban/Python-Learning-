{
 "cells": [
  {
   "cell_type": "markdown",
   "metadata": {
    "id": "wYdCPctriStb"
   },
   "source": [
    "### Random numbers\n",
    "\n",
    "* Python has a built-in module called random that can be used to make random numbers\n",
    "* It generates a random float number between 0.0 and 1.0. These particular type of functions is used in a lot of games, lotteries, or any application requiring a random number generation."
   ]
  },
  {
   "cell_type": "code",
   "execution_count": 1,
   "metadata": {
    "id": "soXhDc4-iStj"
   },
   "outputs": [],
   "source": [
    "# importing module\n",
    "\n",
    "import random\n",
    "#from random import *"
   ]
  },
  {
   "cell_type": "markdown",
   "metadata": {
    "id": "5n6cRIRMiStl"
   },
   "source": [
    "### Functions to generate Random Numbers:\n",
    "\n",
    "\n",
    "| Functions (Methods) | Description |\n",
    "|-----|-----|\n",
    "| seed() | Initialize the random number generator |\n",
    "| getstate() | Returns the current internal state of the random number generator |\n",
    "| setstate()| Restores the internal state of the random number generator |\n",
    "| getrandbits() | Returns a number representing the random bits |\n",
    "| randrange() | Returns a random number between the given range |\n",
    "| randint() | Returns a random number between the given range |\n",
    "| choice() | Returns a random element from the given sequence |\n",
    "| choices() | Returns a list with a random selection from the given sequence |\n",
    "| shuffle() | Takes a sequence and returns the sequence in a random order |\n",
    "| sample() | Returns a given sample of a sequence |\n",
    "| random() | Returns a random float number between 0 and 1 |\n",
    "| uniform() | Returns a random float number between two given parameters |"
   ]
  },
  {
   "cell_type": "code",
   "execution_count": 4,
   "metadata": {
    "id": "ZXYlSBvZiStm",
    "scrolled": true
   },
   "outputs": [
    {
     "name": "stdout",
     "output_type": "stream",
     "text": [
      "0.23456544415888847\n"
     ]
    }
   ],
   "source": [
    "# generating a random floating point number from 0-1\n",
    "\n",
    "print(random.random())\n",
    "# print(random())"
   ]
  },
  {
   "cell_type": "markdown",
   "metadata": {
    "id": "b2wKYBMciSto"
   },
   "source": [
    "* random.seed() - is used to save the state of a random function, so that it can generate same random numbers on multiple executions of the code (for a specific seed value)\n",
    "\n",
    "* for example: the generator creates a random number based on the seed value, so if the seed value is 5, you will always get 0.6229016948897019 as the first random number.\n",
    "\n"
   ]
  },
  {
   "cell_type": "code",
   "execution_count": 7,
   "metadata": {
    "id": "PG3BK_zFiSto"
   },
   "outputs": [
    {
     "name": "stdout",
     "output_type": "stream",
     "text": [
      "0.6229016948897019\n"
     ]
    }
   ],
   "source": [
    "random.seed(5)\n",
    "print(random.random())"
   ]
  },
  {
   "cell_type": "markdown",
   "metadata": {
    "id": "QD5WKyO0iStp"
   },
   "source": [
    "* random.randint() - returns an integer value between 1-100<br><br>\n",
    "**Syntax**\n",
    "random.randint(start, stop)"
   ]
  },
  {
   "cell_type": "code",
   "execution_count": 9,
   "metadata": {
    "id": "dflT8VmTiStq"
   },
   "outputs": [
    {
     "name": "stdout",
     "output_type": "stream",
     "text": [
      "46\n"
     ]
    }
   ],
   "source": [
    "print(random.randint(1,100))\n",
    "#print(randint(1,100))"
   ]
  },
  {
   "cell_type": "markdown",
   "metadata": {
    "id": "Ktzv4QPXiStr"
   },
   "source": [
    "* random.randrange() - returns a randomly selected element from the specified range. It also includes the step parameter, which is optional and the default value of this parameter is 1<br><br>\n",
    "**Syntax**<br>\n",
    "random.randrange(start, stop, step)"
   ]
  },
  {
   "cell_type": "code",
   "execution_count": 13,
   "metadata": {
    "id": "VNaRniKmiSts"
   },
   "outputs": [
    {
     "name": "stdout",
     "output_type": "stream",
     "text": [
      "4\n"
     ]
    }
   ],
   "source": [
    "print(random.randrange(3,50))\n",
    "# print(randrange(3,50))"
   ]
  },
  {
   "cell_type": "markdown",
   "metadata": {
    "id": "HTo8t4WYiStt"
   },
   "source": [
    "* random.choice() - returns a randomly selected element from the specified sequence; i.e., a string, a range, a list, a tuple or any other kind of sequence.<br><br>\n",
    "**Syntax**<br>\n",
    "random.choice(sequence)"
   ]
  },
  {
   "cell_type": "code",
   "execution_count": 16,
   "metadata": {
    "id": "tGZXqwdAiStt"
   },
   "outputs": [
    {
     "name": "stdout",
     "output_type": "stream",
     "text": [
      "a\n"
     ]
    }
   ],
   "source": [
    "string = 'Sugandh Bansal'\n",
    "\n",
    "print(random.choice(string))\n",
    "# print(choice(string))"
   ]
  },
  {
   "cell_type": "markdown",
   "metadata": {
    "id": "iwUfNgQpiStu"
   },
   "source": [
    "* random.choices() - returns a list with the randomly selected element from the specified sequence"
   ]
  },
  {
   "cell_type": "code",
   "execution_count": 17,
   "metadata": {
    "id": "YkoK2k4GiStv"
   },
   "outputs": [
    {
     "name": "stdout",
     "output_type": "stream",
     "text": [
      "['l', 'a', 'a', 'u']\n"
     ]
    }
   ],
   "source": [
    "string = 'Sugandh Bansal'\n",
    "\n",
    "print(random.choices(string,k=4)) # k - number of elements you want in the list, by default it is 1\n",
    "# print(choices(string))"
   ]
  },
  {
   "cell_type": "code",
   "execution_count": null,
   "metadata": {},
   "outputs": [],
   "source": []
  }
 ],
 "metadata": {
  "colab": {
   "name": "Lesson 8 Random numbers.ipynb",
   "provenance": []
  },
  "kernelspec": {
   "display_name": "Python 3",
   "language": "python",
   "name": "python3"
  },
  "language_info": {
   "codemirror_mode": {
    "name": "ipython",
    "version": 3
   },
   "file_extension": ".py",
   "mimetype": "text/x-python",
   "name": "python",
   "nbconvert_exporter": "python",
   "pygments_lexer": "ipython3",
   "version": "3.7.6"
  }
 },
 "nbformat": 4,
 "nbformat_minor": 1
}
