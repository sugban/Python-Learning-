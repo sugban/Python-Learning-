{
 "cells": [
  {
   "cell_type": "markdown",
   "metadata": {
    "id": "WICB_VyMf01Y"
   },
   "source": [
    "## Operators\n",
    "\n",
    "Perform operations on variables and values<br>\n",
    "Python divides the operators into different groups:\n",
    "\n",
    "* Arithmetic operators -  used with numeric values to perform common mathematical operations\n",
    "* Assignment operators - used to assign values to variables\n",
    "* Comparison operators - compare two values\n",
    "* Logical operators - combine conditional statements\n",
    "* Identity operators -  check if two values are located on the same part of the memory\n",
    "* Membership operators -  test if a sequence is presented in an object"
   ]
  },
  {
   "cell_type": "markdown",
   "metadata": {
    "id": "11RLzvbof01f"
   },
   "source": [
    "### Airthmetic operators \n",
    "\n",
    "**a = 4; b = 2**\n",
    "\n",
    "| Operator | Description | Example | Output |\n",
    "|----------|-------------|---------|--------|\n",
    "| + | Addition | print(a + b) | 6 |\n",
    "| - | Substraction | print(a - b) | 2 |\n",
    "| * | Multiplication | print(a * b) | 8 |\n",
    "| / | Division (float) | print(a / b) | 2.0 |\n",
    "| // | Division (Integer) | print(a // b) | 2 |\n",
    "| % | Modulus (Gives remainder) | print(a % b) | 0 |\n",
    "| ** | Exponent | print(a ** b) | 16 |"
   ]
  },
  {
   "cell_type": "markdown",
   "metadata": {
    "id": "X_NV7yMDf01g"
   },
   "source": [
    "### Exercise 1:"
   ]
  },
  {
   "cell_type": "code",
   "execution_count": 1,
   "metadata": {
    "id": "maDxGF8sf01h"
   },
   "outputs": [],
   "source": [
    "# assigning variable\n",
    "\n",
    "a = 4; b = 2"
   ]
  },
  {
   "cell_type": "code",
   "execution_count": 3,
   "metadata": {
    "id": "7S4c7uIvf01j"
   },
   "outputs": [
    {
     "name": "stdout",
     "output_type": "stream",
     "text": [
      "6\n",
      "6\n"
     ]
    }
   ],
   "source": [
    "add = a + b\n",
    "print(add)\n",
    "print(a+b)"
   ]
  },
  {
   "cell_type": "code",
   "execution_count": 4,
   "metadata": {
    "id": "KU9fKNa7f01k"
   },
   "outputs": [
    {
     "name": "stdout",
     "output_type": "stream",
     "text": [
      "2\n"
     ]
    }
   ],
   "source": [
    "sub = a - b\n",
    "print(sub)"
   ]
  },
  {
   "cell_type": "code",
   "execution_count": 5,
   "metadata": {
    "id": "XoFqkkAxf01m"
   },
   "outputs": [
    {
     "name": "stdout",
     "output_type": "stream",
     "text": [
      "8\n"
     ]
    }
   ],
   "source": [
    "mul = a * b\n",
    "print(mul)"
   ]
  },
  {
   "cell_type": "code",
   "execution_count": 6,
   "metadata": {
    "id": "IUR31kLif01n"
   },
   "outputs": [
    {
     "name": "stdout",
     "output_type": "stream",
     "text": [
      "2.0\n"
     ]
    }
   ],
   "source": [
    "divf = a / b\n",
    "print(divf)"
   ]
  },
  {
   "cell_type": "code",
   "execution_count": 7,
   "metadata": {
    "id": "jdj2YCw9f01o"
   },
   "outputs": [
    {
     "name": "stdout",
     "output_type": "stream",
     "text": [
      "2\n"
     ]
    }
   ],
   "source": [
    "divi = a // b\n",
    "print(divi)"
   ]
  },
  {
   "cell_type": "code",
   "execution_count": 8,
   "metadata": {
    "id": "YAeH6hAOf01p"
   },
   "outputs": [
    {
     "name": "stdout",
     "output_type": "stream",
     "text": [
      "0\n"
     ]
    }
   ],
   "source": [
    "mod = a % b\n",
    "print(mod)"
   ]
  },
  {
   "cell_type": "code",
   "execution_count": 9,
   "metadata": {
    "id": "oics3e1ef01q"
   },
   "outputs": [
    {
     "name": "stdout",
     "output_type": "stream",
     "text": [
      "1\n"
     ]
    }
   ],
   "source": [
    "print(7 % 2)"
   ]
  },
  {
   "cell_type": "code",
   "execution_count": 10,
   "metadata": {
    "id": "rCbKC4vXf01r"
   },
   "outputs": [
    {
     "name": "stdout",
     "output_type": "stream",
     "text": [
      "16\n"
     ]
    }
   ],
   "source": [
    "power = a ** b\n",
    "print(power)"
   ]
  },
  {
   "cell_type": "markdown",
   "metadata": {
    "id": "l0wjC0Kzf01r"
   },
   "source": [
    "### Assignment operators \n",
    "\n",
    "| Operator | Description | Example | Alternate |\n",
    "|----------|-------------|---------|--------|\n",
    "| = | Assign value | a=4 or a=a+b | |\n",
    "| += | Add And | a+=3 or a+=b | a=a+3 or a=a+b |\n",
    "| -= | Subs And | a-=3 or a-=b | a=a-3 or a=a-b |\n",
    "| \\*= | Mult And | a*=3 or a*=b | a=a\\*3 or a=a\\*b |\n",
    "| /= | Div And | a/=3 or a/=b | a=a/3 or a=a/b |\n",
    "| //= | Div (int) And | a//=3 or a//=b | a=a//3 or a=a//b |\n",
    "| %= | Modulus And | a%=3 or a%=b) | a=a%3 or a=a%b |\n",
    "| \\** | Exponent And | a\\*\\*=3 or a\\*\\*=b) | a=a\\*\\*3 or a=a\\*\\*b |"
   ]
  },
  {
   "cell_type": "code",
   "execution_count": 11,
   "metadata": {
    "id": "l0vz7Oa4f01s"
   },
   "outputs": [
    {
     "name": "stdout",
     "output_type": "stream",
     "text": [
      "10\n"
     ]
    }
   ],
   "source": [
    "# Assigning value directly to a variable\n",
    "a = 10\n",
    "print(a)"
   ]
  },
  {
   "cell_type": "code",
   "execution_count": 12,
   "metadata": {
    "id": "hDP2I5-7f01t"
   },
   "outputs": [
    {
     "name": "stdout",
     "output_type": "stream",
     "text": [
      "10\n"
     ]
    }
   ],
   "source": [
    "# Assigning value to a variable from a variable\n",
    "b = a\n",
    "print(b)"
   ]
  },
  {
   "cell_type": "code",
   "execution_count": 13,
   "metadata": {
    "id": "bgFHZelRf01t"
   },
   "outputs": [
    {
     "name": "stdout",
     "output_type": "stream",
     "text": [
      "Value of A:  13\n",
      "Value of B:  23\n"
     ]
    }
   ],
   "source": [
    "# Add and assign value\n",
    "\n",
    "a = a + 3     # a+=3\n",
    "\n",
    "print('Value of A: ',a)\n",
    "\n",
    "b = b + a   # b+=a\n",
    "\n",
    "print('Value of B: ',b)"
   ]
  },
  {
   "cell_type": "code",
   "execution_count": 14,
   "metadata": {
    "id": "keFq0f4rf01u",
    "outputId": "e5112de7-8862-4bd4-cecf-2fcfc3da99dc"
   },
   "outputs": [
    {
     "name": "stdout",
     "output_type": "stream",
     "text": [
      "Value of B:  10\n",
      "Value of A:  11\n"
     ]
    }
   ],
   "source": [
    "# Subtract and assign value\n",
    "b -= a  \n",
    "print('Value of B: ',b)\n",
    "\n",
    "a -= 2  \n",
    "print('Value of A: ',a)"
   ]
  },
  {
   "cell_type": "code",
   "execution_count": 15,
   "metadata": {
    "id": "GRWVQJTOf01u"
   },
   "outputs": [
    {
     "name": "stdout",
     "output_type": "stream",
     "text": [
      "Value of B:  110\n",
      "Value of A:  1210\n"
     ]
    }
   ],
   "source": [
    "# multiply and assign\n",
    "\n",
    "b *= a\n",
    "print('Value of B: ',b)\n",
    "\n",
    "a = a*b\n",
    "print('Value of A: ',a)"
   ]
  },
  {
   "cell_type": "code",
   "execution_count": 16,
   "metadata": {
    "id": "mcXuJSBmf01u"
   },
   "outputs": [
    {
     "name": "stdout",
     "output_type": "stream",
     "text": [
      "Value of B:  0.09090909090909091\n",
      "Value of A:  13310.0\n"
     ]
    }
   ],
   "source": [
    "# divide and assign\n",
    "\n",
    "b /= a\n",
    "print('Value of B: ',b)\n",
    "\n",
    "a = a/b\n",
    "print('Value of A: ',a)"
   ]
  },
  {
   "cell_type": "code",
   "execution_count": 17,
   "metadata": {
    "id": "Fhnv5nfSf01v"
   },
   "outputs": [
    {
     "name": "stdout",
     "output_type": "stream",
     "text": [
      "Value of B:  0.09090909090909091\n",
      "Value of A:  0.09090909090872148\n"
     ]
    }
   ],
   "source": [
    "# modulus and assign\n",
    "\n",
    "b %= a\n",
    "print('Value of B: ',b)\n",
    "\n",
    "a = a%b\n",
    "print('Value of A: ',a)"
   ]
  },
  {
   "cell_type": "code",
   "execution_count": 18,
   "metadata": {
    "id": "Geu77QHWf01v"
   },
   "outputs": [
    {
     "name": "stdout",
     "output_type": "stream",
     "text": [
      "Value of B:  0.8041330975043767\n",
      "Value of A:  0.14540578131678714\n"
     ]
    }
   ],
   "source": [
    "# power and assign\n",
    "\n",
    "b **= a\n",
    "print('Value of B: ',b)\n",
    "\n",
    "a = a**b\n",
    "print('Value of A: ',a)"
   ]
  },
  {
   "cell_type": "markdown",
   "metadata": {
    "id": "0vTCFwHLf01w"
   },
   "source": [
    "### Comparison Operator\n",
    "\n",
    "| Operator | Description | Example |\n",
    "|---------|----------|--------|\n",
    "| == | Equal | a==b |\t\n",
    "| != | Not equal | a!=b |\t\n",
    "| > | Greater than | a>b |\t\n",
    "| < | Less than | a<b |\t\n",
    "| >= | Greater than or equal to | a>=b |\n",
    "| <= | Less than or equal to | a<=b |"
   ]
  },
  {
   "cell_type": "code",
   "execution_count": 19,
   "metadata": {
    "id": "6JVwY2MBf01w"
   },
   "outputs": [],
   "source": [
    "# assigning values\n",
    "\n",
    "a = 12\n",
    "b = 22"
   ]
  },
  {
   "cell_type": "code",
   "execution_count": 20,
   "metadata": {
    "id": "-EB7_ABNf01x"
   },
   "outputs": [
    {
     "name": "stdout",
     "output_type": "stream",
     "text": [
      "False\n",
      "False\n",
      "True\n",
      "False\n",
      "True\n"
     ]
    }
   ],
   "source": [
    "# it will give answer in true and false\n",
    "\n",
    "print(a > b)\n",
    "\n",
    "print(a == b)\n",
    " \n",
    "print(a != b)\n",
    " \n",
    "print(a >= b)\n",
    " \n",
    "print(a <= b)"
   ]
  },
  {
   "cell_type": "markdown",
   "metadata": {
    "id": "ih4gGG86f01x"
   },
   "source": [
    "### Logical Operator\n",
    "\n",
    "| Operator | Description | Example |\n",
    "|--------|-------|-------|\n",
    "| and | Returns True if both statements are true | a < 5 and  a < 10 |\n",
    "| or | Returns True if one of the statements is true | a < 5 or a < 4 |\n",
    "| not | Reverse the result, returns False if the result is true | not(x < 5 and x < 10) |"
   ]
  },
  {
   "cell_type": "code",
   "execution_count": 21,
   "metadata": {
    "id": "LZO8VIHsf01y"
   },
   "outputs": [],
   "source": [
    "# assigning value\n",
    "a = 6"
   ]
  },
  {
   "cell_type": "code",
   "execution_count": 22,
   "metadata": {
    "id": "XoRVrXl9f01y"
   },
   "outputs": [
    {
     "name": "stdout",
     "output_type": "stream",
     "text": [
      "True\n",
      "True\n",
      "False\n"
     ]
    }
   ],
   "source": [
    "print(a > 3 and a < 10)\n",
    " \n",
    "print(a > 3 or a < 4)\n",
    "\n",
    "print(not(a > 3 and a < 10)) # not is used to reverse the result"
   ]
  },
  {
   "cell_type": "markdown",
   "metadata": {
    "id": "OqyyyfGKf01y"
   },
   "source": [
    "### Identity Operator\n",
    "\n",
    "| Operator | Description | Example |\n",
    "|------|------|------|\n",
    "| is | Returns True if both variables are identical | a is b |\t\n",
    "| is not | Returns True if both variables are not identical | a is not b |"
   ]
  },
  {
   "cell_type": "code",
   "execution_count": 23,
   "metadata": {
    "id": "IKIn3cHdf01z"
   },
   "outputs": [],
   "source": [
    "# assigning variables values\n",
    "\n",
    "a=['a','b','c','d','e']\n",
    "b=a\n",
    "c=['a','b','c','d','e']"
   ]
  },
  {
   "cell_type": "code",
   "execution_count": 24,
   "metadata": {
    "id": "8yjuhRZrf01z"
   },
   "outputs": [
    {
     "name": "stdout",
     "output_type": "stream",
     "text": [
      "True\n",
      "False\n",
      "True\n"
     ]
    }
   ],
   "source": [
    "print(a is b) # returns True because a is identical as b\n",
    "\n",
    "print(a is c) # returns False because a is not the same object as b, even if they have the same content\n",
    "\n",
    "print(a == b) # to show the difference betweeen \"is\" and \"==\": this comparison returns True because a is equal to b"
   ]
  },
  {
   "cell_type": "code",
   "execution_count": 25,
   "metadata": {
    "id": "ScryZ709f01z"
   },
   "outputs": [
    {
     "name": "stdout",
     "output_type": "stream",
     "text": [
      "False\n",
      "True\n",
      "True\n"
     ]
    }
   ],
   "source": [
    "print(a is not b)\n",
    "\n",
    "print(a is not c)\n",
    "\n",
    "print(b is not c)"
   ]
  },
  {
   "cell_type": "markdown",
   "metadata": {
    "id": "k_Ap4JK8f010"
   },
   "source": [
    "### Membership Operator\n",
    "\n",
    "| Operator | Description | Example |\n",
    "|----|----|----|\n",
    "| in | Returns True if value is found in the sequence | a in b |\t\n",
    "| not in | Returns True if value is not found in the sequence | a not in b |"
   ]
  },
  {
   "cell_type": "code",
   "execution_count": 26,
   "metadata": {
    "id": "QfmJcYxGf011"
   },
   "outputs": [],
   "source": [
    "num_list = [10,20,30,40,50]\n",
    "\n",
    "a = 35\n",
    "b = 10"
   ]
  },
  {
   "cell_type": "code",
   "execution_count": 27,
   "metadata": {
    "id": "RiW0jQeOf012"
   },
   "outputs": [
    {
     "name": "stdout",
     "output_type": "stream",
     "text": [
      "False\n",
      "True\n"
     ]
    }
   ],
   "source": [
    "print(a in num_list)\n",
    "    \n",
    "print(b in num_list)"
   ]
  },
  {
   "cell_type": "code",
   "execution_count": 28,
   "metadata": {
    "id": "F8ayNcQ5f013"
   },
   "outputs": [
    {
     "name": "stdout",
     "output_type": "stream",
     "text": [
      "True\n",
      "False\n"
     ]
    }
   ],
   "source": [
    "print(a not in num_list)\n",
    "    \n",
    "print(b not in num_list)"
   ]
  },
  {
   "cell_type": "code",
   "execution_count": null,
   "metadata": {},
   "outputs": [],
   "source": []
  }
 ],
 "metadata": {
  "colab": {
   "name": "Lesson 3 - Operators.ipynb",
   "provenance": []
  },
  "kernelspec": {
   "display_name": "Python 3",
   "language": "python",
   "name": "python3"
  },
  "language_info": {
   "codemirror_mode": {
    "name": "ipython",
    "version": 3
   },
   "file_extension": ".py",
   "mimetype": "text/x-python",
   "name": "python",
   "nbconvert_exporter": "python",
   "pygments_lexer": "ipython3",
   "version": "3.7.6"
  }
 },
 "nbformat": 4,
 "nbformat_minor": 1
}
