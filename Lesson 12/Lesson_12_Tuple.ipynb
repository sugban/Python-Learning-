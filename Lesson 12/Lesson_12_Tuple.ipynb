{
 "cells": [
  {
   "cell_type": "markdown",
   "metadata": {
    "id": "Uyj25cYFJfXr"
   },
   "source": [
    "## Tuples\n",
    "\n",
    "* Like lists, Tuples are also used to store multiple items in a single variable.\n",
    "* Tuples can also be indexed, have nested objects, ordered and repetition values\n",
    "* The difference is that Tuples are immutable and also define by parantheses ()"
   ]
  },
  {
   "cell_type": "code",
   "execution_count": 1,
   "metadata": {
    "id": "pnjCchmfJfXx"
   },
   "outputs": [
    {
     "name": "stdout",
     "output_type": "stream",
     "text": [
      "(1, 2, 'three', 4.0, 'five', 6, 7.77)\n"
     ]
    }
   ],
   "source": [
    "tup = (1,2,'three',4.0,'five',6,7.77)\n",
    "print(tup)"
   ]
  },
  {
   "cell_type": "code",
   "execution_count": 2,
   "metadata": {
    "id": "tNhUFJNEJfXz"
   },
   "outputs": [
    {
     "name": "stdout",
     "output_type": "stream",
     "text": [
      "('one',)\n"
     ]
    }
   ],
   "source": [
    "# To create a tuple with only one item, you have to add a comma after the item\n",
    "\n",
    "tup1 = ('one',)\n",
    "print(tup1)"
   ]
  },
  {
   "cell_type": "code",
   "execution_count": 3,
   "metadata": {
    "id": "bkBTIYsMJfX0"
   },
   "outputs": [
    {
     "data": {
      "text/plain": [
       "tuple"
      ]
     },
     "execution_count": 3,
     "metadata": {},
     "output_type": "execute_result"
    }
   ],
   "source": [
    "type(tup1)"
   ]
  },
  {
   "cell_type": "code",
   "execution_count": 4,
   "metadata": {
    "id": "Yj4zzC-kJfX1"
   },
   "outputs": [
    {
     "data": {
      "text/plain": [
       "str"
      ]
     },
     "execution_count": 4,
     "metadata": {},
     "output_type": "execute_result"
    }
   ],
   "source": [
    "tup2 = ('one')\n",
    "type(tup2)"
   ]
  },
  {
   "cell_type": "code",
   "execution_count": 5,
   "metadata": {
    "id": "w3n5mFSnJfX4"
   },
   "outputs": [
    {
     "name": "stdout",
     "output_type": "stream",
     "text": [
      "('o', 'n', 'e')\n"
     ]
    }
   ],
   "source": [
    "tup3 = tuple(('one'))\n",
    "print(tup3)"
   ]
  },
  {
   "cell_type": "code",
   "execution_count": 6,
   "metadata": {
    "id": "u5e2Q5u3JfX6"
   },
   "outputs": [
    {
     "data": {
      "text/plain": [
       "tuple"
      ]
     },
     "execution_count": 6,
     "metadata": {},
     "output_type": "execute_result"
    }
   ],
   "source": [
    "type(tup3)"
   ]
  },
  {
   "cell_type": "code",
   "execution_count": 7,
   "metadata": {
    "id": "C6i4apjBJfX7"
   },
   "outputs": [
    {
     "name": "stdout",
     "output_type": "stream",
     "text": [
      "('one',)\n"
     ]
    }
   ],
   "source": [
    "tup4 = tuple(('one',))\n",
    "print(tup4)"
   ]
  },
  {
   "cell_type": "code",
   "execution_count": 8,
   "metadata": {
    "id": "IgR0MlneJfX8"
   },
   "outputs": [
    {
     "data": {
      "text/plain": [
       "tuple"
      ]
     },
     "execution_count": 8,
     "metadata": {},
     "output_type": "execute_result"
    }
   ],
   "source": [
    "type(tup4)"
   ]
  },
  {
   "cell_type": "code",
   "execution_count": 9,
   "metadata": {
    "id": "Yah9PT9-JfX2"
   },
   "outputs": [
    {
     "data": {
      "text/plain": [
       "list"
      ]
     },
     "execution_count": 9,
     "metadata": {},
     "output_type": "execute_result"
    }
   ],
   "source": [
    "# It is also possible to use the tuple() constructor to make a tuple\n",
    "\n",
    "marvel = [' Guardians of the Galaxy',' Spider-Man: Far from Home',' Avengers: Endgame','Captain Marvel',' Ant-Man and the Wasp']\n",
    "type(marvel)"
   ]
  },
  {
   "cell_type": "code",
   "execution_count": 10,
   "metadata": {},
   "outputs": [
    {
     "data": {
      "text/plain": [
       "tuple"
      ]
     },
     "execution_count": 10,
     "metadata": {},
     "output_type": "execute_result"
    }
   ],
   "source": [
    "movie =tuple(marvel)\n",
    "type(movie)"
   ]
  },
  {
   "cell_type": "code",
   "execution_count": 11,
   "metadata": {
    "id": "Efszt4LzJfX3"
   },
   "outputs": [
    {
     "name": "stdout",
     "output_type": "stream",
     "text": [
      "(' Guardians of the Galaxy', ' Spider-Man: Far from Home', ' Avengers: Endgame', 'Captain Marvel', ' Ant-Man and the Wasp')\n"
     ]
    }
   ],
   "source": [
    "print(movie)"
   ]
  },
  {
   "cell_type": "markdown",
   "metadata": {
    "id": "ww6IpFRXJfX9"
   },
   "source": [
    "**NOTE:**\n",
    "* Tuple is faster than list, because it is immutable\n",
    "* we can define tuple as key in dictionary, if key has multiple values\n",
    "* Values cannot be appended, inserted,popped or removed from a tuple\n",
    "\n"
   ]
  },
  {
   "cell_type": "code",
   "execution_count": 12,
   "metadata": {
    "id": "DgIpwEucJfX9"
   },
   "outputs": [
    {
     "name": "stdout",
     "output_type": "stream",
     "text": [
      "1\n"
     ]
    }
   ],
   "source": [
    "# Tuple items are indexed, the first item has index [0]\n",
    "\n",
    "print(tup[0])"
   ]
  },
  {
   "cell_type": "code",
   "execution_count": 13,
   "metadata": {
    "id": "-sap7ymJJfX-"
   },
   "outputs": [
    {
     "name": "stdout",
     "output_type": "stream",
     "text": [
      "('zero', 1, 2.22, 'three', 1, 'zero')\n"
     ]
    }
   ],
   "source": [
    "# Tuples can have items with the same value\n",
    "\n",
    "tup5 = ('zero',1,2.22,'three',1,'zero')\n",
    "print(tup5)"
   ]
  },
  {
   "cell_type": "code",
   "execution_count": 14,
   "metadata": {
    "id": "hakUax3eJfX_"
   },
   "outputs": [
    {
     "name": "stdout",
     "output_type": "stream",
     "text": [
      "6\n"
     ]
    }
   ],
   "source": [
    "# To check the length or number of items in the tuple\n",
    "\n",
    "print(len(tup5))"
   ]
  },
  {
   "cell_type": "code",
   "execution_count": 15,
   "metadata": {
    "id": "gph_SP54JfX_"
   },
   "outputs": [
    {
     "name": "stdout",
     "output_type": "stream",
     "text": [
      "(' Guardians of the Galaxy', ' Spider-Man: Far from Home', 'Home alone', 'Captain Marvel', ' Ant-Man and the Wasp')\n"
     ]
    }
   ],
   "source": [
    "# You cannot change a Tuple\n",
    "# But you can convert the tuple into a list, change the list, and convert the list back into a tuple\n",
    "\n",
    "movie = list(movie)\n",
    "\n",
    "movie[2]='Home alone'\n",
    "\n",
    "movie = tuple(movie)\n",
    "print(movie)"
   ]
  },
  {
   "cell_type": "code",
   "execution_count": 16,
   "metadata": {
    "id": "vJlVn1SjJfYA"
   },
   "outputs": [
    {
     "name": "stdout",
     "output_type": "stream",
     "text": [
      "(' Guardians of the Galaxy', ' Spider-Man: Far from Home', 'Home alone', 'Captain Marvel', ' Ant-Man and the Wasp', ' Avengers: Infinity War')\n"
     ]
    }
   ],
   "source": [
    "# again to add in the tuple, you have to change the type to list and then back to tuple after adding an item to it\n",
    "\n",
    "movie = list(movie)\n",
    "movie.append(' Avengers: Infinity War')\n",
    "movie = tuple(movie)\n",
    "print(movie)"
   ]
  },
  {
   "cell_type": "code",
   "execution_count": 17,
   "metadata": {
    "id": "0jDHn0VdJfYA"
   },
   "outputs": [
    {
     "name": "stdout",
     "output_type": "stream",
     "text": [
      "(' Guardians of the Galaxy', ' Spider-Man: Far from Home', 'Home alone', 'Captain Marvel', ' Ant-Man and the Wasp', ' Avengers: Infinity War', \"Baby's Day Out\", 'Christmas Carols')\n"
     ]
    }
   ],
   "source": [
    "# you can add tuples to tuples\n",
    "\n",
    "christmas = ('Baby\\'s Day Out','Christmas Carols')\n",
    "movie += christmas\n",
    "print(movie)"
   ]
  },
  {
   "cell_type": "code",
   "execution_count": 18,
   "metadata": {
    "id": "vp4TRZhnJfYA"
   },
   "outputs": [
    {
     "ename": "NameError",
     "evalue": "name 'christmas' is not defined",
     "output_type": "error",
     "traceback": [
      "\u001b[1;31m---------------------------------------------------------------------------\u001b[0m",
      "\u001b[1;31mNameError\u001b[0m                                 Traceback (most recent call last)",
      "\u001b[1;32m<ipython-input-18-da0353b3e577>\u001b[0m in \u001b[0;36m<module>\u001b[1;34m\u001b[0m\n\u001b[0;32m      2\u001b[0m \u001b[1;33m\u001b[0m\u001b[0m\n\u001b[0;32m      3\u001b[0m \u001b[1;32mdel\u001b[0m \u001b[0mchristmas\u001b[0m\u001b[1;33m\u001b[0m\u001b[1;33m\u001b[0m\u001b[0m\n\u001b[1;32m----> 4\u001b[1;33m \u001b[0mprint\u001b[0m\u001b[1;33m(\u001b[0m\u001b[0mchristmas\u001b[0m\u001b[1;33m)\u001b[0m\u001b[1;33m\u001b[0m\u001b[1;33m\u001b[0m\u001b[0m\n\u001b[0m",
      "\u001b[1;31mNameError\u001b[0m: name 'christmas' is not defined"
     ]
    }
   ],
   "source": [
    "# You cannot remove items from tuple, but you can delete the tuple completely\n",
    "\n",
    "del christmas\n",
    "print(christmas)"
   ]
  },
  {
   "cell_type": "code",
   "execution_count": 20,
   "metadata": {
    "id": "y4PqA6XQJfYB"
   },
   "outputs": [],
   "source": [
    "# When we create a tuple, we normally assign values to it. This is called \"packing\" a tuple\n",
    "\n",
    "genre = ('Encanto','The Terminator','No Time to Die','Titanic')"
   ]
  },
  {
   "cell_type": "code",
   "execution_count": 21,
   "metadata": {
    "id": "g3H5t0DvJfYB"
   },
   "outputs": [
    {
     "name": "stdout",
     "output_type": "stream",
     "text": [
      "Encanto\n",
      "The Terminator\n",
      "No Time to Die\n",
      "Titanic\n"
     ]
    }
   ],
   "source": [
    "# we are also allowed to extract the values back into variables. This is called \"unpacking\"\n",
    "\n",
    "animation, Sci_Fi, action, drama = genre\n",
    "\n",
    "print(animation)\n",
    "print(Sci_Fi)\n",
    "print(action)\n",
    "print(drama)"
   ]
  },
  {
   "cell_type": "code",
   "execution_count": 22,
   "metadata": {
    "id": "fAmBkpm9JfYC"
   },
   "outputs": [
    {
     "name": "stdout",
     "output_type": "stream",
     "text": [
      "Encanto\n",
      "The Terminator\n",
      "No Time to Die\n",
      "['Titanic', 'Harry Potter', 'Casino Royale']\n"
     ]
    }
   ],
   "source": [
    "# If the number of variables is less than the number of values, you can add an * to the variable name and the values will be assigned to the variable as a list\n",
    "\n",
    "genre = ('Encanto','The Terminator','No Time to Die','Titanic','Harry Potter','Casino Royale')\n",
    "\n",
    "animation, Sci_Fi, action, *drama = genre\n",
    "\n",
    "print(animation)\n",
    "print(Sci_Fi)\n",
    "print(action)\n",
    "print(drama)"
   ]
  },
  {
   "cell_type": "code",
   "execution_count": 23,
   "metadata": {
    "id": "ecFqKkWyJfYC"
   },
   "outputs": [
    {
     "name": "stdout",
     "output_type": "stream",
     "text": [
      "Encanto\n",
      "The Terminator\n",
      "['No Time to Die', 'Harry Potter', 'Casino Royale']\n",
      "Titanic\n"
     ]
    }
   ],
   "source": [
    "# If the asterisk is added to another variable name than the last, Python will assign values to the variable until the number of values left matches the number of variables left\n",
    "\n",
    "genre = ('Encanto','The Terminator','No Time to Die','Harry Potter','Casino Royale','Titanic')\n",
    "\n",
    "animation, Sci_Fi, *action, drama = genre\n",
    "\n",
    "print(animation)\n",
    "print(Sci_Fi)\n",
    "print(action)\n",
    "print(drama)"
   ]
  },
  {
   "cell_type": "code",
   "execution_count": 24,
   "metadata": {
    "id": "AyFNprVRJfYD"
   },
   "outputs": [
    {
     "name": "stdout",
     "output_type": "stream",
     "text": [
      "('tuple', 'tuple', 'tuple', 'tuple')\n"
     ]
    }
   ],
   "source": [
    "# create a tuple with repetition\n",
    " \n",
    "rep = ('tuple',)*4\n",
    "print(rep)"
   ]
  },
  {
   "cell_type": "markdown",
   "metadata": {
    "id": "1Az3QUHjJfYD"
   },
   "source": [
    "### Loops in Tuple"
   ]
  },
  {
   "cell_type": "code",
   "execution_count": 25,
   "metadata": {
    "id": "6QsnHS9lJfYD"
   },
   "outputs": [
    {
     "name": "stdout",
     "output_type": "stream",
     "text": [
      "Encanto\n",
      "The Terminator\n",
      "No Time to Die\n",
      "Harry Potter\n",
      "Casino Royale\n",
      "Titanic\n"
     ]
    }
   ],
   "source": [
    "i=0\n",
    "while i < len(genre):\n",
    "    print(genre[i])\n",
    "    i += 1"
   ]
  },
  {
   "cell_type": "code",
   "execution_count": 26,
   "metadata": {
    "id": "HsQWDvoFJfYE"
   },
   "outputs": [
    {
     "name": "stdout",
     "output_type": "stream",
     "text": [
      "Encanto\n",
      "The Terminator\n",
      "No Time to Die\n",
      "Harry Potter\n",
      "Casino Royale\n",
      "Titanic\n"
     ]
    }
   ],
   "source": [
    "for i in genre:\n",
    "    print(i)"
   ]
  },
  {
   "cell_type": "code",
   "execution_count": 27,
   "metadata": {
    "id": "fFePTYliJfYE"
   },
   "outputs": [
    {
     "name": "stdout",
     "output_type": "stream",
     "text": [
      "Encanto\n",
      "The Terminator\n",
      "No Time to Die\n",
      "Harry Potter\n",
      "Casino Royale\n",
      "Titanic\n"
     ]
    }
   ],
   "source": [
    "for i in range(len(genre)):\n",
    "    print(genre[i])"
   ]
  },
  {
   "cell_type": "markdown",
   "metadata": {
    "id": "hnPfEs4tJfYF"
   },
   "source": [
    "### Creating tuple with range()"
   ]
  },
  {
   "cell_type": "code",
   "execution_count": 28,
   "metadata": {
    "id": "5BVvaxQLJfYF"
   },
   "outputs": [
    {
     "name": "stdout",
     "output_type": "stream",
     "text": [
      "(1, 2, 3, 4, 5, 6, 7, 8, 9, 10)\n"
     ]
    }
   ],
   "source": [
    "num=tuple(range(1,11))\n",
    "print(num)"
   ]
  },
  {
   "cell_type": "markdown",
   "metadata": {
    "id": "F6w6K8bKJfYF"
   },
   "source": [
    "### Tuple methods\n",
    "\n",
    "| Methods | Description |\n",
    "|-----|-----|\n",
    "| len(tuple) | Gives the total length of the tuple |\n",
    "| max(tuple) | Returns item from the tuple with max value |\n",
    "| min(tuple) | Returns item from the tuple with min value |\n",
    "| tuple(seq) | Converts a list into tuple |\n",
    "| tuple.count(item) | Returns the number of times a specified value occurs in a tuple |\n",
    "| tuple.index(item) | Searches the tuple for a specified value and returns the position of where it was found |"
   ]
  },
  {
   "cell_type": "code",
   "execution_count": 29,
   "metadata": {
    "id": "HBx2OzhTJfYF"
   },
   "outputs": [
    {
     "name": "stdout",
     "output_type": "stream",
     "text": [
      "10\n"
     ]
    }
   ],
   "source": [
    "print(max(num))"
   ]
  },
  {
   "cell_type": "code",
   "execution_count": 30,
   "metadata": {
    "id": "BPV7JIg1JfYG"
   },
   "outputs": [
    {
     "name": "stdout",
     "output_type": "stream",
     "text": [
      "1\n"
     ]
    }
   ],
   "source": [
    "print(min(num))"
   ]
  },
  {
   "cell_type": "code",
   "execution_count": null,
   "metadata": {},
   "outputs": [],
   "source": []
  }
 ],
 "metadata": {
  "colab": {
   "name": "Lesson 12 - Tuple.ipynb",
   "provenance": []
  },
  "kernelspec": {
   "display_name": "Python 3",
   "language": "python",
   "name": "python3"
  },
  "language_info": {
   "codemirror_mode": {
    "name": "ipython",
    "version": 3
   },
   "file_extension": ".py",
   "mimetype": "text/x-python",
   "name": "python",
   "nbconvert_exporter": "python",
   "pygments_lexer": "ipython3",
   "version": "3.7.6"
  }
 },
 "nbformat": 4,
 "nbformat_minor": 1
}
