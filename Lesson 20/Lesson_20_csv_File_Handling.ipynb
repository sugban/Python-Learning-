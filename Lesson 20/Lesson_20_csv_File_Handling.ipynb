{
  "cells": [
    {
      "cell_type": "markdown",
      "metadata": {
        "id": "view-in-github",
        "colab_type": "text"
      },
      "source": [
        "<a href=\"https://colab.research.google.com/github/sugban/Python-Learning-/blob/main/Lesson%2020/Lesson_20_csv_File_Handling.ipynb\" target=\"_parent\"><img src=\"https://colab.research.google.com/assets/colab-badge.svg\" alt=\"Open In Colab\"/></a>"
      ]
    },
    {
      "cell_type": "markdown",
      "source": [
        "### CSV - File handling\n",
        "\n",
        "* CSV - Comma Seperated File\n",
        "* CSV file stores tabular data (numbers and text) in plain text\n",
        "<pre>\n",
        "column 1 name,column 2 name, column 3 name\n",
        "first row data 1,first row data 2,first row data 3\n",
        "second row data 1,second row data 2,second row data 3\n",
        "...\n",
        "</pre>\n",
        "\n",
        "* the separator character is called a delimiter, and the comma is not the only one used, other popular delimiters include the tab (\\t), colon (:) and semi-colon (;) characters\n",
        "* to parse a CSV file, it is required to know the type of delimiter is being used\n",
        "* For working CSV files in python, there is an inbuilt module called csv\n",
        "<pre>\n",
        "import csv\n",
        "</pre>\n",
        "\n",
        "-------------------------------------------------------------------------------\n",
        "\n",
        "#### csv methods for file handling\n",
        "\n",
        "| Function | description | Syntax |\n",
        "|----|----|----|\n",
        "| reader() | to read the csv file | csv.reader(FileObject) |\n",
        "| writer() | to write in csv file | wr = csv.writer(FileObejct) |\n",
        "| writerow() | to write one line | wr.writerow(fields) |\n",
        "| writerows() | to write multiple lines | wr.writerows(rows) |\n",
        "| DictReader() | return lines as a dictionary | csv.DictReader(FileObject) |\n",
        "| DictWriter() | to open a file | csv.DictWriter(FileObject, fieldnames = fields) |\n",
        "\n",
        "-------------------------------------------------------------------------------"
      ],
      "metadata": {
        "id": "-EsOUnqOMY3Z"
      }
    },
    {
      "cell_type": "code",
      "source": [
        "import csv"
      ],
      "metadata": {
        "id": "HKvQm8P0b_MT"
      },
      "execution_count": 1,
      "outputs": []
    },
    {
      "cell_type": "code",
      "source": [
        "file = open('student.csv','r') # created a FileObject 'file'\n",
        "\n",
        "# to read the content of the file\n",
        "line = csv.reader(file, delimiter=',')\n",
        "\n",
        "for row in line:\n",
        "  print(row)\n",
        "\n",
        "file.close() # make sure the file exists"
      ],
      "metadata": {
        "id": "_njov-6QQ3iS",
        "colab": {
          "base_uri": "https://localhost:8080/"
        },
        "outputId": "6cc192a6-2d37-4453-a879-1f406c738a78"
      },
      "execution_count": 2,
      "outputs": [
        {
          "output_type": "stream",
          "name": "stdout",
          "text": [
            "['name', 'department', 'course name', 'year']\n",
            "['John Smith', 'Accounting', 'B.Com', '1999']\n",
            "['Erica Meyers', 'IT', 'M.Tech', '2000']\n",
            "['Alice John', 'Science', 'B.Sc.', '2010']\n",
            "['Martha Peterson', 'Accounting', 'M.Com', ' 1999']\n",
            "['Purvi Deshmukh', 'Science', 'B.Sc.', '2002']\n"
          ]
        }
      ]
    },
    {
      "cell_type": "markdown",
      "source": [
        "**Notice that each line in the CSV file is returned as a list of strings**<br>\n",
        "**First row contains column name**"
      ],
      "metadata": {
        "id": "1x2u2s-IcoKK"
      }
    },
    {
      "cell_type": "code",
      "source": [
        "file = open('student.csv','r')\n",
        "\n",
        "line = csv.reader(file,  delimiter=',') \n",
        "print(line) # Returns the memory address where csv.reader object is stored \n",
        "\n",
        "\n",
        "file.close() "
      ],
      "metadata": {
        "id": "8WJ_W7NDYk4X",
        "colab": {
          "base_uri": "https://localhost:8080/"
        },
        "outputId": "dcecf2b7-d39e-42ac-8a8e-1a07f5e8a18b"
      },
      "execution_count": 3,
      "outputs": [
        {
          "output_type": "stream",
          "name": "stdout",
          "text": [
            "<_csv.reader object at 0x7f69cc6bc5d0>\n"
          ]
        }
      ]
    },
    {
      "cell_type": "code",
      "source": [
        "# read specific column from csv file\n",
        "\n",
        "file = open('student.csv','r')\n",
        "\n",
        "line = csv.reader(file,  delimiter=',') \n",
        "for i in line:\n",
        "  print(i[0] , i[3])  # reading first and forth column from the file \n",
        "\n",
        "\n",
        "file.close()"
      ],
      "metadata": {
        "id": "rHNSzHgfas2b",
        "colab": {
          "base_uri": "https://localhost:8080/"
        },
        "outputId": "f90a8f8d-1066-4ae7-c02e-cbe4b0749e5e"
      },
      "execution_count": 4,
      "outputs": [
        {
          "output_type": "stream",
          "name": "stdout",
          "text": [
            "name year\n",
            "John Smith 1999\n",
            "Erica Meyers 2000\n",
            "Alice John 2010\n",
            "Martha Peterson  1999\n",
            "Purvi Deshmukh 2002\n"
          ]
        }
      ]
    },
    {
      "cell_type": "code",
      "source": [
        "# to skip the first row - header of the table\n",
        "\n",
        "file = open('student.csv','r')\n",
        "\n",
        "line = csv.reader(file,  delimiter=',') \n",
        "next(line)  # the next() function will skip one line from beginning  \n",
        "for i in line:\n",
        "  print(i)  \n",
        "\n",
        "\n",
        "file.close()"
      ],
      "metadata": {
        "id": "gRxo9AWobSBl",
        "colab": {
          "base_uri": "https://localhost:8080/"
        },
        "outputId": "8325b8e7-7829-4bbb-bbe4-6001de38b4ae"
      },
      "execution_count": 5,
      "outputs": [
        {
          "output_type": "stream",
          "name": "stdout",
          "text": [
            "['John Smith', 'Accounting', 'B.Com', '1999']\n",
            "['Erica Meyers', 'IT', 'M.Tech', '2000']\n",
            "['Alice John', 'Science', 'B.Sc.', '2010']\n",
            "['Martha Peterson', 'Accounting', 'M.Com', ' 1999']\n",
            "['Purvi Deshmukh', 'Science', 'B.Sc.', '2002']\n"
          ]
        }
      ]
    },
    {
      "cell_type": "code",
      "source": [
        "# reading csv with delimiter '|'\n",
        "\n",
        "file = open('students.csv', 'r')\n",
        "\n",
        "row = csv.reader(file, delimiter = '|')\n",
        "\n",
        "for i in row:\n",
        "  print(i)\n",
        "\n",
        "file.close()"
      ],
      "metadata": {
        "id": "VjrVsGd_cQ3I",
        "colab": {
          "base_uri": "https://localhost:8080/"
        },
        "outputId": "3653bb5b-deb7-49fd-9bab-9ae0fe7d4e3d"
      },
      "execution_count": 6,
      "outputs": [
        {
          "output_type": "stream",
          "name": "stdout",
          "text": [
            "['name', 'department', 'course name', 'year']\n",
            "['John Smith', 'Accounting', 'B.Com', '1999']\n",
            "['Erica Meyers', 'IT', 'M.Tech', '2000']\n",
            "['Alice John', 'Science', 'B.Sc.', '2010']\n",
            "['Martha Peterson', 'Accounting', 'M.Com', '1999']\n",
            "['Purvi Deshmukh', 'Science', 'B.Sc.', '2002']\n"
          ]
        }
      ]
    },
    {
      "cell_type": "code",
      "source": [
        "newrows=['Daniel Holm','IT','B.Tech','2010']\n",
        "\n",
        "f = open('student.csv', 'a', encoding=\"utf8\")\n",
        "write = csv.writer(f)\n",
        "\n",
        "write.writerow(newrows)\n",
        "\n",
        "f.close()"
      ],
      "metadata": {
        "id": "M7Zxyxkp1-BM"
      },
      "execution_count": 7,
      "outputs": []
    },
    {
      "cell_type": "code",
      "source": [
        "with open('student.csv', 'r') as csv_file:\n",
        "  \n",
        "  row = csv.reader(csv_file, delimiter=',')\n",
        "  \n",
        "\n",
        "  for i in row:\n",
        "    print(i)"
      ],
      "metadata": {
        "id": "2sfTrNIBjVL7",
        "colab": {
          "base_uri": "https://localhost:8080/"
        },
        "outputId": "f54baaf3-08f7-47f0-85de-3a93c27a5b88"
      },
      "execution_count": 8,
      "outputs": [
        {
          "output_type": "stream",
          "name": "stdout",
          "text": [
            "['name', 'department', 'course name', 'year']\n",
            "['John Smith', 'Accounting', 'B.Com', '1999']\n",
            "['Erica Meyers', 'IT', 'M.Tech', '2000']\n",
            "['Alice John', 'Science', 'B.Sc.', '2010']\n",
            "['Martha Peterson', 'Accounting', 'M.Com', ' 1999']\n",
            "['Purvi Deshmukh', 'Science', 'B.Sc.', '2002']\n",
            "['Daniel Holm', 'IT', 'B.Tech', '2010']\n"
          ]
        }
      ]
    },
    {
      "cell_type": "code",
      "source": [
        "# to write multiple rows in the file\n",
        "\n",
        "# field names\n",
        "fields = ['Name', 'Branch', 'Year', 'Profile']\n",
        "  \n",
        "# data rows of csv file\n",
        "rows = [ ['Nikhil', 'Finance', '2', 'Manager'],\n",
        "         ['Sanchit', 'IT', '2', 'Consultant'],\n",
        "         ['Aditya', 'IT', '2', 'Team Lead'],\n",
        "         ['Sagar', 'HR', '1', 'Assistant Manager'],\n",
        "         ['Prateek', 'HR', '3', 'Talent Acquisition Coordinator'],\n",
        "         ['Sahil', 'Finance', '2', 'Team Lead']]\n",
        "\n",
        "# name of csv file\n",
        "filename = 'employee_record.csv'\n",
        "\n",
        "# writing to csv file\n",
        "with open(filename, 'w') as csvfile:\n",
        "    # creating a csv writer object\n",
        "    csv_writer = csv.writer(csvfile)\n",
        "      \n",
        "    # writing the fields\n",
        "    csv_writer.writerow(fields)\n",
        "      \n",
        "    # writing the data rows\n",
        "    csv_writer.writerows(rows)"
      ],
      "metadata": {
        "id": "DrdJFbFKcsmo"
      },
      "execution_count": 17,
      "outputs": []
    },
    {
      "cell_type": "code",
      "source": [
        "with open(filename, 'r') as csv_file:\n",
        "\n",
        "    csv_reader = csv.reader(csv_file, delimiter=',')\n",
        "\n",
        "    for line in csv_reader:\n",
        "      print(line)\n",
        "      \n",
        "    "
      ],
      "metadata": {
        "id": "H7mQPyLem2wZ",
        "colab": {
          "base_uri": "https://localhost:8080/"
        },
        "outputId": "14362dba-ba2c-45b8-e0ed-bdad8c6e7595"
      },
      "execution_count": 18,
      "outputs": [
        {
          "output_type": "stream",
          "name": "stdout",
          "text": [
            "['Name', 'Branch', 'Year', 'Profile']\n",
            "['Nikhil', 'Finance', '2', 'Manager']\n",
            "['Sanchit', 'IT', '2', 'Consultant']\n",
            "['Aditya', 'IT', '2', 'Team Lead']\n",
            "['Sagar', 'HR', '1', 'Assistant Manager']\n",
            "['Prateek', 'HR', '3', 'Talent Acquisition Coordinator']\n",
            "['Sahil', 'Finance', '2', 'Team Lead']\n"
          ]
        }
      ]
    },
    {
      "cell_type": "code",
      "source": [
        "# Reading a CSV file with DictReader\n",
        "\n",
        "file = open('student.csv','r')\n",
        "row = csv.DictReader(file)\n",
        "\n",
        "for i in row:\n",
        "  print(i)\n",
        "\n",
        "file.close()"
      ],
      "metadata": {
        "id": "hGjQBI0Fcsww",
        "colab": {
          "base_uri": "https://localhost:8080/"
        },
        "outputId": "9cba8dc2-301c-4584-e887-684c6d7cfc42"
      },
      "execution_count": 19,
      "outputs": [
        {
          "output_type": "stream",
          "name": "stdout",
          "text": [
            "OrderedDict([('name', 'John Smith'), ('department', 'Accounting'), ('course name', 'B.Com'), ('year', '1999')])\n",
            "OrderedDict([('name', 'Erica Meyers'), ('department', 'IT'), ('course name', 'M.Tech'), ('year', '2000')])\n",
            "OrderedDict([('name', 'Alice John'), ('department', 'Science'), ('course name', 'B.Sc.'), ('year', '2010')])\n",
            "OrderedDict([('name', 'Martha Peterson'), ('department', 'Accounting'), ('course name', 'M.Com'), ('year', ' 1999')])\n",
            "OrderedDict([('name', 'Purvi Deshmukh'), ('department', 'Science'), ('course name', 'B.Sc.'), ('year', '2002')])\n",
            "OrderedDict([('name', 'Daniel Holm'), ('department', 'IT'), ('course name', 'B.Tech'), ('year', '2010')])\n"
          ]
        }
      ]
    },
    {
      "cell_type": "code",
      "source": [
        "# my data rows as dictionary objects\n",
        "\n",
        "mydict =[{'name': 'Allan Smith', 'department': 'Acoounting', 'course name': 'M.Com', 'year': '2010'},\n",
        "         {'name': 'Gracy Martin', 'department': 'IT', 'course name': 'M.Tech', 'year': '2010'}]\n",
        "  \n",
        "# field names\n",
        "fields = ['name', 'department', 'course name', 'year']\n",
        "  \n",
        "# name of csv file\n",
        "filename = 'students.csv'\n",
        "  \n",
        "# writing to csv file\n",
        "with open(filename, 'w') as csvfile:\n",
        "    # creating a csv dict writer object\n",
        "    writer = csv.DictWriter(csvfile, fieldnames = fields)\n",
        "      \n",
        "    writer.writeheader()  # writeheader() writes the first row of your csv file using the pre-specified fieldnames\n",
        "  \n",
        "    writer.writerows(mydict) # writerows() writes all the rows in each row, it writes only the values(not keys)"
      ],
      "metadata": {
        "id": "D4mmHk6lcSf9"
      },
      "execution_count": 20,
      "outputs": []
    },
    {
      "cell_type": "code",
      "source": [
        "file = open('students.csv','r')\n",
        "\n",
        "csv_reader=csv.reader(file,delimiter=',')\n",
        "\n",
        "for line in csv_reader:\n",
        "  print(line)\n",
        "\n",
        "file.close()"
      ],
      "metadata": {
        "id": "Tl-qWkxabdxZ",
        "colab": {
          "base_uri": "https://localhost:8080/"
        },
        "outputId": "e8c73698-7252-489b-9509-29aa308369f1"
      },
      "execution_count": 21,
      "outputs": [
        {
          "output_type": "stream",
          "name": "stdout",
          "text": [
            "['name', 'department', 'course name', 'year']\n",
            "['Allan Smith', 'Acoounting', 'M.Com', '2010']\n",
            "['Gracy Martin', 'IT', 'M.Tech', '2010']\n"
          ]
        }
      ]
    },
    {
      "cell_type": "code",
      "source": [
        "# to write data in the file\n",
        "\n",
        "file = open('students.csv','a',newline='\\n')\n",
        "\n",
        "dict_writer = csv.DictWriter(file, fieldnames=['name', 'department', 'course name', 'year'])\n",
        "\n",
        "dict_writer.writerow({'name':'Daniel Holm','department':'IT','course name':'B.Tech','year':'2010'})\n",
        "\n",
        "file.close()"
      ],
      "metadata": {
        "id": "vCxjqiaJ8D0b"
      },
      "execution_count": 22,
      "outputs": []
    },
    {
      "cell_type": "code",
      "source": [
        "with open('students.csv') as file:\n",
        "  dict_reader = csv.DictReader(file)\n",
        "\n",
        "  for rows in dict_reader:\n",
        "    print(rows)"
      ],
      "metadata": {
        "id": "5RQofrD35o1J",
        "colab": {
          "base_uri": "https://localhost:8080/"
        },
        "outputId": "ac5dea8f-bd17-494c-a10b-9f2fe74867e6"
      },
      "execution_count": 23,
      "outputs": [
        {
          "output_type": "stream",
          "name": "stdout",
          "text": [
            "OrderedDict([('name', 'Allan Smith'), ('department', 'Acoounting'), ('course name', 'M.Com'), ('year', '2010')])\n",
            "OrderedDict([('name', 'Gracy Martin'), ('department', 'IT'), ('course name', 'M.Tech'), ('year', '2010')])\n",
            "OrderedDict([('name', 'Daniel Holm'), ('department', 'IT'), ('course name', 'B.Tech'), ('year', '2010')])\n"
          ]
        }
      ]
    },
    {
      "cell_type": "code",
      "source": [
        "#  printing first 3 rows without header\n",
        "\n",
        "with open('student.csv','r') as file:\n",
        "  row = csv.reader(file,delimiter=',')\n",
        "  next(row)\n",
        "\n",
        "  line=[i for i in row]    # extracting each data row one by one\n",
        "    \n",
        "  # get total number of rows\n",
        "  print(\"Total no. of rows: \",row.line_num)\n",
        "\n",
        "  for l in line[:3]:\n",
        "    print(l)  # parsing each column of a row\n"
      ],
      "metadata": {
        "id": "xgiJFOFQcSYu",
        "colab": {
          "base_uri": "https://localhost:8080/"
        },
        "outputId": "d3f06724-c6a9-4cd8-af15-7e64bb35dacb"
      },
      "execution_count": 24,
      "outputs": [
        {
          "output_type": "stream",
          "name": "stdout",
          "text": [
            "Total no. of rows:  7\n",
            "['John Smith', 'Accounting', 'B.Com', '1999']\n",
            "['Erica Meyers', 'IT', 'M.Tech', '2000']\n",
            "['Alice John', 'Science', 'B.Sc.', '2010']\n"
          ]
        }
      ]
    },
    {
      "cell_type": "markdown",
      "source": [
        "**line_num is nothing but a counter which returns the number of rows which have been iterated**"
      ],
      "metadata": {
        "id": "4uMf7V8rqxWw"
      }
    },
    {
      "cell_type": "code",
      "source": [
        "# to read data (just first 4 rows) in the file\n",
        "with open('students.csv','r') as file_obj:\n",
        "  head = [next(csv.reader(file_obj, delimiter='|')) for x in range(4)] # to read only first four rows including header\n",
        "   \n",
        "  for row in head:\n",
        "    print(row)"
      ],
      "metadata": {
        "id": "74vgpDTfcRtY",
        "colab": {
          "base_uri": "https://localhost:8080/"
        },
        "outputId": "575a5023-dba2-4e67-cf4e-d52dfe2d33b2"
      },
      "execution_count": 25,
      "outputs": [
        {
          "output_type": "stream",
          "name": "stdout",
          "text": [
            "['name,department,course name,year']\n",
            "['Allan Smith,Acoounting,M.Com,2010']\n",
            "['Gracy Martin,IT,M.Tech,2010']\n",
            "['Daniel Holm,IT,B.Tech,2010']\n"
          ]
        }
      ]
    },
    {
      "cell_type": "code",
      "source": [
        "import re"
      ],
      "metadata": {
        "id": "wbTE6o7zCVyO"
      },
      "execution_count": 26,
      "outputs": []
    },
    {
      "cell_type": "code",
      "source": [
        "# to get all the years in a list from file\n",
        "\n",
        "digit=[]\n",
        "\n",
        "with open('student.csv','r') as file:\n",
        "  csv_reader=csv.reader(file,delimiter='|')\n",
        "\n",
        "  for row in csv_reader:\n",
        "    for item in row:   \n",
        "      year = re.findall(r\"\\d{1,4}\", item)      # checking digits in each item\n",
        "      if year != []:      # if year is not empty, then append the value in the list\n",
        "        digit.append(year)\n",
        "      else:\n",
        "        continue\n",
        "\n",
        "print(digit)"
      ],
      "metadata": {
        "colab": {
          "base_uri": "https://localhost:8080/"
        },
        "id": "Gv5KF5XDCYGz",
        "outputId": "83052e66-e8c0-4dff-b3cd-f4a82d08f8b9"
      },
      "execution_count": 27,
      "outputs": [
        {
          "output_type": "stream",
          "name": "stdout",
          "text": [
            "[['1999'], ['2000'], ['2010'], ['1999'], ['2002'], ['2010']]\n"
          ]
        }
      ]
    },
    {
      "cell_type": "code",
      "source": [
        ""
      ],
      "metadata": {
        "id": "g94r3KvwDbHp"
      },
      "execution_count": null,
      "outputs": []
    }
  ],
  "metadata": {
    "kernelspec": {
      "display_name": "Python 3",
      "language": "python",
      "name": "python3"
    },
    "language_info": {
      "codemirror_mode": {
        "name": "ipython",
        "version": 3
      },
      "file_extension": ".py",
      "mimetype": "text/x-python",
      "name": "python",
      "nbconvert_exporter": "python",
      "pygments_lexer": "ipython3",
      "version": "3.7.6"
    },
    "colab": {
      "name": "Lesson 20 csv - File Handling",
      "provenance": [],
      "collapsed_sections": [],
      "include_colab_link": true
    }
  },
  "nbformat": 4,
  "nbformat_minor": 0
}