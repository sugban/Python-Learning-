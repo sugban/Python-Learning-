{
 "cells": [
  {
   "cell_type": "markdown",
   "metadata": {
    "id": "FuoZ5K3j08XV"
   },
   "source": [
    "### Functions in Python\n",
    "\n",
    "* A function is a reusable block of code which only runs when it is called.\n",
    "* Functions can be both built-in or user-defined.\n",
    "* Data that you pass in a function, is known as parameter.\n",
    "* A function can return data as a result.\n",
    "* You define a function with the keyword **def** followed by the **function name** and parentheses **( )** and colon **:**.\n",
    "* To call a function, use the function name followed by parenthesis ().\n",
    "\n",
    "**User-defined function**\n",
    "\n",
    " **- How to define a function - Syntax**\n",
    " \n",
    "<pre>\n",
    "def function_name(parameters):\n",
    "    # block of code\n",
    "    return result \n",
    "</pre>\n",
    "\n",
    " **- How to call a function - Syntax**\n",
    " \n",
    " function_name()"
   ]
  },
  {
   "cell_type": "code",
   "execution_count": 1,
   "metadata": {
    "id": "FByMPMg208Xd"
   },
   "outputs": [
    {
     "name": "stdout",
     "output_type": "stream",
     "text": [
      "This is a function!\n"
     ]
    }
   ],
   "source": [
    "def my_function():\n",
    "    print(\"This is a function!\")\n",
    "\n",
    "my_function()"
   ]
  },
  {
   "cell_type": "markdown",
   "metadata": {
    "id": "JBjWx44808Xf"
   },
   "source": [
    "**User-defined and built-in function**"
   ]
  },
  {
   "cell_type": "code",
   "execution_count": 2,
   "metadata": {
    "id": "vsPfKHHI08Xg"
   },
   "outputs": [
    {
     "name": "stdout",
     "output_type": "stream",
     "text": [
      "7\n"
     ]
    }
   ],
   "source": [
    "# built-in function\n",
    "\n",
    "string = 'Sugandh'\n",
    "\n",
    "print(len(string))"
   ]
  },
  {
   "cell_type": "code",
   "execution_count": 3,
   "metadata": {
    "id": "0UHIlMNP08Xh"
   },
   "outputs": [
    {
     "name": "stdout",
     "output_type": "stream",
     "text": [
      "7\n"
     ]
    }
   ],
   "source": [
    "# with print function inside function\n",
    "\n",
    "def countlen(string):\n",
    "    count=0\n",
    "    for i in string:\n",
    "        count += 1\n",
    "    print(count)\n",
    "\n",
    "countlen(string)"
   ]
  },
  {
   "cell_type": "markdown",
   "metadata": {
    "id": "iEFNiVrs08Xi"
   },
   "source": [
    "**The return statement is used to come out or exit from the function and go back to the function caller to return the specified value or data as a result.**"
   ]
  },
  {
   "cell_type": "code",
   "execution_count": 4,
   "metadata": {
    "id": "upnTGyX-08Xi"
   },
   "outputs": [
    {
     "name": "stdout",
     "output_type": "stream",
     "text": [
      "7\n"
     ]
    }
   ],
   "source": [
    "# user-defined function with argumnets\n",
    "\n",
    "def countlen(string):\n",
    "    count=0\n",
    "    for i in string:\n",
    "        count += 1\n",
    "    return count\n",
    "\n",
    "print(countlen(string))"
   ]
  },
  {
   "cell_type": "markdown",
   "metadata": {
    "id": "1XEv-Jjh08Xj"
   },
   "source": [
    "### Function inside function / Nested function\n",
    "\n",
    "* A nested function is simply a function within another function.\n",
    "* It is also called inner function.\n",
    "* To define a nested function, just initialize another function within a function by using the def keyword same as previuos one.\n",
    "\n",
    "**Syntax:**\n",
    "\n",
    "<pre>\n",
    "\n",
    "def outer():  # outer function\n",
    "    print(\"This is outer function\")\n",
    "\t\n",
    "    def inner():\n",
    "        print(\"This is inner function\")\n",
    "\t\n",
    "    inner()  # calling inner function\n",
    " \n",
    "outer()  # calling outer function\n",
    "\n",
    "</pre>"
   ]
  },
  {
   "cell_type": "code",
   "execution_count": 5,
   "metadata": {
    "id": "xRCDikPt08Xk"
   },
   "outputs": [
    {
     "name": "stdout",
     "output_type": "stream",
     "text": [
      "This is outer function\n",
      "This is inner function\n"
     ]
    }
   ],
   "source": [
    "def outer():  # outer function\n",
    "    print(\"This is outer function\")\n",
    "\n",
    "    def inner():\n",
    "        print(\"This is inner function\")\n",
    "\n",
    "    inner()  # calling inner function\n",
    "\n",
    "    \n",
    "outer()  # calling outer function"
   ]
  },
  {
   "cell_type": "markdown",
   "metadata": {
    "id": "qgzt7xRu08Xl"
   },
   "source": [
    "**Nested functions can serve as helper functions of the function in which they are defined.**"
   ]
  },
  {
   "cell_type": "code",
   "execution_count": 6,
   "metadata": {
    "id": "NAOEowZi08Xm"
   },
   "outputs": [
    {
     "name": "stdout",
     "output_type": "stream",
     "text": [
      "Hello, Sugandh Bansal!\n"
     ]
    }
   ],
   "source": [
    "def name(first, last):\n",
    "    \n",
    "  # nested helper function\n",
    "  def full_name():\n",
    "        \n",
    "    return first + \" \" + last\n",
    "\n",
    "  print(\"Hello, \" + full_name() + \"!\")\n",
    "\n",
    "\n",
    "name('Sugandh', 'Bansal')"
   ]
  },
  {
   "cell_type": "code",
   "execution_count": 7,
   "metadata": {
    "id": "POAxCWOn08Xn"
   },
   "outputs": [
    {
     "name": "stdout",
     "output_type": "stream",
     "text": [
      "30\n"
     ]
    }
   ],
   "source": [
    "# to find greatest number\n",
    "\n",
    "def greater(x,y):\n",
    "    if x > y:\n",
    "        return x\n",
    "    return y\n",
    "\n",
    "print(greater(10,30))"
   ]
  },
  {
   "cell_type": "code",
   "execution_count": 8,
   "metadata": {
    "id": "_ZnKCUw908Xn"
   },
   "outputs": [
    {
     "name": "stdout",
     "output_type": "stream",
     "text": [
      "50\n"
     ]
    }
   ],
   "source": [
    "def greatest(x,y,z):\n",
    "    if x > y and x > z:\n",
    "        return x\n",
    "    elif y > x and y > Z:\n",
    "        return y\n",
    "    return z\n",
    "\n",
    "print(greatest(40,30,50))"
   ]
  },
  {
   "cell_type": "code",
   "execution_count": 9,
   "metadata": {
    "id": "eaOaHT8h08Xo"
   },
   "outputs": [
    {
     "name": "stdout",
     "output_type": "stream",
     "text": [
      "50\n"
     ]
    }
   ],
   "source": [
    "# function into function\n",
    "\n",
    "def greatest(x,y,z):\n",
    "    def greater(x,y):\n",
    "        if x > y:\n",
    "            return x\n",
    "        return y\n",
    "    return z\n",
    "\n",
    "print(greatest(40,30,50))"
   ]
  },
  {
   "cell_type": "code",
   "execution_count": null,
   "metadata": {
    "id": "1O-1BFP208Xp"
   },
   "outputs": [],
   "source": []
  }
 ],
 "metadata": {
  "colab": {
   "name": "Lesson 9 Functions.ipynb",
   "provenance": []
  },
  "kernelspec": {
   "display_name": "Python 3",
   "language": "python",
   "name": "python3"
  },
  "language_info": {
   "codemirror_mode": {
    "name": "ipython",
    "version": 3
   },
   "file_extension": ".py",
   "mimetype": "text/x-python",
   "name": "python",
   "nbconvert_exporter": "python",
   "pygments_lexer": "ipython3",
   "version": "3.7.6"
  }
 },
 "nbformat": 4,
 "nbformat_minor": 1
}
