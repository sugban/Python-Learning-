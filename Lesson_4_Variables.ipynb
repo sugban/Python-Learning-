{
 "cells": [
  {
   "cell_type": "markdown",
   "metadata": {
    "id": "2uYAapSicP1Y"
   },
   "source": [
    "### Notes: \n",
    "\n",
    "* Variables are like containers for storing data values. \n",
    "* A variable is created the moment, you first assign a value to it.\n",
    "* A variable name cannot start with a number or sign \n",
    "    **(1name, &name, #name)**\n",
    "* A variable name can only contain alpha-numeric characters and underscores \n",
    "    **(name, name1, _name)**\n",
    "* Variable names are case-sensitive \n",
    "    **(name, Name and NAME are three different variables)**\n",
    "* Variables do not need to be declared with any particular type, and can even change type after they have been set \n",
    "    **( name=1, name='one')**\n",
    "* A variable name must start with a letter or the underscore character, it cannot start also with number\n",
    "    **(1name)**\n",
    "* You can assign a single value to several variables simultaneously\n",
    "    **(a = b = c = 1)**\n",
    "* You can also assign multiple objects to multiple variables\n",
    "    **(a,b,c = 1,2,\"name\")**\n"
   ]
  },
  {
   "cell_type": "code",
   "execution_count": 1,
   "metadata": {
    "id": "y6gAZExMcP1g"
   },
   "outputs": [
    {
     "name": "stdout",
     "output_type": "stream",
     "text": [
      "1\n"
     ]
    }
   ],
   "source": [
    "_name = 1\n",
    "print(_name)"
   ]
  },
  {
   "cell_type": "code",
   "execution_count": 2,
   "metadata": {
    "id": "C_-7_600cP1k"
   },
   "outputs": [
    {
     "name": "stdout",
     "output_type": "stream",
     "text": [
      "Sugandh\n"
     ]
    }
   ],
   "source": [
    "name1 = 'Sugandh'\n",
    "print(name1)"
   ]
  },
  {
   "cell_type": "code",
   "execution_count": 3,
   "metadata": {
    "id": "bYyJvGZycP1m"
   },
   "outputs": [
    {
     "ename": "SyntaxError",
     "evalue": "invalid syntax (<ipython-input-3-3e7085e9a8a4>, line 1)",
     "output_type": "error",
     "traceback": [
      "\u001b[1;36m  File \u001b[1;32m\"<ipython-input-3-3e7085e9a8a4>\"\u001b[1;36m, line \u001b[1;32m1\u001b[0m\n\u001b[1;33m    1name = 4\u001b[0m\n\u001b[1;37m        ^\u001b[0m\n\u001b[1;31mSyntaxError\u001b[0m\u001b[1;31m:\u001b[0m invalid syntax\n"
     ]
    }
   ],
   "source": [
    "1name = 4\n",
    "print(1name)"
   ]
  },
  {
   "cell_type": "markdown",
   "metadata": {
    "id": "fqXBg7hMcP1n"
   },
   "source": [
    "--naming convention into variable--\n",
    "\n",
    "**- Snake case writing**\n",
    "\n",
    "first_name_variable \n",
    "\n",
    "**- Camel case writing**\n",
    "\n",
    "FirstNameVariable"
   ]
  },
  {
   "cell_type": "markdown",
   "metadata": {
    "id": "DGJkRhm2cP1o"
   },
   "source": [
    "## Variable Type // Data Type\n",
    "\n",
    "The data stored in memory can be of many types. Python has five standard data types.\n",
    "\n",
    "| Data Type | Example |\n",
    "|----|----|\n",
    "| int (integer) | 23 |\n",
    "| float | 23.02 |\n",
    "| str (String) | 'hello' |\n",
    "| List | \\['a',1,'b',2.02\\] |\n",
    "| Tuple | ('a',1,'b',2.02) |\n",
    "| dict (Dictionary) | {'a':1,'b':2} |\n",
    "| set | {'a',1,'b',2.02} |\n"
   ]
  },
  {
   "cell_type": "markdown",
   "metadata": {},
   "source": [
    "dict = { key : value }"
   ]
  },
  {
   "cell_type": "code",
   "execution_count": 4,
   "metadata": {
    "id": "gz1CIINacP1p"
   },
   "outputs": [
    {
     "name": "stdout",
     "output_type": "stream",
     "text": [
      "Integer:  25\n",
      "Float:  25.2\n",
      "string:  Hello\n",
      "List:  [10, 2.0, 'a', 'b']\n",
      "Tuple:  (10, 2.0, 'a', 'b')\n",
      "Dictionary:  {1: 'hello', 2: 24, 'a': 4.23}\n",
      "Set:  {'a', 10, 2.0, 'b'}\n"
     ]
    }
   ],
   "source": [
    "a = 25        # Integer variable \n",
    "print('Integer: ', a)\n",
    "\n",
    "b = 25.20     # Float variable\n",
    "print('Float: ', b)\n",
    "\n",
    "c = 'Hello'   # String variable\n",
    "print('string: ',c)\n",
    "\n",
    "d = [10, 2.0, 'a','b']     # List variable\n",
    "print('List: ',d)\n",
    "\n",
    "e = (10, 2.0, 'a','b')     # Tuple variable\n",
    "print('Tuple: ',e)\n",
    "\n",
    "f = {1:'hello',2:24,'a':4.23}   # Dictionary\n",
    "print('Dictionary: ',f)\n",
    "\n",
    "g = {10, 2.0, 'a','b'}    # Set variable\n",
    "print('Set: ',g)"
   ]
  },
  {
   "cell_type": "markdown",
   "metadata": {
    "id": "iaz_Q73LcP1r"
   },
   "source": [
    "### Getting the Data Type\n",
    "\n",
    "You can get the data type of any object by using the type() function\n",
    "    **(type(name))**"
   ]
  },
  {
   "cell_type": "code",
   "execution_count": 5,
   "metadata": {
    "id": "AmZbXxQscP1t"
   },
   "outputs": [
    {
     "name": "stdout",
     "output_type": "stream",
     "text": [
      "<class 'int'>\n"
     ]
    }
   ],
   "source": [
    "print(type(a))"
   ]
  },
  {
   "cell_type": "code",
   "execution_count": 6,
   "metadata": {
    "id": "ExzdvQmacP1v"
   },
   "outputs": [
    {
     "name": "stdout",
     "output_type": "stream",
     "text": [
      "<class 'float'>\n"
     ]
    }
   ],
   "source": [
    "print(type(b))"
   ]
  },
  {
   "cell_type": "code",
   "execution_count": 7,
   "metadata": {
    "id": "JSvgnlvWcP1x"
   },
   "outputs": [
    {
     "name": "stdout",
     "output_type": "stream",
     "text": [
      "<class 'str'>\n"
     ]
    }
   ],
   "source": [
    "print(type(c))"
   ]
  },
  {
   "cell_type": "code",
   "execution_count": 8,
   "metadata": {
    "id": "BwqXOnX1cP1z"
   },
   "outputs": [
    {
     "name": "stdout",
     "output_type": "stream",
     "text": [
      "<class 'list'>\n"
     ]
    }
   ],
   "source": [
    "print(type(d))"
   ]
  },
  {
   "cell_type": "code",
   "execution_count": 9,
   "metadata": {
    "id": "pDtr3RaIcP10"
   },
   "outputs": [
    {
     "name": "stdout",
     "output_type": "stream",
     "text": [
      "<class 'tuple'>\n"
     ]
    }
   ],
   "source": [
    "print(type(e))"
   ]
  },
  {
   "cell_type": "code",
   "execution_count": 10,
   "metadata": {
    "id": "ya-1A4UBcP12"
   },
   "outputs": [
    {
     "name": "stdout",
     "output_type": "stream",
     "text": [
      "<class 'dict'>\n"
     ]
    }
   ],
   "source": [
    "print(type(f))"
   ]
  },
  {
   "cell_type": "code",
   "execution_count": 11,
   "metadata": {
    "id": "EokqGuk4cP13"
   },
   "outputs": [
    {
     "name": "stdout",
     "output_type": "stream",
     "text": [
      "<class 'set'>\n"
     ]
    }
   ],
   "source": [
    "print(type(g))"
   ]
  },
  {
   "cell_type": "code",
   "execution_count": null,
   "metadata": {
    "id": "rTT8CSDncP13"
   },
   "outputs": [],
   "source": []
  }
 ],
 "metadata": {
  "colab": {
   "name": "Lesson_4_Variables.ipynb",
   "provenance": []
  },
  "kernelspec": {
   "display_name": "Python 3",
   "language": "python",
   "name": "python3"
  },
  "language_info": {
   "codemirror_mode": {
    "name": "ipython",
    "version": 3
   },
   "file_extension": ".py",
   "mimetype": "text/x-python",
   "name": "python",
   "nbconvert_exporter": "python",
   "pygments_lexer": "ipython3",
   "version": "3.7.6"
  }
 },
 "nbformat": 4,
 "nbformat_minor": 1
}
