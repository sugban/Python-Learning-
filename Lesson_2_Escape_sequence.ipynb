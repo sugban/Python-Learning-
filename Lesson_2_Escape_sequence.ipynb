{
 "cells": [
  {
   "cell_type": "markdown",
   "metadata": {
    "id": "T7cu4dk6hwve"
   },
   "source": [
    "## Escape sequence\n",
    "* An escape character is a backslash \\ followed by a character\n",
    "* These characters are used to represent whitespace such as, space, tabs, quotes etc."
   ]
  },
  {
   "cell_type": "markdown",
   "metadata": {
    "id": "pcuuA1Olhwvl"
   },
   "source": [
    "| Escape Sequence | Description | Example |\n",
    "|-----------------|-------------|------------------------|\n",
    "| \\\\' | Single quote | 'That\\'s my notebook' |\n",
    "| \\\\\" | Double quote | 'He said,\\\"Hello\\\"!' |\n",
    "| \\\\n | New line  | 'Multiline strings\\ncan be created\\nusing escape sequences' |\n",
    "| \\\\t | Tab | 'Name:\\tSugandh' |\n",
    "| \\\\r | Carriage return | 'Hello\\rPython!' |\n",
    "| \\\\b | backspace | 'Hel\\blo' |\n",
    "| \\\\\\ | backslash | 'head \\\\ tail' |"
   ]
  },
  {
   "cell_type": "code",
   "execution_count": 1,
   "metadata": {
    "id": "Gc8yw2bghwvm"
   },
   "outputs": [
    {
     "ename": "SyntaxError",
     "evalue": "invalid syntax (<ipython-input-1-d85b6caf1128>, line 3)",
     "output_type": "error",
     "traceback": [
      "\u001b[1;36m  File \u001b[1;32m\"<ipython-input-1-d85b6caf1128>\"\u001b[1;36m, line \u001b[1;32m3\u001b[0m\n\u001b[1;33m    string = 'That's my notebook'\u001b[0m\n\u001b[1;37m                   ^\u001b[0m\n\u001b[1;31mSyntaxError\u001b[0m\u001b[1;31m:\u001b[0m invalid syntax\n"
     ]
    }
   ],
   "source": [
    "# Using single quote esacpe sequence\n",
    "\n",
    "string = 'That's my notebook'\n",
    "print(string)"
   ]
  },
  {
   "cell_type": "code",
   "execution_count": 2,
   "metadata": {
    "id": "PlgouBkrhwvo"
   },
   "outputs": [
    {
     "name": "stdout",
     "output_type": "stream",
     "text": [
      "That's my notebook\n"
     ]
    }
   ],
   "source": [
    "string = 'That\\'s my notebook'\n",
    "print(string)"
   ]
  },
  {
   "cell_type": "code",
   "execution_count": 3,
   "metadata": {
    "id": "6Bf6V4ZYhwvp"
   },
   "outputs": [
    {
     "ename": "SyntaxError",
     "evalue": "invalid syntax (<ipython-input-3-ff478df1396e>, line 1)",
     "output_type": "error",
     "traceback": [
      "\u001b[1;36m  File \u001b[1;32m\"<ipython-input-3-ff478df1396e>\"\u001b[1;36m, line \u001b[1;32m1\u001b[0m\n\u001b[1;33m    print('That\\\\'s my notebook')\u001b[0m\n\u001b[1;37m                  ^\u001b[0m\n\u001b[1;31mSyntaxError\u001b[0m\u001b[1;31m:\u001b[0m invalid syntax\n"
     ]
    }
   ],
   "source": [
    "print('That\\\\'s my notebook')"
   ]
  },
  {
   "cell_type": "code",
   "execution_count": 4,
   "metadata": {
    "id": "4gSAZPhNhwvp"
   },
   "outputs": [
    {
     "ename": "SyntaxError",
     "evalue": "invalid syntax (<ipython-input-4-fe8889494454>, line 3)",
     "output_type": "error",
     "traceback": [
      "\u001b[1;36m  File \u001b[1;32m\"<ipython-input-4-fe8889494454>\"\u001b[1;36m, line \u001b[1;32m3\u001b[0m\n\u001b[1;33m    line = \"We are \"Vikings\" from the north\"\u001b[0m\n\u001b[1;37m                          ^\u001b[0m\n\u001b[1;31mSyntaxError\u001b[0m\u001b[1;31m:\u001b[0m invalid syntax\n"
     ]
    }
   ],
   "source": [
    "# Using double quotes \n",
    "\n",
    "line = \"We are \"Vikings\" from the north\"\n",
    "print(line)"
   ]
  },
  {
   "cell_type": "code",
   "execution_count": 5,
   "metadata": {
    "id": "pIGdrF7Chwvq"
   },
   "outputs": [
    {
     "name": "stdout",
     "output_type": "stream",
     "text": [
      "We are \"Vikings\" from the north\n"
     ]
    }
   ],
   "source": [
    "line = \"We are \\\"Vikings\\\" from the north\"\n",
    "print(line)"
   ]
  },
  {
   "cell_type": "code",
   "execution_count": 8,
   "metadata": {
    "id": "LwajUOJOhwvr"
   },
   "outputs": [
    {
     "name": "stdout",
     "output_type": "stream",
     "text": [
      "Multiline strings\n",
      "can be created\n",
      "using escape sequences\n"
     ]
    }
   ],
   "source": [
    "# using new line escape sequence - \\n\n",
    "\n",
    "multi = 'Multiline strings\\ncan be created\\nusing escape sequences'\n",
    "print(multi)"
   ]
  },
  {
   "cell_type": "code",
   "execution_count": 9,
   "metadata": {
    "id": "ZQGdK8GBhwvs"
   },
   "outputs": [
    {
     "name": "stdout",
     "output_type": "stream",
     "text": [
      "Name:\tSugandh\n"
     ]
    }
   ],
   "source": [
    "# using tab or whitespace escape sequence - \\t\n",
    "\n",
    "tab = 'Name:\\tSugandh'\n",
    "print(tab)"
   ]
  },
  {
   "cell_type": "code",
   "execution_count": 10,
   "metadata": {
    "id": "r_-nj2-Rhwvt"
   },
   "outputs": [
    {
     "name": "stdout",
     "output_type": "stream",
     "text": [
      "12345678910\n",
      "\tPython\n"
     ]
    }
   ],
   "source": [
    "print(12345678910)\n",
    "\n",
    "print('\\tPython')"
   ]
  },
  {
   "cell_type": "code",
   "execution_count": 11,
   "metadata": {
    "id": "n_aniI-ihwvu"
   },
   "outputs": [
    {
     "name": "stdout",
     "output_type": "stream",
     "text": [
      "12345678910\n",
      "      Python\n"
     ]
    }
   ],
   "source": [
    "# you can define the space before tab\n",
    "\n",
    "print(12345678910)\n",
    "\n",
    "print('\\tPython'.expandtabs(tabsize=6))"
   ]
  },
  {
   "cell_type": "code",
   "execution_count": 12,
   "metadata": {
    "id": "1GTSF06Dhwvu"
   },
   "outputs": [
    {
     "name": "stdout",
     "output_type": "stream",
     "text": [
      "Hello\r",
      "Python !\n"
     ]
    }
   ],
   "source": [
    "# using carriage return escape sequence - \\r\n",
    "\n",
    "print('Hello\\rPython !')"
   ]
  },
  {
   "cell_type": "code",
   "execution_count": 13,
   "metadata": {
    "id": "s6hxvcjYhwvv"
   },
   "outputs": [
    {
     "name": "stdout",
     "output_type": "stream",
     "text": [
      "123456789\r",
      "Hello\n"
     ]
    }
   ],
   "source": [
    "print('123456789\\rHello')"
   ]
  },
  {
   "cell_type": "code",
   "execution_count": 14,
   "metadata": {
    "id": "Y3qFjCbUhwvw"
   },
   "outputs": [
    {
     "name": "stdout",
     "output_type": "stream",
     "text": [
      "Hel\blo\n"
     ]
    }
   ],
   "source": [
    "'''Backspace sequence will remove the last character used before backspace sequence\n",
    "It works as backspace in keypad - \\b''' \n",
    "\n",
    "word = 'Hel\\blo'\n",
    "print(word)"
   ]
  },
  {
   "cell_type": "code",
   "execution_count": 15,
   "metadata": {
    "id": "n41hdhBVhwvw"
   },
   "outputs": [
    {
     "name": "stdout",
     "output_type": "stream",
     "text": [
      "Hello\b\n"
     ]
    }
   ],
   "source": [
    "word = 'Hello\\b'\n",
    "print(word)"
   ]
  },
  {
   "cell_type": "code",
   "execution_count": 16,
   "metadata": {
    "id": "2MsUkEpzhwvw"
   },
   "outputs": [
    {
     "name": "stdout",
     "output_type": "stream",
     "text": [
      "Hell\b\n"
     ]
    }
   ],
   "source": [
    "print('Hell\\b')"
   ]
  },
  {
   "cell_type": "code",
   "execution_count": 17,
   "metadata": {
    "id": "sl5efExThwvx"
   },
   "outputs": [
    {
     "name": "stdout",
     "output_type": "stream",
     "text": [
      "Head\\Tail\n"
     ]
    }
   ],
   "source": [
    "# using backslash sequence\n",
    "\n",
    "back = 'Head\\\\Tail'\n",
    "print(back)"
   ]
  },
  {
   "cell_type": "markdown",
   "metadata": {
    "id": "EB3Hzu-Lhwvx"
   },
   "source": [
    "*Let's play with escape sequence*"
   ]
  },
  {
   "cell_type": "code",
   "execution_count": 18,
   "metadata": {
    "id": "FMI7cNC9hwvx"
   },
   "outputs": [
    {
     "name": "stdout",
     "output_type": "stream",
     "text": [
      "This is \\\\ double backslash\n"
     ]
    }
   ],
   "source": [
    "# Ouput: This is \\\\ double backslash\n",
    "\n",
    "print('This is \\\\\\\\ double backslash')"
   ]
  },
  {
   "cell_type": "code",
   "execution_count": 19,
   "metadata": {
    "id": "Q2-weHd3hwvy"
   },
   "outputs": [
    {
     "name": "stdout",
     "output_type": "stream",
     "text": [
      "This is /\\/\\/\\/\\____ toothbrush\n"
     ]
    }
   ],
   "source": [
    "# Output: This is /\\/\\/\\/\\_____ toothbrush\n",
    "\n",
    "print('This is /\\\\/\\\\/\\\\/\\\\____ toothbrush')"
   ]
  },
  {
   "cell_type": "code",
   "execution_count": 20,
   "metadata": {
    "id": "58gfKyjmhwvy"
   },
   "outputs": [
    {
     "name": "stdout",
     "output_type": "stream",
     "text": [
      "\"| *  * |\"\n",
      " |  --  |\n"
     ]
    }
   ],
   "source": [
    "''' Output: \"| *  * |\"\n",
    "             |  --  |'''\n",
    "\n",
    "print(\"\\\"| *  * |\\\"\\n |  --  |\")"
   ]
  },
  {
   "cell_type": "code",
   "execution_count": 21,
   "metadata": {
    "id": "nZPL-bikhwvz"
   },
   "outputs": [
    {
     "name": "stdout",
     "output_type": "stream",
     "text": [
      "This is a \\\\\\\\____ hairbrush\n"
     ]
    }
   ],
   "source": [
    "# Output: This is a \\\\\\\\____ hairbrush\n",
    "\n",
    "print('This is a \\\\\\\\\\\\\\\\____ hairbrush')"
   ]
  },
  {
   "cell_type": "code",
   "execution_count": 22,
   "metadata": {
    "id": "mpR6v2Yxhwvz"
   },
   "outputs": [
    {
     "name": "stdout",
     "output_type": "stream",
     "text": [
      "These are escape sequence \\' \\\" \\n \\t\n"
     ]
    }
   ],
   "source": [
    "# Output: These are escape sequence: \\' \\\" \\n \\t\n",
    "\n",
    "print(\"These are escape sequence \\\\\\' \\\\\\\" \\\\n \\\\t\")"
   ]
  },
  {
   "cell_type": "code",
   "execution_count": 23,
   "metadata": {
    "id": "ENrei1Fchwvz"
   },
   "outputs": [
    {
     "name": "stdout",
     "output_type": "stream",
     "text": [
      "I am \tsupercool\n"
     ]
    }
   ],
   "source": [
    "# Output: I am    supercool\n",
    "\n",
    "print('I am \\tsupercool')"
   ]
  },
  {
   "cell_type": "markdown",
   "metadata": {
    "id": "6jrEGP-jhwv0"
   },
   "source": [
    "**Note:** \n",
    "1. raw string treats the backslash (/) as a single character\n",
    "2. Raw strings are written with a string Letter ‘r’ or ‘R’ as prefix to the string "
   ]
  },
  {
   "cell_type": "code",
   "execution_count": 24,
   "metadata": {
    "id": "zC2QXrrBhwv0"
   },
   "outputs": [
    {
     "name": "stdout",
     "output_type": "stream",
     "text": [
      "lineA \n",
      "lineB\n"
     ]
    }
   ],
   "source": [
    "print('lineA \\nlineB')"
   ]
  },
  {
   "cell_type": "code",
   "execution_count": 25,
   "metadata": {
    "id": "vOSzjbN0hwv1"
   },
   "outputs": [
    {
     "name": "stdout",
     "output_type": "stream",
     "text": [
      "lineA \\nlineB\n"
     ]
    }
   ],
   "source": [
    "print(r'lineA \\nlineB')"
   ]
  },
  {
   "cell_type": "markdown",
   "metadata": {
    "id": "c73KQeYBhwv1"
   },
   "source": [
    "**Note:**\n",
    "1. If you use backslash in the middle of the string, it will print it\n",
    "2. But if you use backslash in the end, it will throw error as it will not take it as a complete string\n",
    "3. That's why we use double backslash in the end."
   ]
  },
  {
   "cell_type": "code",
   "execution_count": 26,
   "metadata": {
    "id": "bxToPHlLhwv1"
   },
   "outputs": [
    {
     "name": "stdout",
     "output_type": "stream",
     "text": [
      "This is a \\ backslash\n"
     ]
    }
   ],
   "source": [
    "print('This is a \\ backslash')"
   ]
  },
  {
   "cell_type": "code",
   "execution_count": 27,
   "metadata": {
    "id": "5gTdfIKFhwv1"
   },
   "outputs": [
    {
     "ename": "SyntaxError",
     "evalue": "EOL while scanning string literal (<ipython-input-27-4bcb82032921>, line 1)",
     "output_type": "error",
     "traceback": [
      "\u001b[1;36m  File \u001b[1;32m\"<ipython-input-27-4bcb82032921>\"\u001b[1;36m, line \u001b[1;32m1\u001b[0m\n\u001b[1;33m    print('This is a backslash \\')\u001b[0m\n\u001b[1;37m                                  ^\u001b[0m\n\u001b[1;31mSyntaxError\u001b[0m\u001b[1;31m:\u001b[0m EOL while scanning string literal\n"
     ]
    }
   ],
   "source": [
    "print('This is a backslash \\')"
   ]
  },
  {
   "cell_type": "code",
   "execution_count": 28,
   "metadata": {
    "id": "3bFqjuIlhwv2"
   },
   "outputs": [
    {
     "name": "stdout",
     "output_type": "stream",
     "text": [
      "This is a backslash \\\n"
     ]
    }
   ],
   "source": [
    "print('This is a backslash \\\\')"
   ]
  },
  {
   "cell_type": "code",
   "execution_count": null,
   "metadata": {},
   "outputs": [],
   "source": []
  }
 ],
 "metadata": {
  "colab": {
   "name": "Lesson 2 -  Escape sequence.ipynb",
   "provenance": []
  },
  "kernelspec": {
   "display_name": "Python 3",
   "language": "python",
   "name": "python3"
  },
  "language_info": {
   "codemirror_mode": {
    "name": "ipython",
    "version": 3
   },
   "file_extension": ".py",
   "mimetype": "text/x-python",
   "name": "python",
   "nbconvert_exporter": "python",
   "pygments_lexer": "ipython3",
   "version": "3.7.6"
  }
 },
 "nbformat": 4,
 "nbformat_minor": 1
}
